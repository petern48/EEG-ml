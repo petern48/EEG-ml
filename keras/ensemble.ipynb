{
 "cells": [
  {
   "cell_type": "markdown",
   "metadata": {
    "id": "9PXssmgYFSah"
   },
   "source": [
    "## Ensemble Model"
   ]
  },
  {
   "cell_type": "code",
   "execution_count": 81,
   "metadata": {
    "id": "rLqYJR7ncmqg"
   },
   "outputs": [],
   "source": [
    "import os\n",
    "import numpy as np\n",
    "import keras\n",
    "from keras.utils import to_categorical\n",
    "import tensorflow as tf\n",
    "import scipy"
   ]
  },
  {
   "cell_type": "code",
   "execution_count": 25,
   "metadata": {
    "id": "QGa_o1B-nnxS"
   },
   "outputs": [],
   "source": [
    "# Unzip data zip file\n",
    "# !rm -r project_data\n",
    "!unzip project_data.zip &> /dev/null\n",
    "!rm -r __MACOSX\n",
    "!mv project/* .\n",
    "!rm -r project\n",
    "# &> /dev/null  to quiet output"
   ]
  },
  {
   "cell_type": "markdown",
   "metadata": {
    "id": "R2kLHYxOpE1j"
   },
   "source": [
    "Unzip the models dirs from the pretrained_models.zip"
   ]
  },
  {
   "cell_type": "code",
   "execution_count": 19,
   "metadata": {
    "id": "LbJfWQw8pTp5"
   },
   "outputs": [],
   "source": [
    "!rm -r pretrained_models"
   ]
  },
  {
   "cell_type": "code",
   "execution_count": 20,
   "metadata": {
    "colab": {
     "base_uri": "https://localhost:8080/"
    },
    "id": "uj-KDHb5n6p6",
    "outputId": "7bcaa1d4-29cf-451f-f714-6ec5f8cf92d9"
   },
   "outputs": [
    {
     "name": "stdout",
     "output_type": "stream",
     "text": [
      "Archive:  pretrained_models.zip\n",
      "   creating: pretrained_models/\n",
      " extracting: pretrained_models/lstm-keras-0.5395.zip  \n",
      " extracting: pretrained_models/cnn+gru-keras-0.7088.zip  \n",
      " extracting: pretrained_models/cnn-keras-0.7156.zip  \n"
     ]
    }
   ],
   "source": [
    "%%bash\n",
    "unzip pretrained_models.zip\n",
    "for filename in pretrained_models/*; do\n",
    "    unzip $filename -d pretrained_models/ &> /dev/null\n",
    "    rm $filename\n",
    "done"
   ]
  },
  {
   "cell_type": "code",
   "execution_count": 71,
   "metadata": {
    "colab": {
     "base_uri": "https://localhost:8080/"
    },
    "id": "3xdn5WWerLlT",
    "outputId": "8b36abeb-9326-42f6-e8ad-1a5b26605045"
   },
   "outputs": [
    {
     "name": "stdout",
     "output_type": "stream",
     "text": [
      "Shape of X after trimming: (443, 22, 800)\n",
      "Shape of X after maxpooling: (443, 22, 400)\n",
      "input_shape (400, 1, 22)\n"
     ]
    }
   ],
   "source": [
    "tf.keras.utils.set_random_seed(0)\n",
    "\n",
    "## Loading and visualizing the data\n",
    "\n",
    "## Loading the dataset\n",
    "\n",
    "X_test = np.load(\"X_test.npy\")  # (443, 22, 1000)\n",
    "y_test = np.load(\"y_test.npy\")  # (443, 4)  # (num_trials, output types) # one hot encoded\n",
    "person_train_valid = np.load(\"person_train_valid.npy\")  # (2115, 1)  vals from 0-8 for participant\n",
    "X_train_valid = np.load(\"X_train_valid.npy\")  # (2115, 22, 1000)\n",
    "# print(X_train_valid.shape)  # (2115, 22, 1000)  # (num_trials, channels, time bins)\n",
    "y_train_valid = np.load(\"y_train_valid.npy\")  # (2115,)\n",
    "person_test = np.load(\"person_test.npy\")  # (443, 1)\n",
    "\n",
    "## Adjusting the labels so that\n",
    "\n",
    "# Cue onset left - 0\n",
    "# Cue onset right - 1\n",
    "# Cue onset foot - 2\n",
    "# Cue onset tongue - 3\n",
    "\n",
    "y_train_valid -= 769\n",
    "y_test -= 769\n",
    "\n",
    "## Visualizing the data\n",
    "\n",
    "ch_data = X_train_valid[:,8,:]\n",
    "\n",
    "class_0_ind = np.where(y_train_valid == 0)\n",
    "ch_data_class_0 = ch_data[class_0_ind]\n",
    "avg_ch_data_class_0 = np.mean(ch_data_class_0,axis=0)\n",
    "\n",
    "\n",
    "class_1_ind = np.where(y_train_valid == 1)\n",
    "ch_data_class_1 = ch_data[class_1_ind]\n",
    "avg_ch_data_class_1 = np.mean(ch_data_class_1,axis=0)\n",
    "\n",
    "class_2_ind = np.where(y_train_valid == 2)\n",
    "ch_data_class_2 = ch_data[class_2_ind]\n",
    "avg_ch_data_class_2 = np.mean(ch_data_class_2,axis=0)\n",
    "\n",
    "class_3_ind = np.where(y_train_valid == 3)\n",
    "ch_data_class_3 = ch_data[class_3_ind]\n",
    "avg_ch_data_class_3 = np.mean(ch_data_class_3,axis=0)\n",
    "\n",
    "# Don't increase the number of test samples\n",
    "def test_data_prep(X):\n",
    "    total_X = None\n",
    "    # Trimming the data (sample,22,1000) -> (sample,22,800)\n",
    "    X = X[:,:,0:800]\n",
    "    print('Shape of X after trimming:',X.shape)\n",
    "    # Maxpooling the data (sample,22,800) -> (sample,22,800/sub_sample)\n",
    "    X_max = np.max(X.reshape(X.shape[0], X.shape[1], -1, 2), axis=3)\n",
    "    total_X = X_max\n",
    "    print('Shape of X after maxpooling:',total_X.shape)\n",
    "    return total_X\n",
    "X_test_prep = test_data_prep(X_test)\n",
    "x_test = X_test_prep.reshape(X_test_prep.shape[0], X_test_prep.shape[1], X_test_prep.shape[2], 1)\n",
    "x_test = np.swapaxes(x_test, 1,3)\n",
    "x_test = np.swapaxes(x_test, 1,2)\n",
    "one_hot_y_test = to_categorical(y_test, 4)  # don't one hot encode for this case\n",
    "\n",
    "num_channels = 22\n",
    "num_classes = 4\n",
    "input_shape = x_test.shape[1:]\n",
    "print(\"input_shape\", input_shape)"
   ]
  },
  {
   "cell_type": "markdown",
   "metadata": {
    "id": "S6hwF126ZBJ4"
   },
   "source": [
    "## Load the models"
   ]
  },
  {
   "cell_type": "code",
   "execution_count": 21,
   "metadata": {
    "id": "zoaUk263cifX"
   },
   "outputs": [],
   "source": [
    "# Load the models\n",
    "models = []\n",
    "ensemble_models = []\n",
    "pretrained_dir = 'pretrained_models'\n",
    "for file_name in os.listdir(pretrained_dir):\n",
    "    file_path = os.path.join(pretrained_dir, file_name)\n",
    "    loaded_model = keras.models.load_model(file_path)\n",
    "    ensemble_models.append(loaded_model)"
   ]
  },
  {
   "cell_type": "markdown",
   "metadata": {
    "id": "6MYWWgfSsu74"
   },
   "source": [
    "## Majority Vote (Mode) Ensembling"
   ]
  },
  {
   "cell_type": "code",
   "execution_count": 84,
   "metadata": {
    "colab": {
     "base_uri": "https://localhost:8080/"
    },
    "id": "ziI06c52uRme",
    "outputId": "080e5d3a-6859-4623-d5c1-106379d664b4"
   },
   "outputs": [
    {
     "name": "stdout",
     "output_type": "stream",
     "text": [
      "Test Accuracy for Ensemble Model:  0.7223476297968398\n"
     ]
    }
   ],
   "source": [
    "# Predict labels with models\n",
    "preds = []\n",
    "for m in ensemble_models:\n",
    "    preds.append(np.argmax(m.predict(x_test, verbose=0), axis=1))\n",
    "preds = np.array(preds)\n",
    "\n",
    "overall_preds = scipy.stats.mode(preds, axis=0)[0]\n",
    "test_acc = (y_test == overall_preds).sum() / len(y_test)\n",
    "print(\"Test Accuracy for Ensemble Model: \", test_acc)"
   ]
  },
  {
   "cell_type": "markdown",
   "metadata": {
    "id": "jNzDtc_8x0KB"
   },
   "source": [
    "## Average Ensembling"
   ]
  },
  {
   "cell_type": "code",
   "execution_count": 73,
   "metadata": {
    "colab": {
     "base_uri": "https://localhost:8080/"
    },
    "id": "ROkiUdljst_h",
    "outputId": "0264d155-c6f5-4ba2-8053-f2a740debbe0"
   },
   "outputs": [
    {
     "name": "stdout",
     "output_type": "stream",
     "text": [
      "Test accuracy:  0.6907\n"
     ]
    }
   ],
   "source": [
    "model_input = tf.keras.Input(shape=input_shape)\n",
    "model_outputs = [model(model_input) for model in ensemble_models]\n",
    "ensemble_output = tf.keras.layers.Average()(model_outputs)\n",
    "ensemble_model = tf.keras.Model(inputs=model_input, outputs=ensemble_output)\n",
    "ensemble_model.compile(metrics=['accuracy'])\n",
    "\n",
    "model_score = ensemble_model.evaluate(x_test, one_hot_y_test, verbose=0)\n",
    "test_acc = model_score[1]\n",
    "print(f'Test accuracy: {test_acc : .4f}')"
   ]
  },
  {
   "cell_type": "code",
   "execution_count": null,
   "metadata": {
    "id": "bqbNGS2YFRIy"
   },
   "outputs": [],
   "source": []
  }
 ],
 "metadata": {
  "colab": {
   "authorship_tag": "ABX9TyMC3StlrPooKK8OOkPmJeLO",
   "provenance": []
  },
  "kernelspec": {
   "display_name": "Python 3 (ipykernel)",
   "language": "python",
   "name": "python3"
  },
  "language_info": {
   "codemirror_mode": {
    "name": "ipython",
    "version": 3
   },
   "file_extension": ".py",
   "mimetype": "text/x-python",
   "name": "python",
   "nbconvert_exporter": "python",
   "pygments_lexer": "ipython3",
   "version": "3.10.12"
  }
 },
 "nbformat": 4,
 "nbformat_minor": 4
}
