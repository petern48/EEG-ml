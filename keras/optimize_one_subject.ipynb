{
  "nbformat": 4,
  "nbformat_minor": 0,
  "metadata": {
    "colab": {
      "provenance": [],
      "gpuType": "T4"
    },
    "kernelspec": {
      "name": "python3",
      "display_name": "Python 3"
    },
    "language_info": {
      "name": "python"
    },
    "accelerator": "GPU"
  },
  "cells": [
    {
      "cell_type": "code",
      "execution_count": 1,
      "metadata": {
        "id": "eKnFdDMNXwe9"
      },
      "outputs": [],
      "source": [
        "import numpy as np\n",
        "import pandas as pd\n",
        "import keras\n",
        "from keras.models import Sequential\n",
        "from keras.layers import Dense, Activation, Flatten,Dropout\n",
        "from keras.layers import Conv2D,LSTM,BatchNormalization,MaxPooling2D,Reshape,Permute,AveragePooling2D,ELU\n",
        "from keras.utils import to_categorical\n",
        "import matplotlib.pyplot as plt\n",
        "import tensorflow as tf\n",
        "from keras.constraints import max_norm"
      ]
    },
    {
      "cell_type": "code",
      "source": [
        "# For logging metrics to Weights and Biases Platform.\n",
        "USING_WANDB = True  # Set to false if you don't have an account\n",
        "\n",
        "if USING_WANDB:\n",
        "    !pip install wandb &> /dev/null  # install wandb\n",
        "    import wandb\n",
        "    from wandb.keras import WandbMetricsLogger, WandbModelCheckpoint\n",
        "    wandb.login()  # prompts for api key"
      ],
      "metadata": {
        "id": "bQXkUgNPX61P"
      },
      "execution_count": null,
      "outputs": []
    },
    {
      "cell_type": "code",
      "source": [
        "print(\"Num GPUs Available: \", len(tf.config.list_physical_devices('GPU')))"
      ],
      "metadata": {
        "id": "zlFSyBJzX-4-",
        "colab": {
          "base_uri": "https://localhost:8080/"
        },
        "outputId": "02c4200d-2dfd-4bcf-abd2-2c0b1256a529"
      },
      "execution_count": 3,
      "outputs": [
        {
          "output_type": "stream",
          "name": "stdout",
          "text": [
            "Num GPUs Available:  1\n"
          ]
        }
      ]
    },
    {
      "cell_type": "code",
      "source": [
        "# Unzip data zip file\n",
        "# !rm -r project_data\n",
        "!unzip project_data.zip &> /dev/null\n",
        "!rm -r __MACOSX\n",
        "!mv project/* .\n",
        "!rm -r project\n",
        "# &> /dev/null  to quiet output"
      ],
      "metadata": {
        "id": "-n5QvZL3YAaI"
      },
      "execution_count": 4,
      "outputs": []
    },
    {
      "cell_type": "code",
      "source": [
        "## Loading and visualizing the data\n",
        "\n",
        "## Loading the dataset\n",
        "\n",
        "X_test = np.load(\"X_test.npy\")  # (443, 22, 1000)\n",
        "y_test = np.load(\"y_test.npy\")  # (443, 4)  # (num_trials, output types) # one hot encoded\n",
        "person_train_valid = np.load(\"person_train_valid.npy\")  # (2115, 1)  vals from 0-8 for participant\n",
        "X_train_valid = np.load(\"X_train_valid.npy\")  # (2115, 22, 1000)\n",
        "# print(X_train_valid.shape)  # (2115, 22, 1000)  # (num_trials, channels, time bins)\n",
        "y_train_valid = np.load(\"y_train_valid.npy\")  # (2115,)\n",
        "person_test = np.load(\"person_test.npy\")  # (443, 1)\n",
        "\n",
        "## Adjusting the labels so that\n",
        "\n",
        "# Cue onset left - 0\n",
        "# Cue onset right - 1\n",
        "# Cue onset foot - 2\n",
        "# Cue onset tongue - 3\n",
        "\n",
        "y_train_valid -= 769\n",
        "y_test -= 769\n",
        "\n",
        "## Visualizing the data\n",
        "\n",
        "ch_data = X_train_valid[:,8,:]\n",
        "\n",
        "\n",
        "class_0_ind = np.where(y_train_valid == 0)\n",
        "ch_data_class_0 = ch_data[class_0_ind]\n",
        "avg_ch_data_class_0 = np.mean(ch_data_class_0,axis=0)\n",
        "\n",
        "\n",
        "class_1_ind = np.where(y_train_valid == 1)\n",
        "ch_data_class_1 = ch_data[class_1_ind]\n",
        "avg_ch_data_class_1 = np.mean(ch_data_class_1,axis=0)\n",
        "\n",
        "class_2_ind = np.where(y_train_valid == 2)\n",
        "ch_data_class_2 = ch_data[class_2_ind]\n",
        "avg_ch_data_class_2 = np.mean(ch_data_class_2,axis=0)\n",
        "\n",
        "class_3_ind = np.where(y_train_valid == 3)\n",
        "ch_data_class_3 = ch_data[class_3_ind]\n",
        "avg_ch_data_class_3 = np.mean(ch_data_class_3,axis=0)\n",
        "\n",
        "\n",
        "# plt.plot(np.arange(1000),avg_ch_data_class_0)\n",
        "# plt.plot(np.arange(1000),avg_ch_data_class_1)\n",
        "# plt.plot(np.arange(1000),avg_ch_data_class_2)\n",
        "# plt.plot(np.arange(1000),avg_ch_data_class_3)\n",
        "# plt.axvline(x=500, label='line at t=500',c='cyan')\n",
        "\n",
        "# plt.legend([\"Cue Onset left\", \"Cue Onset right\", \"Cue onset foot\", \"Cue onset tongue\"])"
      ],
      "metadata": {
        "id": "V5awqnS3YGc_"
      },
      "execution_count": 5,
      "outputs": []
    },
    {
      "cell_type": "code",
      "source": [
        "def train_data_prep(X,y,sub_sample,average,noise):\n",
        "    total_X = None\n",
        "    total_y = None\n",
        "    # Trimming the data (sample,22,1000) -> (sample,22,800)\n",
        "    X = X[:,:,0:800]\n",
        "    # print('Shape of X after trimming:',X.shape)\n",
        "\n",
        "    # Maxpooling the data (sample,22,800) -> (sample,22,800/sub_sample)\n",
        "    X_max = np.max(X.reshape(X.shape[0], X.shape[1], -1, sub_sample), axis=3)\n",
        "    total_X = X_max\n",
        "    total_y = y\n",
        "    # print('Shape of X after maxpooling:',total_X.shape)\n",
        "    # Averaging + noise\n",
        "    X_average = np.mean(X.reshape(X.shape[0], X.shape[1], -1, average),axis=3)\n",
        "    X_average = X_average + np.random.normal(0.0, 0.5, X_average.shape)\n",
        "    # Data augmentation: increases number of samples (max pool and mean pool +noise)\n",
        "    total_X = np.vstack((total_X, X_average))\n",
        "    total_y = np.hstack((total_y, y))\n",
        "    # print('Shape of X after averaging+noise and concatenating:',total_X.shape)\n",
        "\n",
        "    # Subsampling\n",
        "    for i in range(sub_sample):\n",
        "        X_subsample = X[:, :, i::sub_sample] + \\\n",
        "                            (np.random.normal(0.0, 0.5, X[:, :,i::sub_sample].shape) if noise else 0.0)\n",
        "        total_X = np.vstack((total_X, X_subsample))\n",
        "        total_y = np.hstack((total_y, y))\n",
        "    # print('Shape of X after subsampling and concatenating:',total_X.shape)\n",
        "    # print('Shape of Y:',total_y.shape)\n",
        "    return total_X,total_y\n",
        "\n",
        "\n",
        "# Don't increase the number of test samples\n",
        "def test_data_prep(X):\n",
        "    total_X = None\n",
        "    # Trimming the data (sample,22,1000) -> (sample,22,800)\n",
        "    X = X[:,:,0:800]\n",
        "    # print('Shape of X after trimming:',X.shape)\n",
        "    # Maxpooling the data (sample,22,800) -> (sample,22,800/sub_sample)\n",
        "    X_max = np.max(X.reshape(X.shape[0], X.shape[1], -1, 2), axis=3)\n",
        "    total_X = X_max\n",
        "    # print('Shape of X after maxpooling:',total_X.shape)\n",
        "    return total_X"
      ],
      "metadata": {
        "id": "qYcDgrAFYJq4"
      },
      "execution_count": 6,
      "outputs": []
    },
    {
      "cell_type": "code",
      "source": [
        "def preprocess(X_train_valid, y_train_valid, X_test, y_test, X_rest_test, y_rest_test):\n",
        "    num_train_valid = X_train_valid.shape[0]\n",
        "    print(num_train_valid, \" total train_val samples\")\n",
        "    valid_split = 0.2\n",
        "    valid_count = int(num_train_valid * valid_split)\n",
        "    # Train val split, then data augment the training set\n",
        "    ind_valid = np.random.choice(X_train_valid.shape[0], valid_count, replace=False)\n",
        "\n",
        "    ind_train = np.array(list(set(range(X_train_valid.shape[0])).difference(set(ind_valid))))\n",
        "    # Creating the training and validation sets using the generated indices\n",
        "    (x_train_unprocessed, x_valid) = X_train_valid[ind_train], X_train_valid[ind_valid]\n",
        "    (y_train_unprocessed, y_valid) = y_train_valid[ind_train], y_train_valid[ind_valid]\n",
        "\n",
        "    # print(\"Augmenting train data\")\n",
        "    x_train, y_train = train_data_prep(x_train_unprocessed, y_train_unprocessed,2,2,True)\n",
        "    # print(\"Augmenting val data\")\n",
        "    x_valid, y_valid = train_data_prep(x_valid, y_valid, 2, 2, True)\n",
        "    # print(\"Augmenting test data\")\n",
        "    X_test_prep = test_data_prep(X_test)\n",
        "    X_rest_test_prep = test_data_prep(X_rest_test)\n",
        "\n",
        "    # Converting the labels to categorical variables for multiclass classification\n",
        "    y_train = to_categorical(y_train, 4)\n",
        "    y_valid = to_categorical(y_valid, 4)\n",
        "    y_test = to_categorical(y_test, 4)\n",
        "    y_rest_test = to_categorical(y_rest_test, 4)\n",
        "\n",
        "    # Adding width of the segment to be 1\n",
        "    x_train = x_train.reshape(x_train.shape[0], x_train.shape[1], x_train.shape[2], 1)\n",
        "    x_valid = x_valid.reshape(x_valid.shape[0], x_valid.shape[1], x_valid.shape[2], 1)\n",
        "    x_test = X_test_prep.reshape(X_test_prep.shape[0], X_test_prep.shape[1], X_test_prep.shape[2], 1)\n",
        "    x_rest_test = X_rest_test_prep[:, :, :, None]\n",
        "\n",
        "    # Reshaping the training and validation dataset\n",
        "    x_train = np.swapaxes(x_train, 1,3)\n",
        "    x_train = np.swapaxes(x_train, 1,2)\n",
        "    x_valid = np.swapaxes(x_valid, 1,3)\n",
        "    x_valid = np.swapaxes(x_valid, 1,2)\n",
        "    x_test = np.swapaxes(x_test, 1,3)\n",
        "    x_test = np.swapaxes(x_test, 1,2)\n",
        "    x_rest_test = np.swapaxes(x_rest_test, 1,3)\n",
        "    x_rest_test = np.swapaxes(x_rest_test, 1,2)\n",
        "\n",
        "    return x_train, y_train, x_valid, y_valid, x_test, y_test, x_rest_test, y_rest_test\n"
      ],
      "metadata": {
        "id": "uu2GcFAWYPES"
      },
      "execution_count": 7,
      "outputs": []
    },
    {
      "cell_type": "code",
      "source": [
        "def plot_acc_loss(model_results):\n",
        "    plt.plot(model_results.history['accuracy'])\n",
        "    plt.plot(model_results.history['val_accuracy'])\n",
        "    plt.title('CNN model accuracy trajectory')\n",
        "    plt.ylabel('accuracy')\n",
        "    plt.xlabel('epoch')\n",
        "    plt.legend(['train', 'val'], loc='upper left')\n",
        "    plt.show()\n",
        "\n",
        "    # Plotting loss trajectory\n",
        "    plt.plot(model_results.history['loss'],'o')\n",
        "    plt.plot(model_results.history['val_loss'],'o')\n",
        "    plt.title('CNN model loss trajectory')\n",
        "    plt.ylabel('loss')\n",
        "    plt.xlabel('epoch')\n",
        "    plt.legend(['train', 'val'], loc='upper left')\n",
        "    plt.show()"
      ],
      "metadata": {
        "id": "TXO_PaPOZ0gB"
      },
      "execution_count": 8,
      "outputs": []
    },
    {
      "cell_type": "code",
      "source": [
        "\n",
        "def get_data(subject_idx):\n",
        "    \"\"\"Returns split and preprocessed data for both subject train and test (subject and rest)\"\"\"\n",
        "    subject_mask = (person_train_valid == subject_idx).reshape(-1)\n",
        "    x_sub_train_val = X_train_valid[subject_mask, :, :]\n",
        "    y_sub_train_val = y_train_valid[subject_mask]\n",
        "    # print(subject_mask.shape)\n",
        "    # print(X_test.shape)\n",
        "    subject_mask = (person_test == subject_idx).reshape(-1)\n",
        "    x_sub_test = X_test[subject_mask, :, :]\n",
        "    y_sub_test = y_test[subject_mask]\n",
        "\n",
        "    X_rest_test = X_test[~subject_mask, :, :]  # data for all other subjects\n",
        "    y_rest_test = y_test[~subject_mask]\n",
        "    assert(X_test.shape[0] == x_sub_test.shape[0] + X_rest_test.shape[0])  # make sure nums add up\n",
        "\n",
        "    return preprocess(x_sub_train_val, y_sub_train_val, x_sub_test, y_sub_test, X_rest_test, y_rest_test)\n",
        "    # x_sub_train, y_sub_train, x_sub_valid, y_sub_valid, x_sub_test, y_sub_test, x_rest_test, y_rest_test\n",
        "# len(get_data(0))"
      ],
      "metadata": {
        "id": "_BbRqmsbYUKq"
      },
      "execution_count": 9,
      "outputs": []
    },
    {
      "cell_type": "markdown",
      "source": [
        "## Train a model using only one subject at a time and test on subject data and rest of subject data (repeat for each of subjects)\n"
      ],
      "metadata": {
        "id": "UccFJBRmoYmu"
      }
    },
    {
      "cell_type": "code",
      "source": [
        "# SEED\n",
        "tf.keras.utils.set_random_seed(0)\n",
        "\n",
        "# TODO: try .5 dropout for one subject\n",
        "num_channels = 22\n",
        "num_classes = 4\n",
        "input_shape = (400,1,num_channels)\n",
        "num_units = 32  # 32\n",
        "num_hidden = 512  #16\n",
        "F1 = 8\n",
        "D = 2\n",
        "F2 = F1 * D\n",
        "dropout_rate = 0.7  # .3  # .5 for within subject. .25 for across subject classification (larger dataset)\n",
        "def create_model():\n",
        "    model = Sequential([\n",
        "        Permute((3, 1, 2), input_shape=input_shape),  # now in shape (channels, time, 1)\n",
        "        # 2D conv across both\n",
        "        # Temporal Conv2D\n",
        "        Conv2D(F1, (1,64), padding=\"same\"),  # , activation=\"relu\"\n",
        "        BatchNormalization(),\n",
        "        # Depthwise Conv2D (spatial), across channels\n",
        "        Conv2D(D * F1, (num_channels, 1), padding=\"valid\", kernel_constraint=max_norm(1)),\n",
        "        BatchNormalization(),\n",
        "        ELU(),\n",
        "        AveragePooling2D((1, 4)),  # pool down the time dim. average pool in the paper\n",
        "        Dropout(dropout_rate),\n",
        "        # Separable Conv2D  (across time)\n",
        "        Conv2D(F2, (1,16), padding=\"same\"),\n",
        "        BatchNormalization(),\n",
        "        ELU(),\n",
        "        AveragePooling2D((1,8)),\n",
        "        Dropout(dropout_rate),\n",
        "        Flatten(),\n",
        "        Dense(num_classes, activation=\"softmax\", kernel_constraint=max_norm(0.25))\n",
        "    ])\n",
        "    return model"
      ],
      "metadata": {
        "id": "v2K5iN6urG4T"
      },
      "execution_count": 62,
      "outputs": []
    },
    {
      "cell_type": "code",
      "source": [
        "# Try isolating each subject\n",
        "USING_WANDB = False\n",
        "lr = 1e-3\n",
        "NUM_EPOCHS = 100\n",
        "batch_size = 64\n",
        "patience = 5  # 3\n",
        "criterion=\"categorical_crossentropy\"\n",
        "checkpoint_filepath = 'ckpt/checkpoint.model.keras'\n",
        "num_subjects = 9\n",
        "sub_test_accs = []\n",
        "rest_test_accs = []\n",
        "for i in range(num_subjects):\n",
        "    callbacks = []\n",
        "    callbacks.append(tf.keras.callbacks.EarlyStopping(monitor='val_loss', patience=patience))\n",
        "    callbacks.append(keras.callbacks.ModelCheckpoint(\n",
        "    filepath=checkpoint_filepath, monitor='val_accuracy', mode='max', save_best_only=True)\n",
        "  )\n",
        "    optimizer = keras.optimizers.Adam(learning_rate=lr)\n",
        "    print(f\"Training on subject {i} (0-index)\")\n",
        "    x_sub_train, y_sub_train, x_sub_valid, y_sub_valid, x_sub_test, y_sub_test, x_rest_test, y_rest_test = get_data(i)\n",
        "\n",
        "    model = create_model()\n",
        "\n",
        "    model.compile(loss=criterion, optimizer=optimizer, metrics=['accuracy'])\n",
        "\n",
        "    # Training and validating the model\n",
        "    model_results = model.fit(x_sub_train, y_sub_train,\n",
        "                batch_size=batch_size,\n",
        "                epochs=NUM_EPOCHS, callbacks=callbacks,\n",
        "                validation_data=(x_sub_valid, y_sub_valid), verbose=0) # =1  #, verbose=True)\n",
        "\n",
        "    print(\"Using best checkpoint for evaluation\")\n",
        "    loaded_model = keras.models.load_model(checkpoint_filepath)\n",
        "\n",
        "    test_sub_acc = loaded_model.evaluate(x_sub_test, y_sub_test, verbose=0)[1]\n",
        "    sub_test_accs.append(test_sub_acc)\n",
        "    print(f'Test acc of the subject:      {test_sub_acc : .4f}')\n",
        "    test_rest_acc = model.evaluate(x_rest_test, y_rest_test, verbose=0)[1]\n",
        "    rest_test_accs.append(test_rest_acc)\n",
        "    print(f'Test acc of rest of subjects: {test_rest_acc : .4f}')\n",
        "    print()\n",
        "    # plot_acc_loss(model_results)"
      ],
      "metadata": {
        "id": "YfvTiH5mhEMT",
        "colab": {
          "base_uri": "https://localhost:8080/"
        },
        "outputId": "c28a65f4-889b-4d5e-c604-08901960e9bc"
      },
      "execution_count": 63,
      "outputs": [
        {
          "output_type": "stream",
          "name": "stdout",
          "text": [
            "Training on subject 0 (0-index)\n",
            "237  total train_val samples\n",
            "Using best checkpoint for evaluation\n",
            "Test acc of the subject:       0.3600\n",
            "Test acc of rest of subjects:  0.2621\n",
            "\n",
            "Training on subject 1 (0-index)\n",
            "236  total train_val samples\n",
            "Using best checkpoint for evaluation\n",
            "Test acc of the subject:       0.5200\n",
            "Test acc of rest of subjects:  0.3333\n",
            "\n",
            "Training on subject 2 (0-index)\n",
            "236  total train_val samples\n",
            "Using best checkpoint for evaluation\n",
            "Test acc of the subject:       0.5200\n",
            "Test acc of rest of subjects:  0.3257\n",
            "\n",
            "Training on subject 3 (0-index)\n",
            "234  total train_val samples\n",
            "Using best checkpoint for evaluation\n",
            "Test acc of the subject:       0.3400\n",
            "Test acc of rest of subjects:  0.3206\n",
            "\n",
            "Training on subject 4 (0-index)\n",
            "235  total train_val samples\n",
            "Using best checkpoint for evaluation\n",
            "Test acc of the subject:       0.7447\n",
            "Test acc of rest of subjects:  0.3485\n",
            "\n",
            "Training on subject 5 (0-index)\n",
            "236  total train_val samples\n",
            "Using best checkpoint for evaluation\n",
            "Test acc of the subject:       0.6531\n",
            "Test acc of rest of subjects:  0.3680\n",
            "\n",
            "Training on subject 6 (0-index)\n",
            "238  total train_val samples\n",
            "Using best checkpoint for evaluation\n",
            "Test acc of the subject:       0.6800\n",
            "Test acc of rest of subjects:  0.3639\n",
            "\n",
            "Training on subject 7 (0-index)\n",
            "232  total train_val samples\n",
            "Using best checkpoint for evaluation\n",
            "Test acc of the subject:       0.6400\n",
            "Test acc of rest of subjects:  0.4020\n",
            "\n",
            "Training on subject 8 (0-index)\n",
            "231  total train_val samples\n",
            "Using best checkpoint for evaluation\n",
            "Test acc of the subject:       0.7872\n",
            "Test acc of rest of subjects:  0.3384\n",
            "\n"
          ]
        }
      ]
    },
    {
      "cell_type": "code",
      "source": [
        "import matplotlib.pyplot as plt\n",
        "\n",
        "x = np.arange(len(sub_test_accs))  # num_subjects # 9\n",
        "\n",
        "width = 0.30  # the width of the bars\n",
        "multiplier = 0\n",
        "\n",
        "fig, ax = plt.subplots(layout='constrained')\n",
        "\n",
        "for label, y in [('subject', sub_test_accs), ('rest', rest_test_accs)]:\n",
        "    offset = width * multiplier\n",
        "    y = np.round(y, 2)\n",
        "    if label == 'rest':\n",
        "      offset += 0.1\n",
        "    rects = ax.bar(x + offset, y, width, label=label)\n",
        "    ax.bar_label(rects, padding=3)\n",
        "    multiplier += 1\n",
        "\n",
        "# Add some text for labels, title and custom x-axis tick labels, etc.\n",
        "ax.set_xlabel('Subject')\n",
        "ax.set_ylabel('Test Acc')\n",
        "ax.set_title('Test Acc vs Subject')\n",
        "ax.set_xticks(x + width, np.arange(num_subjects))\n",
        "ax.legend(loc='upper left', ncols=2)  # 3\n",
        "ax.set_ylim(0, 1)  # y axis range from 0 to 1\n",
        "\n",
        "plt.show()"
      ],
      "metadata": {
        "id": "fIpv6XMDnRmp",
        "colab": {
          "base_uri": "https://localhost:8080/",
          "height": 508
        },
        "outputId": "552f0e66-3570-469e-ed51-535b3c3ef1ec"
      },
      "execution_count": 65,
      "outputs": [
        {
          "output_type": "display_data",
          "data": {
            "text/plain": [
              "<Figure size 640x480 with 1 Axes>"
            ],
            "image/png": "[encoded data removed]"
          },
          "metadata": {}
        }
      ]
    },
    {
      "cell_type": "code",
      "source": [],
      "metadata": {
        "id": "JMuXaNCVZlC4"
      },
      "execution_count": null,
      "outputs": []
    }
  ]
}