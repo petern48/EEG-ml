{
  "cells": [
    {
      "cell_type": "code",
      "execution_count": 2,
      "metadata": {
        "id": "EOWLUhogCeT6"
      },
      "outputs": [],
      "source": [
        "import numpy as np\n",
        "import pandas as pd\n",
        "import keras\n",
        "from keras.models import Sequential\n",
        "from keras.layers import Dense, Activation, Flatten,Dropout\n",
        "from keras.layers import Conv2D,LSTM,BatchNormalization,MaxPooling2D,Reshape\n",
        "from keras.utils import to_categorical\n",
        "import matplotlib.pyplot as plt\n",
        "import tensorflow as tf"
      ]
    },
    {
      "cell_type": "code",
      "source": [
        "# For logging metrics to Weights and Biases Platform.\n",
        "USING_WANDB = True  # Set to false if you don't have an account\n",
        "\n",
        "if USING_WANDB:\n",
        "    !pip install wandb &> /dev/null  # install wandb\n",
        "    import wandb\n",
        "    from wandb.keras import WandbMetricsLogger, WandbModelCheckpoint\n",
        "    wandb.login()  # prompts for api key"
      ],
      "metadata": {
        "colab": {
          "base_uri": "https://localhost:8080/",
          "height": 104
        },
        "id": "ke86AVLoMx_a",
        "outputId": "09b750a9-e2dc-4484-ae29-91ccb03df43f"
      },
      "execution_count": 3,
      "outputs": [
        {
          "output_type": "display_data",
          "data": {
            "text/plain": [
              "<IPython.core.display.Javascript object>"
            ],
            "application/javascript": [
              "\n",
              "        window._wandbApiKey = new Promise((resolve, reject) => {\n",
              "            function loadScript(url) {\n",
              "            return new Promise(function(resolve, reject) {\n",
              "                let newScript = document.createElement(\"script\");\n",
              "                newScript.onerror = reject;\n",
              "                newScript.onload = resolve;\n",
              "                document.body.appendChild(newScript);\n",
              "                newScript.src = url;\n",
              "            });\n",
              "            }\n",
              "            loadScript(\"https://cdn.jsdelivr.net/npm/postmate/build/postmate.min.js\").then(() => {\n",
              "            const iframe = document.createElement('iframe')\n",
              "            iframe.style.cssText = \"width:0;height:0;border:none\"\n",
              "            document.body.appendChild(iframe)\n",
              "            const handshake = new Postmate({\n",
              "                container: iframe,\n",
              "                url: 'https://wandb.ai/authorize'\n",
              "            });\n",
              "            const timeout = setTimeout(() => reject(\"Couldn't auto authenticate\"), 5000)\n",
              "            handshake.then(function(child) {\n",
              "                child.on('authorize', data => {\n",
              "                    clearTimeout(timeout)\n",
              "                    resolve(data)\n",
              "                });\n",
              "            });\n",
              "            })\n",
              "        });\n",
              "    "
            ]
          },
          "metadata": {}
        },
        {
          "output_type": "stream",
          "name": "stderr",
          "text": [
            "\u001b[34m\u001b[1mwandb\u001b[0m: Logging into wandb.ai. (Learn how to deploy a W&B server locally: https://wandb.me/wandb-server)\n",
            "\u001b[34m\u001b[1mwandb\u001b[0m: You can find your API key in your browser here: https://wandb.ai/authorize\n",
            "wandb: Paste an API key from your profile and hit enter, or press ctrl+c to quit:"
          ]
        },
        {
          "name": "stdout",
          "output_type": "stream",
          "text": [
            " ··········\n"
          ]
        },
        {
          "output_type": "stream",
          "name": "stderr",
          "text": [
            "\u001b[34m\u001b[1mwandb\u001b[0m: Appending key for api.wandb.ai to your netrc file: /root/.netrc\n"
          ]
        }
      ]
    },
    {
      "cell_type": "code",
      "source": [
        "print(\"Num GPUs Available: \", len(tf.config.list_physical_devices('GPU')))"
      ],
      "metadata": {
        "colab": {
          "base_uri": "https://localhost:8080/"
        },
        "id": "iITEn3iVFaNf",
        "outputId": "8fcca6dd-bdc4-4e7c-be8c-f9eceb0fdd74"
      },
      "execution_count": 4,
      "outputs": [
        {
          "output_type": "stream",
          "name": "stdout",
          "text": [
            "Num GPUs Available:  0\n"
          ]
        }
      ]
    },
    {
      "cell_type": "code",
      "source": [
        "# Unzip data zip file\n",
        "# !rm -r project_data\n",
        "!unzip project_data.zip\n",
        "!rm -r __MACOSX\n",
        "!mv project/* .\n",
        "!rm -r project\n",
        "# &> /dev/null"
      ],
      "metadata": {
        "id": "4lhjcTpBGaAY"
      },
      "execution_count": null,
      "outputs": []
    },
    {
      "cell_type": "code",
      "execution_count": 4,
      "metadata": {
        "colab": {
          "base_uri": "https://localhost:8080/",
          "height": 447
        },
        "id": "pP0iUqcMCeT9",
        "outputId": "8b3a85d8-c447-4d25-970f-7b5576d18f8a"
      },
      "outputs": [
        {
          "output_type": "execute_result",
          "data": {
            "text/plain": [
              "<matplotlib.legend.Legend at 0x7d6dff2dae00>"
            ]
          },
          "metadata": {},
          "execution_count": 4
        },
        {
          "output_type": "display_data",
          "data": {
            "text/plain": [
              "<Figure size 640x480 with 1 Axes>"
            ],
            "image/png": "[encoded data removed]"
          },
          "metadata": {}
        }
      ],
      "source": [
        "## Loading and visualizing the data\n",
        "\n",
        "## Loading the dataset\n",
        "\n",
        "X_test = np.load(\"X_test.npy\")  # (443, 22, 1000)\n",
        "y_test = np.load(\"y_test.npy\")  # (443, 4)  # (num_trials, output types) # one hot encoded\n",
        "person_train_valid = np.load(\"person_train_valid.npy\")  # (2115, 1)  vals from 0-8 for participant\n",
        "X_train_valid = np.load(\"X_train_valid.npy\")  # (2115, 22, 1000)\n",
        "# print(X_train_valid.shape)  # (2115, 22, 1000)  # (num_trials, channels, time bins)\n",
        "y_train_valid = np.load(\"y_train_valid.npy\")  # (2115,)\n",
        "person_test = np.load(\"person_test.npy\")  # (443, 1)\n",
        "\n",
        "## Adjusting the labels so that\n",
        "\n",
        "# Cue onset left - 0\n",
        "# Cue onset right - 1\n",
        "# Cue onset foot - 2\n",
        "# Cue onset tongue - 3\n",
        "\n",
        "y_train_valid -= 769\n",
        "y_test -= 769\n",
        "\n",
        "## Visualizing the data\n",
        "\n",
        "ch_data = X_train_valid[:,8,:]\n",
        "\n",
        "\n",
        "class_0_ind = np.where(y_train_valid == 0)\n",
        "ch_data_class_0 = ch_data[class_0_ind]\n",
        "avg_ch_data_class_0 = np.mean(ch_data_class_0,axis=0)\n",
        "\n",
        "\n",
        "class_1_ind = np.where(y_train_valid == 1)\n",
        "ch_data_class_1 = ch_data[class_1_ind]\n",
        "avg_ch_data_class_1 = np.mean(ch_data_class_1,axis=0)\n",
        "\n",
        "class_2_ind = np.where(y_train_valid == 2)\n",
        "ch_data_class_2 = ch_data[class_2_ind]\n",
        "avg_ch_data_class_2 = np.mean(ch_data_class_2,axis=0)\n",
        "\n",
        "class_3_ind = np.where(y_train_valid == 3)\n",
        "ch_data_class_3 = ch_data[class_3_ind]\n",
        "avg_ch_data_class_3 = np.mean(ch_data_class_3,axis=0)\n",
        "\n",
        "\n",
        "plt.plot(np.arange(1000),avg_ch_data_class_0)\n",
        "plt.plot(np.arange(1000),avg_ch_data_class_1)\n",
        "plt.plot(np.arange(1000),avg_ch_data_class_2)\n",
        "plt.plot(np.arange(1000),avg_ch_data_class_3)\n",
        "plt.axvline(x=500, label='line at t=500',c='cyan')\n",
        "\n",
        "plt.legend([\"Cue Onset left\", \"Cue Onset right\", \"Cue onset foot\", \"Cue onset tongue\"])"
      ]
    },
    {
      "cell_type": "code",
      "execution_count": 5,
      "metadata": {
        "id": "8ySBQApfCeT_"
      },
      "outputs": [],
      "source": [
        "def train_data_prep(X,y,sub_sample,average,noise):\n",
        "\n",
        "    total_X = None\n",
        "    total_y = None\n",
        "\n",
        "    # Trimming the data (sample,22,1000) -> (sample,22,800)\n",
        "    X = X[:,:,0:800]\n",
        "    print('Shape of X after trimming:',X.shape)\n",
        "\n",
        "    # Maxpooling the data (sample,22,800) -> (sample,22,800/sub_sample)\n",
        "    X_max = np.max(X.reshape(X.shape[0], X.shape[1], -1, sub_sample), axis=3)\n",
        "\n",
        "\n",
        "    total_X = X_max\n",
        "    total_y = y\n",
        "    print('Shape of X after maxpooling:',total_X.shape)\n",
        "\n",
        "    # Averaging + noise\n",
        "    X_average = np.mean(X.reshape(X.shape[0], X.shape[1], -1, average),axis=3)\n",
        "    X_average = X_average + np.random.normal(0.0, 0.5, X_average.shape)\n",
        "\n",
        "    # Data augmentation: increases number of samples (max pool and mean pool +noise)\n",
        "    total_X = np.vstack((total_X, X_average))\n",
        "    total_y = np.hstack((total_y, y))\n",
        "    print('Shape of X after averaging+noise and concatenating:',total_X.shape)\n",
        "\n",
        "    # Subsampling\n",
        "\n",
        "    for i in range(sub_sample):\n",
        "\n",
        "        X_subsample = X[:, :, i::sub_sample] + \\\n",
        "                            (np.random.normal(0.0, 0.5, X[:, :,i::sub_sample].shape) if noise else 0.0)\n",
        "\n",
        "        total_X = np.vstack((total_X, X_subsample))\n",
        "        total_y = np.hstack((total_y, y))\n",
        "\n",
        "\n",
        "    print('Shape of X after subsampling and concatenating:',total_X.shape)\n",
        "    print('Shape of Y:',total_y.shape)\n",
        "    return total_X,total_y\n",
        "\n",
        "\n",
        "# Don't increase the number of test samples\n",
        "def test_data_prep(X):\n",
        "\n",
        "    total_X = None\n",
        "\n",
        "\n",
        "    # Trimming the data (sample,22,1000) -> (sample,22,800)\n",
        "    X = X[:,:,0:800]\n",
        "    print('Shape of X after trimming:',X.shape)\n",
        "\n",
        "    # Maxpooling the data (sample,22,800) -> (sample,22,800/sub_sample)\n",
        "    X_max = np.max(X.reshape(X.shape[0], X.shape[1], -1, 2), axis=3)\n",
        "\n",
        "\n",
        "    total_X = X_max\n",
        "    print('Shape of X after maxpooling:',total_X.shape)\n",
        "\n",
        "    return total_X"
      ]
    },
    {
      "cell_type": "code",
      "execution_count": 6,
      "metadata": {
        "colab": {
          "base_uri": "https://localhost:8080/"
        },
        "id": "UhSkk-kJCeUA",
        "outputId": "de536f5d-019c-4e7d-f88a-397038d484d5"
      },
      "outputs": [
        {
          "output_type": "stream",
          "name": "stdout",
          "text": [
            "Shape of X after trimming: (1115, 22, 800)\n",
            "Shape of X after maxpooling: (1115, 22, 400)\n",
            "Shape of X after averaging+noise and concatenating: (2230, 22, 400)\n",
            "Shape of X after subsampling and concatenating: (4460, 22, 400)\n",
            "Shape of Y: (4460,)\n",
            "Shape of X after trimming: (1000, 22, 800)\n",
            "Shape of X after maxpooling: (1000, 22, 400)\n",
            "Shape of X after averaging+noise and concatenating: (2000, 22, 400)\n",
            "Shape of X after subsampling and concatenating: (4000, 22, 400)\n",
            "Shape of Y: (4000,)\n",
            "Shape of X after trimming: (443, 22, 800)\n",
            "Shape of X after maxpooling: (443, 22, 400)\n",
            "Shape of training set: (4460, 22, 400)\n",
            "Shape of validation set: (4000, 22, 400)\n",
            "Shape of training labels: (4460,)\n",
            "Shape of validation labels: (4000,)\n",
            "Shape of training labels after categorical conversion: (4460, 4)\n",
            "Shape of validation labels after categorical conversion: (4000, 4)\n",
            "Shape of test labels after categorical conversion: (443, 4)\n",
            "Shape of training set after adding width info: (4460, 22, 400, 1)\n",
            "Shape of validation set after adding width info: (4000, 22, 400, 1)\n",
            "Shape of test set after adding width info: (443, 22, 400, 1)\n",
            "Shape of training set after dimension reshaping: (4460, 400, 1, 22)\n",
            "Shape of validation set after dimension reshaping: (4000, 400, 1, 22)\n",
            "Shape of test set after dimension reshaping: (443, 400, 1, 22)\n"
          ]
        }
      ],
      "source": [
        "# Train val split, then data augment the training set\n",
        "ind_valid = np.random.choice(X_train_valid.shape[0], 1000, replace=False)\n",
        "ind_train = np.array(list(set(range(X_train_valid.shape[0])).difference(set(ind_valid))))\n",
        "# Creating the training and validation sets using the generated indices\n",
        "(x_train_unprocessed, x_valid) = X_train_valid[ind_train], X_train_valid[ind_valid]\n",
        "(y_train_unprocessed, y_valid) = y_train_valid[ind_train], y_train_valid[ind_valid]\n",
        "\n",
        "x_train, y_train = train_data_prep(x_train_unprocessed, y_train_unprocessed,2,2,True)\n",
        "x_valid, y_valid = train_data_prep(x_valid, y_valid, 2, 2, True)\n",
        "X_test_prep = test_data_prep(X_test)\n",
        "\n",
        "# Old code with data leakage\n",
        "## Preprocessing the dataset\n",
        "# X_train_valid_prep,y_train_valid_prep = train_data_prep(X_train_valid,y_train_valid,2,2,True)\n",
        "# X_test_prep = test_data_prep(X_test)\n",
        "# ## Random splitting and reshaping the data\n",
        "# # First generating the training and validation indices using random splitting\n",
        "# # 8460 is shape of num_samples after data augmentation\n",
        "# ind_valid = np.random.choice(8460, 1000, replace=False)\n",
        "# ind_train = np.array(list(set(range(8460)).difference(set(ind_valid))))\n",
        "# # Creating the training and validation sets using the generated indices\n",
        "# (x_train, x_valid) = X_train_valid_prep[ind_train], X_train_valid_prep[ind_valid]\n",
        "# (y_train, y_valid) = y_train_valid_prep[ind_train], y_train_valid_prep[ind_valid]\n",
        "print('Shape of training set:',x_train.shape)\n",
        "print('Shape of validation set:',x_valid.shape)\n",
        "print('Shape of training labels:',y_train.shape)\n",
        "print('Shape of validation labels:',y_valid.shape)\n",
        "\n",
        "\n",
        "# Converting the labels to categorical variables for multiclass classification\n",
        "y_train = to_categorical(y_train, 4)\n",
        "y_valid = to_categorical(y_valid, 4)\n",
        "y_test = to_categorical(y_test, 4)\n",
        "print('Shape of training labels after categorical conversion:',y_train.shape)\n",
        "print('Shape of validation labels after categorical conversion:',y_valid.shape)\n",
        "print('Shape of test labels after categorical conversion:',y_test.shape)\n",
        "\n",
        "# Adding width of the segment to be 1\n",
        "x_train = x_train.reshape(x_train.shape[0], x_train.shape[1], x_train.shape[2], 1)\n",
        "x_valid = x_valid.reshape(x_valid.shape[0], x_valid.shape[1], x_valid.shape[2], 1)\n",
        "x_test = X_test_prep.reshape(X_test_prep.shape[0], X_test_prep.shape[1], X_test_prep.shape[2], 1)\n",
        "print('Shape of training set after adding width info:',x_train.shape)\n",
        "print('Shape of validation set after adding width info:',x_valid.shape)\n",
        "print('Shape of test set after adding width info:',x_test.shape)\n",
        "\n",
        "\n",
        "# Reshaping the training and validation dataset\n",
        "x_train = np.swapaxes(x_train, 1,3)\n",
        "x_train = np.swapaxes(x_train, 1,2)\n",
        "x_valid = np.swapaxes(x_valid, 1,3)\n",
        "x_valid = np.swapaxes(x_valid, 1,2)\n",
        "x_test = np.swapaxes(x_test, 1,3)\n",
        "x_test = np.swapaxes(x_test, 1,2)\n",
        "print('Shape of training set after dimension reshaping:',x_train.shape)\n",
        "print('Shape of validation set after dimension reshaping:',x_valid.shape)\n",
        "print('Shape of test set after dimension reshaping:',x_test.shape)\n",
        "# Note the dims of validation are diff than originally bc no longer data augment it"
      ]
    },
    {
      "cell_type": "code",
      "source": [
        "input_shape = (400,1,22)"
      ],
      "metadata": {
        "id": "o06qT5_CbtI-"
      },
      "execution_count": 7,
      "outputs": []
    },
    {
      "cell_type": "code",
      "source": [
        "class ConvBlock(keras.layers.Layer):\n",
        "    def __init__(self, filters, use_batchnorm=True, dropout_rate=0.6,\n",
        "                 l1_reg=0.0, kernel_size=(5,5), pool_size=(3,1), input_shape=None, **kwargs):\n",
        "        \"\"\"Set pool_size, use_batchnorm, or dropout to None to remove them\"\"\"\n",
        "        super().__init__(name=\"ConvBlock\", **kwargs)\n",
        "        self.pool_size, self.use_batchnorm, self.dropout_rate = pool_size, use_batchnorm, dropout_rate\n",
        "        if input_shape == None:\n",
        "            self.conv = Conv2D(filters, kernel_size, padding='same', activation='elu')\n",
        "        else:\n",
        "            self.conv = Conv2D(filters, kernel_size, input_shape=input_shape, padding='same', activation='elu')\n",
        "        if l1_reg != 0.0:\n",
        "            self.conv.kernel_regularizer = tf.keras.regularizers.L1(l1=l1_reg)\n",
        "        if pool_size != None:\n",
        "            self.pool = MaxPooling2D(pool_size, padding=\"same\")\n",
        "        if use_batchnorm:\n",
        "            self.bn = BatchNormalization()\n",
        "        if dropout_rate != None and dropout_rate != 0:\n",
        "            self.dropout = Dropout(dropout_rate)\n",
        "\n",
        "    def call(self, x):\n",
        "        x = self.conv(x)\n",
        "        if self.pool_size != None:\n",
        "            x = self.pool(x)\n",
        "        if self.use_batchnorm:\n",
        "            x = self.bn(x)\n",
        "        if self.dropout_rate != None and self.dropout_rate != 0:\n",
        "            x = self.dropout(x)\n",
        "        return x\n",
        "\n",
        "\n",
        "num_classes = 4\n",
        "\n",
        "class CNNLSTMModel(keras.Model):\n",
        "    def __init__(\n",
        "        self,\n",
        "        input_shape,\n",
        "        conv_filters=[25, 50, 100, 200],\n",
        "        l1_reg=0.0,\n",
        "        num_hidden=40,  # for dense before LSTM\n",
        "        lstm_units=10,\n",
        "        dropout_rate=0.6,\n",
        "        use_batchnorm=True,\n",
        "        name=\"CNNLSTM\",\n",
        "        **kwargs\n",
        "    ):\n",
        "        super().__init__(name=\"CNNLSTM\", **kwargs)\n",
        "\n",
        "        self.convblocks = []\n",
        "        # self.num_conv_blocks = len(conv_filters)\n",
        "        input_layer = keras.Input(shape=input_shape)\n",
        "        num_conv_blocks = len(conv_filters)\n",
        "        for i in range(num_conv_blocks):\n",
        "            if i == 0:\n",
        "                self.convblocks.append(ConvBlock(conv_filters[0], use_batchnorm, dropout_rate, l1_reg, input_shape=input_shape))\n",
        "            else:\n",
        "                self.convblocks.append(ConvBlock(conv_filters[i], use_batchnorm, dropout_rate, l1_reg))\n",
        "\n",
        "        self.flatten = Flatten()\n",
        "        self.dense1 = Dense((num_hidden))\n",
        "        self.reshape = Reshape((num_hidden, 1))  # Reshape so that it's compatible\n",
        "        self.lstm = LSTM(lstm_units, dropout=0.4, recurrent_dropout=0.1, input_shape=(num_hidden,1), return_sequences=False)\n",
        "        self.out = Dense(num_classes, activation='softmax')\n",
        "\n",
        "    def call(self, x):\n",
        "        for conv in self.convblocks:\n",
        "            x = conv(x)\n",
        "        x = self.flatten(x)\n",
        "        x = self.dense1(x)\n",
        "        x = self.reshape(x)\n",
        "        x = self.lstm(x)\n",
        "        x = self.out(x)\n",
        "        return x\n"
      ],
      "metadata": {
        "id": "8pvhS-WqzXFp"
      },
      "execution_count": 5,
      "outputs": []
    },
    {
      "cell_type": "markdown",
      "source": [
        "Baseline"
      ],
      "metadata": {
        "id": "TvwkgCxS_RHJ"
      }
    },
    {
      "cell_type": "code",
      "source": [
        "input_shape = (400, 1, 22)\n",
        "# l1_term = 0  # 0.01  pass into model\n",
        "model = CNNLSTMModel(input_shape=input_shape)\n",
        "model.build((None, 400, 1, 22))\n",
        "model.summary(expand_nested=True)"
      ],
      "metadata": {
        "id": "OdJWbGuB-tH2",
        "colab": {
          "base_uri": "https://localhost:8080/"
        },
        "outputId": "08731753-0388-435a-fa21-3e81448ff1ed"
      },
      "execution_count": 9,
      "outputs": [
        {
          "output_type": "stream",
          "name": "stderr",
          "text": [
            "WARNING:tensorflow:Layer lstm will not use cuDNN kernels since it doesn't meet the criteria. It will use a generic GPU kernel as fallback when running on GPU.\n"
          ]
        },
        {
          "output_type": "stream",
          "name": "stdout",
          "text": [
            "Model: \"CNNLSTM\"\n",
            "_________________________________________________________________\n",
            " Layer (type)                Output Shape              Param #   \n",
            "=================================================================\n",
            " ConvBlock (ConvBlock)       multiple                  13875     \n",
            "                                                                 \n",
            " ConvBlock (ConvBlock)       multiple                  31500     \n",
            "                                                                 \n",
            " ConvBlock (ConvBlock)       multiple                  125500    \n",
            "                                                                 \n",
            " ConvBlock (ConvBlock)       multiple                  501000    \n",
            "                                                                 \n",
            " flatten (Flatten)           multiple                  0         \n",
            "                                                                 \n",
            " dense (Dense)               multiple                  40040     \n",
            "                                                                 \n",
            " reshape (Reshape)           multiple                  0         \n",
            "                                                                 \n",
            " lstm (LSTM)                 multiple                  480       \n",
            "                                                                 \n",
            " dense_1 (Dense)             multiple                  44        \n",
            "                                                                 \n",
            "=================================================================\n",
            "Total params: 712439 (2.72 MB)\n",
            "Trainable params: 711689 (2.71 MB)\n",
            "Non-trainable params: 750 (2.93 KB)\n",
            "_________________________________________________________________\n"
          ]
        }
      ]
    },
    {
      "cell_type": "code",
      "source": [
        "# Model parameters\n",
        "num_channels = 22\n",
        "l1_term = 0  # 0.01  pass into model\n",
        "lr = 1e-3\n",
        "NUM_EPOCHS = 100\n",
        "batch_size = 64\n",
        "patience = 5  # 3\n",
        "criterion=\"categorical_crossentropy\"\n",
        "optimizer = keras.optimizers.Adam(learning_rate=lr)\n",
        "callbacks = []\n",
        "\n",
        "# Compiling the model\n",
        "# early_stop_callback = tf.keras.callbacks.EarlyStopping(monitor='val_loss', patience=3)\n",
        "\n",
        "if USING_WANDB:\n",
        "    wandb.init(\n",
        "        project=\"EEG-ml\",\n",
        "        name=\"baseline\",  # i like to put a note about the current run here (e.g lr-.001 or something)\n",
        "        settings=wandb.Settings(start_method=\"fork\"),\n",
        "        config = {\n",
        "            \"architecture\": model.__class__.__name__,\n",
        "            \"epochs\": NUM_EPOCHS,\n",
        "            \"learning_rate\": lr,\n",
        "            \"batch_size\": batch_size,\n",
        "            \"optimizer\": optimizer.__class__.__name__,\n",
        "            \"loss fn\": criterion.__class__.__name__,\n",
        "            \"patience\": patience\n",
        "            # \"weight decay\": weight_decay,\n",
        "    })\n",
        "\n",
        "    callbacks.append(WandbMetricsLogger())\n",
        "\n",
        "model.compile(loss=criterion,\n",
        "                optimizer=optimizer,\n",
        "                metrics=['accuracy'])\n",
        "\n",
        "# Training and validating the model\n",
        "model_results = model.fit(x_train, y_train,\n",
        "            batch_size=batch_size,\n",
        "            epochs=NUM_EPOCHS, callbacks=callbacks,\n",
        "            validation_data=(x_valid, y_valid), verbose=0)  #, verbose=True)\n",
        "\n",
        "model_score = model.evaluate(x_test, y_test, verbose=0)\n",
        "test_acc = model_score[1]\n",
        "print('Test accuracy of the Base line hybrid CNN-LSTM model:', test_acc)\n",
        "if USING_WANDB:\n",
        "    wandb.summary[\"Test_Acc\"] = test_acc\n",
        "    wandb.finish()"
      ],
      "metadata": {
        "colab": {
          "base_uri": "https://localhost:8080/",
          "height": 727,
          "referenced_widgets": [
            "10891fb0e3374edc877cc82337b56078",
            "2cf7ad528cd74c1ebbe939f51d22a2ab",
            "90900246c5524171a8543db4b778ca73",
            "42ebc8e03915459b8e76f64d38b7c04a",
            "73faa8ed6eb94f0fa5ea35f6266af1e2",
            "d494dc11cd614629ad0d757ffdde723d",
            "2ca33fc4277544f6b0606882423b6889",
            "c254bba445bc4c6aa0644260eb1743f7",
            "1328fa9f8a7242499191e56b76688352",
            "b3f7a2017d92404482d7cc2c108656e4",
            "cda1411ef438427fbc9615cf05368226",
            "38f15dac8368459f84a3235bdbfa79d3",
            "3cf6f6dd9b95484498bde034dea2f68f",
            "cff1b7e33eed4060bb410e22939a5e66",
            "897abe23d1eb4f528907bf223ed5f4eb",
            "f0ed782c136144ddb3b01a0f6a0556ca"
          ]
        },
        "id": "vIJ6wTf9_QeQ",
        "outputId": "b75aaf33-6f80-4a74-f552-b5ebf9b84ba6"
      },
      "execution_count": 10,
      "outputs": [
        {
          "output_type": "stream",
          "name": "stderr",
          "text": [
            "\u001b[34m\u001b[1mwandb\u001b[0m: Currently logged in as: \u001b[33mpetern0408\u001b[0m. Use \u001b[1m`wandb login --relogin`\u001b[0m to force relogin\n"
          ]
        },
        {
          "output_type": "display_data",
          "data": {
            "text/plain": [
              "VBox(children=(Label(value='Waiting for wandb.init()...\\r'), FloatProgress(value=0.01111288156666698, max=1.0)…"
            ],
            "application/vnd.jupyter.widget-view+json": {
              "version_major": 2,
              "version_minor": 0,
              "model_id": "10891fb0e3374edc877cc82337b56078"
            }
          },
          "metadata": {}
        },
        {
          "output_type": "display_data",
          "data": {
            "text/plain": [
              "<IPython.core.display.HTML object>"
            ],
            "text/html": [
              "Tracking run with wandb version 0.16.4"
            ]
          },
          "metadata": {}
        },
        {
          "output_type": "display_data",
          "data": {
            "text/plain": [
              "<IPython.core.display.HTML object>"
            ],
            "text/html": [
              "Run data is saved locally in <code>/content/wandb/run-20240308_030420-cqqspa6p</code>"
            ]
          },
          "metadata": {}
        },
        {
          "output_type": "display_data",
          "data": {
            "text/plain": [
              "<IPython.core.display.HTML object>"
            ],
            "text/html": [
              "Syncing run <strong><a href='https://wandb.ai/petern0408/EEG-ml/runs/cqqspa6p' target=\"_blank\">baseline</a></strong> to <a href='https://wandb.ai/petern0408/EEG-ml' target=\"_blank\">Weights & Biases</a> (<a href='https://wandb.me/run' target=\"_blank\">docs</a>)<br/>"
            ]
          },
          "metadata": {}
        },
        {
          "output_type": "display_data",
          "data": {
            "text/plain": [
              "<IPython.core.display.HTML object>"
            ],
            "text/html": [
              " View project at <a href='https://wandb.ai/petern0408/EEG-ml' target=\"_blank\">https://wandb.ai/petern0408/EEG-ml</a>"
            ]
          },
          "metadata": {}
        },
        {
          "output_type": "display_data",
          "data": {
            "text/plain": [
              "<IPython.core.display.HTML object>"
            ],
            "text/html": [
              " View run at <a href='https://wandb.ai/petern0408/EEG-ml/runs/cqqspa6p' target=\"_blank\">https://wandb.ai/petern0408/EEG-ml/runs/cqqspa6p</a>"
            ]
          },
          "metadata": {}
        },
        {
          "output_type": "stream",
          "name": "stdout",
          "text": [
            "Test accuracy of the Base line hybrid CNN-LSTM model: 0.6252821683883667\n"
          ]
        },
        {
          "output_type": "display_data",
          "data": {
            "text/plain": [
              "VBox(children=(Label(value='0.001 MB of 0.001 MB uploaded\\r'), FloatProgress(value=1.0, max=1.0)))"
            ],
            "application/vnd.jupyter.widget-view+json": {
              "version_major": 2,
              "version_minor": 0,
              "model_id": "1328fa9f8a7242499191e56b76688352"
            }
          },
          "metadata": {}
        },
        {
          "output_type": "display_data",
          "data": {
            "text/plain": [
              "<IPython.core.display.HTML object>"
            ],
            "text/html": [
              "<style>\n",
              "    table.wandb td:nth-child(1) { padding: 0 10px; text-align: left ; width: auto;} td:nth-child(2) {text-align: left ; width: 100%}\n",
              "    .wandb-row { display: flex; flex-direction: row; flex-wrap: wrap; justify-content: flex-start; width: 100% }\n",
              "    .wandb-col { display: flex; flex-direction: column; flex-basis: 100%; flex: 1; padding: 10px; }\n",
              "    </style>\n",
              "<div class=\"wandb-row\"><div class=\"wandb-col\"><h3>Run history:</h3><br/><table class=\"wandb\"><tr><td>epoch/accuracy</td><td>▁▂▃▃▄▄▄▅▅▅▅▅▅▆▆▆▆▆▆▇▇▇▇▇▇▇▇▇▇▇██████████</td></tr><tr><td>epoch/epoch</td><td>▁▁▁▁▂▂▂▂▂▃▃▃▃▃▃▄▄▄▄▄▅▅▅▅▅▅▆▆▆▆▆▇▇▇▇▇▇███</td></tr><tr><td>epoch/learning_rate</td><td>▁▁▁▁▁▁▁▁▁▁▁▁▁▁▁▁▁▁▁▁▁▁▁▁▁▁▁▁▁▁▁▁▁▁▁▁▁▁▁▁</td></tr><tr><td>epoch/loss</td><td>██▇▇▆▆▆▅▅▅▄▄▄▄▄▄▃▃▃▃▃▃▂▃▂▂▂▂▂▂▂▁▁▁▁▁▁▁▁▁</td></tr><tr><td>epoch/val_accuracy</td><td>▁▂▂▃▅▅▅▆▆▆▆▆▆▆▇▇▇▇▇▇▇▇▇▇▇▇▇▇▇▇▇▇▇▇▇█▇███</td></tr><tr><td>epoch/val_loss</td><td>▇▇█▆▄▃▃▃▃▂▂▃▁▂▂▂▁▂▂▃▂▃▁▂▂▃▃▂▂▂▃▃▂▂▃▂▃▂▂▂</td></tr></table><br/></div><div class=\"wandb-col\"><h3>Run summary:</h3><br/><table class=\"wandb\"><tr><td>Test_Acc</td><td>0.62528</td></tr><tr><td>epoch/accuracy</td><td>0.80224</td></tr><tr><td>epoch/epoch</td><td>99</td></tr><tr><td>epoch/learning_rate</td><td>0.001</td></tr><tr><td>epoch/loss</td><td>0.51252</td></tr><tr><td>epoch/val_accuracy</td><td>0.62575</td></tr><tr><td>epoch/val_loss</td><td>1.10106</td></tr></table><br/></div></div>"
            ]
          },
          "metadata": {}
        },
        {
          "output_type": "display_data",
          "data": {
            "text/plain": [
              "<IPython.core.display.HTML object>"
            ],
            "text/html": [
              " View run <strong style=\"color:#cdcd00\">baseline</strong> at: <a href='https://wandb.ai/petern0408/EEG-ml/runs/cqqspa6p' target=\"_blank\">https://wandb.ai/petern0408/EEG-ml/runs/cqqspa6p</a><br/>Synced 5 W&B file(s), 0 media file(s), 0 artifact file(s) and 0 other file(s)"
            ]
          },
          "metadata": {}
        },
        {
          "output_type": "display_data",
          "data": {
            "text/plain": [
              "<IPython.core.display.HTML object>"
            ],
            "text/html": [
              "Find logs at: <code>./wandb/run-20240308_030420-cqqspa6p/logs</code>"
            ]
          },
          "metadata": {}
        }
      ]
    },
    {
      "cell_type": "code",
      "source": [
        "# def sweep_func(config=None):\n",
        "#     with wandb.init(config=config):\n",
        "#         config = wandb.config\n",
        "#         input_shape = (400, 1, 22)\n",
        "#         num_channels = 22\n",
        "#         l1_term = 0  # 0.01  pass into model\n",
        "#         lr = 1e-3\n",
        "#         NUM_EPOCHS = 100\n",
        "#         batch_size = 64\n",
        "#         patience = 5  # 3\n",
        "\n",
        "#         optimizer = keras.optimizers.Adam(learning_rate=lr)\n",
        "#         model = CNNLSTMModel(input_shape, config.conv_filters, config.l1_reg,\n",
        "#                              config.num_hidden, config.lstm_units, config.dropout_rate,\n",
        "#                              config.use_batchnorm)  # (400, 1, num_channels)\n",
        "\n",
        "#         callbacks = [tf.keras.callbacks.EarlyStopping(monitor='val_loss', patience=patience)]\n",
        "\n",
        "#         if USING_WANDB:\n",
        "#             wandb.init(\n",
        "#                 project=\"EEG-ml\",\n",
        "#                 name=\"sweep\",\n",
        "#                 settings=wandb.Settings(start_method=\"fork\"),\n",
        "#                 config = {\n",
        "#                     \"architecture\": model.__class__.__name__,\n",
        "#                     \"epochs\": NUM_EPOCHS,\n",
        "#                     \"learning_rate\": lr,\n",
        "#                     \"batch_size\": batch_size,\n",
        "#                     \"optimizer\": optimizer.__class__.__name__,\n",
        "#                     \"loss fn\": criterion.__class__.__name__,\n",
        "#                     \"patience\": patience\n",
        "#                     # \"weight decay\": weight_decay,\n",
        "#             })\n",
        "\n",
        "#             callbacks.append(WandbMetricsLogger())\n",
        "\n",
        "#             model.compile(loss=criterion, optimizer=optimizer, metrics=['accuracy'])\n",
        "\n",
        "#             model_results = model.fit(temp_x_train, y_train, batch_size, NUM_EPOCHS,\n",
        "#                 callbacks=callbacks, validation_data=(temp_x_valid, y_valid), verbose=0)\n",
        "\n",
        "#             model_score = model.evaluate(temp_x_test, y_test, verbose=0)\n",
        "#             test_acc = model_score[1]\n",
        "#             print('Test accuracy of the hybrid CNN-LSTM model:', test_acc)\n",
        "\n",
        "#             if USING_WANDB:\n",
        "#                 wandb.summary[\"Test_Acc\"] = test_acc\n",
        "#                 wandb.finish()"
      ],
      "metadata": {
        "id": "lKbEa5zzD6LO"
      },
      "execution_count": null,
      "outputs": []
    },
    {
      "cell_type": "markdown",
      "source": [
        "Experiment with training by removing each channel"
      ],
      "metadata": {
        "id": "z_EVeEU0Mgf3"
      }
    },
    {
      "cell_type": "code",
      "source": [
        "num_channels = 22\n",
        "l1_term = 0  # 0.01  pass into model\n",
        "lr = 1e-3\n",
        "NUM_EPOCHS = 100\n",
        "batch_size = 64\n",
        "patience = 5  # 3\n",
        "\n",
        "test_accs_per_channel = []\n",
        "\n",
        "for c in range(num_channels + 1):\n",
        "    if c != num_channels:\n",
        "        print(f\"SKIPPING channel {c} (0-indexed)\")\n",
        "        temp_x_train = np.delete(x_train, c, axis=3)  # (4460, 400, 1, 21)\n",
        "        temp_x_valid = np.delete(x_valid, c, axis=3)\n",
        "        temp_x_test = np.delete(x_test, c, axis=3)\n",
        "        input_shape = (400, 1, num_channels - 1)  # removed a dim\n",
        "    else:\n",
        "        print(f\"Using all Channels\")\n",
        "        input_shape = (400, 1, num_channels)\n",
        "    # keep same y labels\n",
        "\n",
        "    optimizer = keras.optimizers.Adam(learning_rate=lr)\n",
        "    criterion=\"categorical_crossentropy\"\n",
        "\n",
        "    # Compiling the model\n",
        "    callbacks = [tf.keras.callbacks.EarlyStopping(monitor='val_loss', patience=patience)]\n",
        "\n",
        "    model = CNNLSTMModel(input_shape=input_shape)\n",
        "\n",
        "    if c != num_channels:\n",
        "        run_name = f\"delete-{c}-channel\"\n",
        "    else:\n",
        "        run_name = f\"all-channels\"\n",
        "\n",
        "    if USING_WANDB:\n",
        "        wandb.init(\n",
        "            project=\"EEG-ml\",\n",
        "            name=run_name,  # i like to put a note about the current run here (e.g lr-.001 or something)\n",
        "            settings=wandb.Settings(start_method=\"fork\"),\n",
        "            config = {\n",
        "                \"architecture\": model.__class__.__name__,\n",
        "                \"epochs\": NUM_EPOCHS,\n",
        "                \"learning_rate\": lr,\n",
        "                \"batch_size\": batch_size,\n",
        "                \"optimizer\": optimizer.__class__.__name__,\n",
        "                \"loss fn\": criterion.__class__.__name__,\n",
        "                \"patience\": patience\n",
        "                # \"weight decay\": weight_decay,\n",
        "        })\n",
        "\n",
        "        callbacks.append(WandbMetricsLogger())\n",
        "\n",
        "    model.compile(loss=criterion,\n",
        "                    optimizer=optimizer,\n",
        "                    metrics=['accuracy'])\n",
        "\n",
        "    # Training and validating the model\n",
        "    model_results = model.fit(temp_x_train, y_train,\n",
        "                batch_size=batch_size,\n",
        "                epochs=NUM_EPOCHS, callbacks=callbacks,\n",
        "                validation_data=(temp_x_valid, y_valid), verbose=0)  #, verbose=True)\n",
        "\n",
        "    model_score = model.evaluate(temp_x_test, y_test, verbose=0)\n",
        "    test_acc = model_score[1]\n",
        "    print('Test accuracy of the hybrid CNN-LSTM model:', test_acc)\n",
        "    test_accs_per_channel.append(test_acc)\n",
        "    if USING_WANDB:\n",
        "        wandb.summary[\"Test_Acc\"] = test_acc\n",
        "        wandb.finish()"
      ],
      "metadata": {
        "colab": {
          "base_uri": "https://localhost:8080/",
          "height": 1000,
          "referenced_widgets": [
            "0c2e9368808d4053a0b7b38c7ab4de27",
            "4345c8e09ef944f68eb69e413705b69e",
            "996bc372c4c84effb9fdfef34dc6507e",
            "d71f316ff36045b39a4f958133ed3fca",
            "ee9bea3cb0f44808890cd0010149c0a0",
            "a78e6e79917b45da8fff7734719dd882",
            "21e26e09be4b4b83b362ee9e6741ceca",
            "5b058f7453084d8dac88650aced3ac3d",
            "742d26f50aee46d5854563153e6e0e3b",
            "6cf4ab72b58d4a9da3a18952b61ad19a",
            "29ecd6b0c2d94be3809a809392e4b062",
            "25337e654e8a417ab60657c304b2754a",
            "706e3dd7a14949268d9a2a921dde9cba",
            "17526ce8129a499a970c27795a2e21ea",
            "19c0d7309ee343a38b5f69387e458676",
            "09e5cf1d0acf47fd8fdca9f583ac09bd",
            "5e13bd5608cc44eeb3d3c3302cee16a1",
            "6ba1b0d99e6542a8b704fee624f581f3",
            "03baf105c7484e048b7f894add124154",
            "b631576811054432a503cc134ef8917c",
            "e2e64039a08942c59861b9fa6464b442",
            "53d9a698fca6417d98df8d2fb7877630",
            "2b9cb9eefbb34508a958f2043f236eb2",
            "e5a9307c694445f4aa9ea87b874d268c",
            "ae542501ab704cf6becb4b9ad58e6a3f",
            "e07319ed3513485aaf9490561c43c432",
            "f8d3bbba1bb548eaa461182bc5474656",
            "3bfa1020f8b8431cb800fa0e766e0a35",
            "4b6703159d804c1990c0c51cd5ba598d",
            "aaf02ccfd85144cbbc4169e9f4628d8a",
            "dec2ad000191400ab8b30616decee0ce",
            "7ed474faaf12479c9bd36fa8fd47df80",
            "19c34df1b45345bebe6226921921ce29",
            "2f577196b6c7446292db5c9d1adff00c",
            "858c08212a2442f0aceb0e7f56a0117c",
            "ab5559d7fd4646caa3d88b9c42980ae9",
            "8e38cfa24fba42a0ba9fb70a0c3abf0e",
            "89d98a21dba048188a6b01ff113cad7c",
            "65c6e4f23c3e40ff8b8c3452a52070d3",
            "d7ddc26cf64c49f5977861286493fd40",
            "5c1f64ba740643299e0ca63355523103",
            "1fb0c0b38d0648109c7d2268d36f6253",
            "13aeea57884e43b0be9f4bc194e31207",
            "01533d4701484f5facb16f75745b4c4a",
            "cb632aa8631b41e689511a9506315ad0",
            "ffb91062407143f89f9dab8f1f5826a3",
            "fb3985936525411bb9301bf84af670a9",
            "3ec92a4b821a443f87d76ff53af397a7",
            "5e3ab421a46744bfbe24618d42f03dd9",
            "5b15659b2a6447ae94963ad2dee06531",
            "bf28b60c04f74c2f86f5b9c17ca54fed",
            "19c6426ae5d44230bd825219030eee34",
            "531fbdb83ea64d42ba361110827212d9",
            "a2fe4bd3ab0e4cdb93a76d6b25002e03",
            "787f3336fbb544849ac1fd0cc1846687",
            "7ead3e5fe6d1428a8ffbb07abeada381",
            "6cf1ab2301104e9394335d0329213bab",
            "f1e4be2e378d47b587ae95c0abdc0f22",
            "07c223b5f9b840a2b7060d3604313fcc",
            "2b3dc51f13a0410c9c0998de1aeed494",
            "fc4861cee1934d38850e762cbdbaf4b3",
            "d7a04135c71642fab702c3d93948b1ab",
            "7a1cb54b16424fb8ac545000cdeeb104",
            "62fab502b8794e0ba0d17d94cfd571d9",
            "49b5d5f391384dd1b5aee9464b577e69",
            "abdf5febfe6a459da83327139a35c864",
            "6e742e2300ed4ae5871385ee9c244546",
            "7c2cd56f6c024653b3086875a1084f31",
            "3f6e2f49b4e74a5c8aad4e43d6148979",
            "f63a9cb0c80d4b33889e8df2140f2bdb",
            "9c2041b91f8a481fb9380d545de8b445",
            "3193c947c24f4aba8ce474191a3a1240",
            "8aa213dff5ae4df3ba1e2cc84f949a4d",
            "fb8b0c9704494a51b279b52f2aeced6b",
            "b37cd6c372604d548d84a37945cf1157",
            "d335838514e14541b170651f87bfa0aa",
            "fb3914886df544dcbbfa2a071bbf8e67",
            "cfc07d95bf624f83a22bede523a16b7a",
            "fb7c4cc72ceb4f0290288767d2b5ca14",
            "46048c2131ad41908565f34831c5132c",
            "adcfc6afe3a544d8809c1de91242effe",
            "cc0720941c654d9e91ba3b619b79085a",
            "0503019cf4604871bc803ad71f1d9881",
            "00aed1effba54844a65be3d50fab0504",
            "1f9d4a9a0ddc4861a2c54c694f55c8ac",
            "f2f215832fac49edb5da6f86644bbe3c",
            "5a63a696d8924ea68308d7b75f6b097c",
            "4ffe4677ebd74888951b96756965a198",
            "9fc99f51c3394159aed21ec136840304",
            "7a2c21c78c944b6aadd30937e3ee4d07",
            "1bd9f5b519c2448da9b094467b583085",
            "10657084fddf4a9083391e523b9a8b00",
            "769cde55443543d18a5cbd6facd236ef",
            "b28b7276d1cc4fbca3c7805c2c43fa79",
            "4ed406ba69a14a5f91d45d0085b0deed",
            "1aba6cbd5bab45b6954401df8194f674",
            "e2b06433853a4b1bb9667e277061e848",
            "51bea5a5b22b4a4ba6ed93eda4b71c92",
            "47ffc93cdb324b87899c5a233d9bebaa",
            "989c888508f54267a3745ea6e561fdd3",
            "a5fd12d4e7d24c83a89d6a00b8a08743",
            "601ba97982954577b828035bf3c21924",
            "c2da3165eab74fdaa7e790b44c54faac",
            "45d0d2709e5b4875885b8a1831d18f67",
            "0f9c95e4512a4937bcbb325e095002e8",
            "638b5188fc814c4d91d06cd3f052bfba",
            "e620d6546ee341bbb602f7c79ab74768",
            "773d39a1a1004313ab6a5c962b536996",
            "b83f2d557a584e118293c0634bde6c84",
            "7e8cd52a1b0b4c46bb13de79dc80a3c6",
            "bd16cb7ff28c412aa7ab5ad003f53070",
            "893e305779204b779b8ebbab03e94d7d",
            "c9ed5fbea5b4446284fe0c23f5b09419",
            "81cfb6fa02314741b677a03f7bac6d90",
            "42efef74dde840d58b6315910987fb8b",
            "e5a98aa5052c4daea2629b26d199a844",
            "869cf167f2b04e158fa9fc953faf4aa9",
            "2e55de6c2a6447d7b9c7db85fa50c788",
            "9e37c00f7e9b43e8867dcf0f206e468c",
            "68c2ce769c0b4923a4d7b67219efb804",
            "b7d271c87f8d4c8d924018a3252deb37",
            "763dc618d062480b85208427d13827ce",
            "a25824cb353e4f68af7414d599a604d8",
            "499f83b2fb4a4e73afe6b8f467b2b2cb",
            "1e344c736ae54c6092a31242e92dc18a",
            "00eb050445b34c2eafac00224dd46df7",
            "89bf5e69f46440c2895e1e53aa85b86b",
            "500fe8dc0ae3413ab0af643aba44f8ac",
            "5ae48f920e4c491baa23229d1d7bd60d",
            "519f9b585f68475f923d58cc458b237a",
            "5cd6e6656e4e461d8d8d56d134cd2835",
            "07d6eeb833d94067994449b3e6f999a3",
            "e42f6055c6bf41278a7f3c1923a925b2",
            "a2c595b7905b4702a57653a734e75fd0",
            "5087d23c6bef49f39a3c4f422d9626cb",
            "cdaeae9f4ce14ea584cd90706be68a09",
            "954dfc1810e841f5a06555a29015e1cd",
            "051a8e06507e4b3e8a13a06cd4a3e288",
            "8e7eb071ed404863af639c8fc8d48074",
            "42da14dcd2b04ff8af7de284a30485ec",
            "a2659af05eeb4312b91d3d7b115c04e4",
            "f1d96b4f51db4e78b32c7ebcac9c5790",
            "5fc54925990a4d68850341d1bd2a8682",
            "96942b61cbbd4c91894a90e80e5cc81c",
            "0f1e4f76cfaf4dada7d8c43fcf9a1715",
            "f7e4ad7abc584ba1814f8f08253fbac3",
            "45e5c35affe3454d866098871b478ae5",
            "181ec651756243598c6504644b8ef30b",
            "c80973b4997e4411bbf0975247261ab0",
            "1634126b72694aed93d89d90df50e2d3",
            "d3e9a002868848e9b0fac5b8f3c64841",
            "50f0c67ca31d4a248f8e9f151bf38763",
            "7c4b79be946e424ca0e68ab17b9b87ea",
            "b71d9d6ae6ae4e81ac304c1851bce29e",
            "211ca113eecb4ba19166bae932b4a595",
            "f4ccd133c27840ecaf087bd1bdb6359e",
            "51d4f874e663486587e246fabe26fd92",
            "0b57fb4999e14afd8436a35faf833593",
            "66be152a1a8f4581895c42e2f2af6209",
            "8ea898ef8db2402fb5ca2b6634402f01",
            "dd13b8e4b64344a097590dcdedabd220",
            "b241957e623a4556bb8dd0034d81b6b5",
            "e9dae9958eae4756ada8b85725b08b7a",
            "398b3504c93b4040b897ca782e2cad10",
            "fac594d11eb040d6b80072656416bea2",
            "3dd919f6b47641b8907b429210fa0059",
            "dfc839f92f114b33bf78c8fc5f6aa0e9",
            "9062b8890fe0401f9006798775401454",
            "f6376be08f0e4be7bacd6decad26be26",
            "ecaa2f43df9e4eddbd1edc5f6485c2a9",
            "358a77ad1a984da5b5a13b62f1ef5b41",
            "836ddbb466e94a859c2ca34a3d98037f",
            "1578398f4fc7444fa93ffa229b39e3bb",
            "74d52822c9564a7e92306dce6f8188f9",
            "83ad374472a64dd092aa144d2f3c28a1",
            "990b0451bffc4d9194315f53efa0c8e1",
            "30bdad8d5dd14fa18b834737214c99fe",
            "3502f20da5ab47b68b1b51e916850da0",
            "088865e6e5c04636a09d00ede8d313ba",
            "c6d11768b1d94a89b18dac20d7094cd6",
            "0b55c8d0ebcf4f9b886aaa3b9dc9ad1b",
            "c95e7edc263b4b8c987dde495cdd7e9a",
            "eb0db1313f0241bb83fca18502623e0f",
            "746b435232c547b184ac9b65f80712af"
          ]
        },
        "id": "FOOxKW0-iQTZ",
        "outputId": "c1f49ce7-1688-4f3b-dade-a493231c103d"
      },
      "execution_count": null,
      "outputs": [
        {
          "output_type": "stream",
          "name": "stdout",
          "text": [
            "SKIPPING channel 0 (0-indexed)\n"
          ]
        },
        {
          "output_type": "display_data",
          "data": {
            "text/plain": [
              "<IPython.core.display.HTML object>"
            ],
            "text/html": [
              "Finishing last run (ID:4ii9060z) before initializing another..."
            ]
          },
          "metadata": {}
        },
        {
          "output_type": "display_data",
          "data": {
            "text/plain": [
              "VBox(children=(Label(value='0.001 MB of 0.001 MB uploaded\\r'), FloatProgress(value=1.0, max=1.0)))"
            ],
            "application/vnd.jupyter.widget-view+json": {
              "version_major": 2,
              "version_minor": 0,
              "model_id": "0c2e9368808d4053a0b7b38c7ab4de27"
            }
          },
          "metadata": {}
        },
        {
          "output_type": "display_data",
          "data": {
            "text/plain": [
              "<IPython.core.display.HTML object>"
            ],
            "text/html": [
              "<style>\n",
              "    table.wandb td:nth-child(1) { padding: 0 10px; text-align: left ; width: auto;} td:nth-child(2) {text-align: left ; width: 100%}\n",
              "    .wandb-row { display: flex; flex-direction: row; flex-wrap: wrap; justify-content: flex-start; width: 100% }\n",
              "    .wandb-col { display: flex; flex-direction: column; flex-basis: 100%; flex: 1; padding: 10px; }\n",
              "    </style>\n",
              "<div class=\"wandb-row\"><div class=\"wandb-col\"><h3>Run history:</h3><br/><table class=\"wandb\"><tr><td>epoch/accuracy</td><td>▁▁▂▃▃▄▄▅▅▅▅▆▆▆▆▆▆▆▆▇▇▇▇▇▇▇▇▇▇███████</td></tr><tr><td>epoch/epoch</td><td>▁▁▁▂▂▂▂▂▃▃▃▃▃▄▄▄▄▄▅▅▅▅▅▆▆▆▆▆▇▇▇▇▇███</td></tr><tr><td>epoch/learning_rate</td><td>▁▁▁▁▁▁▁▁▁▁▁▁▁▁▁▁▁▁▁▁▁▁▁▁▁▁▁▁▁▁▁▁▁▁▁▁</td></tr><tr><td>epoch/loss</td><td>██▇▇▇▆▆▆▅▅▅▄▄▄▄▄▄▃▃▃▃▃▂▂▂▂▂▂▂▂▂▁▁▁▁▁</td></tr><tr><td>epoch/val_accuracy</td><td>▁▃▃▃▅▅▆▆▆▆▇▇▇▇▇▇▇▇▇▇▇▇▇▇█▇███▇██████</td></tr><tr><td>epoch/val_loss</td><td>██▇▇▅▅▄▄▄▄▃▃▃▂▂▃▂▂▂▂▃▂▂▂▂▃▁▂▁▂▁▁▂▁▂▂</td></tr></table><br/></div><div class=\"wandb-col\"><h3>Run summary:</h3><br/><table class=\"wandb\"><tr><td>epoch/accuracy</td><td>0.69215</td></tr><tr><td>epoch/epoch</td><td>35</td></tr><tr><td>epoch/learning_rate</td><td>0.001</td></tr><tr><td>epoch/loss</td><td>0.79318</td></tr><tr><td>epoch/val_accuracy</td><td>0.57325</td></tr><tr><td>epoch/val_loss</td><td>1.11763</td></tr></table><br/></div></div>"
            ]
          },
          "metadata": {}
        },
        {
          "output_type": "display_data",
          "data": {
            "text/plain": [
              "<IPython.core.display.HTML object>"
            ],
            "text/html": [
              " View run <strong style=\"color:#cdcd00\">delete-0-channel</strong> at: <a href='https://wandb.ai/petern0408/EEG-ml/runs/4ii9060z' target=\"_blank\">https://wandb.ai/petern0408/EEG-ml/runs/4ii9060z</a><br/>Synced 5 W&B file(s), 0 media file(s), 0 artifact file(s) and 0 other file(s)"
            ]
          },
          "metadata": {}
        },
        {
          "output_type": "display_data",
          "data": {
            "text/plain": [
              "<IPython.core.display.HTML object>"
            ],
            "text/html": [
              "Find logs at: <code>./wandb/run-20240307_022055-4ii9060z/logs</code>"
            ]
          },
          "metadata": {}
        },
        {
          "output_type": "display_data",
          "data": {
            "text/plain": [
              "<IPython.core.display.HTML object>"
            ],
            "text/html": [
              "Successfully finished last run (ID:4ii9060z). Initializing new run:<br/>"
            ]
          },
          "metadata": {}
        },
        {
          "output_type": "display_data",
          "data": {
            "text/plain": [
              "<IPython.core.display.HTML object>"
            ],
            "text/html": [
              "Tracking run with wandb version 0.16.4"
            ]
          },
          "metadata": {}
        },
        {
          "output_type": "display_data",
          "data": {
            "text/plain": [
              "<IPython.core.display.HTML object>"
            ],
            "text/html": [
              "Run data is saved locally in <code>/content/wandb/run-20240307_042509-03765ba9</code>"
            ]
          },
          "metadata": {}
        },
        {
          "output_type": "display_data",
          "data": {
            "text/plain": [
              "<IPython.core.display.HTML object>"
            ],
            "text/html": [
              "Syncing run <strong><a href='https://wandb.ai/petern0408/EEG-ml/runs/03765ba9' target=\"_blank\">delete-0-channel</a></strong> to <a href='https://wandb.ai/petern0408/EEG-ml' target=\"_blank\">Weights & Biases</a> (<a href='https://wandb.me/run' target=\"_blank\">docs</a>)<br/>"
            ]
          },
          "metadata": {}
        },
        {
          "output_type": "display_data",
          "data": {
            "text/plain": [
              "<IPython.core.display.HTML object>"
            ],
            "text/html": [
              " View project at <a href='https://wandb.ai/petern0408/EEG-ml' target=\"_blank\">https://wandb.ai/petern0408/EEG-ml</a>"
            ]
          },
          "metadata": {}
        },
        {
          "output_type": "display_data",
          "data": {
            "text/plain": [
              "<IPython.core.display.HTML object>"
            ],
            "text/html": [
              " View run at <a href='https://wandb.ai/petern0408/EEG-ml/runs/03765ba9' target=\"_blank\">https://wandb.ai/petern0408/EEG-ml/runs/03765ba9</a>"
            ]
          },
          "metadata": {}
        },
        {
          "output_type": "stream",
          "name": "stdout",
          "text": [
            "Test accuracy of the hybrid CNN-LSTM model: 0.45598194003105164\n"
          ]
        },
        {
          "output_type": "display_data",
          "data": {
            "text/plain": [
              "VBox(children=(Label(value='0.001 MB of 0.001 MB uploaded\\r'), FloatProgress(value=1.0, max=1.0)))"
            ],
            "application/vnd.jupyter.widget-view+json": {
              "version_major": 2,
              "version_minor": 0,
              "model_id": "742d26f50aee46d5854563153e6e0e3b"
            }
          },
          "metadata": {}
        },
        {
          "output_type": "display_data",
          "data": {
            "text/plain": [
              "<IPython.core.display.HTML object>"
            ],
            "text/html": [
              "<style>\n",
              "    table.wandb td:nth-child(1) { padding: 0 10px; text-align: left ; width: auto;} td:nth-child(2) {text-align: left ; width: 100%}\n",
              "    .wandb-row { display: flex; flex-direction: row; flex-wrap: wrap; justify-content: flex-start; width: 100% }\n",
              "    .wandb-col { display: flex; flex-direction: column; flex-basis: 100%; flex: 1; padding: 10px; }\n",
              "    </style>\n",
              "<div class=\"wandb-row\"><div class=\"wandb-col\"><h3>Run history:</h3><br/><table class=\"wandb\"><tr><td>epoch/accuracy</td><td>▁▃▃▄▅▅▅▆▆▆▆▇▆▇▇▇▇▇▇▇▇████</td></tr><tr><td>epoch/epoch</td><td>▁▁▂▂▂▂▃▃▃▄▄▄▅▅▅▅▆▆▆▇▇▇▇██</td></tr><tr><td>epoch/learning_rate</td><td>▁▁▁▁▁▁▁▁▁▁▁▁▁▁▁▁▁▁▁▁▁▁▁▁▁</td></tr><tr><td>epoch/loss</td><td>██▇▆▅▅▅▅▄▄▄▄▃▃▃▃▃▃▂▂▂▂▁▁▁</td></tr><tr><td>epoch/val_accuracy</td><td>▁▃▅▆▆▇▆▆▇▆▇▅▅▆▆▇▇▇▇█▇▇▇▇█</td></tr><tr><td>epoch/val_loss</td><td>█▇▆▅▅▃▄▃▃▄▃▃▄▃▄▃▂▁▂▁▂▂▂▂▂</td></tr></table><br/></div><div class=\"wandb-col\"><h3>Run summary:</h3><br/><table class=\"wandb\"><tr><td>Test Acc</td><td>0.45598</td></tr><tr><td>epoch/accuracy</td><td>0.56143</td></tr><tr><td>epoch/epoch</td><td>24</td></tr><tr><td>epoch/learning_rate</td><td>0.001</td></tr><tr><td>epoch/loss</td><td>1.00137</td></tr><tr><td>epoch/val_accuracy</td><td>0.455</td></tr><tr><td>epoch/val_loss</td><td>1.19584</td></tr></table><br/></div></div>"
            ]
          },
          "metadata": {}
        },
        {
          "output_type": "display_data",
          "data": {
            "text/plain": [
              "<IPython.core.display.HTML object>"
            ],
            "text/html": [
              " View run <strong style=\"color:#cdcd00\">delete-0-channel</strong> at: <a href='https://wandb.ai/petern0408/EEG-ml/runs/03765ba9' target=\"_blank\">https://wandb.ai/petern0408/EEG-ml/runs/03765ba9</a><br/>Synced 5 W&B file(s), 0 media file(s), 0 artifact file(s) and 0 other file(s)"
            ]
          },
          "metadata": {}
        },
        {
          "output_type": "display_data",
          "data": {
            "text/plain": [
              "<IPython.core.display.HTML object>"
            ],
            "text/html": [
              "Find logs at: <code>./wandb/run-20240307_042509-03765ba9/logs</code>"
            ]
          },
          "metadata": {}
        },
        {
          "output_type": "stream",
          "name": "stdout",
          "text": [
            "SKIPPING channel 1 (0-indexed)\n"
          ]
        },
        {
          "output_type": "display_data",
          "data": {
            "text/plain": [
              "<IPython.core.display.HTML object>"
            ],
            "text/html": [
              "Tracking run with wandb version 0.16.4"
            ]
          },
          "metadata": {}
        },
        {
          "output_type": "display_data",
          "data": {
            "text/plain": [
              "<IPython.core.display.HTML object>"
            ],
            "text/html": [
              "Run data is saved locally in <code>/content/wandb/run-20240307_043638-4mh2w6qd</code>"
            ]
          },
          "metadata": {}
        },
        {
          "output_type": "display_data",
          "data": {
            "text/plain": [
              "<IPython.core.display.HTML object>"
            ],
            "text/html": [
              "Syncing run <strong><a href='https://wandb.ai/petern0408/EEG-ml/runs/4mh2w6qd' target=\"_blank\">delete-1-channel</a></strong> to <a href='https://wandb.ai/petern0408/EEG-ml' target=\"_blank\">Weights & Biases</a> (<a href='https://wandb.me/run' target=\"_blank\">docs</a>)<br/>"
            ]
          },
          "metadata": {}
        },
        {
          "output_type": "display_data",
          "data": {
            "text/plain": [
              "<IPython.core.display.HTML object>"
            ],
            "text/html": [
              " View project at <a href='https://wandb.ai/petern0408/EEG-ml' target=\"_blank\">https://wandb.ai/petern0408/EEG-ml</a>"
            ]
          },
          "metadata": {}
        },
        {
          "output_type": "display_data",
          "data": {
            "text/plain": [
              "<IPython.core.display.HTML object>"
            ],
            "text/html": [
              " View run at <a href='https://wandb.ai/petern0408/EEG-ml/runs/4mh2w6qd' target=\"_blank\">https://wandb.ai/petern0408/EEG-ml/runs/4mh2w6qd</a>"
            ]
          },
          "metadata": {}
        },
        {
          "output_type": "stream",
          "name": "stdout",
          "text": [
            "Test accuracy of the hybrid CNN-LSTM model: 0.45372459292411804\n"
          ]
        },
        {
          "output_type": "display_data",
          "data": {
            "text/plain": [
              "VBox(children=(Label(value='0.011 MB of 0.011 MB uploaded\\r'), FloatProgress(value=1.0, max=1.0)))"
            ],
            "application/vnd.jupyter.widget-view+json": {
              "version_major": 2,
              "version_minor": 0,
              "model_id": "5e13bd5608cc44eeb3d3c3302cee16a1"
            }
          },
          "metadata": {}
        },
        {
          "output_type": "display_data",
          "data": {
            "text/plain": [
              "<IPython.core.display.HTML object>"
            ],
            "text/html": [
              "<style>\n",
              "    table.wandb td:nth-child(1) { padding: 0 10px; text-align: left ; width: auto;} td:nth-child(2) {text-align: left ; width: 100%}\n",
              "    .wandb-row { display: flex; flex-direction: row; flex-wrap: wrap; justify-content: flex-start; width: 100% }\n",
              "    .wandb-col { display: flex; flex-direction: column; flex-basis: 100%; flex: 1; padding: 10px; }\n",
              "    </style>\n",
              "<div class=\"wandb-row\"><div class=\"wandb-col\"><h3>Run history:</h3><br/><table class=\"wandb\"><tr><td>epoch/accuracy</td><td>▁▃▃▅▆▅▆▆▆▆▇▇▇▇▇▇███████</td></tr><tr><td>epoch/epoch</td><td>▁▁▂▂▂▃▃▃▄▄▄▅▅▅▅▆▆▆▇▇▇██</td></tr><tr><td>epoch/learning_rate</td><td>▁▁▁▁▁▁▁▁▁▁▁▁▁▁▁▁▁▁▁▁▁▁▁</td></tr><tr><td>epoch/loss</td><td>█▇▇▆▅▅▄▄▄▄▃▃▃▂▂▂▂▂▁▁▁▁▁</td></tr><tr><td>epoch/val_accuracy</td><td>▁▃▄▅▆▅▆▅▅▅▆▆▆▆▇▇▆▇▇▇███</td></tr><tr><td>epoch/val_loss</td><td>█▇▅▅▄▅▄▅▄▃▃▃▂▃▂▂▃▁▂▂▁▁▂</td></tr></table><br/></div><div class=\"wandb-col\"><h3>Run summary:</h3><br/><table class=\"wandb\"><tr><td>Test Acc</td><td>0.45372</td></tr><tr><td>epoch/accuracy</td><td>0.54395</td></tr><tr><td>epoch/epoch</td><td>22</td></tr><tr><td>epoch/learning_rate</td><td>0.001</td></tr><tr><td>epoch/loss</td><td>1.03068</td></tr><tr><td>epoch/val_accuracy</td><td>0.479</td></tr><tr><td>epoch/val_loss</td><td>1.16878</td></tr></table><br/></div></div>"
            ]
          },
          "metadata": {}
        },
        {
          "output_type": "display_data",
          "data": {
            "text/plain": [
              "<IPython.core.display.HTML object>"
            ],
            "text/html": [
              " View run <strong style=\"color:#cdcd00\">delete-1-channel</strong> at: <a href='https://wandb.ai/petern0408/EEG-ml/runs/4mh2w6qd' target=\"_blank\">https://wandb.ai/petern0408/EEG-ml/runs/4mh2w6qd</a><br/>Synced 5 W&B file(s), 0 media file(s), 0 artifact file(s) and 0 other file(s)"
            ]
          },
          "metadata": {}
        },
        {
          "output_type": "display_data",
          "data": {
            "text/plain": [
              "<IPython.core.display.HTML object>"
            ],
            "text/html": [
              "Find logs at: <code>./wandb/run-20240307_043638-4mh2w6qd/logs</code>"
            ]
          },
          "metadata": {}
        },
        {
          "output_type": "stream",
          "name": "stdout",
          "text": [
            "SKIPPING channel 2 (0-indexed)\n"
          ]
        },
        {
          "output_type": "display_data",
          "data": {
            "text/plain": [
              "<IPython.core.display.HTML object>"
            ],
            "text/html": [
              "Tracking run with wandb version 0.16.4"
            ]
          },
          "metadata": {}
        },
        {
          "output_type": "display_data",
          "data": {
            "text/plain": [
              "<IPython.core.display.HTML object>"
            ],
            "text/html": [
              "Run data is saved locally in <code>/content/wandb/run-20240307_044712-d8ie0jlr</code>"
            ]
          },
          "metadata": {}
        },
        {
          "output_type": "display_data",
          "data": {
            "text/plain": [
              "<IPython.core.display.HTML object>"
            ],
            "text/html": [
              "Syncing run <strong><a href='https://wandb.ai/petern0408/EEG-ml/runs/d8ie0jlr' target=\"_blank\">delete-2-channel</a></strong> to <a href='https://wandb.ai/petern0408/EEG-ml' target=\"_blank\">Weights & Biases</a> (<a href='https://wandb.me/run' target=\"_blank\">docs</a>)<br/>"
            ]
          },
          "metadata": {}
        },
        {
          "output_type": "display_data",
          "data": {
            "text/plain": [
              "<IPython.core.display.HTML object>"
            ],
            "text/html": [
              " View project at <a href='https://wandb.ai/petern0408/EEG-ml' target=\"_blank\">https://wandb.ai/petern0408/EEG-ml</a>"
            ]
          },
          "metadata": {}
        },
        {
          "output_type": "display_data",
          "data": {
            "text/plain": [
              "<IPython.core.display.HTML object>"
            ],
            "text/html": [
              " View run at <a href='https://wandb.ai/petern0408/EEG-ml/runs/d8ie0jlr' target=\"_blank\">https://wandb.ai/petern0408/EEG-ml/runs/d8ie0jlr</a>"
            ]
          },
          "metadata": {}
        },
        {
          "output_type": "stream",
          "name": "stdout",
          "text": [
            "Test accuracy of the hybrid CNN-LSTM model: 0.45823928713798523\n"
          ]
        },
        {
          "output_type": "display_data",
          "data": {
            "text/plain": [
              "VBox(children=(Label(value='0.001 MB of 0.001 MB uploaded\\r'), FloatProgress(value=1.0, max=1.0)))"
            ],
            "application/vnd.jupyter.widget-view+json": {
              "version_major": 2,
              "version_minor": 0,
              "model_id": "ae542501ab704cf6becb4b9ad58e6a3f"
            }
          },
          "metadata": {}
        },
        {
          "output_type": "display_data",
          "data": {
            "text/plain": [
              "<IPython.core.display.HTML object>"
            ],
            "text/html": [
              "<style>\n",
              "    table.wandb td:nth-child(1) { padding: 0 10px; text-align: left ; width: auto;} td:nth-child(2) {text-align: left ; width: 100%}\n",
              "    .wandb-row { display: flex; flex-direction: row; flex-wrap: wrap; justify-content: flex-start; width: 100% }\n",
              "    .wandb-col { display: flex; flex-direction: column; flex-basis: 100%; flex: 1; padding: 10px; }\n",
              "    </style>\n",
              "<div class=\"wandb-row\"><div class=\"wandb-col\"><h3>Run history:</h3><br/><table class=\"wandb\"><tr><td>epoch/accuracy</td><td>▁▂▃▄▅▅▆▆▆▆▆▇▇▇▇▇▇▇▇▇████</td></tr><tr><td>epoch/epoch</td><td>▁▁▂▂▂▃▃▃▃▄▄▄▅▅▅▆▆▆▆▇▇▇██</td></tr><tr><td>epoch/learning_rate</td><td>▁▁▁▁▁▁▁▁▁▁▁▁▁▁▁▁▁▁▁▁▁▁▁▁</td></tr><tr><td>epoch/loss</td><td>█▇▇▆▆▅▄▄▄▄▃▃▃▃▃▂▂▂▂▂▁▁▁▁</td></tr><tr><td>epoch/val_accuracy</td><td>▁▃▃▄▅▇▆▆▆▇▆▇▇▇█▇▅███▇███</td></tr><tr><td>epoch/val_loss</td><td>█▇▆▇▄▃▃▃▃▂▃▂▁▂▂▂▄▁▁▁▂▂▂▂</td></tr></table><br/></div><div class=\"wandb-col\"><h3>Run summary:</h3><br/><table class=\"wandb\"><tr><td>Test Acc</td><td>0.45824</td></tr><tr><td>epoch/accuracy</td><td>0.56682</td></tr><tr><td>epoch/epoch</td><td>23</td></tr><tr><td>epoch/learning_rate</td><td>0.001</td></tr><tr><td>epoch/loss</td><td>1.0021</td></tr><tr><td>epoch/val_accuracy</td><td>0.468</td></tr><tr><td>epoch/val_loss</td><td>1.17472</td></tr></table><br/></div></div>"
            ]
          },
          "metadata": {}
        },
        {
          "output_type": "display_data",
          "data": {
            "text/plain": [
              "<IPython.core.display.HTML object>"
            ],
            "text/html": [
              " View run <strong style=\"color:#cdcd00\">delete-2-channel</strong> at: <a href='https://wandb.ai/petern0408/EEG-ml/runs/d8ie0jlr' target=\"_blank\">https://wandb.ai/petern0408/EEG-ml/runs/d8ie0jlr</a><br/>Synced 5 W&B file(s), 0 media file(s), 0 artifact file(s) and 0 other file(s)"
            ]
          },
          "metadata": {}
        },
        {
          "output_type": "display_data",
          "data": {
            "text/plain": [
              "<IPython.core.display.HTML object>"
            ],
            "text/html": [
              "Find logs at: <code>./wandb/run-20240307_044712-d8ie0jlr/logs</code>"
            ]
          },
          "metadata": {}
        },
        {
          "output_type": "stream",
          "name": "stdout",
          "text": [
            "SKIPPING channel 3 (0-indexed)\n"
          ]
        },
        {
          "output_type": "display_data",
          "data": {
            "text/plain": [
              "<IPython.core.display.HTML object>"
            ],
            "text/html": [
              "Tracking run with wandb version 0.16.4"
            ]
          },
          "metadata": {}
        },
        {
          "output_type": "display_data",
          "data": {
            "text/plain": [
              "<IPython.core.display.HTML object>"
            ],
            "text/html": [
              "Run data is saved locally in <code>/content/wandb/run-20240307_045747-a07ax5v9</code>"
            ]
          },
          "metadata": {}
        },
        {
          "output_type": "display_data",
          "data": {
            "text/plain": [
              "<IPython.core.display.HTML object>"
            ],
            "text/html": [
              "Syncing run <strong><a href='https://wandb.ai/petern0408/EEG-ml/runs/a07ax5v9' target=\"_blank\">delete-3-channel</a></strong> to <a href='https://wandb.ai/petern0408/EEG-ml' target=\"_blank\">Weights & Biases</a> (<a href='https://wandb.me/run' target=\"_blank\">docs</a>)<br/>"
            ]
          },
          "metadata": {}
        },
        {
          "output_type": "display_data",
          "data": {
            "text/plain": [
              "<IPython.core.display.HTML object>"
            ],
            "text/html": [
              " View project at <a href='https://wandb.ai/petern0408/EEG-ml' target=\"_blank\">https://wandb.ai/petern0408/EEG-ml</a>"
            ]
          },
          "metadata": {}
        },
        {
          "output_type": "display_data",
          "data": {
            "text/plain": [
              "<IPython.core.display.HTML object>"
            ],
            "text/html": [
              " View run at <a href='https://wandb.ai/petern0408/EEG-ml/runs/a07ax5v9' target=\"_blank\">https://wandb.ai/petern0408/EEG-ml/runs/a07ax5v9</a>"
            ]
          },
          "metadata": {}
        },
        {
          "output_type": "stream",
          "name": "stdout",
          "text": [
            "Test accuracy of the hybrid CNN-LSTM model: 0.44695258140563965\n"
          ]
        },
        {
          "output_type": "display_data",
          "data": {
            "text/plain": [
              "VBox(children=(Label(value='0.001 MB of 0.001 MB uploaded\\r'), FloatProgress(value=1.0, max=1.0)))"
            ],
            "application/vnd.jupyter.widget-view+json": {
              "version_major": 2,
              "version_minor": 0,
              "model_id": "19c34df1b45345bebe6226921921ce29"
            }
          },
          "metadata": {}
        },
        {
          "output_type": "display_data",
          "data": {
            "text/plain": [
              "<IPython.core.display.HTML object>"
            ],
            "text/html": [
              "<style>\n",
              "    table.wandb td:nth-child(1) { padding: 0 10px; text-align: left ; width: auto;} td:nth-child(2) {text-align: left ; width: 100%}\n",
              "    .wandb-row { display: flex; flex-direction: row; flex-wrap: wrap; justify-content: flex-start; width: 100% }\n",
              "    .wandb-col { display: flex; flex-direction: column; flex-basis: 100%; flex: 1; padding: 10px; }\n",
              "    </style>\n",
              "<div class=\"wandb-row\"><div class=\"wandb-col\"><h3>Run history:</h3><br/><table class=\"wandb\"><tr><td>epoch/accuracy</td><td>▁▂▃▄▅▅▆▆▆▆▆▇▇▇▇█████</td></tr><tr><td>epoch/epoch</td><td>▁▁▂▂▂▃▃▄▄▄▅▅▅▆▆▇▇▇██</td></tr><tr><td>epoch/learning_rate</td><td>▁▁▁▁▁▁▁▁▁▁▁▁▁▁▁▁▁▁▁▁</td></tr><tr><td>epoch/loss</td><td>██▇▆▅▅▅▄▄▄▃▃▃▂▂▂▂▁▁▁</td></tr><tr><td>epoch/val_accuracy</td><td>▁▁▁▂▅▅▆▇▇▇▇▇▇███▇▇█▇</td></tr><tr><td>epoch/val_loss</td><td>██▇▇▅▆▄▃▃▃▂▂▂▂▁▁▃▂▂▂</td></tr></table><br/></div><div class=\"wandb-col\"><h3>Run summary:</h3><br/><table class=\"wandb\"><tr><td>Test Acc</td><td>0.44695</td></tr><tr><td>epoch/accuracy</td><td>0.55471</td></tr><tr><td>epoch/epoch</td><td>19</td></tr><tr><td>epoch/learning_rate</td><td>0.001</td></tr><tr><td>epoch/loss</td><td>1.0407</td></tr><tr><td>epoch/val_accuracy</td><td>0.45725</td></tr><tr><td>epoch/val_loss</td><td>1.20429</td></tr></table><br/></div></div>"
            ]
          },
          "metadata": {}
        },
        {
          "output_type": "display_data",
          "data": {
            "text/plain": [
              "<IPython.core.display.HTML object>"
            ],
            "text/html": [
              " View run <strong style=\"color:#cdcd00\">delete-3-channel</strong> at: <a href='https://wandb.ai/petern0408/EEG-ml/runs/a07ax5v9' target=\"_blank\">https://wandb.ai/petern0408/EEG-ml/runs/a07ax5v9</a><br/>Synced 5 W&B file(s), 0 media file(s), 0 artifact file(s) and 0 other file(s)"
            ]
          },
          "metadata": {}
        },
        {
          "output_type": "display_data",
          "data": {
            "text/plain": [
              "<IPython.core.display.HTML object>"
            ],
            "text/html": [
              "Find logs at: <code>./wandb/run-20240307_045747-a07ax5v9/logs</code>"
            ]
          },
          "metadata": {}
        },
        {
          "output_type": "stream",
          "name": "stdout",
          "text": [
            "SKIPPING channel 4 (0-indexed)\n"
          ]
        },
        {
          "output_type": "display_data",
          "data": {
            "text/plain": [
              "<IPython.core.display.HTML object>"
            ],
            "text/html": [
              "Tracking run with wandb version 0.16.4"
            ]
          },
          "metadata": {}
        },
        {
          "output_type": "display_data",
          "data": {
            "text/plain": [
              "<IPython.core.display.HTML object>"
            ],
            "text/html": [
              "Run data is saved locally in <code>/content/wandb/run-20240307_050725-m1l1x41g</code>"
            ]
          },
          "metadata": {}
        },
        {
          "output_type": "display_data",
          "data": {
            "text/plain": [
              "<IPython.core.display.HTML object>"
            ],
            "text/html": [
              "Syncing run <strong><a href='https://wandb.ai/petern0408/EEG-ml/runs/m1l1x41g' target=\"_blank\">delete-4-channel</a></strong> to <a href='https://wandb.ai/petern0408/EEG-ml' target=\"_blank\">Weights & Biases</a> (<a href='https://wandb.me/run' target=\"_blank\">docs</a>)<br/>"
            ]
          },
          "metadata": {}
        },
        {
          "output_type": "display_data",
          "data": {
            "text/plain": [
              "<IPython.core.display.HTML object>"
            ],
            "text/html": [
              " View project at <a href='https://wandb.ai/petern0408/EEG-ml' target=\"_blank\">https://wandb.ai/petern0408/EEG-ml</a>"
            ]
          },
          "metadata": {}
        },
        {
          "output_type": "display_data",
          "data": {
            "text/plain": [
              "<IPython.core.display.HTML object>"
            ],
            "text/html": [
              " View run at <a href='https://wandb.ai/petern0408/EEG-ml/runs/m1l1x41g' target=\"_blank\">https://wandb.ai/petern0408/EEG-ml/runs/m1l1x41g</a>"
            ]
          },
          "metadata": {}
        },
        {
          "output_type": "stream",
          "name": "stdout",
          "text": [
            "Test accuracy of the hybrid CNN-LSTM model: 0.5214446783065796\n"
          ]
        },
        {
          "output_type": "display_data",
          "data": {
            "text/plain": [
              "VBox(children=(Label(value='0.001 MB of 0.001 MB uploaded\\r'), FloatProgress(value=1.0, max=1.0)))"
            ],
            "application/vnd.jupyter.widget-view+json": {
              "version_major": 2,
              "version_minor": 0,
              "model_id": "5c1f64ba740643299e0ca63355523103"
            }
          },
          "metadata": {}
        },
        {
          "output_type": "display_data",
          "data": {
            "text/plain": [
              "<IPython.core.display.HTML object>"
            ],
            "text/html": [
              "<style>\n",
              "    table.wandb td:nth-child(1) { padding: 0 10px; text-align: left ; width: auto;} td:nth-child(2) {text-align: left ; width: 100%}\n",
              "    .wandb-row { display: flex; flex-direction: row; flex-wrap: wrap; justify-content: flex-start; width: 100% }\n",
              "    .wandb-col { display: flex; flex-direction: column; flex-basis: 100%; flex: 1; padding: 10px; }\n",
              "    </style>\n",
              "<div class=\"wandb-row\"><div class=\"wandb-col\"><h3>Run history:</h3><br/><table class=\"wandb\"><tr><td>epoch/accuracy</td><td>▁▂▃▃▄▄▅▅▅▆▆▆▆▆▆▆▆▇▇▇▇▇▇▇█████</td></tr><tr><td>epoch/epoch</td><td>▁▁▁▂▂▂▃▃▃▃▃▄▄▄▅▅▅▅▅▆▆▆▇▇▇▇▇██</td></tr><tr><td>epoch/learning_rate</td><td>▁▁▁▁▁▁▁▁▁▁▁▁▁▁▁▁▁▁▁▁▁▁▁▁▁▁▁▁▁</td></tr><tr><td>epoch/loss</td><td>█▇▇▆▆▅▅▅▄▄▄▄▄▃▃▃▃▃▂▂▂▂▂▂▂▁▂▁▁</td></tr><tr><td>epoch/val_accuracy</td><td>▁▃▄▄▂▄▄▄▆▆▆▇▇▆▇▇▆██▇█▇█████▇█</td></tr><tr><td>epoch/val_loss</td><td>█▆▆▆▆▅▅▄▃▃▄▂▂▃▂▂▃▂▂▂▂▃▂▁▂▂▁▃▂</td></tr></table><br/></div><div class=\"wandb-col\"><h3>Run summary:</h3><br/><table class=\"wandb\"><tr><td>Test Acc</td><td>0.52144</td></tr><tr><td>epoch/accuracy</td><td>0.60964</td></tr><tr><td>epoch/epoch</td><td>28</td></tr><tr><td>epoch/learning_rate</td><td>0.001</td></tr><tr><td>epoch/loss</td><td>0.9282</td></tr><tr><td>epoch/val_accuracy</td><td>0.507</td></tr><tr><td>epoch/val_loss</td><td>1.1487</td></tr></table><br/></div></div>"
            ]
          },
          "metadata": {}
        },
        {
          "output_type": "display_data",
          "data": {
            "text/plain": [
              "<IPython.core.display.HTML object>"
            ],
            "text/html": [
              " View run <strong style=\"color:#cdcd00\">delete-4-channel</strong> at: <a href='https://wandb.ai/petern0408/EEG-ml/runs/m1l1x41g' target=\"_blank\">https://wandb.ai/petern0408/EEG-ml/runs/m1l1x41g</a><br/>Synced 5 W&B file(s), 0 media file(s), 0 artifact file(s) and 0 other file(s)"
            ]
          },
          "metadata": {}
        },
        {
          "output_type": "display_data",
          "data": {
            "text/plain": [
              "<IPython.core.display.HTML object>"
            ],
            "text/html": [
              "Find logs at: <code>./wandb/run-20240307_050725-m1l1x41g/logs</code>"
            ]
          },
          "metadata": {}
        },
        {
          "output_type": "stream",
          "name": "stdout",
          "text": [
            "SKIPPING channel 5 (0-indexed)\n"
          ]
        },
        {
          "output_type": "display_data",
          "data": {
            "text/plain": [
              "<IPython.core.display.HTML object>"
            ],
            "text/html": [
              "Tracking run with wandb version 0.16.4"
            ]
          },
          "metadata": {}
        },
        {
          "output_type": "display_data",
          "data": {
            "text/plain": [
              "<IPython.core.display.HTML object>"
            ],
            "text/html": [
              "Run data is saved locally in <code>/content/wandb/run-20240307_052101-4xm70wmc</code>"
            ]
          },
          "metadata": {}
        },
        {
          "output_type": "display_data",
          "data": {
            "text/plain": [
              "<IPython.core.display.HTML object>"
            ],
            "text/html": [
              "Syncing run <strong><a href='https://wandb.ai/petern0408/EEG-ml/runs/4xm70wmc' target=\"_blank\">delete-5-channel</a></strong> to <a href='https://wandb.ai/petern0408/EEG-ml' target=\"_blank\">Weights & Biases</a> (<a href='https://wandb.me/run' target=\"_blank\">docs</a>)<br/>"
            ]
          },
          "metadata": {}
        },
        {
          "output_type": "display_data",
          "data": {
            "text/plain": [
              "<IPython.core.display.HTML object>"
            ],
            "text/html": [
              " View project at <a href='https://wandb.ai/petern0408/EEG-ml' target=\"_blank\">https://wandb.ai/petern0408/EEG-ml</a>"
            ]
          },
          "metadata": {}
        },
        {
          "output_type": "display_data",
          "data": {
            "text/plain": [
              "<IPython.core.display.HTML object>"
            ],
            "text/html": [
              " View run at <a href='https://wandb.ai/petern0408/EEG-ml/runs/4xm70wmc' target=\"_blank\">https://wandb.ai/petern0408/EEG-ml/runs/4xm70wmc</a>"
            ]
          },
          "metadata": {}
        },
        {
          "output_type": "stream",
          "name": "stdout",
          "text": [
            "Test accuracy of the hybrid CNN-LSTM model: 0.48758465051651\n"
          ]
        },
        {
          "output_type": "display_data",
          "data": {
            "text/plain": [
              "VBox(children=(Label(value='0.011 MB of 0.011 MB uploaded\\r'), FloatProgress(value=1.0, max=1.0)))"
            ],
            "application/vnd.jupyter.widget-view+json": {
              "version_major": 2,
              "version_minor": 0,
              "model_id": "5e3ab421a46744bfbe24618d42f03dd9"
            }
          },
          "metadata": {}
        },
        {
          "output_type": "display_data",
          "data": {
            "text/plain": [
              "<IPython.core.display.HTML object>"
            ],
            "text/html": [
              "<style>\n",
              "    table.wandb td:nth-child(1) { padding: 0 10px; text-align: left ; width: auto;} td:nth-child(2) {text-align: left ; width: 100%}\n",
              "    .wandb-row { display: flex; flex-direction: row; flex-wrap: wrap; justify-content: flex-start; width: 100% }\n",
              "    .wandb-col { display: flex; flex-direction: column; flex-basis: 100%; flex: 1; padding: 10px; }\n",
              "    </style>\n",
              "<div class=\"wandb-row\"><div class=\"wandb-col\"><h3>Run history:</h3><br/><table class=\"wandb\"><tr><td>epoch/accuracy</td><td>▁▂▃▄▄▅▅▅▆▆▆▆▆▆▆▇▇▇▇▇█▇▇██████</td></tr><tr><td>epoch/epoch</td><td>▁▁▁▂▂▂▃▃▃▃▃▄▄▄▅▅▅▅▅▆▆▆▇▇▇▇▇██</td></tr><tr><td>epoch/learning_rate</td><td>▁▁▁▁▁▁▁▁▁▁▁▁▁▁▁▁▁▁▁▁▁▁▁▁▁▁▁▁▁</td></tr><tr><td>epoch/loss</td><td>██▇▆▆▅▅▄▄▄▄▄▄▃▃▃▃▃▂▂▂▂▂▂▂▂▁▁▁</td></tr><tr><td>epoch/val_accuracy</td><td>▁▄▅▅▆▆▆▆▇▇▇▇▇▇▇▇▇▇▇▇█▇█████▇█</td></tr><tr><td>epoch/val_loss</td><td>█▇▆▅▄▄▃▄▃▃▃▂▂▃▂▃▂▂▂▂▁▂▂▁▁▁▁▂▁</td></tr></table><br/></div><div class=\"wandb-col\"><h3>Run summary:</h3><br/><table class=\"wandb\"><tr><td>Test Acc</td><td>0.48758</td></tr><tr><td>epoch/accuracy</td><td>0.59484</td></tr><tr><td>epoch/epoch</td><td>28</td></tr><tr><td>epoch/learning_rate</td><td>0.001</td></tr><tr><td>epoch/loss</td><td>0.95831</td></tr><tr><td>epoch/val_accuracy</td><td>0.50575</td></tr><tr><td>epoch/val_loss</td><td>1.11891</td></tr></table><br/></div></div>"
            ]
          },
          "metadata": {}
        },
        {
          "output_type": "display_data",
          "data": {
            "text/plain": [
              "<IPython.core.display.HTML object>"
            ],
            "text/html": [
              " View run <strong style=\"color:#cdcd00\">delete-5-channel</strong> at: <a href='https://wandb.ai/petern0408/EEG-ml/runs/4xm70wmc' target=\"_blank\">https://wandb.ai/petern0408/EEG-ml/runs/4xm70wmc</a><br/>Synced 5 W&B file(s), 0 media file(s), 0 artifact file(s) and 0 other file(s)"
            ]
          },
          "metadata": {}
        },
        {
          "output_type": "display_data",
          "data": {
            "text/plain": [
              "<IPython.core.display.HTML object>"
            ],
            "text/html": [
              "Find logs at: <code>./wandb/run-20240307_052101-4xm70wmc/logs</code>"
            ]
          },
          "metadata": {}
        },
        {
          "output_type": "stream",
          "name": "stdout",
          "text": [
            "SKIPPING channel 6 (0-indexed)\n"
          ]
        },
        {
          "output_type": "display_data",
          "data": {
            "text/plain": [
              "<IPython.core.display.HTML object>"
            ],
            "text/html": [
              "Tracking run with wandb version 0.16.4"
            ]
          },
          "metadata": {}
        },
        {
          "output_type": "display_data",
          "data": {
            "text/plain": [
              "<IPython.core.display.HTML object>"
            ],
            "text/html": [
              "Run data is saved locally in <code>/content/wandb/run-20240307_053435-p4nvjip3</code>"
            ]
          },
          "metadata": {}
        },
        {
          "output_type": "display_data",
          "data": {
            "text/plain": [
              "<IPython.core.display.HTML object>"
            ],
            "text/html": [
              "Syncing run <strong><a href='https://wandb.ai/petern0408/EEG-ml/runs/p4nvjip3' target=\"_blank\">delete-6-channel</a></strong> to <a href='https://wandb.ai/petern0408/EEG-ml' target=\"_blank\">Weights & Biases</a> (<a href='https://wandb.me/run' target=\"_blank\">docs</a>)<br/>"
            ]
          },
          "metadata": {}
        },
        {
          "output_type": "display_data",
          "data": {
            "text/plain": [
              "<IPython.core.display.HTML object>"
            ],
            "text/html": [
              " View project at <a href='https://wandb.ai/petern0408/EEG-ml' target=\"_blank\">https://wandb.ai/petern0408/EEG-ml</a>"
            ]
          },
          "metadata": {}
        },
        {
          "output_type": "display_data",
          "data": {
            "text/plain": [
              "<IPython.core.display.HTML object>"
            ],
            "text/html": [
              " View run at <a href='https://wandb.ai/petern0408/EEG-ml/runs/p4nvjip3' target=\"_blank\">https://wandb.ai/petern0408/EEG-ml/runs/p4nvjip3</a>"
            ]
          },
          "metadata": {}
        },
        {
          "output_type": "stream",
          "name": "stdout",
          "text": [
            "Test accuracy of the hybrid CNN-LSTM model: 0.4898419976234436\n"
          ]
        },
        {
          "output_type": "display_data",
          "data": {
            "text/plain": [
              "VBox(children=(Label(value='0.001 MB of 0.001 MB uploaded\\r'), FloatProgress(value=1.0, max=1.0)))"
            ],
            "application/vnd.jupyter.widget-view+json": {
              "version_major": 2,
              "version_minor": 0,
              "model_id": "6cf1ab2301104e9394335d0329213bab"
            }
          },
          "metadata": {}
        },
        {
          "output_type": "display_data",
          "data": {
            "text/plain": [
              "<IPython.core.display.HTML object>"
            ],
            "text/html": [
              "<style>\n",
              "    table.wandb td:nth-child(1) { padding: 0 10px; text-align: left ; width: auto;} td:nth-child(2) {text-align: left ; width: 100%}\n",
              "    .wandb-row { display: flex; flex-direction: row; flex-wrap: wrap; justify-content: flex-start; width: 100% }\n",
              "    .wandb-col { display: flex; flex-direction: column; flex-basis: 100%; flex: 1; padding: 10px; }\n",
              "    </style>\n",
              "<div class=\"wandb-row\"><div class=\"wandb-col\"><h3>Run history:</h3><br/><table class=\"wandb\"><tr><td>epoch/accuracy</td><td>▁▂▃▃▄▄▅▅▅▅▆▆▆▆▆▆▆▆▆▆▆▇▇▇▇▇▇▇▇▇▇▇▇▇██████</td></tr><tr><td>epoch/epoch</td><td>▁▁▁▂▂▂▂▂▂▃▃▃▃▃▃▄▄▄▄▄▅▅▅▅▅▅▆▆▆▆▆▆▇▇▇▇▇▇██</td></tr><tr><td>epoch/learning_rate</td><td>▁▁▁▁▁▁▁▁▁▁▁▁▁▁▁▁▁▁▁▁▁▁▁▁▁▁▁▁▁▁▁▁▁▁▁▁▁▁▁▁</td></tr><tr><td>epoch/loss</td><td>██▇▇▆▆▆▅▅▅▅▅▅▅▄▄▄▄▄▃▃▃▃▃▃▃▂▂▂▂▂▂▂▂▂▂▁▁▁▁</td></tr><tr><td>epoch/val_accuracy</td><td>▁▂▃▄▅▄▅▆▅▅▅▅▆▄▆▆▆▆▇▅▆▇▆▆▆▇▇▇▇▆▆▇▇▇▇▇▇▇▇█</td></tr><tr><td>epoch/val_loss</td><td>█▇▇▆▅▄▄▃▄▃▃▃▃▄▃▂▂▂▂▃▂▂▂▂▂▂▂▂▂▃▂▁▂▂▂▁▁▂▃▂</td></tr></table><br/></div><div class=\"wandb-col\"><h3>Run summary:</h3><br/><table class=\"wandb\"><tr><td>Test Acc</td><td>0.48984</td></tr><tr><td>epoch/accuracy</td><td>0.60762</td></tr><tr><td>epoch/epoch</td><td>40</td></tr><tr><td>epoch/learning_rate</td><td>0.001</td></tr><tr><td>epoch/loss</td><td>0.8889</td></tr><tr><td>epoch/val_accuracy</td><td>0.48125</td></tr><tr><td>epoch/val_loss</td><td>1.1935</td></tr></table><br/></div></div>"
            ]
          },
          "metadata": {}
        },
        {
          "output_type": "display_data",
          "data": {
            "text/plain": [
              "<IPython.core.display.HTML object>"
            ],
            "text/html": [
              " View run <strong style=\"color:#cdcd00\">delete-6-channel</strong> at: <a href='https://wandb.ai/petern0408/EEG-ml/runs/p4nvjip3' target=\"_blank\">https://wandb.ai/petern0408/EEG-ml/runs/p4nvjip3</a><br/>Synced 5 W&B file(s), 0 media file(s), 0 artifact file(s) and 0 other file(s)"
            ]
          },
          "metadata": {}
        },
        {
          "output_type": "display_data",
          "data": {
            "text/plain": [
              "<IPython.core.display.HTML object>"
            ],
            "text/html": [
              "Find logs at: <code>./wandb/run-20240307_053435-p4nvjip3/logs</code>"
            ]
          },
          "metadata": {}
        },
        {
          "output_type": "stream",
          "name": "stdout",
          "text": [
            "SKIPPING channel 7 (0-indexed)\n"
          ]
        },
        {
          "output_type": "display_data",
          "data": {
            "text/plain": [
              "<IPython.core.display.HTML object>"
            ],
            "text/html": [
              "Tracking run with wandb version 0.16.4"
            ]
          },
          "metadata": {}
        },
        {
          "output_type": "display_data",
          "data": {
            "text/plain": [
              "<IPython.core.display.HTML object>"
            ],
            "text/html": [
              "Run data is saved locally in <code>/content/wandb/run-20240307_055224-p7pmjtpc</code>"
            ]
          },
          "metadata": {}
        },
        {
          "output_type": "display_data",
          "data": {
            "text/plain": [
              "<IPython.core.display.HTML object>"
            ],
            "text/html": [
              "Syncing run <strong><a href='https://wandb.ai/petern0408/EEG-ml/runs/p7pmjtpc' target=\"_blank\">delete-7-channel</a></strong> to <a href='https://wandb.ai/petern0408/EEG-ml' target=\"_blank\">Weights & Biases</a> (<a href='https://wandb.me/run' target=\"_blank\">docs</a>)<br/>"
            ]
          },
          "metadata": {}
        },
        {
          "output_type": "display_data",
          "data": {
            "text/plain": [
              "<IPython.core.display.HTML object>"
            ],
            "text/html": [
              " View project at <a href='https://wandb.ai/petern0408/EEG-ml' target=\"_blank\">https://wandb.ai/petern0408/EEG-ml</a>"
            ]
          },
          "metadata": {}
        },
        {
          "output_type": "display_data",
          "data": {
            "text/plain": [
              "<IPython.core.display.HTML object>"
            ],
            "text/html": [
              " View run at <a href='https://wandb.ai/petern0408/EEG-ml/runs/p7pmjtpc' target=\"_blank\">https://wandb.ai/petern0408/EEG-ml/runs/p7pmjtpc</a>"
            ]
          },
          "metadata": {}
        },
        {
          "output_type": "stream",
          "name": "stdout",
          "text": [
            "Test accuracy of the hybrid CNN-LSTM model: 0.46726861596107483\n"
          ]
        },
        {
          "output_type": "display_data",
          "data": {
            "text/plain": [
              "VBox(children=(Label(value='0.001 MB of 0.001 MB uploaded\\r'), FloatProgress(value=1.0, max=1.0)))"
            ],
            "application/vnd.jupyter.widget-view+json": {
              "version_major": 2,
              "version_minor": 0,
              "model_id": "49b5d5f391384dd1b5aee9464b577e69"
            }
          },
          "metadata": {}
        },
        {
          "output_type": "display_data",
          "data": {
            "text/plain": [
              "<IPython.core.display.HTML object>"
            ],
            "text/html": [
              "<style>\n",
              "    table.wandb td:nth-child(1) { padding: 0 10px; text-align: left ; width: auto;} td:nth-child(2) {text-align: left ; width: 100%}\n",
              "    .wandb-row { display: flex; flex-direction: row; flex-wrap: wrap; justify-content: flex-start; width: 100% }\n",
              "    .wandb-col { display: flex; flex-direction: column; flex-basis: 100%; flex: 1; padding: 10px; }\n",
              "    </style>\n",
              "<div class=\"wandb-row\"><div class=\"wandb-col\"><h3>Run history:</h3><br/><table class=\"wandb\"><tr><td>epoch/accuracy</td><td>▁▂▂▄▅▅▆▆▆▆▆▆▇▇▇▇▇▇███</td></tr><tr><td>epoch/epoch</td><td>▁▁▂▂▂▃▃▃▄▄▅▅▅▆▆▆▇▇▇██</td></tr><tr><td>epoch/learning_rate</td><td>▁▁▁▁▁▁▁▁▁▁▁▁▁▁▁▁▁▁▁▁▁</td></tr><tr><td>epoch/loss</td><td>██▇▆▆▅▄▄▄▃▃▃▃▃▂▂▂▂▁▁▁</td></tr><tr><td>epoch/val_accuracy</td><td>▁▁▂▃▅▆▆▆▆▇▆▇▆▆▆██▇▇█▇</td></tr><tr><td>epoch/val_loss</td><td>█▇▆▆▄▃▃▃▃▃▃▂▃▄▂▁▁▂▂▁▁</td></tr></table><br/></div><div class=\"wandb-col\"><h3>Run summary:</h3><br/><table class=\"wandb\"><tr><td>Test Acc</td><td>0.46727</td></tr><tr><td>epoch/accuracy</td><td>0.56951</td></tr><tr><td>epoch/epoch</td><td>20</td></tr><tr><td>epoch/learning_rate</td><td>0.001</td></tr><tr><td>epoch/loss</td><td>1.01528</td></tr><tr><td>epoch/val_accuracy</td><td>0.459</td></tr><tr><td>epoch/val_loss</td><td>1.18662</td></tr></table><br/></div></div>"
            ]
          },
          "metadata": {}
        },
        {
          "output_type": "display_data",
          "data": {
            "text/plain": [
              "<IPython.core.display.HTML object>"
            ],
            "text/html": [
              " View run <strong style=\"color:#cdcd00\">delete-7-channel</strong> at: <a href='https://wandb.ai/petern0408/EEG-ml/runs/p7pmjtpc' target=\"_blank\">https://wandb.ai/petern0408/EEG-ml/runs/p7pmjtpc</a><br/>Synced 5 W&B file(s), 0 media file(s), 0 artifact file(s) and 0 other file(s)"
            ]
          },
          "metadata": {}
        },
        {
          "output_type": "display_data",
          "data": {
            "text/plain": [
              "<IPython.core.display.HTML object>"
            ],
            "text/html": [
              "Find logs at: <code>./wandb/run-20240307_055224-p7pmjtpc/logs</code>"
            ]
          },
          "metadata": {}
        },
        {
          "output_type": "stream",
          "name": "stdout",
          "text": [
            "SKIPPING channel 8 (0-indexed)\n"
          ]
        },
        {
          "output_type": "display_data",
          "data": {
            "text/plain": [
              "<IPython.core.display.HTML object>"
            ],
            "text/html": [
              "Tracking run with wandb version 0.16.4"
            ]
          },
          "metadata": {}
        },
        {
          "output_type": "display_data",
          "data": {
            "text/plain": [
              "<IPython.core.display.HTML object>"
            ],
            "text/html": [
              "Run data is saved locally in <code>/content/wandb/run-20240307_060200-t0yl68yk</code>"
            ]
          },
          "metadata": {}
        },
        {
          "output_type": "display_data",
          "data": {
            "text/plain": [
              "<IPython.core.display.HTML object>"
            ],
            "text/html": [
              "Syncing run <strong><a href='https://wandb.ai/petern0408/EEG-ml/runs/t0yl68yk' target=\"_blank\">delete-8-channel</a></strong> to <a href='https://wandb.ai/petern0408/EEG-ml' target=\"_blank\">Weights & Biases</a> (<a href='https://wandb.me/run' target=\"_blank\">docs</a>)<br/>"
            ]
          },
          "metadata": {}
        },
        {
          "output_type": "display_data",
          "data": {
            "text/plain": [
              "<IPython.core.display.HTML object>"
            ],
            "text/html": [
              " View project at <a href='https://wandb.ai/petern0408/EEG-ml' target=\"_blank\">https://wandb.ai/petern0408/EEG-ml</a>"
            ]
          },
          "metadata": {}
        },
        {
          "output_type": "display_data",
          "data": {
            "text/plain": [
              "<IPython.core.display.HTML object>"
            ],
            "text/html": [
              " View run at <a href='https://wandb.ai/petern0408/EEG-ml/runs/t0yl68yk' target=\"_blank\">https://wandb.ai/petern0408/EEG-ml/runs/t0yl68yk</a>"
            ]
          },
          "metadata": {}
        },
        {
          "output_type": "stream",
          "name": "stdout",
          "text": [
            "Test accuracy of the hybrid CNN-LSTM model: 0.43792325258255005\n"
          ]
        },
        {
          "output_type": "display_data",
          "data": {
            "text/plain": [
              "VBox(children=(Label(value='0.001 MB of 0.001 MB uploaded\\r'), FloatProgress(value=1.0, max=1.0)))"
            ],
            "application/vnd.jupyter.widget-view+json": {
              "version_major": 2,
              "version_minor": 0,
              "model_id": "8aa213dff5ae4df3ba1e2cc84f949a4d"
            }
          },
          "metadata": {}
        },
        {
          "output_type": "display_data",
          "data": {
            "text/plain": [
              "<IPython.core.display.HTML object>"
            ],
            "text/html": [
              "<style>\n",
              "    table.wandb td:nth-child(1) { padding: 0 10px; text-align: left ; width: auto;} td:nth-child(2) {text-align: left ; width: 100%}\n",
              "    .wandb-row { display: flex; flex-direction: row; flex-wrap: wrap; justify-content: flex-start; width: 100% }\n",
              "    .wandb-col { display: flex; flex-direction: column; flex-basis: 100%; flex: 1; padding: 10px; }\n",
              "    </style>\n",
              "<div class=\"wandb-row\"><div class=\"wandb-col\"><h3>Run history:</h3><br/><table class=\"wandb\"><tr><td>epoch/accuracy</td><td>▁▃▄▅▆▆▆▇▇▇▇▇██</td></tr><tr><td>epoch/epoch</td><td>▁▂▂▃▃▄▄▅▅▆▆▇▇█</td></tr><tr><td>epoch/learning_rate</td><td>▁▁▁▁▁▁▁▁▁▁▁▁▁▁</td></tr><tr><td>epoch/loss</td><td>█▇▆▅▅▄▄▃▃▂▂▂▁▁</td></tr><tr><td>epoch/val_accuracy</td><td>▁▃▆▆▆▇▇▇█▇▆▇▇▇</td></tr><tr><td>epoch/val_loss</td><td>█▅▄▄▄▂▂▂▁▁▃▁▂▁</td></tr></table><br/></div><div class=\"wandb-col\"><h3>Run summary:</h3><br/><table class=\"wandb\"><tr><td>Test Acc</td><td>0.43792</td></tr><tr><td>epoch/accuracy</td><td>0.50987</td></tr><tr><td>epoch/epoch</td><td>13</td></tr><tr><td>epoch/learning_rate</td><td>0.001</td></tr><tr><td>epoch/loss</td><td>1.10839</td></tr><tr><td>epoch/val_accuracy</td><td>0.41675</td></tr><tr><td>epoch/val_loss</td><td>1.20771</td></tr></table><br/></div></div>"
            ]
          },
          "metadata": {}
        },
        {
          "output_type": "display_data",
          "data": {
            "text/plain": [
              "<IPython.core.display.HTML object>"
            ],
            "text/html": [
              " View run <strong style=\"color:#cdcd00\">delete-8-channel</strong> at: <a href='https://wandb.ai/petern0408/EEG-ml/runs/t0yl68yk' target=\"_blank\">https://wandb.ai/petern0408/EEG-ml/runs/t0yl68yk</a><br/>Synced 5 W&B file(s), 0 media file(s), 0 artifact file(s) and 0 other file(s)"
            ]
          },
          "metadata": {}
        },
        {
          "output_type": "display_data",
          "data": {
            "text/plain": [
              "<IPython.core.display.HTML object>"
            ],
            "text/html": [
              "Find logs at: <code>./wandb/run-20240307_060200-t0yl68yk/logs</code>"
            ]
          },
          "metadata": {}
        },
        {
          "output_type": "stream",
          "name": "stdout",
          "text": [
            "SKIPPING channel 9 (0-indexed)\n"
          ]
        },
        {
          "output_type": "display_data",
          "data": {
            "text/plain": [
              "<IPython.core.display.HTML object>"
            ],
            "text/html": [
              "Tracking run with wandb version 0.16.4"
            ]
          },
          "metadata": {}
        },
        {
          "output_type": "display_data",
          "data": {
            "text/plain": [
              "<IPython.core.display.HTML object>"
            ],
            "text/html": [
              "Run data is saved locally in <code>/content/wandb/run-20240307_060836-b9uyxhxv</code>"
            ]
          },
          "metadata": {}
        },
        {
          "output_type": "display_data",
          "data": {
            "text/plain": [
              "<IPython.core.display.HTML object>"
            ],
            "text/html": [
              "Syncing run <strong><a href='https://wandb.ai/petern0408/EEG-ml/runs/b9uyxhxv' target=\"_blank\">delete-9-channel</a></strong> to <a href='https://wandb.ai/petern0408/EEG-ml' target=\"_blank\">Weights & Biases</a> (<a href='https://wandb.me/run' target=\"_blank\">docs</a>)<br/>"
            ]
          },
          "metadata": {}
        },
        {
          "output_type": "display_data",
          "data": {
            "text/plain": [
              "<IPython.core.display.HTML object>"
            ],
            "text/html": [
              " View project at <a href='https://wandb.ai/petern0408/EEG-ml' target=\"_blank\">https://wandb.ai/petern0408/EEG-ml</a>"
            ]
          },
          "metadata": {}
        },
        {
          "output_type": "display_data",
          "data": {
            "text/plain": [
              "<IPython.core.display.HTML object>"
            ],
            "text/html": [
              " View run at <a href='https://wandb.ai/petern0408/EEG-ml/runs/b9uyxhxv' target=\"_blank\">https://wandb.ai/petern0408/EEG-ml/runs/b9uyxhxv</a>"
            ]
          },
          "metadata": {}
        },
        {
          "output_type": "stream",
          "name": "stdout",
          "text": [
            "Test accuracy of the hybrid CNN-LSTM model: 0.4830699861049652\n"
          ]
        },
        {
          "output_type": "display_data",
          "data": {
            "text/plain": [
              "VBox(children=(Label(value='0.001 MB of 0.001 MB uploaded\\r'), FloatProgress(value=1.0, max=1.0)))"
            ],
            "application/vnd.jupyter.widget-view+json": {
              "version_major": 2,
              "version_minor": 0,
              "model_id": "adcfc6afe3a544d8809c1de91242effe"
            }
          },
          "metadata": {}
        },
        {
          "output_type": "display_data",
          "data": {
            "text/plain": [
              "<IPython.core.display.HTML object>"
            ],
            "text/html": [
              "<style>\n",
              "    table.wandb td:nth-child(1) { padding: 0 10px; text-align: left ; width: auto;} td:nth-child(2) {text-align: left ; width: 100%}\n",
              "    .wandb-row { display: flex; flex-direction: row; flex-wrap: wrap; justify-content: flex-start; width: 100% }\n",
              "    .wandb-col { display: flex; flex-direction: column; flex-basis: 100%; flex: 1; padding: 10px; }\n",
              "    </style>\n",
              "<div class=\"wandb-row\"><div class=\"wandb-col\"><h3>Run history:</h3><br/><table class=\"wandb\"><tr><td>epoch/accuracy</td><td>▁▂▃▄▄▅▆▆▆▆▇▇▇▇▇▇▇▇███</td></tr><tr><td>epoch/epoch</td><td>▁▁▂▂▂▃▃▃▄▄▅▅▅▆▆▆▇▇▇██</td></tr><tr><td>epoch/learning_rate</td><td>▁▁▁▁▁▁▁▁▁▁▁▁▁▁▁▁▁▁▁▁▁</td></tr><tr><td>epoch/loss</td><td>██▇▆▆▅▄▄▄▃▃▃▃▂▂▂▂▂▁▁▁</td></tr><tr><td>epoch/val_accuracy</td><td>▁▃▅▅▆▆▇▇██▇█▇████████</td></tr><tr><td>epoch/val_loss</td><td>██▇▅▅▄▃▃▃▂▃▂▂▁▂▁▁▁▂▂▁</td></tr></table><br/></div><div class=\"wandb-col\"><h3>Run summary:</h3><br/><table class=\"wandb\"><tr><td>Test Acc</td><td>0.48307</td></tr><tr><td>epoch/accuracy</td><td>0.54126</td></tr><tr><td>epoch/epoch</td><td>20</td></tr><tr><td>epoch/learning_rate</td><td>0.001</td></tr><tr><td>epoch/loss</td><td>1.05526</td></tr><tr><td>epoch/val_accuracy</td><td>0.4605</td></tr><tr><td>epoch/val_loss</td><td>1.17001</td></tr></table><br/></div></div>"
            ]
          },
          "metadata": {}
        },
        {
          "output_type": "display_data",
          "data": {
            "text/plain": [
              "<IPython.core.display.HTML object>"
            ],
            "text/html": [
              " View run <strong style=\"color:#cdcd00\">delete-9-channel</strong> at: <a href='https://wandb.ai/petern0408/EEG-ml/runs/b9uyxhxv' target=\"_blank\">https://wandb.ai/petern0408/EEG-ml/runs/b9uyxhxv</a><br/>Synced 5 W&B file(s), 0 media file(s), 0 artifact file(s) and 0 other file(s)"
            ]
          },
          "metadata": {}
        },
        {
          "output_type": "display_data",
          "data": {
            "text/plain": [
              "<IPython.core.display.HTML object>"
            ],
            "text/html": [
              "Find logs at: <code>./wandb/run-20240307_060836-b9uyxhxv/logs</code>"
            ]
          },
          "metadata": {}
        },
        {
          "output_type": "stream",
          "name": "stdout",
          "text": [
            "SKIPPING channel 10 (0-indexed)\n"
          ]
        },
        {
          "output_type": "display_data",
          "data": {
            "text/plain": [
              "<IPython.core.display.HTML object>"
            ],
            "text/html": [
              "Tracking run with wandb version 0.16.4"
            ]
          },
          "metadata": {}
        },
        {
          "output_type": "display_data",
          "data": {
            "text/plain": [
              "<IPython.core.display.HTML object>"
            ],
            "text/html": [
              "Run data is saved locally in <code>/content/wandb/run-20240307_061814-0n2r7v3b</code>"
            ]
          },
          "metadata": {}
        },
        {
          "output_type": "display_data",
          "data": {
            "text/plain": [
              "<IPython.core.display.HTML object>"
            ],
            "text/html": [
              "Syncing run <strong><a href='https://wandb.ai/petern0408/EEG-ml/runs/0n2r7v3b' target=\"_blank\">delete-10-channel</a></strong> to <a href='https://wandb.ai/petern0408/EEG-ml' target=\"_blank\">Weights & Biases</a> (<a href='https://wandb.me/run' target=\"_blank\">docs</a>)<br/>"
            ]
          },
          "metadata": {}
        },
        {
          "output_type": "display_data",
          "data": {
            "text/plain": [
              "<IPython.core.display.HTML object>"
            ],
            "text/html": [
              " View project at <a href='https://wandb.ai/petern0408/EEG-ml' target=\"_blank\">https://wandb.ai/petern0408/EEG-ml</a>"
            ]
          },
          "metadata": {}
        },
        {
          "output_type": "display_data",
          "data": {
            "text/plain": [
              "<IPython.core.display.HTML object>"
            ],
            "text/html": [
              " View run at <a href='https://wandb.ai/petern0408/EEG-ml/runs/0n2r7v3b' target=\"_blank\">https://wandb.ai/petern0408/EEG-ml/runs/0n2r7v3b</a>"
            ]
          },
          "metadata": {}
        },
        {
          "output_type": "stream",
          "name": "stdout",
          "text": [
            "Test accuracy of the hybrid CNN-LSTM model: 0.43792325258255005\n"
          ]
        },
        {
          "output_type": "display_data",
          "data": {
            "text/plain": [
              "VBox(children=(Label(value='0.001 MB of 0.001 MB uploaded\\r'), FloatProgress(value=1.0, max=1.0)))"
            ],
            "application/vnd.jupyter.widget-view+json": {
              "version_major": 2,
              "version_minor": 0,
              "model_id": "9fc99f51c3394159aed21ec136840304"
            }
          },
          "metadata": {}
        },
        {
          "output_type": "display_data",
          "data": {
            "text/plain": [
              "<IPython.core.display.HTML object>"
            ],
            "text/html": [
              "<style>\n",
              "    table.wandb td:nth-child(1) { padding: 0 10px; text-align: left ; width: auto;} td:nth-child(2) {text-align: left ; width: 100%}\n",
              "    .wandb-row { display: flex; flex-direction: row; flex-wrap: wrap; justify-content: flex-start; width: 100% }\n",
              "    .wandb-col { display: flex; flex-direction: column; flex-basis: 100%; flex: 1; padding: 10px; }\n",
              "    </style>\n",
              "<div class=\"wandb-row\"><div class=\"wandb-col\"><h3>Run history:</h3><br/><table class=\"wandb\"><tr><td>epoch/accuracy</td><td>▁▃▄▅▆▆▆▇▇▇▇█▇███</td></tr><tr><td>epoch/epoch</td><td>▁▁▂▂▃▃▄▄▅▅▆▆▇▇██</td></tr><tr><td>epoch/learning_rate</td><td>▁▁▁▁▁▁▁▁▁▁▁▁▁▁▁▁</td></tr><tr><td>epoch/loss</td><td>█▇▆▅▅▄▄▃▃▃▂▂▂▂▁▁</td></tr><tr><td>epoch/val_accuracy</td><td>▁▆▆▆▇█▇▇▇▇▇▇▇▇▇▇</td></tr><tr><td>epoch/val_loss</td><td>█▆▄▄▂▁▃▁▂▂▁▂▂▂▂▁</td></tr></table><br/></div><div class=\"wandb-col\"><h3>Run summary:</h3><br/><table class=\"wandb\"><tr><td>Test Acc</td><td>0.43792</td></tr><tr><td>epoch/accuracy</td><td>0.53206</td></tr><tr><td>epoch/epoch</td><td>15</td></tr><tr><td>epoch/learning_rate</td><td>0.001</td></tr><tr><td>epoch/loss</td><td>1.06454</td></tr><tr><td>epoch/val_accuracy</td><td>0.4335</td></tr><tr><td>epoch/val_loss</td><td>1.21767</td></tr></table><br/></div></div>"
            ]
          },
          "metadata": {}
        },
        {
          "output_type": "display_data",
          "data": {
            "text/plain": [
              "<IPython.core.display.HTML object>"
            ],
            "text/html": [
              " View run <strong style=\"color:#cdcd00\">delete-10-channel</strong> at: <a href='https://wandb.ai/petern0408/EEG-ml/runs/0n2r7v3b' target=\"_blank\">https://wandb.ai/petern0408/EEG-ml/runs/0n2r7v3b</a><br/>Synced 5 W&B file(s), 0 media file(s), 0 artifact file(s) and 0 other file(s)"
            ]
          },
          "metadata": {}
        },
        {
          "output_type": "display_data",
          "data": {
            "text/plain": [
              "<IPython.core.display.HTML object>"
            ],
            "text/html": [
              "Find logs at: <code>./wandb/run-20240307_061814-0n2r7v3b/logs</code>"
            ]
          },
          "metadata": {}
        },
        {
          "output_type": "stream",
          "name": "stdout",
          "text": [
            "SKIPPING channel 11 (0-indexed)\n"
          ]
        },
        {
          "output_type": "display_data",
          "data": {
            "text/plain": [
              "VBox(children=(Label(value='Waiting for wandb.init()...\\r'), FloatProgress(value=0.011112970855578573, max=1.0…"
            ],
            "application/vnd.jupyter.widget-view+json": {
              "version_major": 2,
              "version_minor": 0,
              "model_id": "e2b06433853a4b1bb9667e277061e848"
            }
          },
          "metadata": {}
        },
        {
          "output_type": "display_data",
          "data": {
            "text/plain": [
              "<IPython.core.display.HTML object>"
            ],
            "text/html": [
              "Tracking run with wandb version 0.16.4"
            ]
          },
          "metadata": {}
        },
        {
          "output_type": "display_data",
          "data": {
            "text/plain": [
              "<IPython.core.display.HTML object>"
            ],
            "text/html": [
              "Run data is saved locally in <code>/content/wandb/run-20240307_062521-tzj3ikuj</code>"
            ]
          },
          "metadata": {}
        },
        {
          "output_type": "display_data",
          "data": {
            "text/plain": [
              "<IPython.core.display.HTML object>"
            ],
            "text/html": [
              "Syncing run <strong><a href='https://wandb.ai/petern0408/EEG-ml/runs/tzj3ikuj' target=\"_blank\">delete-11-channel</a></strong> to <a href='https://wandb.ai/petern0408/EEG-ml' target=\"_blank\">Weights & Biases</a> (<a href='https://wandb.me/run' target=\"_blank\">docs</a>)<br/>"
            ]
          },
          "metadata": {}
        },
        {
          "output_type": "display_data",
          "data": {
            "text/plain": [
              "<IPython.core.display.HTML object>"
            ],
            "text/html": [
              " View project at <a href='https://wandb.ai/petern0408/EEG-ml' target=\"_blank\">https://wandb.ai/petern0408/EEG-ml</a>"
            ]
          },
          "metadata": {}
        },
        {
          "output_type": "display_data",
          "data": {
            "text/plain": [
              "<IPython.core.display.HTML object>"
            ],
            "text/html": [
              " View run at <a href='https://wandb.ai/petern0408/EEG-ml/runs/tzj3ikuj' target=\"_blank\">https://wandb.ai/petern0408/EEG-ml/runs/tzj3ikuj</a>"
            ]
          },
          "metadata": {}
        },
        {
          "output_type": "stream",
          "name": "stdout",
          "text": [
            "Test accuracy of the hybrid CNN-LSTM model: 0.4762979745864868\n"
          ]
        },
        {
          "output_type": "display_data",
          "data": {
            "text/plain": [
              "VBox(children=(Label(value='0.001 MB of 0.001 MB uploaded\\r'), FloatProgress(value=1.0, max=1.0)))"
            ],
            "application/vnd.jupyter.widget-view+json": {
              "version_major": 2,
              "version_minor": 0,
              "model_id": "0f9c95e4512a4937bcbb325e095002e8"
            }
          },
          "metadata": {}
        },
        {
          "output_type": "display_data",
          "data": {
            "text/plain": [
              "<IPython.core.display.HTML object>"
            ],
            "text/html": [
              "<style>\n",
              "    table.wandb td:nth-child(1) { padding: 0 10px; text-align: left ; width: auto;} td:nth-child(2) {text-align: left ; width: 100%}\n",
              "    .wandb-row { display: flex; flex-direction: row; flex-wrap: wrap; justify-content: flex-start; width: 100% }\n",
              "    .wandb-col { display: flex; flex-direction: column; flex-basis: 100%; flex: 1; padding: 10px; }\n",
              "    </style>\n",
              "<div class=\"wandb-row\"><div class=\"wandb-col\"><h3>Run history:</h3><br/><table class=\"wandb\"><tr><td>epoch/accuracy</td><td>▁▂▃▄▄▅▅▆▆▆▆▇▇▇▇▇▇███</td></tr><tr><td>epoch/epoch</td><td>▁▁▂▂▂▃▃▄▄▄▅▅▅▆▆▇▇▇██</td></tr><tr><td>epoch/learning_rate</td><td>▁▁▁▁▁▁▁▁▁▁▁▁▁▁▁▁▁▁▁▁</td></tr><tr><td>epoch/loss</td><td>█▇▇▆▆▅▅▄▄▄▃▃▃▃▂▂▂▂▁▁</td></tr><tr><td>epoch/val_accuracy</td><td>▁▃▄▆▆▇▇▅▆▇█▅▇█▇▇▇▇█▇</td></tr><tr><td>epoch/val_loss</td><td>█▇▅▄▄▃▂▃▃▃▂▄▁▁▁▁▁▃▂▁</td></tr></table><br/></div><div class=\"wandb-col\"><h3>Run summary:</h3><br/><table class=\"wandb\"><tr><td>Test Acc</td><td>0.4763</td></tr><tr><td>epoch/accuracy</td><td>0.54238</td></tr><tr><td>epoch/epoch</td><td>19</td></tr><tr><td>epoch/learning_rate</td><td>0.001</td></tr><tr><td>epoch/loss</td><td>1.04528</td></tr><tr><td>epoch/val_accuracy</td><td>0.4605</td></tr><tr><td>epoch/val_loss</td><td>1.17223</td></tr></table><br/></div></div>"
            ]
          },
          "metadata": {}
        },
        {
          "output_type": "display_data",
          "data": {
            "text/plain": [
              "<IPython.core.display.HTML object>"
            ],
            "text/html": [
              " View run <strong style=\"color:#cdcd00\">delete-11-channel</strong> at: <a href='https://wandb.ai/petern0408/EEG-ml/runs/tzj3ikuj' target=\"_blank\">https://wandb.ai/petern0408/EEG-ml/runs/tzj3ikuj</a><br/>Synced 5 W&B file(s), 0 media file(s), 0 artifact file(s) and 0 other file(s)"
            ]
          },
          "metadata": {}
        },
        {
          "output_type": "display_data",
          "data": {
            "text/plain": [
              "<IPython.core.display.HTML object>"
            ],
            "text/html": [
              "Find logs at: <code>./wandb/run-20240307_062521-tzj3ikuj/logs</code>"
            ]
          },
          "metadata": {}
        },
        {
          "output_type": "stream",
          "name": "stdout",
          "text": [
            "SKIPPING channel 12 (0-indexed)\n"
          ]
        },
        {
          "output_type": "display_data",
          "data": {
            "text/plain": [
              "<IPython.core.display.HTML object>"
            ],
            "text/html": [
              "Tracking run with wandb version 0.16.4"
            ]
          },
          "metadata": {}
        },
        {
          "output_type": "display_data",
          "data": {
            "text/plain": [
              "<IPython.core.display.HTML object>"
            ],
            "text/html": [
              "Run data is saved locally in <code>/content/wandb/run-20240307_063500-msi9nwl5</code>"
            ]
          },
          "metadata": {}
        },
        {
          "output_type": "display_data",
          "data": {
            "text/plain": [
              "<IPython.core.display.HTML object>"
            ],
            "text/html": [
              "Syncing run <strong><a href='https://wandb.ai/petern0408/EEG-ml/runs/msi9nwl5' target=\"_blank\">delete-12-channel</a></strong> to <a href='https://wandb.ai/petern0408/EEG-ml' target=\"_blank\">Weights & Biases</a> (<a href='https://wandb.me/run' target=\"_blank\">docs</a>)<br/>"
            ]
          },
          "metadata": {}
        },
        {
          "output_type": "display_data",
          "data": {
            "text/plain": [
              "<IPython.core.display.HTML object>"
            ],
            "text/html": [
              " View project at <a href='https://wandb.ai/petern0408/EEG-ml' target=\"_blank\">https://wandb.ai/petern0408/EEG-ml</a>"
            ]
          },
          "metadata": {}
        },
        {
          "output_type": "display_data",
          "data": {
            "text/plain": [
              "<IPython.core.display.HTML object>"
            ],
            "text/html": [
              " View run at <a href='https://wandb.ai/petern0408/EEG-ml/runs/msi9nwl5' target=\"_blank\">https://wandb.ai/petern0408/EEG-ml/runs/msi9nwl5</a>"
            ]
          },
          "metadata": {}
        },
        {
          "output_type": "stream",
          "name": "stdout",
          "text": [
            "Test accuracy of the hybrid CNN-LSTM model: 0.4853273034095764\n"
          ]
        },
        {
          "output_type": "display_data",
          "data": {
            "text/plain": [
              "VBox(children=(Label(value='0.011 MB of 0.011 MB uploaded\\r'), FloatProgress(value=1.0, max=1.0)))"
            ],
            "application/vnd.jupyter.widget-view+json": {
              "version_major": 2,
              "version_minor": 0,
              "model_id": "c9ed5fbea5b4446284fe0c23f5b09419"
            }
          },
          "metadata": {}
        },
        {
          "output_type": "display_data",
          "data": {
            "text/plain": [
              "<IPython.core.display.HTML object>"
            ],
            "text/html": [
              "<style>\n",
              "    table.wandb td:nth-child(1) { padding: 0 10px; text-align: left ; width: auto;} td:nth-child(2) {text-align: left ; width: 100%}\n",
              "    .wandb-row { display: flex; flex-direction: row; flex-wrap: wrap; justify-content: flex-start; width: 100% }\n",
              "    .wandb-col { display: flex; flex-direction: column; flex-basis: 100%; flex: 1; padding: 10px; }\n",
              "    </style>\n",
              "<div class=\"wandb-row\"><div class=\"wandb-col\"><h3>Run history:</h3><br/><table class=\"wandb\"><tr><td>epoch/accuracy</td><td>▁▂▃▄▅▅▅▅▅▆▆▆▆▆▇▇▇▇▇▇▇▇▇▇▇███</td></tr><tr><td>epoch/epoch</td><td>▁▁▂▂▂▂▃▃▃▃▄▄▄▄▅▅▅▅▆▆▆▆▇▇▇▇██</td></tr><tr><td>epoch/learning_rate</td><td>▁▁▁▁▁▁▁▁▁▁▁▁▁▁▁▁▁▁▁▁▁▁▁▁▁▁▁▁</td></tr><tr><td>epoch/loss</td><td>██▇▆▆▅▅▅▅▄▄▄▄▃▃▃▃▃▂▂▂▂▂▂▂▁▁▁</td></tr><tr><td>epoch/val_accuracy</td><td>▁▃▄▅▅▆▆▆▆▆▅▆▆▆▇▆▆▆▇▆█▇█▆█▇██</td></tr><tr><td>epoch/val_loss</td><td>█▇▆▄▄▄▃▃▃▃▃▃▃▃▃▂▃▃▃▃▁▂▁▃▁▂▁▂</td></tr></table><br/></div><div class=\"wandb-col\"><h3>Run summary:</h3><br/><table class=\"wandb\"><tr><td>Test Acc</td><td>0.48533</td></tr><tr><td>epoch/accuracy</td><td>0.58722</td></tr><tr><td>epoch/epoch</td><td>27</td></tr><tr><td>epoch/learning_rate</td><td>0.001</td></tr><tr><td>epoch/loss</td><td>0.96467</td></tr><tr><td>epoch/val_accuracy</td><td>0.48325</td></tr><tr><td>epoch/val_loss</td><td>1.17348</td></tr></table><br/></div></div>"
            ]
          },
          "metadata": {}
        },
        {
          "output_type": "display_data",
          "data": {
            "text/plain": [
              "<IPython.core.display.HTML object>"
            ],
            "text/html": [
              " View run <strong style=\"color:#cdcd00\">delete-12-channel</strong> at: <a href='https://wandb.ai/petern0408/EEG-ml/runs/msi9nwl5' target=\"_blank\">https://wandb.ai/petern0408/EEG-ml/runs/msi9nwl5</a><br/>Synced 5 W&B file(s), 0 media file(s), 0 artifact file(s) and 0 other file(s)"
            ]
          },
          "metadata": {}
        },
        {
          "output_type": "display_data",
          "data": {
            "text/plain": [
              "<IPython.core.display.HTML object>"
            ],
            "text/html": [
              "Find logs at: <code>./wandb/run-20240307_063500-msi9nwl5/logs</code>"
            ]
          },
          "metadata": {}
        },
        {
          "output_type": "stream",
          "name": "stdout",
          "text": [
            "SKIPPING channel 13 (0-indexed)\n"
          ]
        },
        {
          "output_type": "display_data",
          "data": {
            "text/plain": [
              "<IPython.core.display.HTML object>"
            ],
            "text/html": [
              "Tracking run with wandb version 0.16.4"
            ]
          },
          "metadata": {}
        },
        {
          "output_type": "display_data",
          "data": {
            "text/plain": [
              "<IPython.core.display.HTML object>"
            ],
            "text/html": [
              "Run data is saved locally in <code>/content/wandb/run-20240307_064834-tnagmwy3</code>"
            ]
          },
          "metadata": {}
        },
        {
          "output_type": "display_data",
          "data": {
            "text/plain": [
              "<IPython.core.display.HTML object>"
            ],
            "text/html": [
              "Syncing run <strong><a href='https://wandb.ai/petern0408/EEG-ml/runs/tnagmwy3' target=\"_blank\">delete-13-channel</a></strong> to <a href='https://wandb.ai/petern0408/EEG-ml' target=\"_blank\">Weights & Biases</a> (<a href='https://wandb.me/run' target=\"_blank\">docs</a>)<br/>"
            ]
          },
          "metadata": {}
        },
        {
          "output_type": "display_data",
          "data": {
            "text/plain": [
              "<IPython.core.display.HTML object>"
            ],
            "text/html": [
              " View project at <a href='https://wandb.ai/petern0408/EEG-ml' target=\"_blank\">https://wandb.ai/petern0408/EEG-ml</a>"
            ]
          },
          "metadata": {}
        },
        {
          "output_type": "display_data",
          "data": {
            "text/plain": [
              "<IPython.core.display.HTML object>"
            ],
            "text/html": [
              " View run at <a href='https://wandb.ai/petern0408/EEG-ml/runs/tnagmwy3' target=\"_blank\">https://wandb.ai/petern0408/EEG-ml/runs/tnagmwy3</a>"
            ]
          },
          "metadata": {}
        },
        {
          "output_type": "stream",
          "name": "stdout",
          "text": [
            "Test accuracy of the hybrid CNN-LSTM model: 0.44920992851257324\n"
          ]
        },
        {
          "output_type": "display_data",
          "data": {
            "text/plain": [
              "VBox(children=(Label(value='0.001 MB of 0.001 MB uploaded\\r'), FloatProgress(value=1.0, max=1.0)))"
            ],
            "application/vnd.jupyter.widget-view+json": {
              "version_major": 2,
              "version_minor": 0,
              "model_id": "b7d271c87f8d4c8d924018a3252deb37"
            }
          },
          "metadata": {}
        },
        {
          "output_type": "display_data",
          "data": {
            "text/plain": [
              "<IPython.core.display.HTML object>"
            ],
            "text/html": [
              "<style>\n",
              "    table.wandb td:nth-child(1) { padding: 0 10px; text-align: left ; width: auto;} td:nth-child(2) {text-align: left ; width: 100%}\n",
              "    .wandb-row { display: flex; flex-direction: row; flex-wrap: wrap; justify-content: flex-start; width: 100% }\n",
              "    .wandb-col { display: flex; flex-direction: column; flex-basis: 100%; flex: 1; padding: 10px; }\n",
              "    </style>\n",
              "<div class=\"wandb-row\"><div class=\"wandb-col\"><h3>Run history:</h3><br/><table class=\"wandb\"><tr><td>epoch/accuracy</td><td>▁▂▄▄▅▆▆▆▇▆▇▇▇▇▇███</td></tr><tr><td>epoch/epoch</td><td>▁▁▂▂▃▃▃▄▄▅▅▆▆▆▇▇██</td></tr><tr><td>epoch/learning_rate</td><td>▁▁▁▁▁▁▁▁▁▁▁▁▁▁▁▁▁▁</td></tr><tr><td>epoch/loss</td><td>█▇▆▆▅▅▄▄▃▃▃▃▂▂▂▁▁▁</td></tr><tr><td>epoch/val_accuracy</td><td>▁▂▃▅▆▆▆▇▅▇█▇▇▇▇▇██</td></tr><tr><td>epoch/val_loss</td><td>█▇▆▄▄▃▄▂▅▃▂▂▁▂▁▁▁▂</td></tr></table><br/></div><div class=\"wandb-col\"><h3>Run summary:</h3><br/><table class=\"wandb\"><tr><td>Test Acc</td><td>0.44921</td></tr><tr><td>epoch/accuracy</td><td>0.53565</td></tr><tr><td>epoch/epoch</td><td>17</td></tr><tr><td>epoch/learning_rate</td><td>0.001</td></tr><tr><td>epoch/loss</td><td>1.05557</td></tr><tr><td>epoch/val_accuracy</td><td>0.46175</td></tr><tr><td>epoch/val_loss</td><td>1.20118</td></tr></table><br/></div></div>"
            ]
          },
          "metadata": {}
        },
        {
          "output_type": "display_data",
          "data": {
            "text/plain": [
              "<IPython.core.display.HTML object>"
            ],
            "text/html": [
              " View run <strong style=\"color:#cdcd00\">delete-13-channel</strong> at: <a href='https://wandb.ai/petern0408/EEG-ml/runs/tnagmwy3' target=\"_blank\">https://wandb.ai/petern0408/EEG-ml/runs/tnagmwy3</a><br/>Synced 5 W&B file(s), 0 media file(s), 0 artifact file(s) and 0 other file(s)"
            ]
          },
          "metadata": {}
        },
        {
          "output_type": "display_data",
          "data": {
            "text/plain": [
              "<IPython.core.display.HTML object>"
            ],
            "text/html": [
              "Find logs at: <code>./wandb/run-20240307_064834-tnagmwy3/logs</code>"
            ]
          },
          "metadata": {}
        },
        {
          "output_type": "stream",
          "name": "stdout",
          "text": [
            "SKIPPING channel 14 (0-indexed)\n"
          ]
        },
        {
          "output_type": "display_data",
          "data": {
            "text/plain": [
              "<IPython.core.display.HTML object>"
            ],
            "text/html": [
              "Tracking run with wandb version 0.16.4"
            ]
          },
          "metadata": {}
        },
        {
          "output_type": "display_data",
          "data": {
            "text/plain": [
              "<IPython.core.display.HTML object>"
            ],
            "text/html": [
              "Run data is saved locally in <code>/content/wandb/run-20240307_065711-70b4w0x6</code>"
            ]
          },
          "metadata": {}
        },
        {
          "output_type": "display_data",
          "data": {
            "text/plain": [
              "<IPython.core.display.HTML object>"
            ],
            "text/html": [
              "Syncing run <strong><a href='https://wandb.ai/petern0408/EEG-ml/runs/70b4w0x6' target=\"_blank\">delete-14-channel</a></strong> to <a href='https://wandb.ai/petern0408/EEG-ml' target=\"_blank\">Weights & Biases</a> (<a href='https://wandb.me/run' target=\"_blank\">docs</a>)<br/>"
            ]
          },
          "metadata": {}
        },
        {
          "output_type": "display_data",
          "data": {
            "text/plain": [
              "<IPython.core.display.HTML object>"
            ],
            "text/html": [
              " View project at <a href='https://wandb.ai/petern0408/EEG-ml' target=\"_blank\">https://wandb.ai/petern0408/EEG-ml</a>"
            ]
          },
          "metadata": {}
        },
        {
          "output_type": "display_data",
          "data": {
            "text/plain": [
              "<IPython.core.display.HTML object>"
            ],
            "text/html": [
              " View run at <a href='https://wandb.ai/petern0408/EEG-ml/runs/70b4w0x6' target=\"_blank\">https://wandb.ai/petern0408/EEG-ml/runs/70b4w0x6</a>"
            ]
          },
          "metadata": {}
        },
        {
          "output_type": "stream",
          "name": "stdout",
          "text": [
            "Test accuracy of the hybrid CNN-LSTM model: 0.4830699861049652\n"
          ]
        },
        {
          "output_type": "display_data",
          "data": {
            "text/plain": [
              "VBox(children=(Label(value='0.001 MB of 0.001 MB uploaded\\r'), FloatProgress(value=1.0, max=1.0)))"
            ],
            "application/vnd.jupyter.widget-view+json": {
              "version_major": 2,
              "version_minor": 0,
              "model_id": "5ae48f920e4c491baa23229d1d7bd60d"
            }
          },
          "metadata": {}
        },
        {
          "output_type": "display_data",
          "data": {
            "text/plain": [
              "<IPython.core.display.HTML object>"
            ],
            "text/html": [
              "<style>\n",
              "    table.wandb td:nth-child(1) { padding: 0 10px; text-align: left ; width: auto;} td:nth-child(2) {text-align: left ; width: 100%}\n",
              "    .wandb-row { display: flex; flex-direction: row; flex-wrap: wrap; justify-content: flex-start; width: 100% }\n",
              "    .wandb-col { display: flex; flex-direction: column; flex-basis: 100%; flex: 1; padding: 10px; }\n",
              "    </style>\n",
              "<div class=\"wandb-row\"><div class=\"wandb-col\"><h3>Run history:</h3><br/><table class=\"wandb\"><tr><td>epoch/accuracy</td><td>▁▂▄▅▅▆▆▆▆▆▇▇▇▇▇▇▇█▇████</td></tr><tr><td>epoch/epoch</td><td>▁▁▂▂▂▃▃▃▄▄▄▅▅▅▅▆▆▆▇▇▇██</td></tr><tr><td>epoch/learning_rate</td><td>▁▁▁▁▁▁▁▁▁▁▁▁▁▁▁▁▁▁▁▁▁▁▁</td></tr><tr><td>epoch/loss</td><td>██▇▆▅▅▅▄▄▄▃▃▃▃▂▂▂▂▂▁▁▁▁</td></tr><tr><td>epoch/val_accuracy</td><td>▁▃▅▆▇▆▇▇▆▇▇▆▆▇▇▆▇██▇▇▇▇</td></tr><tr><td>epoch/val_loss</td><td>█▇▆▅▄▄▃▃▃▃▃▃▄▃▃▃▂▁▂▂▂▂▂</td></tr></table><br/></div><div class=\"wandb-col\"><h3>Run summary:</h3><br/><table class=\"wandb\"><tr><td>Test Acc</td><td>0.48307</td></tr><tr><td>epoch/accuracy</td><td>0.56054</td></tr><tr><td>epoch/epoch</td><td>22</td></tr><tr><td>epoch/learning_rate</td><td>0.001</td></tr><tr><td>epoch/loss</td><td>0.99377</td></tr><tr><td>epoch/val_accuracy</td><td>0.45975</td></tr><tr><td>epoch/val_loss</td><td>1.16303</td></tr></table><br/></div></div>"
            ]
          },
          "metadata": {}
        },
        {
          "output_type": "display_data",
          "data": {
            "text/plain": [
              "<IPython.core.display.HTML object>"
            ],
            "text/html": [
              " View run <strong style=\"color:#cdcd00\">delete-14-channel</strong> at: <a href='https://wandb.ai/petern0408/EEG-ml/runs/70b4w0x6' target=\"_blank\">https://wandb.ai/petern0408/EEG-ml/runs/70b4w0x6</a><br/>Synced 5 W&B file(s), 0 media file(s), 0 artifact file(s) and 0 other file(s)"
            ]
          },
          "metadata": {}
        },
        {
          "output_type": "display_data",
          "data": {
            "text/plain": [
              "<IPython.core.display.HTML object>"
            ],
            "text/html": [
              "Find logs at: <code>./wandb/run-20240307_065711-70b4w0x6/logs</code>"
            ]
          },
          "metadata": {}
        },
        {
          "output_type": "stream",
          "name": "stdout",
          "text": [
            "SKIPPING channel 15 (0-indexed)\n"
          ]
        },
        {
          "output_type": "display_data",
          "data": {
            "text/plain": [
              "<IPython.core.display.HTML object>"
            ],
            "text/html": [
              "Tracking run with wandb version 0.16.4"
            ]
          },
          "metadata": {}
        },
        {
          "output_type": "display_data",
          "data": {
            "text/plain": [
              "<IPython.core.display.HTML object>"
            ],
            "text/html": [
              "Run data is saved locally in <code>/content/wandb/run-20240307_070719-tv10mi2z</code>"
            ]
          },
          "metadata": {}
        },
        {
          "output_type": "display_data",
          "data": {
            "text/plain": [
              "<IPython.core.display.HTML object>"
            ],
            "text/html": [
              "Syncing run <strong><a href='https://wandb.ai/petern0408/EEG-ml/runs/tv10mi2z' target=\"_blank\">delete-15-channel</a></strong> to <a href='https://wandb.ai/petern0408/EEG-ml' target=\"_blank\">Weights & Biases</a> (<a href='https://wandb.me/run' target=\"_blank\">docs</a>)<br/>"
            ]
          },
          "metadata": {}
        },
        {
          "output_type": "display_data",
          "data": {
            "text/plain": [
              "<IPython.core.display.HTML object>"
            ],
            "text/html": [
              " View project at <a href='https://wandb.ai/petern0408/EEG-ml' target=\"_blank\">https://wandb.ai/petern0408/EEG-ml</a>"
            ]
          },
          "metadata": {}
        },
        {
          "output_type": "display_data",
          "data": {
            "text/plain": [
              "<IPython.core.display.HTML object>"
            ],
            "text/html": [
              " View run at <a href='https://wandb.ai/petern0408/EEG-ml/runs/tv10mi2z' target=\"_blank\">https://wandb.ai/petern0408/EEG-ml/runs/tv10mi2z</a>"
            ]
          },
          "metadata": {}
        },
        {
          "output_type": "stream",
          "name": "stdout",
          "text": [
            "Test accuracy of the hybrid CNN-LSTM model: 0.4650112986564636\n"
          ]
        },
        {
          "output_type": "display_data",
          "data": {
            "text/plain": [
              "VBox(children=(Label(value='0.001 MB of 0.001 MB uploaded\\r'), FloatProgress(value=1.0, max=1.0)))"
            ],
            "application/vnd.jupyter.widget-view+json": {
              "version_major": 2,
              "version_minor": 0,
              "model_id": "954dfc1810e841f5a06555a29015e1cd"
            }
          },
          "metadata": {}
        },
        {
          "output_type": "display_data",
          "data": {
            "text/plain": [
              "<IPython.core.display.HTML object>"
            ],
            "text/html": [
              "<style>\n",
              "    table.wandb td:nth-child(1) { padding: 0 10px; text-align: left ; width: auto;} td:nth-child(2) {text-align: left ; width: 100%}\n",
              "    .wandb-row { display: flex; flex-direction: row; flex-wrap: wrap; justify-content: flex-start; width: 100% }\n",
              "    .wandb-col { display: flex; flex-direction: column; flex-basis: 100%; flex: 1; padding: 10px; }\n",
              "    </style>\n",
              "<div class=\"wandb-row\"><div class=\"wandb-col\"><h3>Run history:</h3><br/><table class=\"wandb\"><tr><td>epoch/accuracy</td><td>▁▂▃▃▄▄▄▅▅▆▆▆▆▆▆▇▇▇▇▇▇▇▇▇▇█▇██</td></tr><tr><td>epoch/epoch</td><td>▁▁▁▂▂▂▃▃▃▃▃▄▄▄▅▅▅▅▅▆▆▆▇▇▇▇▇██</td></tr><tr><td>epoch/learning_rate</td><td>▁▁▁▁▁▁▁▁▁▁▁▁▁▁▁▁▁▁▁▁▁▁▁▁▁▁▁▁▁</td></tr><tr><td>epoch/loss</td><td>█▇▇▇▆▆▅▅▅▄▄▄▄▄▃▃▃▃▂▂▂▂▂▂▂▁▁▁▁</td></tr><tr><td>epoch/val_accuracy</td><td>▁▁▃▄▄▄▄▄▄▄▅▅▇▆▇▆▇▇▇▇█▇▇███▇▇▇</td></tr><tr><td>epoch/val_loss</td><td>█▇▇▆▆▆▅▅▄▅▃▄▂▂▂▃▂▂▁▁▁▂▂▁▁▂▃▄▃</td></tr></table><br/></div><div class=\"wandb-col\"><h3>Run summary:</h3><br/><table class=\"wandb\"><tr><td>Test Acc</td><td>0.46501</td></tr><tr><td>epoch/accuracy</td><td>0.58924</td></tr><tr><td>epoch/epoch</td><td>28</td></tr><tr><td>epoch/learning_rate</td><td>0.001</td></tr><tr><td>epoch/loss</td><td>0.9563</td></tr><tr><td>epoch/val_accuracy</td><td>0.45825</td></tr><tr><td>epoch/val_loss</td><td>1.20519</td></tr></table><br/></div></div>"
            ]
          },
          "metadata": {}
        },
        {
          "output_type": "display_data",
          "data": {
            "text/plain": [
              "<IPython.core.display.HTML object>"
            ],
            "text/html": [
              " View run <strong style=\"color:#cdcd00\">delete-15-channel</strong> at: <a href='https://wandb.ai/petern0408/EEG-ml/runs/tv10mi2z' target=\"_blank\">https://wandb.ai/petern0408/EEG-ml/runs/tv10mi2z</a><br/>Synced 5 W&B file(s), 0 media file(s), 0 artifact file(s) and 0 other file(s)"
            ]
          },
          "metadata": {}
        },
        {
          "output_type": "display_data",
          "data": {
            "text/plain": [
              "<IPython.core.display.HTML object>"
            ],
            "text/html": [
              "Find logs at: <code>./wandb/run-20240307_070719-tv10mi2z/logs</code>"
            ]
          },
          "metadata": {}
        },
        {
          "output_type": "stream",
          "name": "stdout",
          "text": [
            "SKIPPING channel 16 (0-indexed)\n"
          ]
        },
        {
          "output_type": "display_data",
          "data": {
            "text/plain": [
              "<IPython.core.display.HTML object>"
            ],
            "text/html": [
              "Tracking run with wandb version 0.16.4"
            ]
          },
          "metadata": {}
        },
        {
          "output_type": "display_data",
          "data": {
            "text/plain": [
              "<IPython.core.display.HTML object>"
            ],
            "text/html": [
              "Run data is saved locally in <code>/content/wandb/run-20240307_072154-24jrmold</code>"
            ]
          },
          "metadata": {}
        },
        {
          "output_type": "display_data",
          "data": {
            "text/plain": [
              "<IPython.core.display.HTML object>"
            ],
            "text/html": [
              "Syncing run <strong><a href='https://wandb.ai/petern0408/EEG-ml/runs/24jrmold' target=\"_blank\">delete-16-channel</a></strong> to <a href='https://wandb.ai/petern0408/EEG-ml' target=\"_blank\">Weights & Biases</a> (<a href='https://wandb.me/run' target=\"_blank\">docs</a>)<br/>"
            ]
          },
          "metadata": {}
        },
        {
          "output_type": "display_data",
          "data": {
            "text/plain": [
              "<IPython.core.display.HTML object>"
            ],
            "text/html": [
              " View project at <a href='https://wandb.ai/petern0408/EEG-ml' target=\"_blank\">https://wandb.ai/petern0408/EEG-ml</a>"
            ]
          },
          "metadata": {}
        },
        {
          "output_type": "display_data",
          "data": {
            "text/plain": [
              "<IPython.core.display.HTML object>"
            ],
            "text/html": [
              " View run at <a href='https://wandb.ai/petern0408/EEG-ml/runs/24jrmold' target=\"_blank\">https://wandb.ai/petern0408/EEG-ml/runs/24jrmold</a>"
            ]
          },
          "metadata": {}
        },
        {
          "output_type": "stream",
          "name": "stdout",
          "text": [
            "Test accuracy of the hybrid CNN-LSTM model: 0.4898419976234436\n"
          ]
        },
        {
          "output_type": "display_data",
          "data": {
            "text/plain": [
              "VBox(children=(Label(value='0.001 MB of 0.001 MB uploaded\\r'), FloatProgress(value=1.0, max=1.0)))"
            ],
            "application/vnd.jupyter.widget-view+json": {
              "version_major": 2,
              "version_minor": 0,
              "model_id": "0f1e4f76cfaf4dada7d8c43fcf9a1715"
            }
          },
          "metadata": {}
        },
        {
          "output_type": "display_data",
          "data": {
            "text/plain": [
              "<IPython.core.display.HTML object>"
            ],
            "text/html": [
              "<style>\n",
              "    table.wandb td:nth-child(1) { padding: 0 10px; text-align: left ; width: auto;} td:nth-child(2) {text-align: left ; width: 100%}\n",
              "    .wandb-row { display: flex; flex-direction: row; flex-wrap: wrap; justify-content: flex-start; width: 100% }\n",
              "    .wandb-col { display: flex; flex-direction: column; flex-basis: 100%; flex: 1; padding: 10px; }\n",
              "    </style>\n",
              "<div class=\"wandb-row\"><div class=\"wandb-col\"><h3>Run history:</h3><br/><table class=\"wandb\"><tr><td>epoch/accuracy</td><td>▁▂▃▄▄▅▅▆▆▆▆▇▇▇▇▇▇▇█████</td></tr><tr><td>epoch/epoch</td><td>▁▁▂▂▂▃▃▃▄▄▄▅▅▅▅▆▆▆▇▇▇██</td></tr><tr><td>epoch/learning_rate</td><td>▁▁▁▁▁▁▁▁▁▁▁▁▁▁▁▁▁▁▁▁▁▁▁</td></tr><tr><td>epoch/loss</td><td>██▇▇▆▅▅▄▄▄▄▃▃▃▂▂▂▂▂▁▁▁▁</td></tr><tr><td>epoch/val_accuracy</td><td>▂▁▃▅▆▆▆▆▆▆▇▇▆▇▇█▇█▇▇▇██</td></tr><tr><td>epoch/val_loss</td><td>▇█▆▅▄▄▃▃▃▃▂▃▄▂▃▂▂▁▃▃▃▂▁</td></tr></table><br/></div><div class=\"wandb-col\"><h3>Run summary:</h3><br/><table class=\"wandb\"><tr><td>Test Acc</td><td>0.48984</td></tr><tr><td>epoch/accuracy</td><td>0.58789</td></tr><tr><td>epoch/epoch</td><td>22</td></tr><tr><td>epoch/learning_rate</td><td>0.001</td></tr><tr><td>epoch/loss</td><td>0.98414</td></tr><tr><td>epoch/val_accuracy</td><td>0.46775</td></tr><tr><td>epoch/val_loss</td><td>1.1793</td></tr></table><br/></div></div>"
            ]
          },
          "metadata": {}
        },
        {
          "output_type": "display_data",
          "data": {
            "text/plain": [
              "<IPython.core.display.HTML object>"
            ],
            "text/html": [
              " View run <strong style=\"color:#cdcd00\">delete-16-channel</strong> at: <a href='https://wandb.ai/petern0408/EEG-ml/runs/24jrmold' target=\"_blank\">https://wandb.ai/petern0408/EEG-ml/runs/24jrmold</a><br/>Synced 5 W&B file(s), 0 media file(s), 0 artifact file(s) and 0 other file(s)"
            ]
          },
          "metadata": {}
        },
        {
          "output_type": "display_data",
          "data": {
            "text/plain": [
              "<IPython.core.display.HTML object>"
            ],
            "text/html": [
              "Find logs at: <code>./wandb/run-20240307_072154-24jrmold/logs</code>"
            ]
          },
          "metadata": {}
        },
        {
          "output_type": "stream",
          "name": "stdout",
          "text": [
            "SKIPPING channel 17 (0-indexed)\n"
          ]
        },
        {
          "output_type": "display_data",
          "data": {
            "text/plain": [
              "<IPython.core.display.HTML object>"
            ],
            "text/html": [
              "Tracking run with wandb version 0.16.4"
            ]
          },
          "metadata": {}
        },
        {
          "output_type": "display_data",
          "data": {
            "text/plain": [
              "<IPython.core.display.HTML object>"
            ],
            "text/html": [
              "Run data is saved locally in <code>/content/wandb/run-20240307_073330-uphi7r8h</code>"
            ]
          },
          "metadata": {}
        },
        {
          "output_type": "display_data",
          "data": {
            "text/plain": [
              "<IPython.core.display.HTML object>"
            ],
            "text/html": [
              "Syncing run <strong><a href='https://wandb.ai/petern0408/EEG-ml/runs/uphi7r8h' target=\"_blank\">delete-17-channel</a></strong> to <a href='https://wandb.ai/petern0408/EEG-ml' target=\"_blank\">Weights & Biases</a> (<a href='https://wandb.me/run' target=\"_blank\">docs</a>)<br/>"
            ]
          },
          "metadata": {}
        },
        {
          "output_type": "display_data",
          "data": {
            "text/plain": [
              "<IPython.core.display.HTML object>"
            ],
            "text/html": [
              " View project at <a href='https://wandb.ai/petern0408/EEG-ml' target=\"_blank\">https://wandb.ai/petern0408/EEG-ml</a>"
            ]
          },
          "metadata": {}
        },
        {
          "output_type": "display_data",
          "data": {
            "text/plain": [
              "<IPython.core.display.HTML object>"
            ],
            "text/html": [
              " View run at <a href='https://wandb.ai/petern0408/EEG-ml/runs/uphi7r8h' target=\"_blank\">https://wandb.ai/petern0408/EEG-ml/runs/uphi7r8h</a>"
            ]
          },
          "metadata": {}
        },
        {
          "output_type": "stream",
          "name": "stdout",
          "text": [
            "Test accuracy of the hybrid CNN-LSTM model: 0.4808126389980316\n"
          ]
        },
        {
          "output_type": "display_data",
          "data": {
            "text/plain": [
              "VBox(children=(Label(value='0.011 MB of 0.011 MB uploaded\\r'), FloatProgress(value=1.0, max=1.0)))"
            ],
            "application/vnd.jupyter.widget-view+json": {
              "version_major": 2,
              "version_minor": 0,
              "model_id": "7c4b79be946e424ca0e68ab17b9b87ea"
            }
          },
          "metadata": {}
        },
        {
          "output_type": "display_data",
          "data": {
            "text/plain": [
              "<IPython.core.display.HTML object>"
            ],
            "text/html": [
              "<style>\n",
              "    table.wandb td:nth-child(1) { padding: 0 10px; text-align: left ; width: auto;} td:nth-child(2) {text-align: left ; width: 100%}\n",
              "    .wandb-row { display: flex; flex-direction: row; flex-wrap: wrap; justify-content: flex-start; width: 100% }\n",
              "    .wandb-col { display: flex; flex-direction: column; flex-basis: 100%; flex: 1; padding: 10px; }\n",
              "    </style>\n",
              "<div class=\"wandb-row\"><div class=\"wandb-col\"><h3>Run history:</h3><br/><table class=\"wandb\"><tr><td>epoch/accuracy</td><td>▁▂▃▃▄▅▅▅▆▆▆▆▆▆▆▆▇▇▇▇▇▇▇▇▇▇█▇█████</td></tr><tr><td>epoch/epoch</td><td>▁▁▁▂▂▂▂▃▃▃▃▃▄▄▄▄▅▅▅▅▅▆▆▆▆▆▇▇▇▇███</td></tr><tr><td>epoch/learning_rate</td><td>▁▁▁▁▁▁▁▁▁▁▁▁▁▁▁▁▁▁▁▁▁▁▁▁▁▁▁▁▁▁▁▁▁</td></tr><tr><td>epoch/loss</td><td>██▇▆▆▆▅▅▅▄▄▄▄▄▄▃▃▃▃▃▃▃▃▂▂▂▂▂▂▁▁▁▁</td></tr><tr><td>epoch/val_accuracy</td><td>▁▂▄▅▅▅▆▆▆▆▆▇▆▆▇▆▇▇█▆▇▇██▇▇▇█▇████</td></tr><tr><td>epoch/val_loss</td><td>█▇▅▅▄▅▄▄▄▃▃▃▂▃▂▂▂▂▁▂▂▂▁▁▂▁▂▁▂▂▁▂▂</td></tr></table><br/></div><div class=\"wandb-col\"><h3>Run summary:</h3><br/><table class=\"wandb\"><tr><td>Test Acc</td><td>0.48081</td></tr><tr><td>epoch/accuracy</td><td>0.58677</td></tr><tr><td>epoch/epoch</td><td>32</td></tr><tr><td>epoch/learning_rate</td><td>0.001</td></tr><tr><td>epoch/loss</td><td>0.949</td></tr><tr><td>epoch/val_accuracy</td><td>0.47275</td></tr><tr><td>epoch/val_loss</td><td>1.18484</td></tr></table><br/></div></div>"
            ]
          },
          "metadata": {}
        },
        {
          "output_type": "display_data",
          "data": {
            "text/plain": [
              "<IPython.core.display.HTML object>"
            ],
            "text/html": [
              " View run <strong style=\"color:#cdcd00\">delete-17-channel</strong> at: <a href='https://wandb.ai/petern0408/EEG-ml/runs/uphi7r8h' target=\"_blank\">https://wandb.ai/petern0408/EEG-ml/runs/uphi7r8h</a><br/>Synced 5 W&B file(s), 0 media file(s), 0 artifact file(s) and 0 other file(s)"
            ]
          },
          "metadata": {}
        },
        {
          "output_type": "display_data",
          "data": {
            "text/plain": [
              "<IPython.core.display.HTML object>"
            ],
            "text/html": [
              "Find logs at: <code>./wandb/run-20240307_073330-uphi7r8h/logs</code>"
            ]
          },
          "metadata": {}
        },
        {
          "output_type": "stream",
          "name": "stdout",
          "text": [
            "SKIPPING channel 18 (0-indexed)\n"
          ]
        },
        {
          "output_type": "display_data",
          "data": {
            "text/plain": [
              "<IPython.core.display.HTML object>"
            ],
            "text/html": [
              "Tracking run with wandb version 0.16.4"
            ]
          },
          "metadata": {}
        },
        {
          "output_type": "display_data",
          "data": {
            "text/plain": [
              "<IPython.core.display.HTML object>"
            ],
            "text/html": [
              "Run data is saved locally in <code>/content/wandb/run-20240307_075004-1ca4fkd3</code>"
            ]
          },
          "metadata": {}
        },
        {
          "output_type": "display_data",
          "data": {
            "text/plain": [
              "<IPython.core.display.HTML object>"
            ],
            "text/html": [
              "Syncing run <strong><a href='https://wandb.ai/petern0408/EEG-ml/runs/1ca4fkd3' target=\"_blank\">delete-18-channel</a></strong> to <a href='https://wandb.ai/petern0408/EEG-ml' target=\"_blank\">Weights & Biases</a> (<a href='https://wandb.me/run' target=\"_blank\">docs</a>)<br/>"
            ]
          },
          "metadata": {}
        },
        {
          "output_type": "display_data",
          "data": {
            "text/plain": [
              "<IPython.core.display.HTML object>"
            ],
            "text/html": [
              " View project at <a href='https://wandb.ai/petern0408/EEG-ml' target=\"_blank\">https://wandb.ai/petern0408/EEG-ml</a>"
            ]
          },
          "metadata": {}
        },
        {
          "output_type": "display_data",
          "data": {
            "text/plain": [
              "<IPython.core.display.HTML object>"
            ],
            "text/html": [
              " View run at <a href='https://wandb.ai/petern0408/EEG-ml/runs/1ca4fkd3' target=\"_blank\">https://wandb.ai/petern0408/EEG-ml/runs/1ca4fkd3</a>"
            ]
          },
          "metadata": {}
        },
        {
          "output_type": "stream",
          "name": "stdout",
          "text": [
            "Test accuracy of the hybrid CNN-LSTM model: 0.44695258140563965\n"
          ]
        },
        {
          "output_type": "display_data",
          "data": {
            "text/plain": [
              "VBox(children=(Label(value='0.001 MB of 0.001 MB uploaded\\r'), FloatProgress(value=1.0, max=1.0)))"
            ],
            "application/vnd.jupyter.widget-view+json": {
              "version_major": 2,
              "version_minor": 0,
              "model_id": "dd13b8e4b64344a097590dcdedabd220"
            }
          },
          "metadata": {}
        },
        {
          "output_type": "display_data",
          "data": {
            "text/plain": [
              "<IPython.core.display.HTML object>"
            ],
            "text/html": [
              "<style>\n",
              "    table.wandb td:nth-child(1) { padding: 0 10px; text-align: left ; width: auto;} td:nth-child(2) {text-align: left ; width: 100%}\n",
              "    .wandb-row { display: flex; flex-direction: row; flex-wrap: wrap; justify-content: flex-start; width: 100% }\n",
              "    .wandb-col { display: flex; flex-direction: column; flex-basis: 100%; flex: 1; padding: 10px; }\n",
              "    </style>\n",
              "<div class=\"wandb-row\"><div class=\"wandb-col\"><h3>Run history:</h3><br/><table class=\"wandb\"><tr><td>epoch/accuracy</td><td>▁▂▃▄▅▅▆▆▇▇▇▇██████</td></tr><tr><td>epoch/epoch</td><td>▁▁▂▂▃▃▃▄▄▅▅▆▆▆▇▇██</td></tr><tr><td>epoch/learning_rate</td><td>▁▁▁▁▁▁▁▁▁▁▁▁▁▁▁▁▁▁</td></tr><tr><td>epoch/loss</td><td>██▇▆▅▅▄▄▃▃▃▂▂▂▂▂▁▁</td></tr><tr><td>epoch/val_accuracy</td><td>▁▂▃▄▆▇▅▆▆▇▇██▇▇███</td></tr><tr><td>epoch/val_loss</td><td>█▇▇▇▅▃▅▃▂▃▂▁▁▂▂▂▁▂</td></tr></table><br/></div><div class=\"wandb-col\"><h3>Run summary:</h3><br/><table class=\"wandb\"><tr><td>Test Acc</td><td>0.44695</td></tr><tr><td>epoch/accuracy</td><td>0.53408</td></tr><tr><td>epoch/epoch</td><td>17</td></tr><tr><td>epoch/learning_rate</td><td>0.001</td></tr><tr><td>epoch/loss</td><td>1.0681</td></tr><tr><td>epoch/val_accuracy</td><td>0.45025</td></tr><tr><td>epoch/val_loss</td><td>1.23246</td></tr></table><br/></div></div>"
            ]
          },
          "metadata": {}
        },
        {
          "output_type": "display_data",
          "data": {
            "text/plain": [
              "<IPython.core.display.HTML object>"
            ],
            "text/html": [
              " View run <strong style=\"color:#cdcd00\">delete-18-channel</strong> at: <a href='https://wandb.ai/petern0408/EEG-ml/runs/1ca4fkd3' target=\"_blank\">https://wandb.ai/petern0408/EEG-ml/runs/1ca4fkd3</a><br/>Synced 5 W&B file(s), 0 media file(s), 0 artifact file(s) and 0 other file(s)"
            ]
          },
          "metadata": {}
        },
        {
          "output_type": "display_data",
          "data": {
            "text/plain": [
              "<IPython.core.display.HTML object>"
            ],
            "text/html": [
              "Find logs at: <code>./wandb/run-20240307_075004-1ca4fkd3/logs</code>"
            ]
          },
          "metadata": {}
        },
        {
          "output_type": "stream",
          "name": "stdout",
          "text": [
            "SKIPPING channel 19 (0-indexed)\n"
          ]
        },
        {
          "output_type": "display_data",
          "data": {
            "text/plain": [
              "<IPython.core.display.HTML object>"
            ],
            "text/html": [
              "Tracking run with wandb version 0.16.4"
            ]
          },
          "metadata": {}
        },
        {
          "output_type": "display_data",
          "data": {
            "text/plain": [
              "<IPython.core.display.HTML object>"
            ],
            "text/html": [
              "Run data is saved locally in <code>/content/wandb/run-20240307_075939-v1zy18qb</code>"
            ]
          },
          "metadata": {}
        },
        {
          "output_type": "display_data",
          "data": {
            "text/plain": [
              "<IPython.core.display.HTML object>"
            ],
            "text/html": [
              "Syncing run <strong><a href='https://wandb.ai/petern0408/EEG-ml/runs/v1zy18qb' target=\"_blank\">delete-19-channel</a></strong> to <a href='https://wandb.ai/petern0408/EEG-ml' target=\"_blank\">Weights & Biases</a> (<a href='https://wandb.me/run' target=\"_blank\">docs</a>)<br/>"
            ]
          },
          "metadata": {}
        },
        {
          "output_type": "display_data",
          "data": {
            "text/plain": [
              "<IPython.core.display.HTML object>"
            ],
            "text/html": [
              " View project at <a href='https://wandb.ai/petern0408/EEG-ml' target=\"_blank\">https://wandb.ai/petern0408/EEG-ml</a>"
            ]
          },
          "metadata": {}
        },
        {
          "output_type": "display_data",
          "data": {
            "text/plain": [
              "<IPython.core.display.HTML object>"
            ],
            "text/html": [
              " View run at <a href='https://wandb.ai/petern0408/EEG-ml/runs/v1zy18qb' target=\"_blank\">https://wandb.ai/petern0408/EEG-ml/runs/v1zy18qb</a>"
            ]
          },
          "metadata": {}
        },
        {
          "output_type": "stream",
          "name": "stdout",
          "text": [
            "Test accuracy of the hybrid CNN-LSTM model: 0.45146727561950684\n"
          ]
        },
        {
          "output_type": "display_data",
          "data": {
            "text/plain": [
              "VBox(children=(Label(value='0.001 MB of 0.001 MB uploaded\\r'), FloatProgress(value=1.0, max=1.0)))"
            ],
            "application/vnd.jupyter.widget-view+json": {
              "version_major": 2,
              "version_minor": 0,
              "model_id": "f6376be08f0e4be7bacd6decad26be26"
            }
          },
          "metadata": {}
        },
        {
          "output_type": "display_data",
          "data": {
            "text/plain": [
              "<IPython.core.display.HTML object>"
            ],
            "text/html": [
              "<style>\n",
              "    table.wandb td:nth-child(1) { padding: 0 10px; text-align: left ; width: auto;} td:nth-child(2) {text-align: left ; width: 100%}\n",
              "    .wandb-row { display: flex; flex-direction: row; flex-wrap: wrap; justify-content: flex-start; width: 100% }\n",
              "    .wandb-col { display: flex; flex-direction: column; flex-basis: 100%; flex: 1; padding: 10px; }\n",
              "    </style>\n",
              "<div class=\"wandb-row\"><div class=\"wandb-col\"><h3>Run history:</h3><br/><table class=\"wandb\"><tr><td>epoch/accuracy</td><td>▁▂▃▃▄▄▅▅▆▆▆▆▆▇▇▇▇▇▇▇███</td></tr><tr><td>epoch/epoch</td><td>▁▁▂▂▂▃▃▃▄▄▄▅▅▅▅▆▆▆▇▇▇██</td></tr><tr><td>epoch/learning_rate</td><td>▁▁▁▁▁▁▁▁▁▁▁▁▁▁▁▁▁▁▁▁▁▁▁</td></tr><tr><td>epoch/loss</td><td>██▇▇▆▆▅▅▅▄▄▄▃▃▃▂▃▂▂▂▂▁▁</td></tr><tr><td>epoch/val_accuracy</td><td>▁▂▂▄▅▆▆▇▆▆█▇▇▇▇▆▇█▇█▇▇▇</td></tr><tr><td>epoch/val_loss</td><td>██▇▇▅▄▄▃▄▃▂▃▂▂▂▃▃▁▂▁▂▂▂</td></tr></table><br/></div><div class=\"wandb-col\"><h3>Run summary:</h3><br/><table class=\"wandb\"><tr><td>Test Acc</td><td>0.45147</td></tr><tr><td>epoch/accuracy</td><td>0.55605</td></tr><tr><td>epoch/epoch</td><td>22</td></tr><tr><td>epoch/learning_rate</td><td>0.001</td></tr><tr><td>epoch/loss</td><td>1.01521</td></tr><tr><td>epoch/val_accuracy</td><td>0.43575</td></tr><tr><td>epoch/val_loss</td><td>1.19487</td></tr></table><br/></div></div>"
            ]
          },
          "metadata": {}
        },
        {
          "output_type": "display_data",
          "data": {
            "text/plain": [
              "<IPython.core.display.HTML object>"
            ],
            "text/html": [
              " View run <strong style=\"color:#cdcd00\">delete-19-channel</strong> at: <a href='https://wandb.ai/petern0408/EEG-ml/runs/v1zy18qb' target=\"_blank\">https://wandb.ai/petern0408/EEG-ml/runs/v1zy18qb</a><br/>Synced 5 W&B file(s), 0 media file(s), 0 artifact file(s) and 0 other file(s)"
            ]
          },
          "metadata": {}
        },
        {
          "output_type": "display_data",
          "data": {
            "text/plain": [
              "<IPython.core.display.HTML object>"
            ],
            "text/html": [
              "Find logs at: <code>./wandb/run-20240307_075939-v1zy18qb/logs</code>"
            ]
          },
          "metadata": {}
        },
        {
          "output_type": "stream",
          "name": "stdout",
          "text": [
            "SKIPPING channel 20 (0-indexed)\n"
          ]
        },
        {
          "output_type": "display_data",
          "data": {
            "text/plain": [
              "<IPython.core.display.HTML object>"
            ],
            "text/html": [
              "Tracking run with wandb version 0.16.4"
            ]
          },
          "metadata": {}
        },
        {
          "output_type": "display_data",
          "data": {
            "text/plain": [
              "<IPython.core.display.HTML object>"
            ],
            "text/html": [
              "Run data is saved locally in <code>/content/wandb/run-20240307_081018-0yqsk1l9</code>"
            ]
          },
          "metadata": {}
        },
        {
          "output_type": "display_data",
          "data": {
            "text/plain": [
              "<IPython.core.display.HTML object>"
            ],
            "text/html": [
              "Syncing run <strong><a href='https://wandb.ai/petern0408/EEG-ml/runs/0yqsk1l9' target=\"_blank\">delete-20-channel</a></strong> to <a href='https://wandb.ai/petern0408/EEG-ml' target=\"_blank\">Weights & Biases</a> (<a href='https://wandb.me/run' target=\"_blank\">docs</a>)<br/>"
            ]
          },
          "metadata": {}
        },
        {
          "output_type": "display_data",
          "data": {
            "text/plain": [
              "<IPython.core.display.HTML object>"
            ],
            "text/html": [
              " View project at <a href='https://wandb.ai/petern0408/EEG-ml' target=\"_blank\">https://wandb.ai/petern0408/EEG-ml</a>"
            ]
          },
          "metadata": {}
        },
        {
          "output_type": "display_data",
          "data": {
            "text/plain": [
              "<IPython.core.display.HTML object>"
            ],
            "text/html": [
              " View run at <a href='https://wandb.ai/petern0408/EEG-ml/runs/0yqsk1l9' target=\"_blank\">https://wandb.ai/petern0408/EEG-ml/runs/0yqsk1l9</a>"
            ]
          },
          "metadata": {}
        },
        {
          "output_type": "stream",
          "name": "stdout",
          "text": [
            "Test accuracy of the hybrid CNN-LSTM model: 0.42437922954559326\n"
          ]
        },
        {
          "output_type": "display_data",
          "data": {
            "text/plain": [
              "VBox(children=(Label(value='0.001 MB of 0.001 MB uploaded\\r'), FloatProgress(value=1.0, max=1.0)))"
            ],
            "application/vnd.jupyter.widget-view+json": {
              "version_major": 2,
              "version_minor": 0,
              "model_id": "30bdad8d5dd14fa18b834737214c99fe"
            }
          },
          "metadata": {}
        },
        {
          "output_type": "display_data",
          "data": {
            "text/plain": [
              "<IPython.core.display.HTML object>"
            ],
            "text/html": [
              "<style>\n",
              "    table.wandb td:nth-child(1) { padding: 0 10px; text-align: left ; width: auto;} td:nth-child(2) {text-align: left ; width: 100%}\n",
              "    .wandb-row { display: flex; flex-direction: row; flex-wrap: wrap; justify-content: flex-start; width: 100% }\n",
              "    .wandb-col { display: flex; flex-direction: column; flex-basis: 100%; flex: 1; padding: 10px; }\n",
              "    </style>\n",
              "<div class=\"wandb-row\"><div class=\"wandb-col\"><h3>Run history:</h3><br/><table class=\"wandb\"><tr><td>epoch/accuracy</td><td>▁▃▄▅▆▆▆▇▇▇▇████</td></tr><tr><td>epoch/epoch</td><td>▁▁▂▃▃▃▄▅▅▅▆▇▇▇█</td></tr><tr><td>epoch/learning_rate</td><td>▁▁▁▁▁▁▁▁▁▁▁▁▁▁▁</td></tr><tr><td>epoch/loss</td><td>█▇▆▅▄▄▃▃▃▂▂▂▂▁▁</td></tr><tr><td>epoch/val_accuracy</td><td>▁▅▇▇███▇▆▇▇▇▆█▇</td></tr><tr><td>epoch/val_loss</td><td>█▆▄▃▁▁▁▁▂▁▂▂▂▂▁</td></tr></table><br/></div><div class=\"wandb-col\"><h3>Run summary:</h3><br/><table class=\"wandb\"><tr><td>Test Acc</td><td>0.42438</td></tr><tr><td>epoch/accuracy</td><td>0.5278</td></tr><tr><td>epoch/epoch</td><td>14</td></tr><tr><td>epoch/learning_rate</td><td>0.001</td></tr><tr><td>epoch/loss</td><td>1.09036</td></tr><tr><td>epoch/val_accuracy</td><td>0.42825</td></tr><tr><td>epoch/val_loss</td><td>1.21355</td></tr></table><br/></div></div>"
            ]
          },
          "metadata": {}
        },
        {
          "output_type": "display_data",
          "data": {
            "text/plain": [
              "<IPython.core.display.HTML object>"
            ],
            "text/html": [
              " View run <strong style=\"color:#cdcd00\">delete-20-channel</strong> at: <a href='https://wandb.ai/petern0408/EEG-ml/runs/0yqsk1l9' target=\"_blank\">https://wandb.ai/petern0408/EEG-ml/runs/0yqsk1l9</a><br/>Synced 5 W&B file(s), 0 media file(s), 0 artifact file(s) and 0 other file(s)"
            ]
          },
          "metadata": {}
        },
        {
          "output_type": "display_data",
          "data": {
            "text/plain": [
              "<IPython.core.display.HTML object>"
            ],
            "text/html": [
              "Find logs at: <code>./wandb/run-20240307_081018-0yqsk1l9/logs</code>"
            ]
          },
          "metadata": {}
        },
        {
          "output_type": "stream",
          "name": "stdout",
          "text": [
            "SKIPPING channel 21 (0-indexed)\n"
          ]
        },
        {
          "output_type": "display_data",
          "data": {
            "text/plain": [
              "<IPython.core.display.HTML object>"
            ],
            "text/html": [
              "Tracking run with wandb version 0.16.4"
            ]
          },
          "metadata": {}
        },
        {
          "output_type": "display_data",
          "data": {
            "text/plain": [
              "<IPython.core.display.HTML object>"
            ],
            "text/html": [
              "Run data is saved locally in <code>/content/wandb/run-20240307_081740-eio0fwnl</code>"
            ]
          },
          "metadata": {}
        },
        {
          "output_type": "display_data",
          "data": {
            "text/plain": [
              "<IPython.core.display.HTML object>"
            ],
            "text/html": [
              "Syncing run <strong><a href='https://wandb.ai/petern0408/EEG-ml/runs/eio0fwnl' target=\"_blank\">delete-21-channel</a></strong> to <a href='https://wandb.ai/petern0408/EEG-ml' target=\"_blank\">Weights & Biases</a> (<a href='https://wandb.me/run' target=\"_blank\">docs</a>)<br/>"
            ]
          },
          "metadata": {}
        },
        {
          "output_type": "display_data",
          "data": {
            "text/plain": [
              "<IPython.core.display.HTML object>"
            ],
            "text/html": [
              " View project at <a href='https://wandb.ai/petern0408/EEG-ml' target=\"_blank\">https://wandb.ai/petern0408/EEG-ml</a>"
            ]
          },
          "metadata": {}
        },
        {
          "output_type": "display_data",
          "data": {
            "text/plain": [
              "<IPython.core.display.HTML object>"
            ],
            "text/html": [
              " View run at <a href='https://wandb.ai/petern0408/EEG-ml/runs/eio0fwnl' target=\"_blank\">https://wandb.ai/petern0408/EEG-ml/runs/eio0fwnl</a>"
            ]
          },
          "metadata": {}
        }
      ]
    },
    {
      "cell_type": "code",
      "source": [
        "# test_accs_per_channel\n",
        "# plot"
      ],
      "metadata": {
        "id": "_GxNXjfqjHo0"
      },
      "execution_count": null,
      "outputs": []
    },
    {
      "cell_type": "code",
      "source": [
        "# Model parameters\n",
        "# USING_WANDB = True\n",
        "lr = 1e-3\n",
        "NUM_EPOCHS = 100\n",
        "batch_size = 64\n",
        "\n",
        "optimizer = keras.optimizers.Adam(learning_rate=lr)\n",
        "criterion=\"categorical_crossentropy\"\n",
        "\n",
        "# TURNED OFF early stopping for now\n",
        "# Compiling the model\n",
        "patience = 5  # 3\n",
        "callbacks = [tf.keras.callbacks.EarlyStopping(monitor='val_loss', patience=patience)]\n",
        "\n",
        "input_shape = (400, 1, 22)\n",
        "l1_term = 0  # 0.01  pass into model\n",
        "model = CNNLSTMModel(input_shape=input_shape)\n",
        "\n",
        "if USING_WANDB:\n",
        "    wandb.init(\n",
        "        project=\"EEG-ml\",\n",
        "        name=f\"basic\",  # i like to put a note about the current run here (e.g lr-.001 or something)\n",
        "        settings=wandb.Settings(start_method=\"fork\"),\n",
        "        config = {\n",
        "            \"architecture\": model.__class__.__name__,\n",
        "            \"epochs\": NUM_EPOCHS,\n",
        "            \"learning_rate\": lr,\n",
        "            \"batch_size\": batch_size,\n",
        "            \"optimizer\": optimizer.__class__.__name__,\n",
        "            \"loss fn\": criterion.__class__.__name__,\n",
        "            \"patience\": patience\n",
        "            # \"weight decay\": weight_decay,\n",
        "    })\n",
        "\n",
        "    callbacks.append(WandbMetricsLogger())\n",
        "\n",
        "\n",
        "model.compile(loss=criterion,\n",
        "                 optimizer=optimizer,\n",
        "                 metrics=['accuracy'])\n",
        "\n",
        "# Training and validating the model\n",
        "model_results = model.fit(x_train, y_train,\n",
        "             batch_size=batch_size,\n",
        "             epochs=NUM_EPOCHS, callbacks=callbacks,\n",
        "             validation_data=(x_valid, y_valid))  #, verbose=True)\n",
        "\n",
        "model_score = model.evaluate(x_test, y_test, verbose=0)\n",
        "test_acc = model_score[1]\n",
        "print('Test accuracy of the hybrid CNN-LSTM model:', test_acc)\n",
        "if USING_WANDB:\n",
        "    wandb.summary[\"Test Acc\"] = test_acc\n",
        "    wandb.finish()"
      ],
      "metadata": {
        "colab": {
          "base_uri": "https://localhost:8080/",
          "height": 1000,
          "referenced_widgets": [
            "ac03a056602f4c02b7471c0c8d790444",
            "f07cf0b99b0e4615bbee1fa6fdada374",
            "61747dba301341d3bc71efe9925d6a03",
            "5ca426786c7246c69505d95b0815b07e",
            "0655b0f9c24549bb96c3d23e4a08e017",
            "60d57b9d49764808a11936af80fd018d",
            "b53714bf55984669b1c052b83db7f354",
            "50fd49f9dcd440dbb554020414cdfcba"
          ]
        },
        "id": "GEz2kktDHz-Z",
        "outputId": "164a90b8-fe26-4b54-d3cb-12565db7abd8"
      },
      "execution_count": null,
      "outputs": [
        {
          "output_type": "display_data",
          "data": {
            "text/plain": [
              "<IPython.core.display.HTML object>"
            ],
            "text/html": [
              "Tracking run with wandb version 0.16.4"
            ]
          },
          "metadata": {}
        },
        {
          "output_type": "display_data",
          "data": {
            "text/plain": [
              "<IPython.core.display.HTML object>"
            ],
            "text/html": [
              "Run data is saved locally in <code>/content/wandb/run-20240307_003727-nianpcw6</code>"
            ]
          },
          "metadata": {}
        },
        {
          "output_type": "display_data",
          "data": {
            "text/plain": [
              "<IPython.core.display.HTML object>"
            ],
            "text/html": [
              "Syncing run <strong><a href='https://wandb.ai/petern0408/EEG-ml/runs/nianpcw6' target=\"_blank\">basic</a></strong> to <a href='https://wandb.ai/petern0408/EEG-ml' target=\"_blank\">Weights & Biases</a> (<a href='https://wandb.me/run' target=\"_blank\">docs</a>)<br/>"
            ]
          },
          "metadata": {}
        },
        {
          "output_type": "display_data",
          "data": {
            "text/plain": [
              "<IPython.core.display.HTML object>"
            ],
            "text/html": [
              " View project at <a href='https://wandb.ai/petern0408/EEG-ml' target=\"_blank\">https://wandb.ai/petern0408/EEG-ml</a>"
            ]
          },
          "metadata": {}
        },
        {
          "output_type": "display_data",
          "data": {
            "text/plain": [
              "<IPython.core.display.HTML object>"
            ],
            "text/html": [
              " View run at <a href='https://wandb.ai/petern0408/EEG-ml/runs/nianpcw6' target=\"_blank\">https://wandb.ai/petern0408/EEG-ml/runs/nianpcw6</a>"
            ]
          },
          "metadata": {}
        },
        {
          "output_type": "stream",
          "name": "stdout",
          "text": [
            "Epoch 1/100\n",
            "70/70 [==============================] - 32s 390ms/step - loss: 1.3891 - accuracy: 0.2581 - val_loss: 1.3840 - val_accuracy: 0.3113\n",
            "Epoch 2/100\n",
            "70/70 [==============================] - 25s 365ms/step - loss: 1.3740 - accuracy: 0.2935 - val_loss: 1.3480 - val_accuracy: 0.3260\n",
            "Epoch 3/100\n",
            "70/70 [==============================] - 27s 381ms/step - loss: 1.3437 - accuracy: 0.3417 - val_loss: 1.3428 - val_accuracy: 0.3638\n",
            "Epoch 4/100\n",
            "70/70 [==============================] - 27s 390ms/step - loss: 1.2986 - accuracy: 0.3800 - val_loss: 1.2931 - val_accuracy: 0.3647\n",
            "Epoch 5/100\n",
            "70/70 [==============================] - 26s 365ms/step - loss: 1.2655 - accuracy: 0.4052 - val_loss: 1.2693 - val_accuracy: 0.3725\n",
            "Epoch 6/100\n",
            "70/70 [==============================] - 31s 439ms/step - loss: 1.2491 - accuracy: 0.4173 - val_loss: 1.2313 - val_accuracy: 0.4300\n",
            "Epoch 7/100\n",
            "70/70 [==============================] - 27s 381ms/step - loss: 1.2199 - accuracy: 0.4500 - val_loss: 1.2087 - val_accuracy: 0.4445\n",
            "Epoch 8/100\n",
            "70/70 [==============================] - 27s 383ms/step - loss: 1.2001 - accuracy: 0.4525 - val_loss: 1.2097 - val_accuracy: 0.4568\n",
            "Epoch 9/100\n",
            "70/70 [==============================] - 26s 373ms/step - loss: 1.1915 - accuracy: 0.4635 - val_loss: 1.2083 - val_accuracy: 0.4602\n",
            "Epoch 10/100\n",
            "70/70 [==============================] - 26s 373ms/step - loss: 1.1769 - accuracy: 0.4679 - val_loss: 1.1670 - val_accuracy: 0.4938\n",
            "Epoch 11/100\n",
            "70/70 [==============================] - 26s 374ms/step - loss: 1.1503 - accuracy: 0.4910 - val_loss: 1.1579 - val_accuracy: 0.4805\n",
            "Epoch 12/100\n",
            "70/70 [==============================] - 27s 384ms/step - loss: 1.1533 - accuracy: 0.4939 - val_loss: 1.1603 - val_accuracy: 0.4775\n",
            "Epoch 13/100\n",
            "70/70 [==============================] - 27s 381ms/step - loss: 1.1334 - accuracy: 0.4868 - val_loss: 1.1954 - val_accuracy: 0.4647\n",
            "Epoch 14/100\n",
            "70/70 [==============================] - 26s 370ms/step - loss: 1.1079 - accuracy: 0.5141 - val_loss: 1.1434 - val_accuracy: 0.4882\n",
            "Epoch 15/100\n",
            "70/70 [==============================] - 26s 364ms/step - loss: 1.0946 - accuracy: 0.5052 - val_loss: 1.1302 - val_accuracy: 0.4997\n",
            "Epoch 16/100\n",
            "70/70 [==============================] - 25s 363ms/step - loss: 1.0816 - accuracy: 0.5220 - val_loss: 1.1495 - val_accuracy: 0.4880\n",
            "Epoch 17/100\n",
            "70/70 [==============================] - 31s 437ms/step - loss: 1.0659 - accuracy: 0.5361 - val_loss: 1.1649 - val_accuracy: 0.4895\n",
            "Epoch 18/100\n",
            "70/70 [==============================] - 25s 364ms/step - loss: 1.0687 - accuracy: 0.5231 - val_loss: 1.1424 - val_accuracy: 0.4933\n",
            "Epoch 19/100\n",
            "70/70 [==============================] - 26s 378ms/step - loss: 1.0390 - accuracy: 0.5482 - val_loss: 1.1637 - val_accuracy: 0.4940\n",
            "Epoch 20/100\n",
            "70/70 [==============================] - 26s 377ms/step - loss: 1.0234 - accuracy: 0.5585 - val_loss: 1.1796 - val_accuracy: 0.4663\n",
            "Epoch 21/100\n",
            "70/70 [==============================] - 25s 364ms/step - loss: 1.0349 - accuracy: 0.5507 - val_loss: 1.2568 - val_accuracy: 0.4550\n",
            "Epoch 22/100\n",
            "70/70 [==============================] - 26s 378ms/step - loss: 1.0206 - accuracy: 0.5453 - val_loss: 1.1851 - val_accuracy: 0.4608\n",
            "Epoch 23/100\n",
            "70/70 [==============================] - 25s 363ms/step - loss: 1.0137 - accuracy: 0.5549 - val_loss: 1.1482 - val_accuracy: 0.4975\n",
            "Epoch 24/100\n",
            "70/70 [==============================] - 26s 377ms/step - loss: 0.9940 - accuracy: 0.5722 - val_loss: 1.1836 - val_accuracy: 0.4905\n",
            "Epoch 25/100\n",
            "70/70 [==============================] - 27s 381ms/step - loss: 0.9758 - accuracy: 0.5807 - val_loss: 1.1503 - val_accuracy: 0.5023\n",
            "Epoch 26/100\n",
            "70/70 [==============================] - 26s 376ms/step - loss: 0.9807 - accuracy: 0.5783 - val_loss: 1.1445 - val_accuracy: 0.4897\n",
            "Epoch 27/100\n",
            "70/70 [==============================] - 25s 359ms/step - loss: 0.9772 - accuracy: 0.5827 - val_loss: 1.1595 - val_accuracy: 0.4965\n",
            "Epoch 28/100\n",
            "70/70 [==============================] - 26s 368ms/step - loss: 0.9532 - accuracy: 0.5951 - val_loss: 1.2021 - val_accuracy: 0.4800\n",
            "Epoch 29/100\n",
            "70/70 [==============================] - 26s 363ms/step - loss: 0.9527 - accuracy: 0.5906 - val_loss: 1.1300 - val_accuracy: 0.5173\n",
            "Epoch 30/100\n",
            "70/70 [==============================] - 25s 360ms/step - loss: 0.9438 - accuracy: 0.5980 - val_loss: 1.1802 - val_accuracy: 0.5033\n",
            "Epoch 31/100\n",
            "70/70 [==============================] - 25s 361ms/step - loss: 0.9367 - accuracy: 0.6038 - val_loss: 1.1760 - val_accuracy: 0.5040\n",
            "Epoch 32/100\n",
            "70/70 [==============================] - 25s 360ms/step - loss: 0.9206 - accuracy: 0.6034 - val_loss: 1.1632 - val_accuracy: 0.5153\n",
            "Epoch 33/100\n",
            "70/70 [==============================] - 31s 435ms/step - loss: 0.9313 - accuracy: 0.5991 - val_loss: 1.1601 - val_accuracy: 0.5190\n",
            "Epoch 34/100\n",
            "70/70 [==============================] - 25s 363ms/step - loss: 0.9337 - accuracy: 0.5877 - val_loss: 1.1480 - val_accuracy: 0.5023\n",
            "Epoch 35/100\n",
            "70/70 [==============================] - 26s 375ms/step - loss: 0.9095 - accuracy: 0.6177 - val_loss: 1.1657 - val_accuracy: 0.5138\n",
            "Epoch 36/100\n",
            "70/70 [==============================] - 25s 364ms/step - loss: 0.8906 - accuracy: 0.6294 - val_loss: 1.1327 - val_accuracy: 0.5332\n",
            "Epoch 37/100\n",
            "70/70 [==============================] - 27s 394ms/step - loss: 0.8996 - accuracy: 0.6200 - val_loss: 1.1628 - val_accuracy: 0.5035\n",
            "Epoch 38/100\n",
            "70/70 [==============================] - 26s 368ms/step - loss: 0.8873 - accuracy: 0.6244 - val_loss: 1.1614 - val_accuracy: 0.5275\n",
            "Epoch 39/100\n",
            "70/70 [==============================] - 26s 377ms/step - loss: 0.8833 - accuracy: 0.6294 - val_loss: 1.1811 - val_accuracy: 0.5035\n",
            "Epoch 40/100\n",
            "70/70 [==============================] - 26s 378ms/step - loss: 0.8748 - accuracy: 0.6300 - val_loss: 1.1738 - val_accuracy: 0.5160\n",
            "Epoch 41/100\n",
            "70/70 [==============================] - 26s 377ms/step - loss: 0.8513 - accuracy: 0.6462 - val_loss: 1.1324 - val_accuracy: 0.5325\n",
            "Epoch 42/100\n",
            "70/70 [==============================] - 26s 364ms/step - loss: 0.8646 - accuracy: 0.6439 - val_loss: 1.1493 - val_accuracy: 0.5245\n",
            "Epoch 43/100\n",
            "70/70 [==============================] - 25s 363ms/step - loss: 0.8607 - accuracy: 0.6417 - val_loss: 1.1662 - val_accuracy: 0.5235\n",
            "Epoch 44/100\n",
            "70/70 [==============================] - 31s 436ms/step - loss: 0.8569 - accuracy: 0.6397 - val_loss: 1.1355 - val_accuracy: 0.5393\n",
            "Epoch 45/100\n",
            "70/70 [==============================] - 26s 377ms/step - loss: 0.8418 - accuracy: 0.6536 - val_loss: 1.1666 - val_accuracy: 0.5347\n",
            "Epoch 46/100\n",
            "70/70 [==============================] - 25s 364ms/step - loss: 0.8559 - accuracy: 0.6451 - val_loss: 1.1762 - val_accuracy: 0.5253\n",
            "Epoch 47/100\n",
            "70/70 [==============================] - 26s 377ms/step - loss: 0.8260 - accuracy: 0.6684 - val_loss: 1.1848 - val_accuracy: 0.5238\n",
            "Epoch 48/100\n",
            "70/70 [==============================] - 27s 384ms/step - loss: 0.8243 - accuracy: 0.6547 - val_loss: 1.1729 - val_accuracy: 0.5280\n",
            "Epoch 49/100\n",
            "70/70 [==============================] - 27s 382ms/step - loss: 0.8232 - accuracy: 0.6628 - val_loss: 1.2252 - val_accuracy: 0.5157\n",
            "Epoch 50/100\n",
            "70/70 [==============================] - 27s 382ms/step - loss: 0.8220 - accuracy: 0.6583 - val_loss: 1.1529 - val_accuracy: 0.5360\n",
            "Epoch 51/100\n",
            "70/70 [==============================] - 26s 374ms/step - loss: 0.8074 - accuracy: 0.6717 - val_loss: 1.1418 - val_accuracy: 0.5393\n",
            "Epoch 52/100\n",
            "70/70 [==============================] - 26s 374ms/step - loss: 0.7923 - accuracy: 0.6747 - val_loss: 1.1584 - val_accuracy: 0.5310\n",
            "Epoch 53/100\n",
            "70/70 [==============================] - 26s 376ms/step - loss: 0.8203 - accuracy: 0.6637 - val_loss: 1.1477 - val_accuracy: 0.5328\n",
            "Epoch 54/100\n",
            "70/70 [==============================] - 31s 444ms/step - loss: 0.8057 - accuracy: 0.6722 - val_loss: 1.1805 - val_accuracy: 0.5357\n",
            "Epoch 55/100\n",
            "70/70 [==============================] - 27s 387ms/step - loss: 0.7843 - accuracy: 0.6848 - val_loss: 1.1279 - val_accuracy: 0.5660\n",
            "Epoch 56/100\n",
            "70/70 [==============================] - 26s 374ms/step - loss: 0.7912 - accuracy: 0.6807 - val_loss: 1.1328 - val_accuracy: 0.5590\n",
            "Epoch 57/100\n",
            "70/70 [==============================] - 26s 377ms/step - loss: 0.7737 - accuracy: 0.6966 - val_loss: 1.2242 - val_accuracy: 0.5305\n",
            "Epoch 58/100\n",
            "70/70 [==============================] - 25s 363ms/step - loss: 0.7768 - accuracy: 0.6872 - val_loss: 1.1737 - val_accuracy: 0.5422\n",
            "Epoch 59/100\n",
            "70/70 [==============================] - 26s 377ms/step - loss: 0.7618 - accuracy: 0.6915 - val_loss: 1.1651 - val_accuracy: 0.5425\n",
            "Epoch 60/100\n",
            "70/70 [==============================] - 26s 373ms/step - loss: 0.7746 - accuracy: 0.6881 - val_loss: 1.1570 - val_accuracy: 0.5425\n",
            "Epoch 61/100\n",
            "70/70 [==============================] - 26s 369ms/step - loss: 0.7371 - accuracy: 0.7083 - val_loss: 1.1670 - val_accuracy: 0.5483\n",
            "Epoch 62/100\n",
            "70/70 [==============================] - 25s 359ms/step - loss: 0.7500 - accuracy: 0.7047 - val_loss: 1.1959 - val_accuracy: 0.5412\n",
            "Epoch 63/100\n",
            "70/70 [==============================] - 25s 362ms/step - loss: 0.7436 - accuracy: 0.7020 - val_loss: 1.1138 - val_accuracy: 0.5567\n",
            "Epoch 64/100\n",
            "70/70 [==============================] - 26s 371ms/step - loss: 0.7377 - accuracy: 0.7085 - val_loss: 1.1303 - val_accuracy: 0.5562\n",
            "Epoch 65/100\n",
            "70/70 [==============================] - 26s 363ms/step - loss: 0.7430 - accuracy: 0.7137 - val_loss: 1.1384 - val_accuracy: 0.5610\n",
            "Epoch 66/100\n",
            "70/70 [==============================] - 26s 364ms/step - loss: 0.7214 - accuracy: 0.7247 - val_loss: 1.1896 - val_accuracy: 0.5458\n",
            "Epoch 67/100\n",
            "70/70 [==============================] - 31s 436ms/step - loss: 0.7272 - accuracy: 0.7186 - val_loss: 1.1447 - val_accuracy: 0.5537\n",
            "Epoch 68/100\n",
            "70/70 [==============================] - 25s 363ms/step - loss: 0.7365 - accuracy: 0.7090 - val_loss: 1.1480 - val_accuracy: 0.5605\n",
            "Epoch 69/100\n",
            "70/70 [==============================] - 26s 376ms/step - loss: 0.7113 - accuracy: 0.7186 - val_loss: 1.1387 - val_accuracy: 0.5537\n",
            "Epoch 70/100\n",
            "70/70 [==============================] - 27s 381ms/step - loss: 0.6998 - accuracy: 0.7242 - val_loss: 1.2395 - val_accuracy: 0.5365\n",
            "Epoch 71/100\n",
            "70/70 [==============================] - 26s 376ms/step - loss: 0.7128 - accuracy: 0.7235 - val_loss: 1.1590 - val_accuracy: 0.5583\n",
            "Epoch 72/100\n",
            "70/70 [==============================] - 26s 377ms/step - loss: 0.7198 - accuracy: 0.7238 - val_loss: 1.1713 - val_accuracy: 0.5575\n",
            "Epoch 73/100\n",
            "70/70 [==============================] - 27s 386ms/step - loss: 0.6995 - accuracy: 0.7350 - val_loss: 1.1856 - val_accuracy: 0.5493\n",
            "Epoch 74/100\n",
            "70/70 [==============================] - 27s 384ms/step - loss: 0.7035 - accuracy: 0.7229 - val_loss: 1.1563 - val_accuracy: 0.5602\n",
            "Epoch 75/100\n",
            "70/70 [==============================] - 32s 451ms/step - loss: 0.6967 - accuracy: 0.7314 - val_loss: 1.1821 - val_accuracy: 0.5608\n",
            "Epoch 76/100\n",
            "70/70 [==============================] - 27s 386ms/step - loss: 0.6705 - accuracy: 0.7419 - val_loss: 1.1992 - val_accuracy: 0.5585\n",
            "Epoch 77/100\n",
            "70/70 [==============================] - 27s 386ms/step - loss: 0.7117 - accuracy: 0.7188 - val_loss: 1.1460 - val_accuracy: 0.5625\n",
            "Epoch 78/100\n",
            "70/70 [==============================] - 27s 391ms/step - loss: 0.6940 - accuracy: 0.7300 - val_loss: 1.1645 - val_accuracy: 0.5663\n",
            "Epoch 79/100\n",
            "70/70 [==============================] - 27s 387ms/step - loss: 0.6730 - accuracy: 0.7395 - val_loss: 1.2023 - val_accuracy: 0.5570\n",
            "Epoch 80/100\n",
            "70/70 [==============================] - 31s 448ms/step - loss: 0.6909 - accuracy: 0.7307 - val_loss: 1.1263 - val_accuracy: 0.5788\n",
            "Epoch 81/100\n",
            "70/70 [==============================] - 27s 384ms/step - loss: 0.6771 - accuracy: 0.7327 - val_loss: 1.1361 - val_accuracy: 0.5683\n",
            "Epoch 82/100\n",
            "70/70 [==============================] - 26s 370ms/step - loss: 0.6897 - accuracy: 0.7370 - val_loss: 1.1476 - val_accuracy: 0.5685\n",
            "Epoch 83/100\n",
            "70/70 [==============================] - 27s 383ms/step - loss: 0.6518 - accuracy: 0.7496 - val_loss: 1.1353 - val_accuracy: 0.5807\n",
            "Epoch 84/100\n",
            "70/70 [==============================] - 26s 369ms/step - loss: 0.6454 - accuracy: 0.7507 - val_loss: 1.2578 - val_accuracy: 0.5390\n",
            "Epoch 85/100\n",
            "70/70 [==============================] - 27s 392ms/step - loss: 0.6456 - accuracy: 0.7475 - val_loss: 1.1866 - val_accuracy: 0.5723\n",
            "Epoch 86/100\n",
            "70/70 [==============================] - 26s 370ms/step - loss: 0.6324 - accuracy: 0.7635 - val_loss: 1.2131 - val_accuracy: 0.5710\n",
            "Epoch 87/100\n",
            "70/70 [==============================] - 27s 382ms/step - loss: 0.6679 - accuracy: 0.7419 - val_loss: 1.1958 - val_accuracy: 0.5713\n",
            "Epoch 88/100\n",
            "70/70 [==============================] - 26s 365ms/step - loss: 0.6459 - accuracy: 0.7578 - val_loss: 1.1592 - val_accuracy: 0.5730\n",
            "Epoch 89/100\n",
            "70/70 [==============================] - 31s 435ms/step - loss: 0.6372 - accuracy: 0.7583 - val_loss: 1.1407 - val_accuracy: 0.5800\n",
            "Epoch 90/100\n",
            "70/70 [==============================] - 25s 363ms/step - loss: 0.6208 - accuracy: 0.7650 - val_loss: 1.1557 - val_accuracy: 0.5803\n",
            "Epoch 91/100\n",
            "70/70 [==============================] - 25s 364ms/step - loss: 0.6350 - accuracy: 0.7646 - val_loss: 1.1612 - val_accuracy: 0.5922\n",
            "Epoch 92/100\n",
            "70/70 [==============================] - 26s 377ms/step - loss: 0.6241 - accuracy: 0.7610 - val_loss: 1.1400 - val_accuracy: 0.5882\n",
            "Epoch 93/100\n",
            "70/70 [==============================] - 25s 365ms/step - loss: 0.6105 - accuracy: 0.7715 - val_loss: 1.1298 - val_accuracy: 0.5870\n",
            "Epoch 94/100\n",
            "70/70 [==============================] - 26s 378ms/step - loss: 0.5968 - accuracy: 0.7758 - val_loss: 1.1494 - val_accuracy: 0.5825\n",
            "Epoch 95/100\n",
            "70/70 [==============================] - 26s 378ms/step - loss: 0.6104 - accuracy: 0.7697 - val_loss: 1.1137 - val_accuracy: 0.5968\n",
            "Epoch 96/100\n",
            "70/70 [==============================] - 26s 377ms/step - loss: 0.6197 - accuracy: 0.7702 - val_loss: 1.1400 - val_accuracy: 0.5918\n",
            "Epoch 97/100\n",
            "70/70 [==============================] - 26s 374ms/step - loss: 0.5858 - accuracy: 0.7812 - val_loss: 1.1879 - val_accuracy: 0.5863\n",
            "Epoch 98/100\n",
            "70/70 [==============================] - 26s 377ms/step - loss: 0.5866 - accuracy: 0.7834 - val_loss: 1.1352 - val_accuracy: 0.5872\n",
            "Epoch 99/100\n",
            "70/70 [==============================] - 26s 371ms/step - loss: 0.6004 - accuracy: 0.7695 - val_loss: 1.1197 - val_accuracy: 0.5888\n",
            "Epoch 100/100\n",
            "70/70 [==============================] - 25s 363ms/step - loss: 0.5944 - accuracy: 0.7709 - val_loss: 1.2041 - val_accuracy: 0.5865\n",
            "Test accuracy of the hybrid CNN-LSTM model: 0.5395033955574036\n"
          ]
        },
        {
          "output_type": "display_data",
          "data": {
            "text/plain": [
              "VBox(children=(Label(value='0.001 MB of 0.092 MB uploaded\\r'), FloatProgress(value=0.011216933415036922, max=1…"
            ],
            "application/vnd.jupyter.widget-view+json": {
              "version_major": 2,
              "version_minor": 0,
              "model_id": "ac03a056602f4c02b7471c0c8d790444"
            }
          },
          "metadata": {}
        },
        {
          "output_type": "display_data",
          "data": {
            "text/plain": [
              "<IPython.core.display.HTML object>"
            ],
            "text/html": [
              "<style>\n",
              "    table.wandb td:nth-child(1) { padding: 0 10px; text-align: left ; width: auto;} td:nth-child(2) {text-align: left ; width: 100%}\n",
              "    .wandb-row { display: flex; flex-direction: row; flex-wrap: wrap; justify-content: flex-start; width: 100% }\n",
              "    .wandb-col { display: flex; flex-direction: column; flex-basis: 100%; flex: 1; padding: 10px; }\n",
              "    </style>\n",
              "<div class=\"wandb-row\"><div class=\"wandb-col\"><h3>Run history:</h3><br/><table class=\"wandb\"><tr><td>epoch/accuracy</td><td>▁▂▃▄▄▄▅▅▅▅▅▆▆▅▆▆▆▆▆▆▇▇▇▇▇▇▇▇▇▇▇▇▇█▇█████</td></tr><tr><td>epoch/epoch</td><td>▁▁▁▁▂▂▂▂▂▃▃▃▃▃▃▄▄▄▄▄▅▅▅▅▅▅▆▆▆▆▆▇▇▇▇▇▇███</td></tr><tr><td>epoch/learning_rate</td><td>▁▁▁▁▁▁▁▁▁▁▁▁▁▁▁▁▁▁▁▁▁▁▁▁▁▁▁▁▁▁▁▁▁▁▁▁▁▁▁▁</td></tr><tr><td>epoch/loss</td><td>██▇▆▆▆▅▅▅▅▄▄▄▄▄▄▃▃▃▃▃▃▃▃▂▂▂▂▂▂▂▂▂▂▂▁▁▁▁▁</td></tr><tr><td>epoch/val_accuracy</td><td>▁▂▄▅▅▅▅▆▅▆▆▅▆▆▇▆▇▇▆▆▇▇▇▇▇▇▇▇▇▇▇▇█▇██████</td></tr><tr><td>epoch/val_loss</td><td>█▇▄▃▂▃▂▁▄▁▁▃▂▁▁▂▁▁▂▄▁▂▁▂▂▁▁▁▂▂▁▃▁▅▃▁▁▂▃▃</td></tr></table><br/></div><div class=\"wandb-col\"><h3>Run summary:</h3><br/><table class=\"wandb\"><tr><td>epoch/accuracy</td><td>0.77085</td></tr><tr><td>epoch/epoch</td><td>99</td></tr><tr><td>epoch/learning_rate</td><td>0.001</td></tr><tr><td>epoch/loss</td><td>0.59442</td></tr><tr><td>epoch/val_accuracy</td><td>0.5865</td></tr><tr><td>epoch/val_loss</td><td>1.20412</td></tr></table><br/></div></div>"
            ]
          },
          "metadata": {}
        },
        {
          "output_type": "display_data",
          "data": {
            "text/plain": [
              "<IPython.core.display.HTML object>"
            ],
            "text/html": [
              " View run <strong style=\"color:#cdcd00\">basic</strong> at: <a href='https://wandb.ai/petern0408/EEG-ml/runs/nianpcw6' target=\"_blank\">https://wandb.ai/petern0408/EEG-ml/runs/nianpcw6</a><br/>Synced 5 W&B file(s), 0 media file(s), 0 artifact file(s) and 0 other file(s)"
            ]
          },
          "metadata": {}
        },
        {
          "output_type": "display_data",
          "data": {
            "text/plain": [
              "<IPython.core.display.HTML object>"
            ],
            "text/html": [
              "Find logs at: <code>./wandb/run-20240307_003727-nianpcw6/logs</code>"
            ]
          },
          "metadata": {}
        }
      ]
    },
    {
      "cell_type": "markdown",
      "source": [
        "Experiment with L1 Reg  (TODO: move this to new notebook)"
      ],
      "metadata": {
        "id": "mvJ96wJLMlQL"
      }
    },
    {
      "cell_type": "code",
      "execution_count": null,
      "metadata": {
        "colab": {
          "base_uri": "https://localhost:8080/"
        },
        "id": "QCGTCRERCeUB",
        "outputId": "313efcbc-9fef-4aa7-c190-0e7493a7d36f"
      },
      "outputs": [
        {
          "output_type": "stream",
          "name": "stdout",
          "text": [
            "USING 0.001 l1_term\n",
            "Model: \"sequential_3\"\n",
            "_________________________________________________________________\n",
            " Layer (type)                Output Shape              Param #   \n",
            "=================================================================\n",
            " conv2d_45 (Conv2D)          (None, 400, 1, 25)        13775     \n",
            "                                                                 \n",
            " max_pooling2d_39 (MaxPooli  (None, 134, 1, 25)        0         \n",
            " ng2D)                                                           \n",
            "                                                                 \n",
            " batch_normalization_39 (Ba  (None, 134, 1, 25)        100       \n",
            " tchNormalization)                                               \n",
            "                                                                 \n",
            " dropout_39 (Dropout)        (None, 134, 1, 25)        0         \n",
            "                                                                 \n",
            " conv2d_46 (Conv2D)          (None, 134, 1, 50)        31300     \n",
            "                                                                 \n",
            " max_pooling2d_40 (MaxPooli  (None, 45, 1, 50)         0         \n",
            " ng2D)                                                           \n",
            "                                                                 \n",
            " batch_normalization_40 (Ba  (None, 45, 1, 50)         200       \n",
            " tchNormalization)                                               \n",
            "                                                                 \n",
            " dropout_40 (Dropout)        (None, 45, 1, 50)         0         \n",
            "                                                                 \n",
            " conv2d_47 (Conv2D)          (None, 45, 1, 100)        125100    \n",
            "                                                                 \n",
            " max_pooling2d_41 (MaxPooli  (None, 15, 1, 100)        0         \n",
            " ng2D)                                                           \n",
            "                                                                 \n",
            " batch_normalization_41 (Ba  (None, 15, 1, 100)        400       \n",
            " tchNormalization)                                               \n",
            "                                                                 \n",
            " dropout_41 (Dropout)        (None, 15, 1, 100)        0         \n",
            "                                                                 \n",
            " conv2d_48 (Conv2D)          (None, 15, 1, 200)        500200    \n",
            "                                                                 \n",
            " max_pooling2d_42 (MaxPooli  (None, 5, 1, 200)         0         \n",
            " ng2D)                                                           \n",
            "                                                                 \n",
            " batch_normalization_42 (Ba  (None, 5, 1, 200)         800       \n",
            " tchNormalization)                                               \n",
            "                                                                 \n",
            " dropout_42 (Dropout)        (None, 5, 1, 200)         0         \n",
            "                                                                 \n",
            " flatten_8 (Flatten)         (None, 1000)              0         \n",
            "                                                                 \n",
            " dense_16 (Dense)            (None, 40)                40040     \n",
            "                                                                 \n",
            " reshape_8 (Reshape)         (None, 40, 1)             0         \n",
            "                                                                 \n",
            " lstm_8 (LSTM)               (None, 10)                480       \n",
            "                                                                 \n",
            " dense_17 (Dense)            (None, 4)                 44        \n",
            "                                                                 \n",
            "=================================================================\n",
            "Total params: 712439 (2.72 MB)\n",
            "Trainable params: 711689 (2.71 MB)\n",
            "Non-trainable params: 750 (2.93 KB)\n",
            "_________________________________________________________________\n"
          ]
        }
      ],
      "source": [
        "# WITH L1 REG\n",
        "\n",
        "# Building the CNN model using sequential class\n",
        "hybrid_cnn_lstm_model = Sequential()\n",
        "\n",
        "# Conv. block 1\n",
        "# val_accuracy: 0.4618  w/ default .01 TODO implement early stopping\n",
        "l1_term = .001\n",
        "l1_reg = tf.keras.regularizers.L1(l1=l1_term)\n",
        "print(f\"USING {l1_term} l1_term\")\n",
        "\n",
        "hybrid_cnn_lstm_model.add(Conv2D(filters=25, kernel_size=(5,5), padding='same', activation='elu', input_shape=input_shape,\n",
        "                                 kernel_regularizer=l1_reg))  # ADDED L1 reg\n",
        "hybrid_cnn_lstm_model.add(MaxPooling2D(pool_size=(3,1), padding='same')) # Read the keras documentation\n",
        "hybrid_cnn_lstm_model.add(BatchNormalization())\n",
        "hybrid_cnn_lstm_model.add(Dropout(0.6))\n",
        "\n",
        "# Conv. block 2\n",
        "hybrid_cnn_lstm_model.add(Conv2D(filters=50, kernel_size=(5,5), padding='same', activation='elu'))\n",
        "hybrid_cnn_lstm_model.add(MaxPooling2D(pool_size=(3,1), padding='same'))\n",
        "hybrid_cnn_lstm_model.add(BatchNormalization())\n",
        "hybrid_cnn_lstm_model.add(Dropout(0.6))\n",
        "\n",
        "# Conv. block 3\n",
        "hybrid_cnn_lstm_model.add(Conv2D(filters=100, kernel_size=(5,5), padding='same', activation='elu'))\n",
        "hybrid_cnn_lstm_model.add(MaxPooling2D(pool_size=(3,1), padding='same'))\n",
        "hybrid_cnn_lstm_model.add(BatchNormalization())\n",
        "hybrid_cnn_lstm_model.add(Dropout(0.6))\n",
        "\n",
        "# Conv. block 4\n",
        "hybrid_cnn_lstm_model.add(Conv2D(filters=200, kernel_size=(5,5), padding='same', activation='elu'))\n",
        "hybrid_cnn_lstm_model.add(MaxPooling2D(pool_size=(3,1), padding='same'))\n",
        "hybrid_cnn_lstm_model.add(BatchNormalization())\n",
        "hybrid_cnn_lstm_model.add(Dropout(0.6))\n",
        "\n",
        "# FC+LSTM layers\n",
        "hybrid_cnn_lstm_model.add(Flatten()) # Adding a flattening operation to the output of CNN block\n",
        "hybrid_cnn_lstm_model.add(Dense((40))) # FC layer\n",
        "hybrid_cnn_lstm_model.add(Reshape((40,1))) # Reshape my output of FC layer so that it's compatible\n",
        "hybrid_cnn_lstm_model.add(LSTM(10, dropout=0.4, recurrent_dropout=0.1, input_shape=(40,1), return_sequences=False))\n",
        "# TODO: can make the 3rd dim more than just 1. could make it a feature vector\n",
        "\n",
        "# Output layer with Softmax activation\n",
        "hybrid_cnn_lstm_model.add(Dense(4, activation='softmax')) # Output FC layer with softmax activation\n",
        "\n",
        "# Printing the model summary\n",
        "hybrid_cnn_lstm_model.summary()"
      ]
    },
    {
      "cell_type": "code",
      "execution_count": null,
      "metadata": {
        "id": "1DCa9O-SCeUC",
        "colab": {
          "base_uri": "https://localhost:8080/"
        },
        "outputId": "8f7859c0-7453-49a5-945f-56f2bf870d9f"
      },
      "outputs": [
        {
          "output_type": "stream",
          "name": "stdout",
          "text": [
            "Epoch 1/100\n",
            "70/70 [==============================] - 31s 370ms/step - loss: 1.6268 - accuracy: 0.2578 - val_loss: 1.4777 - val_accuracy: 0.2765\n",
            "Epoch 2/100\n",
            "70/70 [==============================] - 30s 430ms/step - loss: 1.4585 - accuracy: 0.2915 - val_loss: 1.4322 - val_accuracy: 0.3428\n",
            "Epoch 3/100\n",
            "70/70 [==============================] - 26s 372ms/step - loss: 1.4171 - accuracy: 0.3390 - val_loss: 1.3704 - val_accuracy: 0.3985\n",
            "Epoch 4/100\n",
            "70/70 [==============================] - 25s 359ms/step - loss: 1.3692 - accuracy: 0.3807 - val_loss: 1.3050 - val_accuracy: 0.4387\n",
            "Epoch 5/100\n",
            "70/70 [==============================] - 25s 359ms/step - loss: 1.3374 - accuracy: 0.3964 - val_loss: 1.3411 - val_accuracy: 0.3823\n",
            "Epoch 6/100\n",
            "70/70 [==============================] - 26s 373ms/step - loss: 1.3148 - accuracy: 0.4191 - val_loss: 1.2908 - val_accuracy: 0.4123\n",
            "Epoch 7/100\n",
            "70/70 [==============================] - 26s 372ms/step - loss: 1.2981 - accuracy: 0.4148 - val_loss: 1.2630 - val_accuracy: 0.4300\n",
            "Epoch 8/100\n",
            "70/70 [==============================] - 31s 449ms/step - loss: 1.2686 - accuracy: 0.4395 - val_loss: 1.2366 - val_accuracy: 0.4618\n",
            "Epoch 9/100\n",
            "70/70 [==============================] - 30s 431ms/step - loss: 1.2656 - accuracy: 0.4370 - val_loss: 1.2613 - val_accuracy: 0.4412\n",
            "Epoch 10/100\n",
            "70/70 [==============================] - 25s 359ms/step - loss: 1.2414 - accuracy: 0.4567 - val_loss: 1.2518 - val_accuracy: 0.4428\n",
            "Epoch 11/100\n",
            "70/70 [==============================] - 25s 360ms/step - loss: 1.2302 - accuracy: 0.4740 - val_loss: 1.2134 - val_accuracy: 0.4787\n",
            "Epoch 12/100\n",
            "70/70 [==============================] - 26s 373ms/step - loss: 1.2081 - accuracy: 0.4897 - val_loss: 1.2144 - val_accuracy: 0.4778\n",
            "Epoch 13/100\n",
            "70/70 [==============================] - 26s 372ms/step - loss: 1.2108 - accuracy: 0.4816 - val_loss: 1.2175 - val_accuracy: 0.4595\n",
            "Epoch 14/100\n",
            "70/70 [==============================] - 26s 373ms/step - loss: 1.1934 - accuracy: 0.5052 - val_loss: 1.2713 - val_accuracy: 0.4700\n"
          ]
        }
      ],
      "source": [
        "# Model parameters\n",
        "learning_rate = 1e-3\n",
        "epochs = 100\n",
        "hybrid_cnn_lstm_optimizer = keras.optimizers.Adam(learning_rate=learning_rate)\n",
        "\n",
        "# Compiling the model\n",
        "early_stop_callback = tf.keras.callbacks.EarlyStopping(monitor='val_loss', patience=3)\n",
        "\n",
        "hybrid_cnn_lstm_model.compile(loss='categorical_crossentropy',\n",
        "                 optimizer=hybrid_cnn_lstm_optimizer,\n",
        "                 metrics=['accuracy'])\n",
        "\n",
        "# Training and validating the model\n",
        "hybrid_cnn_lstm_model_results = hybrid_cnn_lstm_model.fit(x_train,\n",
        "             y_train,\n",
        "             batch_size=64,\n",
        "             epochs=epochs, callbacks=[early_stop_callback],\n",
        "             validation_data=(x_valid, y_valid), verbose=True)"
      ]
    },
    {
      "cell_type": "code",
      "source": [
        "# Checking L1 regularization results\n",
        "# check feature map sparcity (percent of )\n",
        "# consider gradient based saliency map ?\n",
        "num_channels = 22\n",
        "threshold = 1e-7  # below this number we consider 0 weight\n",
        "\n",
        "hidden1_params = hybrid_cnn_lstm_model.layers[0].get_weights()\n",
        "# print(hidden1_params[0].shape)\n",
        "# print(hidden1_params[1].shape)  # biases: (25,)  # num_filters\n",
        "hidden1_weights_abs = tf.math.abs(hidden1_params[0])  # (5, 5, 22, 25)  # (w,h, num_channels, num_filters)\n",
        "mean_weight_val = tf.math.reduce_mean(hidden1_weights_abs)\n",
        "sd_weight_val = tf.math.reduce_std(hidden1_weights_abs)\n",
        "print(f\"Total: mean {mean_weight_val :.7f}, sd {sd_weight_val :.6f}\")\n",
        "\n",
        "for c in range (num_channels):\n",
        "    print(f\"Channel {c}\")\n",
        "    hidden1_weights_abs_c = hidden1_weights_abs[:, :, c, :]  # (5,5,25)\n",
        "    mean_weight_val = tf.math.reduce_mean(hidden1_weights_abs_c)\n",
        "    sd_weight_val = tf.math.reduce_std(hidden1_weights_abs_c)\n",
        "    print(f\"mean {mean_weight_val :.7f}, sd {sd_weight_val :.6f}\")\n",
        "\n",
        "    trues_mask = tf.cast((hidden1_weights_abs_c < threshold), tf.int64)  # (5, 5, 22, 25)\n",
        "    bincounts = tf.math.bincount(trues_mask)\n",
        "    falses = bincounts[0]\n",
        "    if len(bincounts) > 1:\n",
        "        trues = bincounts[1]\n",
        "    else:\n",
        "        trues = tf.zeros_like(falses)\n",
        "    total = falses + trues\n",
        "    trues_percent = tf.get_static_value(trues / total) * 100\n",
        "    print(f\"trues {trues}\")\n",
        "    print(f\"trues_percent {trues_percent: .4f} %  (num of 'zeros' / num params) * 100 \")\n",
        "    print()\n",
        "\n",
        "# Channel 14\n",
        "# mean 0.0006833, sd 0.001889\n",
        "# channels 14, 2, 8, 10, 11, 15, 19, 21\n",
        "# tried with another rate. got diff results\n",
        "# trues_percent  0.1600 %  (num of 'zeros' / num params) * 100"
      ],
      "metadata": {
        "colab": {
          "base_uri": "https://localhost:8080/"
        },
        "id": "bfsLVZ6Xeg9k",
        "outputId": "01e0f639-15de-4a1c-e8be-e4bc2f5167e7"
      },
      "execution_count": null,
      "outputs": [
        {
          "output_type": "stream",
          "name": "stdout",
          "text": [
            "Total: mean 0.0030221, sd 0.009854\n",
            "Channel 0\n",
            "mean 0.0041676, sd 0.012289\n",
            "trues 0\n",
            "trues_percent  0.0000 %  (num of 'zeros' / num params) * 100 \n",
            "\n",
            "Channel 1\n",
            "mean 0.0030874, sd 0.009811\n",
            "trues 0\n",
            "trues_percent  0.0000 %  (num of 'zeros' / num params) * 100 \n",
            "\n",
            "Channel 2\n",
            "mean 0.0019843, sd 0.005817\n",
            "trues 0\n",
            "trues_percent  0.0000 %  (num of 'zeros' / num params) * 100 \n",
            "\n",
            "Channel 3\n",
            "mean 0.0038470, sd 0.011239\n",
            "trues 2\n",
            "trues_percent  0.3200 %  (num of 'zeros' / num params) * 100 \n",
            "\n",
            "Channel 4\n",
            "mean 0.0023482, sd 0.006847\n",
            "trues 0\n",
            "trues_percent  0.0000 %  (num of 'zeros' / num params) * 100 \n",
            "\n",
            "Channel 5\n",
            "mean 0.0027062, sd 0.007990\n",
            "trues 0\n",
            "trues_percent  0.0000 %  (num of 'zeros' / num params) * 100 \n",
            "\n",
            "Channel 6\n",
            "mean 0.0037016, sd 0.011667\n",
            "trues 2\n",
            "trues_percent  0.3200 %  (num of 'zeros' / num params) * 100 \n",
            "\n",
            "Channel 7\n",
            "mean 0.0033583, sd 0.009868\n",
            "trues 2\n",
            "trues_percent  0.3200 %  (num of 'zeros' / num params) * 100 \n",
            "\n",
            "Channel 8\n",
            "mean 0.0017674, sd 0.005312\n",
            "trues 0\n",
            "trues_percent  0.0000 %  (num of 'zeros' / num params) * 100 \n",
            "\n",
            "Channel 9\n",
            "mean 0.0063149, sd 0.019030\n",
            "trues 1\n",
            "trues_percent  0.1600 %  (num of 'zeros' / num params) * 100 \n",
            "\n",
            "Channel 10\n",
            "mean 0.0019059, sd 0.005374\n",
            "trues 1\n",
            "trues_percent  0.1600 %  (num of 'zeros' / num params) * 100 \n",
            "\n",
            "Channel 11\n",
            "mean 0.0026214, sd 0.007360\n",
            "trues 1\n",
            "trues_percent  0.1600 %  (num of 'zeros' / num params) * 100 \n",
            "\n",
            "Channel 12\n",
            "mean 0.0034738, sd 0.010546\n",
            "trues 1\n",
            "trues_percent  0.1600 %  (num of 'zeros' / num params) * 100 \n",
            "\n",
            "Channel 13\n",
            "mean 0.0024914, sd 0.008044\n",
            "trues 2\n",
            "trues_percent  0.3200 %  (num of 'zeros' / num params) * 100 \n",
            "\n",
            "Channel 14\n",
            "mean 0.0021314, sd 0.006757\n",
            "trues 0\n",
            "trues_percent  0.0000 %  (num of 'zeros' / num params) * 100 \n",
            "\n",
            "Channel 15\n",
            "mean 0.0040888, sd 0.013608\n",
            "trues 0\n",
            "trues_percent  0.0000 %  (num of 'zeros' / num params) * 100 \n",
            "\n",
            "Channel 16\n",
            "mean 0.0019297, sd 0.006391\n",
            "trues 0\n",
            "trues_percent  0.0000 %  (num of 'zeros' / num params) * 100 \n",
            "\n",
            "Channel 17\n",
            "mean 0.0026578, sd 0.007883\n",
            "trues 2\n",
            "trues_percent  0.3200 %  (num of 'zeros' / num params) * 100 \n",
            "\n",
            "Channel 18\n",
            "mean 0.0020917, sd 0.006013\n",
            "trues 1\n",
            "trues_percent  0.1600 %  (num of 'zeros' / num params) * 100 \n",
            "\n",
            "Channel 19\n",
            "mean 0.0028058, sd 0.008823\n",
            "trues 1\n",
            "trues_percent  0.1600 %  (num of 'zeros' / num params) * 100 \n",
            "\n",
            "Channel 20\n",
            "mean 0.0019000, sd 0.005767\n",
            "trues 0\n",
            "trues_percent  0.0000 %  (num of 'zeros' / num params) * 100 \n",
            "\n",
            "Channel 21\n",
            "mean 0.0051056, sd 0.015026\n",
            "trues 1\n",
            "trues_percent  0.1600 %  (num of 'zeros' / num params) * 100 \n",
            "\n"
          ]
        }
      ]
    },
    {
      "cell_type": "code",
      "execution_count": null,
      "metadata": {
        "id": "lG3pPGgOCeUC"
      },
      "outputs": [],
      "source": [
        "import matplotlib.pyplot as plt\n",
        "\n",
        "# Plotting accuracy trajectory\n",
        "plt.plot(hybrid_cnn_lstm_model_results.history['accuracy'])\n",
        "plt.plot(hybrid_cnn_lstm_model_results.history['val_accuracy'])\n",
        "plt.title('Hybrid CNN-LSTM model accuracy trajectory')\n",
        "plt.ylabel('accuracy')\n",
        "plt.xlabel('epoch')\n",
        "plt.legend(['train', 'val'], loc='upper left')\n",
        "plt.show()\n",
        "\n",
        "# Plotting loss trajectory\n",
        "plt.plot(hybrid_cnn_lstm_model_results.history['loss'],'o')\n",
        "plt.plot(hybrid_cnn_lstm_model_results.history['val_loss'],'o')\n",
        "plt.title('Hybrid CNN-LSTM model loss trajectory')\n",
        "plt.ylabel('loss')\n",
        "plt.xlabel('epoch')\n",
        "plt.legend(['train', 'val'], loc='upper left')\n",
        "plt.show()"
      ]
    },
    {
      "cell_type": "code",
      "execution_count": null,
      "metadata": {
        "colab": {
          "base_uri": "https://localhost:8080/"
        },
        "id": "KQlPdTPwCeUD",
        "outputId": "02a32a21-6019-4c94-980f-ec7140f337bc"
      },
      "outputs": [
        {
          "output_type": "stream",
          "name": "stdout",
          "text": [
            "Test accuracy of the hybrid CNN-LSTM model: 0.43340858817100525\n"
          ]
        }
      ],
      "source": [
        "## Testing the hybrid CNN-LSTM model\n",
        "\n",
        "hybrid_cnn_lstm_score = hybrid_cnn_lstm_model.evaluate(x_test, y_test, verbose=0)\n",
        "print('Test accuracy of the hybrid CNN-LSTM model:',hybrid_cnn_lstm_score[1])\n",
        "# original: 0.5778781175613403\n",
        "# with .01 L1: 0.4018058776855469\n",
        "# with .001 L1: 0.43340858817100525"
      ]
    },
    {
      "cell_type": "code",
      "source": [
        "# # class SkipConnection(keras.layers.Layer):  # consider for later\n",
        "# # TODO\n",
        "# mlp_model = Sequential(\n",
        "#     Dense(64, activation=\"relu\", input_shape=input_shape),\n",
        "#     # Reshape((32,1)),\n",
        "#     Dense(32, activation=\"relu\")\n",
        "# )\n",
        "\n",
        "# mlp_model(x_train[0])\n",
        "\n",
        "# # Model parameters\n",
        "# learning_rate = 1e-3\n",
        "# epochs = 100\n",
        "# mlp_optimizer = keras.optimizers.Adam(learning_rate=learning_rate)\n",
        "\n",
        "# # Compiling the model\n",
        "# mlp_model.compile(loss='categorical_crossentropy',\n",
        "#                  optimizer=mlp_optimizer,\n",
        "#                  metrics=['accuracy'])\n",
        "\n",
        "# # Training and validating the model\n",
        "# mlp_model_results = mlp_model.fit(x_train,\n",
        "#              y_train,\n",
        "#              batch_size=64,\n",
        "#              epochs=epochs,\n",
        "#              validation_data=(x_valid, y_valid), verbose=True)\n",
        "\n",
        "\n",
        "# # Look into L1 regularization\n",
        "# first_layer_weights = model.layers[0].get_weights()[0]\n",
        "# first_layer_biases  = model.layers[0].get_weights()[1]\n",
        "# # second_layer_weights = model.layers[1].get_weights()[0]\n",
        "# # second_layer_biases  = model.layers[1].get_weights()[1]\n",
        "# print(first_layer_weights)\n",
        "# print(first_layer_weights == 0)"
      ],
      "metadata": {
        "id": "FptE3lrHO4hH"
      },
      "execution_count": null,
      "outputs": []
    },
    {
      "cell_type": "code",
      "execution_count": null,
      "metadata": {
        "id": "j3CLw6xvCeUE"
      },
      "outputs": [],
      "source": []
    }
  ],
  "metadata": {
    "kernelspec": {
      "display_name": "Python 3",
      "name": "python3"
    },
    "language_info": {
      "codemirror_mode": {
        "name": "ipython",
        "version": 3
      },
      "file_extension": ".py",
      "mimetype": "text/x-python",
      "name": "python",
      "nbconvert_exporter": "python",
      "pygments_lexer": "ipython3",
      "version": "3.6.4"
    },
    "colab": {
      "provenance": []
    },
    "widgets": {
      "application/vnd.jupyter.widget-state+json": {
        "0c2e9368808d4053a0b7b38c7ab4de27": {
          "model_module": "@jupyter-widgets/controls",
          "model_name": "VBoxModel",
          "model_module_version": "1.5.0",
          "state": {
            "_dom_classes": [],
            "_model_module": "@jupyter-widgets/controls",
            "_model_module_version": "1.5.0",
            "_model_name": "VBoxModel",
            "_view_count": null,
            "_view_module": "@jupyter-widgets/controls",
            "_view_module_version": "1.5.0",
            "_view_name": "VBoxView",
            "box_style": "",
            "children": [
              "IPY_MODEL_4345c8e09ef944f68eb69e413705b69e",
              "IPY_MODEL_996bc372c4c84effb9fdfef34dc6507e"
            ],
            "layout": "IPY_MODEL_d71f316ff36045b39a4f958133ed3fca"
          }
        },
        "4345c8e09ef944f68eb69e413705b69e": {
          "model_module": "@jupyter-widgets/controls",
          "model_name": "LabelModel",
          "model_module_version": "1.5.0",
          "state": {
            "_dom_classes": [],
            "_model_module": "@jupyter-widgets/controls",
            "_model_module_version": "1.5.0",
            "_model_name": "LabelModel",
            "_view_count": null,
            "_view_module": "@jupyter-widgets/controls",
            "_view_module_version": "1.5.0",
            "_view_name": "LabelView",
            "description": "",
            "description_tooltip": null,
            "layout": "IPY_MODEL_ee9bea3cb0f44808890cd0010149c0a0",
            "placeholder": "​",
            "style": "IPY_MODEL_a78e6e79917b45da8fff7734719dd882",
            "value": "0.012 MB of 0.012 MB uploaded\r"
          }
        },
        "996bc372c4c84effb9fdfef34dc6507e": {
          "model_module": "@jupyter-widgets/controls",
          "model_name": "FloatProgressModel",
          "model_module_version": "1.5.0",
          "state": {
            "_dom_classes": [],
            "_model_module": "@jupyter-widgets/controls",
            "_model_module_version": "1.5.0",
            "_model_name": "FloatProgressModel",
            "_view_count": null,
            "_view_module": "@jupyter-widgets/controls",
            "_view_module_version": "1.5.0",
            "_view_name": "ProgressView",
            "bar_style": "",
            "description": "",
            "description_tooltip": null,
            "layout": "IPY_MODEL_21e26e09be4b4b83b362ee9e6741ceca",
            "max": 1,
            "min": 0,
            "orientation": "horizontal",
            "style": "IPY_MODEL_5b058f7453084d8dac88650aced3ac3d",
            "value": 1
          }
        },
        "d71f316ff36045b39a4f958133ed3fca": {
          "model_module": "@jupyter-widgets/base",
          "model_name": "LayoutModel",
          "model_module_version": "1.2.0",
          "state": {
            "_model_module": "@jupyter-widgets/base",
            "_model_module_version": "1.2.0",
            "_model_name": "LayoutModel",
            "_view_count": null,
            "_view_module": "@jupyter-widgets/base",
            "_view_module_version": "1.2.0",
            "_view_name": "LayoutView",
            "align_content": null,
            "align_items": null,
            "align_self": null,
            "border": null,
            "bottom": null,
            "display": null,
            "flex": null,
            "flex_flow": null,
            "grid_area": null,
            "grid_auto_columns": null,
            "grid_auto_flow": null,
            "grid_auto_rows": null,
            "grid_column": null,
            "grid_gap": null,
            "grid_row": null,
            "grid_template_areas": null,
            "grid_template_columns": null,
            "grid_template_rows": null,
            "height": null,
            "justify_content": null,
            "justify_items": null,
            "left": null,
            "margin": null,
            "max_height": null,
            "max_width": null,
            "min_height": null,
            "min_width": null,
            "object_fit": null,
            "object_position": null,
            "order": null,
            "overflow": null,
            "overflow_x": null,
            "overflow_y": null,
            "padding": null,
            "right": null,
            "top": null,
            "visibility": null,
            "width": null
          }
        },
        "ee9bea3cb0f44808890cd0010149c0a0": {
          "model_module": "@jupyter-widgets/base",
          "model_name": "LayoutModel",
          "model_module_version": "1.2.0",
          "state": {
            "_model_module": "@jupyter-widgets/base",
            "_model_module_version": "1.2.0",
            "_model_name": "LayoutModel",
            "_view_count": null,
            "_view_module": "@jupyter-widgets/base",
            "_view_module_version": "1.2.0",
            "_view_name": "LayoutView",
            "align_content": null,
            "align_items": null,
            "align_self": null,
            "border": null,
            "bottom": null,
            "display": null,
            "flex": null,
            "flex_flow": null,
            "grid_area": null,
            "grid_auto_columns": null,
            "grid_auto_flow": null,
            "grid_auto_rows": null,
            "grid_column": null,
            "grid_gap": null,
            "grid_row": null,
            "grid_template_areas": null,
            "grid_template_columns": null,
            "grid_template_rows": null,
            "height": null,
            "justify_content": null,
            "justify_items": null,
            "left": null,
            "margin": null,
            "max_height": null,
            "max_width": null,
            "min_height": null,
            "min_width": null,
            "object_fit": null,
            "object_position": null,
            "order": null,
            "overflow": null,
            "overflow_x": null,
            "overflow_y": null,
            "padding": null,
            "right": null,
            "top": null,
            "visibility": null,
            "width": null
          }
        },
        "a78e6e79917b45da8fff7734719dd882": {
          "model_module": "@jupyter-widgets/controls",
          "model_name": "DescriptionStyleModel",
          "model_module_version": "1.5.0",
          "state": {
            "_model_module": "@jupyter-widgets/controls",
            "_model_module_version": "1.5.0",
            "_model_name": "DescriptionStyleModel",
            "_view_count": null,
            "_view_module": "@jupyter-widgets/base",
            "_view_module_version": "1.2.0",
            "_view_name": "StyleView",
            "description_width": ""
          }
        },
        "21e26e09be4b4b83b362ee9e6741ceca": {
          "model_module": "@jupyter-widgets/base",
          "model_name": "LayoutModel",
          "model_module_version": "1.2.0",
          "state": {
            "_model_module": "@jupyter-widgets/base",
            "_model_module_version": "1.2.0",
            "_model_name": "LayoutModel",
            "_view_count": null,
            "_view_module": "@jupyter-widgets/base",
            "_view_module_version": "1.2.0",
            "_view_name": "LayoutView",
            "align_content": null,
            "align_items": null,
            "align_self": null,
            "border": null,
            "bottom": null,
            "display": null,
            "flex": null,
            "flex_flow": null,
            "grid_area": null,
            "grid_auto_columns": null,
            "grid_auto_flow": null,
            "grid_auto_rows": null,
            "grid_column": null,
            "grid_gap": null,
            "grid_row": null,
            "grid_template_areas": null,
            "grid_template_columns": null,
            "grid_template_rows": null,
            "height": null,
            "justify_content": null,
            "justify_items": null,
            "left": null,
            "margin": null,
            "max_height": null,
            "max_width": null,
            "min_height": null,
            "min_width": null,
            "object_fit": null,
            "object_position": null,
            "order": null,
            "overflow": null,
            "overflow_x": null,
            "overflow_y": null,
            "padding": null,
            "right": null,
            "top": null,
            "visibility": null,
            "width": null
          }
        },
        "5b058f7453084d8dac88650aced3ac3d": {
          "model_module": "@jupyter-widgets/controls",
          "model_name": "ProgressStyleModel",
          "model_module_version": "1.5.0",
          "state": {
            "_model_module": "@jupyter-widgets/controls",
            "_model_module_version": "1.5.0",
            "_model_name": "ProgressStyleModel",
            "_view_count": null,
            "_view_module": "@jupyter-widgets/base",
            "_view_module_version": "1.2.0",
            "_view_name": "StyleView",
            "bar_color": null,
            "description_width": ""
          }
        },
        "742d26f50aee46d5854563153e6e0e3b": {
          "model_module": "@jupyter-widgets/controls",
          "model_name": "VBoxModel",
          "model_module_version": "1.5.0",
          "state": {
            "_dom_classes": [],
            "_model_module": "@jupyter-widgets/controls",
            "_model_module_version": "1.5.0",
            "_model_name": "VBoxModel",
            "_view_count": null,
            "_view_module": "@jupyter-widgets/controls",
            "_view_module_version": "1.5.0",
            "_view_name": "VBoxView",
            "box_style": "",
            "children": [
              "IPY_MODEL_6cf4ab72b58d4a9da3a18952b61ad19a",
              "IPY_MODEL_29ecd6b0c2d94be3809a809392e4b062"
            ],
            "layout": "IPY_MODEL_25337e654e8a417ab60657c304b2754a"
          }
        },
        "6cf4ab72b58d4a9da3a18952b61ad19a": {
          "model_module": "@jupyter-widgets/controls",
          "model_name": "LabelModel",
          "model_module_version": "1.5.0",
          "state": {
            "_dom_classes": [],
            "_model_module": "@jupyter-widgets/controls",
            "_model_module_version": "1.5.0",
            "_model_name": "LabelModel",
            "_view_count": null,
            "_view_module": "@jupyter-widgets/controls",
            "_view_module_version": "1.5.0",
            "_view_name": "LabelView",
            "description": "",
            "description_tooltip": null,
            "layout": "IPY_MODEL_706e3dd7a14949268d9a2a921dde9cba",
            "placeholder": "​",
            "style": "IPY_MODEL_17526ce8129a499a970c27795a2e21ea",
            "value": "0.011 MB of 0.011 MB uploaded\r"
          }
        },
        "29ecd6b0c2d94be3809a809392e4b062": {
          "model_module": "@jupyter-widgets/controls",
          "model_name": "FloatProgressModel",
          "model_module_version": "1.5.0",
          "state": {
            "_dom_classes": [],
            "_model_module": "@jupyter-widgets/controls",
            "_model_module_version": "1.5.0",
            "_model_name": "FloatProgressModel",
            "_view_count": null,
            "_view_module": "@jupyter-widgets/controls",
            "_view_module_version": "1.5.0",
            "_view_name": "ProgressView",
            "bar_style": "",
            "description": "",
            "description_tooltip": null,
            "layout": "IPY_MODEL_19c0d7309ee343a38b5f69387e458676",
            "max": 1,
            "min": 0,
            "orientation": "horizontal",
            "style": "IPY_MODEL_09e5cf1d0acf47fd8fdca9f583ac09bd",
            "value": 1
          }
        },
        "25337e654e8a417ab60657c304b2754a": {
          "model_module": "@jupyter-widgets/base",
          "model_name": "LayoutModel",
          "model_module_version": "1.2.0",
          "state": {
            "_model_module": "@jupyter-widgets/base",
            "_model_module_version": "1.2.0",
            "_model_name": "LayoutModel",
            "_view_count": null,
            "_view_module": "@jupyter-widgets/base",
            "_view_module_version": "1.2.0",
            "_view_name": "LayoutView",
            "align_content": null,
            "align_items": null,
            "align_self": null,
            "border": null,
            "bottom": null,
            "display": null,
            "flex": null,
            "flex_flow": null,
            "grid_area": null,
            "grid_auto_columns": null,
            "grid_auto_flow": null,
            "grid_auto_rows": null,
            "grid_column": null,
            "grid_gap": null,
            "grid_row": null,
            "grid_template_areas": null,
            "grid_template_columns": null,
            "grid_template_rows": null,
            "height": null,
            "justify_content": null,
            "justify_items": null,
            "left": null,
            "margin": null,
            "max_height": null,
            "max_width": null,
            "min_height": null,
            "min_width": null,
            "object_fit": null,
            "object_position": null,
            "order": null,
            "overflow": null,
            "overflow_x": null,
            "overflow_y": null,
            "padding": null,
            "right": null,
            "top": null,
            "visibility": null,
            "width": null
          }
        },
        "706e3dd7a14949268d9a2a921dde9cba": {
          "model_module": "@jupyter-widgets/base",
          "model_name": "LayoutModel",
          "model_module_version": "1.2.0",
          "state": {
            "_model_module": "@jupyter-widgets/base",
            "_model_module_version": "1.2.0",
            "_model_name": "LayoutModel",
            "_view_count": null,
            "_view_module": "@jupyter-widgets/base",
            "_view_module_version": "1.2.0",
            "_view_name": "LayoutView",
            "align_content": null,
            "align_items": null,
            "align_self": null,
            "border": null,
            "bottom": null,
            "display": null,
            "flex": null,
            "flex_flow": null,
            "grid_area": null,
            "grid_auto_columns": null,
            "grid_auto_flow": null,
            "grid_auto_rows": null,
            "grid_column": null,
            "grid_gap": null,
            "grid_row": null,
            "grid_template_areas": null,
            "grid_template_columns": null,
            "grid_template_rows": null,
            "height": null,
            "justify_content": null,
            "justify_items": null,
            "left": null,
            "margin": null,
            "max_height": null,
            "max_width": null,
            "min_height": null,
            "min_width": null,
            "object_fit": null,
            "object_position": null,
            "order": null,
            "overflow": null,
            "overflow_x": null,
            "overflow_y": null,
            "padding": null,
            "right": null,
            "top": null,
            "visibility": null,
            "width": null
          }
        },
        "17526ce8129a499a970c27795a2e21ea": {
          "model_module": "@jupyter-widgets/controls",
          "model_name": "DescriptionStyleModel",
          "model_module_version": "1.5.0",
          "state": {
            "_model_module": "@jupyter-widgets/controls",
            "_model_module_version": "1.5.0",
            "_model_name": "DescriptionStyleModel",
            "_view_count": null,
            "_view_module": "@jupyter-widgets/base",
            "_view_module_version": "1.2.0",
            "_view_name": "StyleView",
            "description_width": ""
          }
        },
        "19c0d7309ee343a38b5f69387e458676": {
          "model_module": "@jupyter-widgets/base",
          "model_name": "LayoutModel",
          "model_module_version": "1.2.0",
          "state": {
            "_model_module": "@jupyter-widgets/base",
            "_model_module_version": "1.2.0",
            "_model_name": "LayoutModel",
            "_view_count": null,
            "_view_module": "@jupyter-widgets/base",
            "_view_module_version": "1.2.0",
            "_view_name": "LayoutView",
            "align_content": null,
            "align_items": null,
            "align_self": null,
            "border": null,
            "bottom": null,
            "display": null,
            "flex": null,
            "flex_flow": null,
            "grid_area": null,
            "grid_auto_columns": null,
            "grid_auto_flow": null,
            "grid_auto_rows": null,
            "grid_column": null,
            "grid_gap": null,
            "grid_row": null,
            "grid_template_areas": null,
            "grid_template_columns": null,
            "grid_template_rows": null,
            "height": null,
            "justify_content": null,
            "justify_items": null,
            "left": null,
            "margin": null,
            "max_height": null,
            "max_width": null,
            "min_height": null,
            "min_width": null,
            "object_fit": null,
            "object_position": null,
            "order": null,
            "overflow": null,
            "overflow_x": null,
            "overflow_y": null,
            "padding": null,
            "right": null,
            "top": null,
            "visibility": null,
            "width": null
          }
        },
        "09e5cf1d0acf47fd8fdca9f583ac09bd": {
          "model_module": "@jupyter-widgets/controls",
          "model_name": "ProgressStyleModel",
          "model_module_version": "1.5.0",
          "state": {
            "_model_module": "@jupyter-widgets/controls",
            "_model_module_version": "1.5.0",
            "_model_name": "ProgressStyleModel",
            "_view_count": null,
            "_view_module": "@jupyter-widgets/base",
            "_view_module_version": "1.2.0",
            "_view_name": "StyleView",
            "bar_color": null,
            "description_width": ""
          }
        },
        "5e13bd5608cc44eeb3d3c3302cee16a1": {
          "model_module": "@jupyter-widgets/controls",
          "model_name": "VBoxModel",
          "model_module_version": "1.5.0",
          "state": {
            "_dom_classes": [],
            "_model_module": "@jupyter-widgets/controls",
            "_model_module_version": "1.5.0",
            "_model_name": "VBoxModel",
            "_view_count": null,
            "_view_module": "@jupyter-widgets/controls",
            "_view_module_version": "1.5.0",
            "_view_name": "VBoxView",
            "box_style": "",
            "children": [
              "IPY_MODEL_6ba1b0d99e6542a8b704fee624f581f3",
              "IPY_MODEL_03baf105c7484e048b7f894add124154"
            ],
            "layout": "IPY_MODEL_b631576811054432a503cc134ef8917c"
          }
        },
        "6ba1b0d99e6542a8b704fee624f581f3": {
          "model_module": "@jupyter-widgets/controls",
          "model_name": "LabelModel",
          "model_module_version": "1.5.0",
          "state": {
            "_dom_classes": [],
            "_model_module": "@jupyter-widgets/controls",
            "_model_module_version": "1.5.0",
            "_model_name": "LabelModel",
            "_view_count": null,
            "_view_module": "@jupyter-widgets/controls",
            "_view_module_version": "1.5.0",
            "_view_name": "LabelView",
            "description": "",
            "description_tooltip": null,
            "layout": "IPY_MODEL_e2e64039a08942c59861b9fa6464b442",
            "placeholder": "​",
            "style": "IPY_MODEL_53d9a698fca6417d98df8d2fb7877630",
            "value": "0.011 MB of 0.011 MB uploaded\r"
          }
        },
        "03baf105c7484e048b7f894add124154": {
          "model_module": "@jupyter-widgets/controls",
          "model_name": "FloatProgressModel",
          "model_module_version": "1.5.0",
          "state": {
            "_dom_classes": [],
            "_model_module": "@jupyter-widgets/controls",
            "_model_module_version": "1.5.0",
            "_model_name": "FloatProgressModel",
            "_view_count": null,
            "_view_module": "@jupyter-widgets/controls",
            "_view_module_version": "1.5.0",
            "_view_name": "ProgressView",
            "bar_style": "",
            "description": "",
            "description_tooltip": null,
            "layout": "IPY_MODEL_2b9cb9eefbb34508a958f2043f236eb2",
            "max": 1,
            "min": 0,
            "orientation": "horizontal",
            "style": "IPY_MODEL_e5a9307c694445f4aa9ea87b874d268c",
            "value": 1
          }
        },
        "b631576811054432a503cc134ef8917c": {
          "model_module": "@jupyter-widgets/base",
          "model_name": "LayoutModel",
          "model_module_version": "1.2.0",
          "state": {
            "_model_module": "@jupyter-widgets/base",
            "_model_module_version": "1.2.0",
            "_model_name": "LayoutModel",
            "_view_count": null,
            "_view_module": "@jupyter-widgets/base",
            "_view_module_version": "1.2.0",
            "_view_name": "LayoutView",
            "align_content": null,
            "align_items": null,
            "align_self": null,
            "border": null,
            "bottom": null,
            "display": null,
            "flex": null,
            "flex_flow": null,
            "grid_area": null,
            "grid_auto_columns": null,
            "grid_auto_flow": null,
            "grid_auto_rows": null,
            "grid_column": null,
            "grid_gap": null,
            "grid_row": null,
            "grid_template_areas": null,
            "grid_template_columns": null,
            "grid_template_rows": null,
            "height": null,
            "justify_content": null,
            "justify_items": null,
            "left": null,
            "margin": null,
            "max_height": null,
            "max_width": null,
            "min_height": null,
            "min_width": null,
            "object_fit": null,
            "object_position": null,
            "order": null,
            "overflow": null,
            "overflow_x": null,
            "overflow_y": null,
            "padding": null,
            "right": null,
            "top": null,
            "visibility": null,
            "width": null
          }
        },
        "e2e64039a08942c59861b9fa6464b442": {
          "model_module": "@jupyter-widgets/base",
          "model_name": "LayoutModel",
          "model_module_version": "1.2.0",
          "state": {
            "_model_module": "@jupyter-widgets/base",
            "_model_module_version": "1.2.0",
            "_model_name": "LayoutModel",
            "_view_count": null,
            "_view_module": "@jupyter-widgets/base",
            "_view_module_version": "1.2.0",
            "_view_name": "LayoutView",
            "align_content": null,
            "align_items": null,
            "align_self": null,
            "border": null,
            "bottom": null,
            "display": null,
            "flex": null,
            "flex_flow": null,
            "grid_area": null,
            "grid_auto_columns": null,
            "grid_auto_flow": null,
            "grid_auto_rows": null,
            "grid_column": null,
            "grid_gap": null,
            "grid_row": null,
            "grid_template_areas": null,
            "grid_template_columns": null,
            "grid_template_rows": null,
            "height": null,
            "justify_content": null,
            "justify_items": null,
            "left": null,
            "margin": null,
            "max_height": null,
            "max_width": null,
            "min_height": null,
            "min_width": null,
            "object_fit": null,
            "object_position": null,
            "order": null,
            "overflow": null,
            "overflow_x": null,
            "overflow_y": null,
            "padding": null,
            "right": null,
            "top": null,
            "visibility": null,
            "width": null
          }
        },
        "53d9a698fca6417d98df8d2fb7877630": {
          "model_module": "@jupyter-widgets/controls",
          "model_name": "DescriptionStyleModel",
          "model_module_version": "1.5.0",
          "state": {
            "_model_module": "@jupyter-widgets/controls",
            "_model_module_version": "1.5.0",
            "_model_name": "DescriptionStyleModel",
            "_view_count": null,
            "_view_module": "@jupyter-widgets/base",
            "_view_module_version": "1.2.0",
            "_view_name": "StyleView",
            "description_width": ""
          }
        },
        "2b9cb9eefbb34508a958f2043f236eb2": {
          "model_module": "@jupyter-widgets/base",
          "model_name": "LayoutModel",
          "model_module_version": "1.2.0",
          "state": {
            "_model_module": "@jupyter-widgets/base",
            "_model_module_version": "1.2.0",
            "_model_name": "LayoutModel",
            "_view_count": null,
            "_view_module": "@jupyter-widgets/base",
            "_view_module_version": "1.2.0",
            "_view_name": "LayoutView",
            "align_content": null,
            "align_items": null,
            "align_self": null,
            "border": null,
            "bottom": null,
            "display": null,
            "flex": null,
            "flex_flow": null,
            "grid_area": null,
            "grid_auto_columns": null,
            "grid_auto_flow": null,
            "grid_auto_rows": null,
            "grid_column": null,
            "grid_gap": null,
            "grid_row": null,
            "grid_template_areas": null,
            "grid_template_columns": null,
            "grid_template_rows": null,
            "height": null,
            "justify_content": null,
            "justify_items": null,
            "left": null,
            "margin": null,
            "max_height": null,
            "max_width": null,
            "min_height": null,
            "min_width": null,
            "object_fit": null,
            "object_position": null,
            "order": null,
            "overflow": null,
            "overflow_x": null,
            "overflow_y": null,
            "padding": null,
            "right": null,
            "top": null,
            "visibility": null,
            "width": null
          }
        },
        "e5a9307c694445f4aa9ea87b874d268c": {
          "model_module": "@jupyter-widgets/controls",
          "model_name": "ProgressStyleModel",
          "model_module_version": "1.5.0",
          "state": {
            "_model_module": "@jupyter-widgets/controls",
            "_model_module_version": "1.5.0",
            "_model_name": "ProgressStyleModel",
            "_view_count": null,
            "_view_module": "@jupyter-widgets/base",
            "_view_module_version": "1.2.0",
            "_view_name": "StyleView",
            "bar_color": null,
            "description_width": ""
          }
        },
        "ae542501ab704cf6becb4b9ad58e6a3f": {
          "model_module": "@jupyter-widgets/controls",
          "model_name": "VBoxModel",
          "model_module_version": "1.5.0",
          "state": {
            "_dom_classes": [],
            "_model_module": "@jupyter-widgets/controls",
            "_model_module_version": "1.5.0",
            "_model_name": "VBoxModel",
            "_view_count": null,
            "_view_module": "@jupyter-widgets/controls",
            "_view_module_version": "1.5.0",
            "_view_name": "VBoxView",
            "box_style": "",
            "children": [
              "IPY_MODEL_e07319ed3513485aaf9490561c43c432",
              "IPY_MODEL_f8d3bbba1bb548eaa461182bc5474656"
            ],
            "layout": "IPY_MODEL_3bfa1020f8b8431cb800fa0e766e0a35"
          }
        },
        "e07319ed3513485aaf9490561c43c432": {
          "model_module": "@jupyter-widgets/controls",
          "model_name": "LabelModel",
          "model_module_version": "1.5.0",
          "state": {
            "_dom_classes": [],
            "_model_module": "@jupyter-widgets/controls",
            "_model_module_version": "1.5.0",
            "_model_name": "LabelModel",
            "_view_count": null,
            "_view_module": "@jupyter-widgets/controls",
            "_view_module_version": "1.5.0",
            "_view_name": "LabelView",
            "description": "",
            "description_tooltip": null,
            "layout": "IPY_MODEL_4b6703159d804c1990c0c51cd5ba598d",
            "placeholder": "​",
            "style": "IPY_MODEL_aaf02ccfd85144cbbc4169e9f4628d8a",
            "value": "0.011 MB of 0.011 MB uploaded\r"
          }
        },
        "f8d3bbba1bb548eaa461182bc5474656": {
          "model_module": "@jupyter-widgets/controls",
          "model_name": "FloatProgressModel",
          "model_module_version": "1.5.0",
          "state": {
            "_dom_classes": [],
            "_model_module": "@jupyter-widgets/controls",
            "_model_module_version": "1.5.0",
            "_model_name": "FloatProgressModel",
            "_view_count": null,
            "_view_module": "@jupyter-widgets/controls",
            "_view_module_version": "1.5.0",
            "_view_name": "ProgressView",
            "bar_style": "",
            "description": "",
            "description_tooltip": null,
            "layout": "IPY_MODEL_dec2ad000191400ab8b30616decee0ce",
            "max": 1,
            "min": 0,
            "orientation": "horizontal",
            "style": "IPY_MODEL_7ed474faaf12479c9bd36fa8fd47df80",
            "value": 1
          }
        },
        "3bfa1020f8b8431cb800fa0e766e0a35": {
          "model_module": "@jupyter-widgets/base",
          "model_name": "LayoutModel",
          "model_module_version": "1.2.0",
          "state": {
            "_model_module": "@jupyter-widgets/base",
            "_model_module_version": "1.2.0",
            "_model_name": "LayoutModel",
            "_view_count": null,
            "_view_module": "@jupyter-widgets/base",
            "_view_module_version": "1.2.0",
            "_view_name": "LayoutView",
            "align_content": null,
            "align_items": null,
            "align_self": null,
            "border": null,
            "bottom": null,
            "display": null,
            "flex": null,
            "flex_flow": null,
            "grid_area": null,
            "grid_auto_columns": null,
            "grid_auto_flow": null,
            "grid_auto_rows": null,
            "grid_column": null,
            "grid_gap": null,
            "grid_row": null,
            "grid_template_areas": null,
            "grid_template_columns": null,
            "grid_template_rows": null,
            "height": null,
            "justify_content": null,
            "justify_items": null,
            "left": null,
            "margin": null,
            "max_height": null,
            "max_width": null,
            "min_height": null,
            "min_width": null,
            "object_fit": null,
            "object_position": null,
            "order": null,
            "overflow": null,
            "overflow_x": null,
            "overflow_y": null,
            "padding": null,
            "right": null,
            "top": null,
            "visibility": null,
            "width": null
          }
        },
        "4b6703159d804c1990c0c51cd5ba598d": {
          "model_module": "@jupyter-widgets/base",
          "model_name": "LayoutModel",
          "model_module_version": "1.2.0",
          "state": {
            "_model_module": "@jupyter-widgets/base",
            "_model_module_version": "1.2.0",
            "_model_name": "LayoutModel",
            "_view_count": null,
            "_view_module": "@jupyter-widgets/base",
            "_view_module_version": "1.2.0",
            "_view_name": "LayoutView",
            "align_content": null,
            "align_items": null,
            "align_self": null,
            "border": null,
            "bottom": null,
            "display": null,
            "flex": null,
            "flex_flow": null,
            "grid_area": null,
            "grid_auto_columns": null,
            "grid_auto_flow": null,
            "grid_auto_rows": null,
            "grid_column": null,
            "grid_gap": null,
            "grid_row": null,
            "grid_template_areas": null,
            "grid_template_columns": null,
            "grid_template_rows": null,
            "height": null,
            "justify_content": null,
            "justify_items": null,
            "left": null,
            "margin": null,
            "max_height": null,
            "max_width": null,
            "min_height": null,
            "min_width": null,
            "object_fit": null,
            "object_position": null,
            "order": null,
            "overflow": null,
            "overflow_x": null,
            "overflow_y": null,
            "padding": null,
            "right": null,
            "top": null,
            "visibility": null,
            "width": null
          }
        },
        "aaf02ccfd85144cbbc4169e9f4628d8a": {
          "model_module": "@jupyter-widgets/controls",
          "model_name": "DescriptionStyleModel",
          "model_module_version": "1.5.0",
          "state": {
            "_model_module": "@jupyter-widgets/controls",
            "_model_module_version": "1.5.0",
            "_model_name": "DescriptionStyleModel",
            "_view_count": null,
            "_view_module": "@jupyter-widgets/base",
            "_view_module_version": "1.2.0",
            "_view_name": "StyleView",
            "description_width": ""
          }
        },
        "dec2ad000191400ab8b30616decee0ce": {
          "model_module": "@jupyter-widgets/base",
          "model_name": "LayoutModel",
          "model_module_version": "1.2.0",
          "state": {
            "_model_module": "@jupyter-widgets/base",
            "_model_module_version": "1.2.0",
            "_model_name": "LayoutModel",
            "_view_count": null,
            "_view_module": "@jupyter-widgets/base",
            "_view_module_version": "1.2.0",
            "_view_name": "LayoutView",
            "align_content": null,
            "align_items": null,
            "align_self": null,
            "border": null,
            "bottom": null,
            "display": null,
            "flex": null,
            "flex_flow": null,
            "grid_area": null,
            "grid_auto_columns": null,
            "grid_auto_flow": null,
            "grid_auto_rows": null,
            "grid_column": null,
            "grid_gap": null,
            "grid_row": null,
            "grid_template_areas": null,
            "grid_template_columns": null,
            "grid_template_rows": null,
            "height": null,
            "justify_content": null,
            "justify_items": null,
            "left": null,
            "margin": null,
            "max_height": null,
            "max_width": null,
            "min_height": null,
            "min_width": null,
            "object_fit": null,
            "object_position": null,
            "order": null,
            "overflow": null,
            "overflow_x": null,
            "overflow_y": null,
            "padding": null,
            "right": null,
            "top": null,
            "visibility": null,
            "width": null
          }
        },
        "7ed474faaf12479c9bd36fa8fd47df80": {
          "model_module": "@jupyter-widgets/controls",
          "model_name": "ProgressStyleModel",
          "model_module_version": "1.5.0",
          "state": {
            "_model_module": "@jupyter-widgets/controls",
            "_model_module_version": "1.5.0",
            "_model_name": "ProgressStyleModel",
            "_view_count": null,
            "_view_module": "@jupyter-widgets/base",
            "_view_module_version": "1.2.0",
            "_view_name": "StyleView",
            "bar_color": null,
            "description_width": ""
          }
        },
        "19c34df1b45345bebe6226921921ce29": {
          "model_module": "@jupyter-widgets/controls",
          "model_name": "VBoxModel",
          "model_module_version": "1.5.0",
          "state": {
            "_dom_classes": [],
            "_model_module": "@jupyter-widgets/controls",
            "_model_module_version": "1.5.0",
            "_model_name": "VBoxModel",
            "_view_count": null,
            "_view_module": "@jupyter-widgets/controls",
            "_view_module_version": "1.5.0",
            "_view_name": "VBoxView",
            "box_style": "",
            "children": [
              "IPY_MODEL_2f577196b6c7446292db5c9d1adff00c",
              "IPY_MODEL_858c08212a2442f0aceb0e7f56a0117c"
            ],
            "layout": "IPY_MODEL_ab5559d7fd4646caa3d88b9c42980ae9"
          }
        },
        "2f577196b6c7446292db5c9d1adff00c": {
          "model_module": "@jupyter-widgets/controls",
          "model_name": "LabelModel",
          "model_module_version": "1.5.0",
          "state": {
            "_dom_classes": [],
            "_model_module": "@jupyter-widgets/controls",
            "_model_module_version": "1.5.0",
            "_model_name": "LabelModel",
            "_view_count": null,
            "_view_module": "@jupyter-widgets/controls",
            "_view_module_version": "1.5.0",
            "_view_name": "LabelView",
            "description": "",
            "description_tooltip": null,
            "layout": "IPY_MODEL_8e38cfa24fba42a0ba9fb70a0c3abf0e",
            "placeholder": "​",
            "style": "IPY_MODEL_89d98a21dba048188a6b01ff113cad7c",
            "value": "0.011 MB of 0.011 MB uploaded\r"
          }
        },
        "858c08212a2442f0aceb0e7f56a0117c": {
          "model_module": "@jupyter-widgets/controls",
          "model_name": "FloatProgressModel",
          "model_module_version": "1.5.0",
          "state": {
            "_dom_classes": [],
            "_model_module": "@jupyter-widgets/controls",
            "_model_module_version": "1.5.0",
            "_model_name": "FloatProgressModel",
            "_view_count": null,
            "_view_module": "@jupyter-widgets/controls",
            "_view_module_version": "1.5.0",
            "_view_name": "ProgressView",
            "bar_style": "",
            "description": "",
            "description_tooltip": null,
            "layout": "IPY_MODEL_65c6e4f23c3e40ff8b8c3452a52070d3",
            "max": 1,
            "min": 0,
            "orientation": "horizontal",
            "style": "IPY_MODEL_d7ddc26cf64c49f5977861286493fd40",
            "value": 1
          }
        },
        "ab5559d7fd4646caa3d88b9c42980ae9": {
          "model_module": "@jupyter-widgets/base",
          "model_name": "LayoutModel",
          "model_module_version": "1.2.0",
          "state": {
            "_model_module": "@jupyter-widgets/base",
            "_model_module_version": "1.2.0",
            "_model_name": "LayoutModel",
            "_view_count": null,
            "_view_module": "@jupyter-widgets/base",
            "_view_module_version": "1.2.0",
            "_view_name": "LayoutView",
            "align_content": null,
            "align_items": null,
            "align_self": null,
            "border": null,
            "bottom": null,
            "display": null,
            "flex": null,
            "flex_flow": null,
            "grid_area": null,
            "grid_auto_columns": null,
            "grid_auto_flow": null,
            "grid_auto_rows": null,
            "grid_column": null,
            "grid_gap": null,
            "grid_row": null,
            "grid_template_areas": null,
            "grid_template_columns": null,
            "grid_template_rows": null,
            "height": null,
            "justify_content": null,
            "justify_items": null,
            "left": null,
            "margin": null,
            "max_height": null,
            "max_width": null,
            "min_height": null,
            "min_width": null,
            "object_fit": null,
            "object_position": null,
            "order": null,
            "overflow": null,
            "overflow_x": null,
            "overflow_y": null,
            "padding": null,
            "right": null,
            "top": null,
            "visibility": null,
            "width": null
          }
        },
        "8e38cfa24fba42a0ba9fb70a0c3abf0e": {
          "model_module": "@jupyter-widgets/base",
          "model_name": "LayoutModel",
          "model_module_version": "1.2.0",
          "state": {
            "_model_module": "@jupyter-widgets/base",
            "_model_module_version": "1.2.0",
            "_model_name": "LayoutModel",
            "_view_count": null,
            "_view_module": "@jupyter-widgets/base",
            "_view_module_version": "1.2.0",
            "_view_name": "LayoutView",
            "align_content": null,
            "align_items": null,
            "align_self": null,
            "border": null,
            "bottom": null,
            "display": null,
            "flex": null,
            "flex_flow": null,
            "grid_area": null,
            "grid_auto_columns": null,
            "grid_auto_flow": null,
            "grid_auto_rows": null,
            "grid_column": null,
            "grid_gap": null,
            "grid_row": null,
            "grid_template_areas": null,
            "grid_template_columns": null,
            "grid_template_rows": null,
            "height": null,
            "justify_content": null,
            "justify_items": null,
            "left": null,
            "margin": null,
            "max_height": null,
            "max_width": null,
            "min_height": null,
            "min_width": null,
            "object_fit": null,
            "object_position": null,
            "order": null,
            "overflow": null,
            "overflow_x": null,
            "overflow_y": null,
            "padding": null,
            "right": null,
            "top": null,
            "visibility": null,
            "width": null
          }
        },
        "89d98a21dba048188a6b01ff113cad7c": {
          "model_module": "@jupyter-widgets/controls",
          "model_name": "DescriptionStyleModel",
          "model_module_version": "1.5.0",
          "state": {
            "_model_module": "@jupyter-widgets/controls",
            "_model_module_version": "1.5.0",
            "_model_name": "DescriptionStyleModel",
            "_view_count": null,
            "_view_module": "@jupyter-widgets/base",
            "_view_module_version": "1.2.0",
            "_view_name": "StyleView",
            "description_width": ""
          }
        },
        "65c6e4f23c3e40ff8b8c3452a52070d3": {
          "model_module": "@jupyter-widgets/base",
          "model_name": "LayoutModel",
          "model_module_version": "1.2.0",
          "state": {
            "_model_module": "@jupyter-widgets/base",
            "_model_module_version": "1.2.0",
            "_model_name": "LayoutModel",
            "_view_count": null,
            "_view_module": "@jupyter-widgets/base",
            "_view_module_version": "1.2.0",
            "_view_name": "LayoutView",
            "align_content": null,
            "align_items": null,
            "align_self": null,
            "border": null,
            "bottom": null,
            "display": null,
            "flex": null,
            "flex_flow": null,
            "grid_area": null,
            "grid_auto_columns": null,
            "grid_auto_flow": null,
            "grid_auto_rows": null,
            "grid_column": null,
            "grid_gap": null,
            "grid_row": null,
            "grid_template_areas": null,
            "grid_template_columns": null,
            "grid_template_rows": null,
            "height": null,
            "justify_content": null,
            "justify_items": null,
            "left": null,
            "margin": null,
            "max_height": null,
            "max_width": null,
            "min_height": null,
            "min_width": null,
            "object_fit": null,
            "object_position": null,
            "order": null,
            "overflow": null,
            "overflow_x": null,
            "overflow_y": null,
            "padding": null,
            "right": null,
            "top": null,
            "visibility": null,
            "width": null
          }
        },
        "d7ddc26cf64c49f5977861286493fd40": {
          "model_module": "@jupyter-widgets/controls",
          "model_name": "ProgressStyleModel",
          "model_module_version": "1.5.0",
          "state": {
            "_model_module": "@jupyter-widgets/controls",
            "_model_module_version": "1.5.0",
            "_model_name": "ProgressStyleModel",
            "_view_count": null,
            "_view_module": "@jupyter-widgets/base",
            "_view_module_version": "1.2.0",
            "_view_name": "StyleView",
            "bar_color": null,
            "description_width": ""
          }
        },
        "5c1f64ba740643299e0ca63355523103": {
          "model_module": "@jupyter-widgets/controls",
          "model_name": "VBoxModel",
          "model_module_version": "1.5.0",
          "state": {
            "_dom_classes": [],
            "_model_module": "@jupyter-widgets/controls",
            "_model_module_version": "1.5.0",
            "_model_name": "VBoxModel",
            "_view_count": null,
            "_view_module": "@jupyter-widgets/controls",
            "_view_module_version": "1.5.0",
            "_view_name": "VBoxView",
            "box_style": "",
            "children": [
              "IPY_MODEL_1fb0c0b38d0648109c7d2268d36f6253",
              "IPY_MODEL_13aeea57884e43b0be9f4bc194e31207"
            ],
            "layout": "IPY_MODEL_01533d4701484f5facb16f75745b4c4a"
          }
        },
        "1fb0c0b38d0648109c7d2268d36f6253": {
          "model_module": "@jupyter-widgets/controls",
          "model_name": "LabelModel",
          "model_module_version": "1.5.0",
          "state": {
            "_dom_classes": [],
            "_model_module": "@jupyter-widgets/controls",
            "_model_module_version": "1.5.0",
            "_model_name": "LabelModel",
            "_view_count": null,
            "_view_module": "@jupyter-widgets/controls",
            "_view_module_version": "1.5.0",
            "_view_name": "LabelView",
            "description": "",
            "description_tooltip": null,
            "layout": "IPY_MODEL_cb632aa8631b41e689511a9506315ad0",
            "placeholder": "​",
            "style": "IPY_MODEL_ffb91062407143f89f9dab8f1f5826a3",
            "value": "0.011 MB of 0.011 MB uploaded\r"
          }
        },
        "13aeea57884e43b0be9f4bc194e31207": {
          "model_module": "@jupyter-widgets/controls",
          "model_name": "FloatProgressModel",
          "model_module_version": "1.5.0",
          "state": {
            "_dom_classes": [],
            "_model_module": "@jupyter-widgets/controls",
            "_model_module_version": "1.5.0",
            "_model_name": "FloatProgressModel",
            "_view_count": null,
            "_view_module": "@jupyter-widgets/controls",
            "_view_module_version": "1.5.0",
            "_view_name": "ProgressView",
            "bar_style": "",
            "description": "",
            "description_tooltip": null,
            "layout": "IPY_MODEL_fb3985936525411bb9301bf84af670a9",
            "max": 1,
            "min": 0,
            "orientation": "horizontal",
            "style": "IPY_MODEL_3ec92a4b821a443f87d76ff53af397a7",
            "value": 1
          }
        },
        "01533d4701484f5facb16f75745b4c4a": {
          "model_module": "@jupyter-widgets/base",
          "model_name": "LayoutModel",
          "model_module_version": "1.2.0",
          "state": {
            "_model_module": "@jupyter-widgets/base",
            "_model_module_version": "1.2.0",
            "_model_name": "LayoutModel",
            "_view_count": null,
            "_view_module": "@jupyter-widgets/base",
            "_view_module_version": "1.2.0",
            "_view_name": "LayoutView",
            "align_content": null,
            "align_items": null,
            "align_self": null,
            "border": null,
            "bottom": null,
            "display": null,
            "flex": null,
            "flex_flow": null,
            "grid_area": null,
            "grid_auto_columns": null,
            "grid_auto_flow": null,
            "grid_auto_rows": null,
            "grid_column": null,
            "grid_gap": null,
            "grid_row": null,
            "grid_template_areas": null,
            "grid_template_columns": null,
            "grid_template_rows": null,
            "height": null,
            "justify_content": null,
            "justify_items": null,
            "left": null,
            "margin": null,
            "max_height": null,
            "max_width": null,
            "min_height": null,
            "min_width": null,
            "object_fit": null,
            "object_position": null,
            "order": null,
            "overflow": null,
            "overflow_x": null,
            "overflow_y": null,
            "padding": null,
            "right": null,
            "top": null,
            "visibility": null,
            "width": null
          }
        },
        "cb632aa8631b41e689511a9506315ad0": {
          "model_module": "@jupyter-widgets/base",
          "model_name": "LayoutModel",
          "model_module_version": "1.2.0",
          "state": {
            "_model_module": "@jupyter-widgets/base",
            "_model_module_version": "1.2.0",
            "_model_name": "LayoutModel",
            "_view_count": null,
            "_view_module": "@jupyter-widgets/base",
            "_view_module_version": "1.2.0",
            "_view_name": "LayoutView",
            "align_content": null,
            "align_items": null,
            "align_self": null,
            "border": null,
            "bottom": null,
            "display": null,
            "flex": null,
            "flex_flow": null,
            "grid_area": null,
            "grid_auto_columns": null,
            "grid_auto_flow": null,
            "grid_auto_rows": null,
            "grid_column": null,
            "grid_gap": null,
            "grid_row": null,
            "grid_template_areas": null,
            "grid_template_columns": null,
            "grid_template_rows": null,
            "height": null,
            "justify_content": null,
            "justify_items": null,
            "left": null,
            "margin": null,
            "max_height": null,
            "max_width": null,
            "min_height": null,
            "min_width": null,
            "object_fit": null,
            "object_position": null,
            "order": null,
            "overflow": null,
            "overflow_x": null,
            "overflow_y": null,
            "padding": null,
            "right": null,
            "top": null,
            "visibility": null,
            "width": null
          }
        },
        "ffb91062407143f89f9dab8f1f5826a3": {
          "model_module": "@jupyter-widgets/controls",
          "model_name": "DescriptionStyleModel",
          "model_module_version": "1.5.0",
          "state": {
            "_model_module": "@jupyter-widgets/controls",
            "_model_module_version": "1.5.0",
            "_model_name": "DescriptionStyleModel",
            "_view_count": null,
            "_view_module": "@jupyter-widgets/base",
            "_view_module_version": "1.2.0",
            "_view_name": "StyleView",
            "description_width": ""
          }
        },
        "fb3985936525411bb9301bf84af670a9": {
          "model_module": "@jupyter-widgets/base",
          "model_name": "LayoutModel",
          "model_module_version": "1.2.0",
          "state": {
            "_model_module": "@jupyter-widgets/base",
            "_model_module_version": "1.2.0",
            "_model_name": "LayoutModel",
            "_view_count": null,
            "_view_module": "@jupyter-widgets/base",
            "_view_module_version": "1.2.0",
            "_view_name": "LayoutView",
            "align_content": null,
            "align_items": null,
            "align_self": null,
            "border": null,
            "bottom": null,
            "display": null,
            "flex": null,
            "flex_flow": null,
            "grid_area": null,
            "grid_auto_columns": null,
            "grid_auto_flow": null,
            "grid_auto_rows": null,
            "grid_column": null,
            "grid_gap": null,
            "grid_row": null,
            "grid_template_areas": null,
            "grid_template_columns": null,
            "grid_template_rows": null,
            "height": null,
            "justify_content": null,
            "justify_items": null,
            "left": null,
            "margin": null,
            "max_height": null,
            "max_width": null,
            "min_height": null,
            "min_width": null,
            "object_fit": null,
            "object_position": null,
            "order": null,
            "overflow": null,
            "overflow_x": null,
            "overflow_y": null,
            "padding": null,
            "right": null,
            "top": null,
            "visibility": null,
            "width": null
          }
        },
        "3ec92a4b821a443f87d76ff53af397a7": {
          "model_module": "@jupyter-widgets/controls",
          "model_name": "ProgressStyleModel",
          "model_module_version": "1.5.0",
          "state": {
            "_model_module": "@jupyter-widgets/controls",
            "_model_module_version": "1.5.0",
            "_model_name": "ProgressStyleModel",
            "_view_count": null,
            "_view_module": "@jupyter-widgets/base",
            "_view_module_version": "1.2.0",
            "_view_name": "StyleView",
            "bar_color": null,
            "description_width": ""
          }
        },
        "5e3ab421a46744bfbe24618d42f03dd9": {
          "model_module": "@jupyter-widgets/controls",
          "model_name": "VBoxModel",
          "model_module_version": "1.5.0",
          "state": {
            "_dom_classes": [],
            "_model_module": "@jupyter-widgets/controls",
            "_model_module_version": "1.5.0",
            "_model_name": "VBoxModel",
            "_view_count": null,
            "_view_module": "@jupyter-widgets/controls",
            "_view_module_version": "1.5.0",
            "_view_name": "VBoxView",
            "box_style": "",
            "children": [
              "IPY_MODEL_5b15659b2a6447ae94963ad2dee06531",
              "IPY_MODEL_bf28b60c04f74c2f86f5b9c17ca54fed"
            ],
            "layout": "IPY_MODEL_19c6426ae5d44230bd825219030eee34"
          }
        },
        "5b15659b2a6447ae94963ad2dee06531": {
          "model_module": "@jupyter-widgets/controls",
          "model_name": "LabelModel",
          "model_module_version": "1.5.0",
          "state": {
            "_dom_classes": [],
            "_model_module": "@jupyter-widgets/controls",
            "_model_module_version": "1.5.0",
            "_model_name": "LabelModel",
            "_view_count": null,
            "_view_module": "@jupyter-widgets/controls",
            "_view_module_version": "1.5.0",
            "_view_name": "LabelView",
            "description": "",
            "description_tooltip": null,
            "layout": "IPY_MODEL_531fbdb83ea64d42ba361110827212d9",
            "placeholder": "​",
            "style": "IPY_MODEL_a2fe4bd3ab0e4cdb93a76d6b25002e03",
            "value": "0.011 MB of 0.011 MB uploaded\r"
          }
        },
        "bf28b60c04f74c2f86f5b9c17ca54fed": {
          "model_module": "@jupyter-widgets/controls",
          "model_name": "FloatProgressModel",
          "model_module_version": "1.5.0",
          "state": {
            "_dom_classes": [],
            "_model_module": "@jupyter-widgets/controls",
            "_model_module_version": "1.5.0",
            "_model_name": "FloatProgressModel",
            "_view_count": null,
            "_view_module": "@jupyter-widgets/controls",
            "_view_module_version": "1.5.0",
            "_view_name": "ProgressView",
            "bar_style": "",
            "description": "",
            "description_tooltip": null,
            "layout": "IPY_MODEL_787f3336fbb544849ac1fd0cc1846687",
            "max": 1,
            "min": 0,
            "orientation": "horizontal",
            "style": "IPY_MODEL_7ead3e5fe6d1428a8ffbb07abeada381",
            "value": 1
          }
        },
        "19c6426ae5d44230bd825219030eee34": {
          "model_module": "@jupyter-widgets/base",
          "model_name": "LayoutModel",
          "model_module_version": "1.2.0",
          "state": {
            "_model_module": "@jupyter-widgets/base",
            "_model_module_version": "1.2.0",
            "_model_name": "LayoutModel",
            "_view_count": null,
            "_view_module": "@jupyter-widgets/base",
            "_view_module_version": "1.2.0",
            "_view_name": "LayoutView",
            "align_content": null,
            "align_items": null,
            "align_self": null,
            "border": null,
            "bottom": null,
            "display": null,
            "flex": null,
            "flex_flow": null,
            "grid_area": null,
            "grid_auto_columns": null,
            "grid_auto_flow": null,
            "grid_auto_rows": null,
            "grid_column": null,
            "grid_gap": null,
            "grid_row": null,
            "grid_template_areas": null,
            "grid_template_columns": null,
            "grid_template_rows": null,
            "height": null,
            "justify_content": null,
            "justify_items": null,
            "left": null,
            "margin": null,
            "max_height": null,
            "max_width": null,
            "min_height": null,
            "min_width": null,
            "object_fit": null,
            "object_position": null,
            "order": null,
            "overflow": null,
            "overflow_x": null,
            "overflow_y": null,
            "padding": null,
            "right": null,
            "top": null,
            "visibility": null,
            "width": null
          }
        },
        "531fbdb83ea64d42ba361110827212d9": {
          "model_module": "@jupyter-widgets/base",
          "model_name": "LayoutModel",
          "model_module_version": "1.2.0",
          "state": {
            "_model_module": "@jupyter-widgets/base",
            "_model_module_version": "1.2.0",
            "_model_name": "LayoutModel",
            "_view_count": null,
            "_view_module": "@jupyter-widgets/base",
            "_view_module_version": "1.2.0",
            "_view_name": "LayoutView",
            "align_content": null,
            "align_items": null,
            "align_self": null,
            "border": null,
            "bottom": null,
            "display": null,
            "flex": null,
            "flex_flow": null,
            "grid_area": null,
            "grid_auto_columns": null,
            "grid_auto_flow": null,
            "grid_auto_rows": null,
            "grid_column": null,
            "grid_gap": null,
            "grid_row": null,
            "grid_template_areas": null,
            "grid_template_columns": null,
            "grid_template_rows": null,
            "height": null,
            "justify_content": null,
            "justify_items": null,
            "left": null,
            "margin": null,
            "max_height": null,
            "max_width": null,
            "min_height": null,
            "min_width": null,
            "object_fit": null,
            "object_position": null,
            "order": null,
            "overflow": null,
            "overflow_x": null,
            "overflow_y": null,
            "padding": null,
            "right": null,
            "top": null,
            "visibility": null,
            "width": null
          }
        },
        "a2fe4bd3ab0e4cdb93a76d6b25002e03": {
          "model_module": "@jupyter-widgets/controls",
          "model_name": "DescriptionStyleModel",
          "model_module_version": "1.5.0",
          "state": {
            "_model_module": "@jupyter-widgets/controls",
            "_model_module_version": "1.5.0",
            "_model_name": "DescriptionStyleModel",
            "_view_count": null,
            "_view_module": "@jupyter-widgets/base",
            "_view_module_version": "1.2.0",
            "_view_name": "StyleView",
            "description_width": ""
          }
        },
        "787f3336fbb544849ac1fd0cc1846687": {
          "model_module": "@jupyter-widgets/base",
          "model_name": "LayoutModel",
          "model_module_version": "1.2.0",
          "state": {
            "_model_module": "@jupyter-widgets/base",
            "_model_module_version": "1.2.0",
            "_model_name": "LayoutModel",
            "_view_count": null,
            "_view_module": "@jupyter-widgets/base",
            "_view_module_version": "1.2.0",
            "_view_name": "LayoutView",
            "align_content": null,
            "align_items": null,
            "align_self": null,
            "border": null,
            "bottom": null,
            "display": null,
            "flex": null,
            "flex_flow": null,
            "grid_area": null,
            "grid_auto_columns": null,
            "grid_auto_flow": null,
            "grid_auto_rows": null,
            "grid_column": null,
            "grid_gap": null,
            "grid_row": null,
            "grid_template_areas": null,
            "grid_template_columns": null,
            "grid_template_rows": null,
            "height": null,
            "justify_content": null,
            "justify_items": null,
            "left": null,
            "margin": null,
            "max_height": null,
            "max_width": null,
            "min_height": null,
            "min_width": null,
            "object_fit": null,
            "object_position": null,
            "order": null,
            "overflow": null,
            "overflow_x": null,
            "overflow_y": null,
            "padding": null,
            "right": null,
            "top": null,
            "visibility": null,
            "width": null
          }
        },
        "7ead3e5fe6d1428a8ffbb07abeada381": {
          "model_module": "@jupyter-widgets/controls",
          "model_name": "ProgressStyleModel",
          "model_module_version": "1.5.0",
          "state": {
            "_model_module": "@jupyter-widgets/controls",
            "_model_module_version": "1.5.0",
            "_model_name": "ProgressStyleModel",
            "_view_count": null,
            "_view_module": "@jupyter-widgets/base",
            "_view_module_version": "1.2.0",
            "_view_name": "StyleView",
            "bar_color": null,
            "description_width": ""
          }
        },
        "6cf1ab2301104e9394335d0329213bab": {
          "model_module": "@jupyter-widgets/controls",
          "model_name": "VBoxModel",
          "model_module_version": "1.5.0",
          "state": {
            "_dom_classes": [],
            "_model_module": "@jupyter-widgets/controls",
            "_model_module_version": "1.5.0",
            "_model_name": "VBoxModel",
            "_view_count": null,
            "_view_module": "@jupyter-widgets/controls",
            "_view_module_version": "1.5.0",
            "_view_name": "VBoxView",
            "box_style": "",
            "children": [
              "IPY_MODEL_f1e4be2e378d47b587ae95c0abdc0f22",
              "IPY_MODEL_07c223b5f9b840a2b7060d3604313fcc"
            ],
            "layout": "IPY_MODEL_2b3dc51f13a0410c9c0998de1aeed494"
          }
        },
        "f1e4be2e378d47b587ae95c0abdc0f22": {
          "model_module": "@jupyter-widgets/controls",
          "model_name": "LabelModel",
          "model_module_version": "1.5.0",
          "state": {
            "_dom_classes": [],
            "_model_module": "@jupyter-widgets/controls",
            "_model_module_version": "1.5.0",
            "_model_name": "LabelModel",
            "_view_count": null,
            "_view_module": "@jupyter-widgets/controls",
            "_view_module_version": "1.5.0",
            "_view_name": "LabelView",
            "description": "",
            "description_tooltip": null,
            "layout": "IPY_MODEL_fc4861cee1934d38850e762cbdbaf4b3",
            "placeholder": "​",
            "style": "IPY_MODEL_d7a04135c71642fab702c3d93948b1ab",
            "value": "0.011 MB of 0.011 MB uploaded\r"
          }
        },
        "07c223b5f9b840a2b7060d3604313fcc": {
          "model_module": "@jupyter-widgets/controls",
          "model_name": "FloatProgressModel",
          "model_module_version": "1.5.0",
          "state": {
            "_dom_classes": [],
            "_model_module": "@jupyter-widgets/controls",
            "_model_module_version": "1.5.0",
            "_model_name": "FloatProgressModel",
            "_view_count": null,
            "_view_module": "@jupyter-widgets/controls",
            "_view_module_version": "1.5.0",
            "_view_name": "ProgressView",
            "bar_style": "",
            "description": "",
            "description_tooltip": null,
            "layout": "IPY_MODEL_7a1cb54b16424fb8ac545000cdeeb104",
            "max": 1,
            "min": 0,
            "orientation": "horizontal",
            "style": "IPY_MODEL_62fab502b8794e0ba0d17d94cfd571d9",
            "value": 1
          }
        },
        "2b3dc51f13a0410c9c0998de1aeed494": {
          "model_module": "@jupyter-widgets/base",
          "model_name": "LayoutModel",
          "model_module_version": "1.2.0",
          "state": {
            "_model_module": "@jupyter-widgets/base",
            "_model_module_version": "1.2.0",
            "_model_name": "LayoutModel",
            "_view_count": null,
            "_view_module": "@jupyter-widgets/base",
            "_view_module_version": "1.2.0",
            "_view_name": "LayoutView",
            "align_content": null,
            "align_items": null,
            "align_self": null,
            "border": null,
            "bottom": null,
            "display": null,
            "flex": null,
            "flex_flow": null,
            "grid_area": null,
            "grid_auto_columns": null,
            "grid_auto_flow": null,
            "grid_auto_rows": null,
            "grid_column": null,
            "grid_gap": null,
            "grid_row": null,
            "grid_template_areas": null,
            "grid_template_columns": null,
            "grid_template_rows": null,
            "height": null,
            "justify_content": null,
            "justify_items": null,
            "left": null,
            "margin": null,
            "max_height": null,
            "max_width": null,
            "min_height": null,
            "min_width": null,
            "object_fit": null,
            "object_position": null,
            "order": null,
            "overflow": null,
            "overflow_x": null,
            "overflow_y": null,
            "padding": null,
            "right": null,
            "top": null,
            "visibility": null,
            "width": null
          }
        },
        "fc4861cee1934d38850e762cbdbaf4b3": {
          "model_module": "@jupyter-widgets/base",
          "model_name": "LayoutModel",
          "model_module_version": "1.2.0",
          "state": {
            "_model_module": "@jupyter-widgets/base",
            "_model_module_version": "1.2.0",
            "_model_name": "LayoutModel",
            "_view_count": null,
            "_view_module": "@jupyter-widgets/base",
            "_view_module_version": "1.2.0",
            "_view_name": "LayoutView",
            "align_content": null,
            "align_items": null,
            "align_self": null,
            "border": null,
            "bottom": null,
            "display": null,
            "flex": null,
            "flex_flow": null,
            "grid_area": null,
            "grid_auto_columns": null,
            "grid_auto_flow": null,
            "grid_auto_rows": null,
            "grid_column": null,
            "grid_gap": null,
            "grid_row": null,
            "grid_template_areas": null,
            "grid_template_columns": null,
            "grid_template_rows": null,
            "height": null,
            "justify_content": null,
            "justify_items": null,
            "left": null,
            "margin": null,
            "max_height": null,
            "max_width": null,
            "min_height": null,
            "min_width": null,
            "object_fit": null,
            "object_position": null,
            "order": null,
            "overflow": null,
            "overflow_x": null,
            "overflow_y": null,
            "padding": null,
            "right": null,
            "top": null,
            "visibility": null,
            "width": null
          }
        },
        "d7a04135c71642fab702c3d93948b1ab": {
          "model_module": "@jupyter-widgets/controls",
          "model_name": "DescriptionStyleModel",
          "model_module_version": "1.5.0",
          "state": {
            "_model_module": "@jupyter-widgets/controls",
            "_model_module_version": "1.5.0",
            "_model_name": "DescriptionStyleModel",
            "_view_count": null,
            "_view_module": "@jupyter-widgets/base",
            "_view_module_version": "1.2.0",
            "_view_name": "StyleView",
            "description_width": ""
          }
        },
        "7a1cb54b16424fb8ac545000cdeeb104": {
          "model_module": "@jupyter-widgets/base",
          "model_name": "LayoutModel",
          "model_module_version": "1.2.0",
          "state": {
            "_model_module": "@jupyter-widgets/base",
            "_model_module_version": "1.2.0",
            "_model_name": "LayoutModel",
            "_view_count": null,
            "_view_module": "@jupyter-widgets/base",
            "_view_module_version": "1.2.0",
            "_view_name": "LayoutView",
            "align_content": null,
            "align_items": null,
            "align_self": null,
            "border": null,
            "bottom": null,
            "display": null,
            "flex": null,
            "flex_flow": null,
            "grid_area": null,
            "grid_auto_columns": null,
            "grid_auto_flow": null,
            "grid_auto_rows": null,
            "grid_column": null,
            "grid_gap": null,
            "grid_row": null,
            "grid_template_areas": null,
            "grid_template_columns": null,
            "grid_template_rows": null,
            "height": null,
            "justify_content": null,
            "justify_items": null,
            "left": null,
            "margin": null,
            "max_height": null,
            "max_width": null,
            "min_height": null,
            "min_width": null,
            "object_fit": null,
            "object_position": null,
            "order": null,
            "overflow": null,
            "overflow_x": null,
            "overflow_y": null,
            "padding": null,
            "right": null,
            "top": null,
            "visibility": null,
            "width": null
          }
        },
        "62fab502b8794e0ba0d17d94cfd571d9": {
          "model_module": "@jupyter-widgets/controls",
          "model_name": "ProgressStyleModel",
          "model_module_version": "1.5.0",
          "state": {
            "_model_module": "@jupyter-widgets/controls",
            "_model_module_version": "1.5.0",
            "_model_name": "ProgressStyleModel",
            "_view_count": null,
            "_view_module": "@jupyter-widgets/base",
            "_view_module_version": "1.2.0",
            "_view_name": "StyleView",
            "bar_color": null,
            "description_width": ""
          }
        },
        "49b5d5f391384dd1b5aee9464b577e69": {
          "model_module": "@jupyter-widgets/controls",
          "model_name": "VBoxModel",
          "model_module_version": "1.5.0",
          "state": {
            "_dom_classes": [],
            "_model_module": "@jupyter-widgets/controls",
            "_model_module_version": "1.5.0",
            "_model_name": "VBoxModel",
            "_view_count": null,
            "_view_module": "@jupyter-widgets/controls",
            "_view_module_version": "1.5.0",
            "_view_name": "VBoxView",
            "box_style": "",
            "children": [
              "IPY_MODEL_abdf5febfe6a459da83327139a35c864",
              "IPY_MODEL_6e742e2300ed4ae5871385ee9c244546"
            ],
            "layout": "IPY_MODEL_7c2cd56f6c024653b3086875a1084f31"
          }
        },
        "abdf5febfe6a459da83327139a35c864": {
          "model_module": "@jupyter-widgets/controls",
          "model_name": "LabelModel",
          "model_module_version": "1.5.0",
          "state": {
            "_dom_classes": [],
            "_model_module": "@jupyter-widgets/controls",
            "_model_module_version": "1.5.0",
            "_model_name": "LabelModel",
            "_view_count": null,
            "_view_module": "@jupyter-widgets/controls",
            "_view_module_version": "1.5.0",
            "_view_name": "LabelView",
            "description": "",
            "description_tooltip": null,
            "layout": "IPY_MODEL_3f6e2f49b4e74a5c8aad4e43d6148979",
            "placeholder": "​",
            "style": "IPY_MODEL_f63a9cb0c80d4b33889e8df2140f2bdb",
            "value": "0.011 MB of 0.011 MB uploaded\r"
          }
        },
        "6e742e2300ed4ae5871385ee9c244546": {
          "model_module": "@jupyter-widgets/controls",
          "model_name": "FloatProgressModel",
          "model_module_version": "1.5.0",
          "state": {
            "_dom_classes": [],
            "_model_module": "@jupyter-widgets/controls",
            "_model_module_version": "1.5.0",
            "_model_name": "FloatProgressModel",
            "_view_count": null,
            "_view_module": "@jupyter-widgets/controls",
            "_view_module_version": "1.5.0",
            "_view_name": "ProgressView",
            "bar_style": "",
            "description": "",
            "description_tooltip": null,
            "layout": "IPY_MODEL_9c2041b91f8a481fb9380d545de8b445",
            "max": 1,
            "min": 0,
            "orientation": "horizontal",
            "style": "IPY_MODEL_3193c947c24f4aba8ce474191a3a1240",
            "value": 1
          }
        },
        "7c2cd56f6c024653b3086875a1084f31": {
          "model_module": "@jupyter-widgets/base",
          "model_name": "LayoutModel",
          "model_module_version": "1.2.0",
          "state": {
            "_model_module": "@jupyter-widgets/base",
            "_model_module_version": "1.2.0",
            "_model_name": "LayoutModel",
            "_view_count": null,
            "_view_module": "@jupyter-widgets/base",
            "_view_module_version": "1.2.0",
            "_view_name": "LayoutView",
            "align_content": null,
            "align_items": null,
            "align_self": null,
            "border": null,
            "bottom": null,
            "display": null,
            "flex": null,
            "flex_flow": null,
            "grid_area": null,
            "grid_auto_columns": null,
            "grid_auto_flow": null,
            "grid_auto_rows": null,
            "grid_column": null,
            "grid_gap": null,
            "grid_row": null,
            "grid_template_areas": null,
            "grid_template_columns": null,
            "grid_template_rows": null,
            "height": null,
            "justify_content": null,
            "justify_items": null,
            "left": null,
            "margin": null,
            "max_height": null,
            "max_width": null,
            "min_height": null,
            "min_width": null,
            "object_fit": null,
            "object_position": null,
            "order": null,
            "overflow": null,
            "overflow_x": null,
            "overflow_y": null,
            "padding": null,
            "right": null,
            "top": null,
            "visibility": null,
            "width": null
          }
        },
        "3f6e2f49b4e74a5c8aad4e43d6148979": {
          "model_module": "@jupyter-widgets/base",
          "model_name": "LayoutModel",
          "model_module_version": "1.2.0",
          "state": {
            "_model_module": "@jupyter-widgets/base",
            "_model_module_version": "1.2.0",
            "_model_name": "LayoutModel",
            "_view_count": null,
            "_view_module": "@jupyter-widgets/base",
            "_view_module_version": "1.2.0",
            "_view_name": "LayoutView",
            "align_content": null,
            "align_items": null,
            "align_self": null,
            "border": null,
            "bottom": null,
            "display": null,
            "flex": null,
            "flex_flow": null,
            "grid_area": null,
            "grid_auto_columns": null,
            "grid_auto_flow": null,
            "grid_auto_rows": null,
            "grid_column": null,
            "grid_gap": null,
            "grid_row": null,
            "grid_template_areas": null,
            "grid_template_columns": null,
            "grid_template_rows": null,
            "height": null,
            "justify_content": null,
            "justify_items": null,
            "left": null,
            "margin": null,
            "max_height": null,
            "max_width": null,
            "min_height": null,
            "min_width": null,
            "object_fit": null,
            "object_position": null,
            "order": null,
            "overflow": null,
            "overflow_x": null,
            "overflow_y": null,
            "padding": null,
            "right": null,
            "top": null,
            "visibility": null,
            "width": null
          }
        },
        "f63a9cb0c80d4b33889e8df2140f2bdb": {
          "model_module": "@jupyter-widgets/controls",
          "model_name": "DescriptionStyleModel",
          "model_module_version": "1.5.0",
          "state": {
            "_model_module": "@jupyter-widgets/controls",
            "_model_module_version": "1.5.0",
            "_model_name": "DescriptionStyleModel",
            "_view_count": null,
            "_view_module": "@jupyter-widgets/base",
            "_view_module_version": "1.2.0",
            "_view_name": "StyleView",
            "description_width": ""
          }
        },
        "9c2041b91f8a481fb9380d545de8b445": {
          "model_module": "@jupyter-widgets/base",
          "model_name": "LayoutModel",
          "model_module_version": "1.2.0",
          "state": {
            "_model_module": "@jupyter-widgets/base",
            "_model_module_version": "1.2.0",
            "_model_name": "LayoutModel",
            "_view_count": null,
            "_view_module": "@jupyter-widgets/base",
            "_view_module_version": "1.2.0",
            "_view_name": "LayoutView",
            "align_content": null,
            "align_items": null,
            "align_self": null,
            "border": null,
            "bottom": null,
            "display": null,
            "flex": null,
            "flex_flow": null,
            "grid_area": null,
            "grid_auto_columns": null,
            "grid_auto_flow": null,
            "grid_auto_rows": null,
            "grid_column": null,
            "grid_gap": null,
            "grid_row": null,
            "grid_template_areas": null,
            "grid_template_columns": null,
            "grid_template_rows": null,
            "height": null,
            "justify_content": null,
            "justify_items": null,
            "left": null,
            "margin": null,
            "max_height": null,
            "max_width": null,
            "min_height": null,
            "min_width": null,
            "object_fit": null,
            "object_position": null,
            "order": null,
            "overflow": null,
            "overflow_x": null,
            "overflow_y": null,
            "padding": null,
            "right": null,
            "top": null,
            "visibility": null,
            "width": null
          }
        },
        "3193c947c24f4aba8ce474191a3a1240": {
          "model_module": "@jupyter-widgets/controls",
          "model_name": "ProgressStyleModel",
          "model_module_version": "1.5.0",
          "state": {
            "_model_module": "@jupyter-widgets/controls",
            "_model_module_version": "1.5.0",
            "_model_name": "ProgressStyleModel",
            "_view_count": null,
            "_view_module": "@jupyter-widgets/base",
            "_view_module_version": "1.2.0",
            "_view_name": "StyleView",
            "bar_color": null,
            "description_width": ""
          }
        },
        "8aa213dff5ae4df3ba1e2cc84f949a4d": {
          "model_module": "@jupyter-widgets/controls",
          "model_name": "VBoxModel",
          "model_module_version": "1.5.0",
          "state": {
            "_dom_classes": [],
            "_model_module": "@jupyter-widgets/controls",
            "_model_module_version": "1.5.0",
            "_model_name": "VBoxModel",
            "_view_count": null,
            "_view_module": "@jupyter-widgets/controls",
            "_view_module_version": "1.5.0",
            "_view_name": "VBoxView",
            "box_style": "",
            "children": [
              "IPY_MODEL_fb8b0c9704494a51b279b52f2aeced6b",
              "IPY_MODEL_b37cd6c372604d548d84a37945cf1157"
            ],
            "layout": "IPY_MODEL_d335838514e14541b170651f87bfa0aa"
          }
        },
        "fb8b0c9704494a51b279b52f2aeced6b": {
          "model_module": "@jupyter-widgets/controls",
          "model_name": "LabelModel",
          "model_module_version": "1.5.0",
          "state": {
            "_dom_classes": [],
            "_model_module": "@jupyter-widgets/controls",
            "_model_module_version": "1.5.0",
            "_model_name": "LabelModel",
            "_view_count": null,
            "_view_module": "@jupyter-widgets/controls",
            "_view_module_version": "1.5.0",
            "_view_name": "LabelView",
            "description": "",
            "description_tooltip": null,
            "layout": "IPY_MODEL_fb3914886df544dcbbfa2a071bbf8e67",
            "placeholder": "​",
            "style": "IPY_MODEL_cfc07d95bf624f83a22bede523a16b7a",
            "value": "0.011 MB of 0.011 MB uploaded\r"
          }
        },
        "b37cd6c372604d548d84a37945cf1157": {
          "model_module": "@jupyter-widgets/controls",
          "model_name": "FloatProgressModel",
          "model_module_version": "1.5.0",
          "state": {
            "_dom_classes": [],
            "_model_module": "@jupyter-widgets/controls",
            "_model_module_version": "1.5.0",
            "_model_name": "FloatProgressModel",
            "_view_count": null,
            "_view_module": "@jupyter-widgets/controls",
            "_view_module_version": "1.5.0",
            "_view_name": "ProgressView",
            "bar_style": "",
            "description": "",
            "description_tooltip": null,
            "layout": "IPY_MODEL_fb7c4cc72ceb4f0290288767d2b5ca14",
            "max": 1,
            "min": 0,
            "orientation": "horizontal",
            "style": "IPY_MODEL_46048c2131ad41908565f34831c5132c",
            "value": 1
          }
        },
        "d335838514e14541b170651f87bfa0aa": {
          "model_module": "@jupyter-widgets/base",
          "model_name": "LayoutModel",
          "model_module_version": "1.2.0",
          "state": {
            "_model_module": "@jupyter-widgets/base",
            "_model_module_version": "1.2.0",
            "_model_name": "LayoutModel",
            "_view_count": null,
            "_view_module": "@jupyter-widgets/base",
            "_view_module_version": "1.2.0",
            "_view_name": "LayoutView",
            "align_content": null,
            "align_items": null,
            "align_self": null,
            "border": null,
            "bottom": null,
            "display": null,
            "flex": null,
            "flex_flow": null,
            "grid_area": null,
            "grid_auto_columns": null,
            "grid_auto_flow": null,
            "grid_auto_rows": null,
            "grid_column": null,
            "grid_gap": null,
            "grid_row": null,
            "grid_template_areas": null,
            "grid_template_columns": null,
            "grid_template_rows": null,
            "height": null,
            "justify_content": null,
            "justify_items": null,
            "left": null,
            "margin": null,
            "max_height": null,
            "max_width": null,
            "min_height": null,
            "min_width": null,
            "object_fit": null,
            "object_position": null,
            "order": null,
            "overflow": null,
            "overflow_x": null,
            "overflow_y": null,
            "padding": null,
            "right": null,
            "top": null,
            "visibility": null,
            "width": null
          }
        },
        "fb3914886df544dcbbfa2a071bbf8e67": {
          "model_module": "@jupyter-widgets/base",
          "model_name": "LayoutModel",
          "model_module_version": "1.2.0",
          "state": {
            "_model_module": "@jupyter-widgets/base",
            "_model_module_version": "1.2.0",
            "_model_name": "LayoutModel",
            "_view_count": null,
            "_view_module": "@jupyter-widgets/base",
            "_view_module_version": "1.2.0",
            "_view_name": "LayoutView",
            "align_content": null,
            "align_items": null,
            "align_self": null,
            "border": null,
            "bottom": null,
            "display": null,
            "flex": null,
            "flex_flow": null,
            "grid_area": null,
            "grid_auto_columns": null,
            "grid_auto_flow": null,
            "grid_auto_rows": null,
            "grid_column": null,
            "grid_gap": null,
            "grid_row": null,
            "grid_template_areas": null,
            "grid_template_columns": null,
            "grid_template_rows": null,
            "height": null,
            "justify_content": null,
            "justify_items": null,
            "left": null,
            "margin": null,
            "max_height": null,
            "max_width": null,
            "min_height": null,
            "min_width": null,
            "object_fit": null,
            "object_position": null,
            "order": null,
            "overflow": null,
            "overflow_x": null,
            "overflow_y": null,
            "padding": null,
            "right": null,
            "top": null,
            "visibility": null,
            "width": null
          }
        },
        "cfc07d95bf624f83a22bede523a16b7a": {
          "model_module": "@jupyter-widgets/controls",
          "model_name": "DescriptionStyleModel",
          "model_module_version": "1.5.0",
          "state": {
            "_model_module": "@jupyter-widgets/controls",
            "_model_module_version": "1.5.0",
            "_model_name": "DescriptionStyleModel",
            "_view_count": null,
            "_view_module": "@jupyter-widgets/base",
            "_view_module_version": "1.2.0",
            "_view_name": "StyleView",
            "description_width": ""
          }
        },
        "fb7c4cc72ceb4f0290288767d2b5ca14": {
          "model_module": "@jupyter-widgets/base",
          "model_name": "LayoutModel",
          "model_module_version": "1.2.0",
          "state": {
            "_model_module": "@jupyter-widgets/base",
            "_model_module_version": "1.2.0",
            "_model_name": "LayoutModel",
            "_view_count": null,
            "_view_module": "@jupyter-widgets/base",
            "_view_module_version": "1.2.0",
            "_view_name": "LayoutView",
            "align_content": null,
            "align_items": null,
            "align_self": null,
            "border": null,
            "bottom": null,
            "display": null,
            "flex": null,
            "flex_flow": null,
            "grid_area": null,
            "grid_auto_columns": null,
            "grid_auto_flow": null,
            "grid_auto_rows": null,
            "grid_column": null,
            "grid_gap": null,
            "grid_row": null,
            "grid_template_areas": null,
            "grid_template_columns": null,
            "grid_template_rows": null,
            "height": null,
            "justify_content": null,
            "justify_items": null,
            "left": null,
            "margin": null,
            "max_height": null,
            "max_width": null,
            "min_height": null,
            "min_width": null,
            "object_fit": null,
            "object_position": null,
            "order": null,
            "overflow": null,
            "overflow_x": null,
            "overflow_y": null,
            "padding": null,
            "right": null,
            "top": null,
            "visibility": null,
            "width": null
          }
        },
        "46048c2131ad41908565f34831c5132c": {
          "model_module": "@jupyter-widgets/controls",
          "model_name": "ProgressStyleModel",
          "model_module_version": "1.5.0",
          "state": {
            "_model_module": "@jupyter-widgets/controls",
            "_model_module_version": "1.5.0",
            "_model_name": "ProgressStyleModel",
            "_view_count": null,
            "_view_module": "@jupyter-widgets/base",
            "_view_module_version": "1.2.0",
            "_view_name": "StyleView",
            "bar_color": null,
            "description_width": ""
          }
        },
        "adcfc6afe3a544d8809c1de91242effe": {
          "model_module": "@jupyter-widgets/controls",
          "model_name": "VBoxModel",
          "model_module_version": "1.5.0",
          "state": {
            "_dom_classes": [],
            "_model_module": "@jupyter-widgets/controls",
            "_model_module_version": "1.5.0",
            "_model_name": "VBoxModel",
            "_view_count": null,
            "_view_module": "@jupyter-widgets/controls",
            "_view_module_version": "1.5.0",
            "_view_name": "VBoxView",
            "box_style": "",
            "children": [
              "IPY_MODEL_cc0720941c654d9e91ba3b619b79085a",
              "IPY_MODEL_0503019cf4604871bc803ad71f1d9881"
            ],
            "layout": "IPY_MODEL_00aed1effba54844a65be3d50fab0504"
          }
        },
        "cc0720941c654d9e91ba3b619b79085a": {
          "model_module": "@jupyter-widgets/controls",
          "model_name": "LabelModel",
          "model_module_version": "1.5.0",
          "state": {
            "_dom_classes": [],
            "_model_module": "@jupyter-widgets/controls",
            "_model_module_version": "1.5.0",
            "_model_name": "LabelModel",
            "_view_count": null,
            "_view_module": "@jupyter-widgets/controls",
            "_view_module_version": "1.5.0",
            "_view_name": "LabelView",
            "description": "",
            "description_tooltip": null,
            "layout": "IPY_MODEL_1f9d4a9a0ddc4861a2c54c694f55c8ac",
            "placeholder": "​",
            "style": "IPY_MODEL_f2f215832fac49edb5da6f86644bbe3c",
            "value": "0.011 MB of 0.011 MB uploaded\r"
          }
        },
        "0503019cf4604871bc803ad71f1d9881": {
          "model_module": "@jupyter-widgets/controls",
          "model_name": "FloatProgressModel",
          "model_module_version": "1.5.0",
          "state": {
            "_dom_classes": [],
            "_model_module": "@jupyter-widgets/controls",
            "_model_module_version": "1.5.0",
            "_model_name": "FloatProgressModel",
            "_view_count": null,
            "_view_module": "@jupyter-widgets/controls",
            "_view_module_version": "1.5.0",
            "_view_name": "ProgressView",
            "bar_style": "",
            "description": "",
            "description_tooltip": null,
            "layout": "IPY_MODEL_5a63a696d8924ea68308d7b75f6b097c",
            "max": 1,
            "min": 0,
            "orientation": "horizontal",
            "style": "IPY_MODEL_4ffe4677ebd74888951b96756965a198",
            "value": 1
          }
        },
        "00aed1effba54844a65be3d50fab0504": {
          "model_module": "@jupyter-widgets/base",
          "model_name": "LayoutModel",
          "model_module_version": "1.2.0",
          "state": {
            "_model_module": "@jupyter-widgets/base",
            "_model_module_version": "1.2.0",
            "_model_name": "LayoutModel",
            "_view_count": null,
            "_view_module": "@jupyter-widgets/base",
            "_view_module_version": "1.2.0",
            "_view_name": "LayoutView",
            "align_content": null,
            "align_items": null,
            "align_self": null,
            "border": null,
            "bottom": null,
            "display": null,
            "flex": null,
            "flex_flow": null,
            "grid_area": null,
            "grid_auto_columns": null,
            "grid_auto_flow": null,
            "grid_auto_rows": null,
            "grid_column": null,
            "grid_gap": null,
            "grid_row": null,
            "grid_template_areas": null,
            "grid_template_columns": null,
            "grid_template_rows": null,
            "height": null,
            "justify_content": null,
            "justify_items": null,
            "left": null,
            "margin": null,
            "max_height": null,
            "max_width": null,
            "min_height": null,
            "min_width": null,
            "object_fit": null,
            "object_position": null,
            "order": null,
            "overflow": null,
            "overflow_x": null,
            "overflow_y": null,
            "padding": null,
            "right": null,
            "top": null,
            "visibility": null,
            "width": null
          }
        },
        "1f9d4a9a0ddc4861a2c54c694f55c8ac": {
          "model_module": "@jupyter-widgets/base",
          "model_name": "LayoutModel",
          "model_module_version": "1.2.0",
          "state": {
            "_model_module": "@jupyter-widgets/base",
            "_model_module_version": "1.2.0",
            "_model_name": "LayoutModel",
            "_view_count": null,
            "_view_module": "@jupyter-widgets/base",
            "_view_module_version": "1.2.0",
            "_view_name": "LayoutView",
            "align_content": null,
            "align_items": null,
            "align_self": null,
            "border": null,
            "bottom": null,
            "display": null,
            "flex": null,
            "flex_flow": null,
            "grid_area": null,
            "grid_auto_columns": null,
            "grid_auto_flow": null,
            "grid_auto_rows": null,
            "grid_column": null,
            "grid_gap": null,
            "grid_row": null,
            "grid_template_areas": null,
            "grid_template_columns": null,
            "grid_template_rows": null,
            "height": null,
            "justify_content": null,
            "justify_items": null,
            "left": null,
            "margin": null,
            "max_height": null,
            "max_width": null,
            "min_height": null,
            "min_width": null,
            "object_fit": null,
            "object_position": null,
            "order": null,
            "overflow": null,
            "overflow_x": null,
            "overflow_y": null,
            "padding": null,
            "right": null,
            "top": null,
            "visibility": null,
            "width": null
          }
        },
        "f2f215832fac49edb5da6f86644bbe3c": {
          "model_module": "@jupyter-widgets/controls",
          "model_name": "DescriptionStyleModel",
          "model_module_version": "1.5.0",
          "state": {
            "_model_module": "@jupyter-widgets/controls",
            "_model_module_version": "1.5.0",
            "_model_name": "DescriptionStyleModel",
            "_view_count": null,
            "_view_module": "@jupyter-widgets/base",
            "_view_module_version": "1.2.0",
            "_view_name": "StyleView",
            "description_width": ""
          }
        },
        "5a63a696d8924ea68308d7b75f6b097c": {
          "model_module": "@jupyter-widgets/base",
          "model_name": "LayoutModel",
          "model_module_version": "1.2.0",
          "state": {
            "_model_module": "@jupyter-widgets/base",
            "_model_module_version": "1.2.0",
            "_model_name": "LayoutModel",
            "_view_count": null,
            "_view_module": "@jupyter-widgets/base",
            "_view_module_version": "1.2.0",
            "_view_name": "LayoutView",
            "align_content": null,
            "align_items": null,
            "align_self": null,
            "border": null,
            "bottom": null,
            "display": null,
            "flex": null,
            "flex_flow": null,
            "grid_area": null,
            "grid_auto_columns": null,
            "grid_auto_flow": null,
            "grid_auto_rows": null,
            "grid_column": null,
            "grid_gap": null,
            "grid_row": null,
            "grid_template_areas": null,
            "grid_template_columns": null,
            "grid_template_rows": null,
            "height": null,
            "justify_content": null,
            "justify_items": null,
            "left": null,
            "margin": null,
            "max_height": null,
            "max_width": null,
            "min_height": null,
            "min_width": null,
            "object_fit": null,
            "object_position": null,
            "order": null,
            "overflow": null,
            "overflow_x": null,
            "overflow_y": null,
            "padding": null,
            "right": null,
            "top": null,
            "visibility": null,
            "width": null
          }
        },
        "4ffe4677ebd74888951b96756965a198": {
          "model_module": "@jupyter-widgets/controls",
          "model_name": "ProgressStyleModel",
          "model_module_version": "1.5.0",
          "state": {
            "_model_module": "@jupyter-widgets/controls",
            "_model_module_version": "1.5.0",
            "_model_name": "ProgressStyleModel",
            "_view_count": null,
            "_view_module": "@jupyter-widgets/base",
            "_view_module_version": "1.2.0",
            "_view_name": "StyleView",
            "bar_color": null,
            "description_width": ""
          }
        },
        "9fc99f51c3394159aed21ec136840304": {
          "model_module": "@jupyter-widgets/controls",
          "model_name": "VBoxModel",
          "model_module_version": "1.5.0",
          "state": {
            "_dom_classes": [],
            "_model_module": "@jupyter-widgets/controls",
            "_model_module_version": "1.5.0",
            "_model_name": "VBoxModel",
            "_view_count": null,
            "_view_module": "@jupyter-widgets/controls",
            "_view_module_version": "1.5.0",
            "_view_name": "VBoxView",
            "box_style": "",
            "children": [
              "IPY_MODEL_7a2c21c78c944b6aadd30937e3ee4d07",
              "IPY_MODEL_1bd9f5b519c2448da9b094467b583085"
            ],
            "layout": "IPY_MODEL_10657084fddf4a9083391e523b9a8b00"
          }
        },
        "7a2c21c78c944b6aadd30937e3ee4d07": {
          "model_module": "@jupyter-widgets/controls",
          "model_name": "LabelModel",
          "model_module_version": "1.5.0",
          "state": {
            "_dom_classes": [],
            "_model_module": "@jupyter-widgets/controls",
            "_model_module_version": "1.5.0",
            "_model_name": "LabelModel",
            "_view_count": null,
            "_view_module": "@jupyter-widgets/controls",
            "_view_module_version": "1.5.0",
            "_view_name": "LabelView",
            "description": "",
            "description_tooltip": null,
            "layout": "IPY_MODEL_769cde55443543d18a5cbd6facd236ef",
            "placeholder": "​",
            "style": "IPY_MODEL_b28b7276d1cc4fbca3c7805c2c43fa79",
            "value": "0.011 MB of 0.011 MB uploaded\r"
          }
        },
        "1bd9f5b519c2448da9b094467b583085": {
          "model_module": "@jupyter-widgets/controls",
          "model_name": "FloatProgressModel",
          "model_module_version": "1.5.0",
          "state": {
            "_dom_classes": [],
            "_model_module": "@jupyter-widgets/controls",
            "_model_module_version": "1.5.0",
            "_model_name": "FloatProgressModel",
            "_view_count": null,
            "_view_module": "@jupyter-widgets/controls",
            "_view_module_version": "1.5.0",
            "_view_name": "ProgressView",
            "bar_style": "",
            "description": "",
            "description_tooltip": null,
            "layout": "IPY_MODEL_4ed406ba69a14a5f91d45d0085b0deed",
            "max": 1,
            "min": 0,
            "orientation": "horizontal",
            "style": "IPY_MODEL_1aba6cbd5bab45b6954401df8194f674",
            "value": 1
          }
        },
        "10657084fddf4a9083391e523b9a8b00": {
          "model_module": "@jupyter-widgets/base",
          "model_name": "LayoutModel",
          "model_module_version": "1.2.0",
          "state": {
            "_model_module": "@jupyter-widgets/base",
            "_model_module_version": "1.2.0",
            "_model_name": "LayoutModel",
            "_view_count": null,
            "_view_module": "@jupyter-widgets/base",
            "_view_module_version": "1.2.0",
            "_view_name": "LayoutView",
            "align_content": null,
            "align_items": null,
            "align_self": null,
            "border": null,
            "bottom": null,
            "display": null,
            "flex": null,
            "flex_flow": null,
            "grid_area": null,
            "grid_auto_columns": null,
            "grid_auto_flow": null,
            "grid_auto_rows": null,
            "grid_column": null,
            "grid_gap": null,
            "grid_row": null,
            "grid_template_areas": null,
            "grid_template_columns": null,
            "grid_template_rows": null,
            "height": null,
            "justify_content": null,
            "justify_items": null,
            "left": null,
            "margin": null,
            "max_height": null,
            "max_width": null,
            "min_height": null,
            "min_width": null,
            "object_fit": null,
            "object_position": null,
            "order": null,
            "overflow": null,
            "overflow_x": null,
            "overflow_y": null,
            "padding": null,
            "right": null,
            "top": null,
            "visibility": null,
            "width": null
          }
        },
        "769cde55443543d18a5cbd6facd236ef": {
          "model_module": "@jupyter-widgets/base",
          "model_name": "LayoutModel",
          "model_module_version": "1.2.0",
          "state": {
            "_model_module": "@jupyter-widgets/base",
            "_model_module_version": "1.2.0",
            "_model_name": "LayoutModel",
            "_view_count": null,
            "_view_module": "@jupyter-widgets/base",
            "_view_module_version": "1.2.0",
            "_view_name": "LayoutView",
            "align_content": null,
            "align_items": null,
            "align_self": null,
            "border": null,
            "bottom": null,
            "display": null,
            "flex": null,
            "flex_flow": null,
            "grid_area": null,
            "grid_auto_columns": null,
            "grid_auto_flow": null,
            "grid_auto_rows": null,
            "grid_column": null,
            "grid_gap": null,
            "grid_row": null,
            "grid_template_areas": null,
            "grid_template_columns": null,
            "grid_template_rows": null,
            "height": null,
            "justify_content": null,
            "justify_items": null,
            "left": null,
            "margin": null,
            "max_height": null,
            "max_width": null,
            "min_height": null,
            "min_width": null,
            "object_fit": null,
            "object_position": null,
            "order": null,
            "overflow": null,
            "overflow_x": null,
            "overflow_y": null,
            "padding": null,
            "right": null,
            "top": null,
            "visibility": null,
            "width": null
          }
        },
        "b28b7276d1cc4fbca3c7805c2c43fa79": {
          "model_module": "@jupyter-widgets/controls",
          "model_name": "DescriptionStyleModel",
          "model_module_version": "1.5.0",
          "state": {
            "_model_module": "@jupyter-widgets/controls",
            "_model_module_version": "1.5.0",
            "_model_name": "DescriptionStyleModel",
            "_view_count": null,
            "_view_module": "@jupyter-widgets/base",
            "_view_module_version": "1.2.0",
            "_view_name": "StyleView",
            "description_width": ""
          }
        },
        "4ed406ba69a14a5f91d45d0085b0deed": {
          "model_module": "@jupyter-widgets/base",
          "model_name": "LayoutModel",
          "model_module_version": "1.2.0",
          "state": {
            "_model_module": "@jupyter-widgets/base",
            "_model_module_version": "1.2.0",
            "_model_name": "LayoutModel",
            "_view_count": null,
            "_view_module": "@jupyter-widgets/base",
            "_view_module_version": "1.2.0",
            "_view_name": "LayoutView",
            "align_content": null,
            "align_items": null,
            "align_self": null,
            "border": null,
            "bottom": null,
            "display": null,
            "flex": null,
            "flex_flow": null,
            "grid_area": null,
            "grid_auto_columns": null,
            "grid_auto_flow": null,
            "grid_auto_rows": null,
            "grid_column": null,
            "grid_gap": null,
            "grid_row": null,
            "grid_template_areas": null,
            "grid_template_columns": null,
            "grid_template_rows": null,
            "height": null,
            "justify_content": null,
            "justify_items": null,
            "left": null,
            "margin": null,
            "max_height": null,
            "max_width": null,
            "min_height": null,
            "min_width": null,
            "object_fit": null,
            "object_position": null,
            "order": null,
            "overflow": null,
            "overflow_x": null,
            "overflow_y": null,
            "padding": null,
            "right": null,
            "top": null,
            "visibility": null,
            "width": null
          }
        },
        "1aba6cbd5bab45b6954401df8194f674": {
          "model_module": "@jupyter-widgets/controls",
          "model_name": "ProgressStyleModel",
          "model_module_version": "1.5.0",
          "state": {
            "_model_module": "@jupyter-widgets/controls",
            "_model_module_version": "1.5.0",
            "_model_name": "ProgressStyleModel",
            "_view_count": null,
            "_view_module": "@jupyter-widgets/base",
            "_view_module_version": "1.2.0",
            "_view_name": "StyleView",
            "bar_color": null,
            "description_width": ""
          }
        },
        "e2b06433853a4b1bb9667e277061e848": {
          "model_module": "@jupyter-widgets/controls",
          "model_name": "VBoxModel",
          "model_module_version": "1.5.0",
          "state": {
            "_dom_classes": [],
            "_model_module": "@jupyter-widgets/controls",
            "_model_module_version": "1.5.0",
            "_model_name": "VBoxModel",
            "_view_count": null,
            "_view_module": "@jupyter-widgets/controls",
            "_view_module_version": "1.5.0",
            "_view_name": "VBoxView",
            "box_style": "",
            "children": [
              "IPY_MODEL_51bea5a5b22b4a4ba6ed93eda4b71c92",
              "IPY_MODEL_47ffc93cdb324b87899c5a233d9bebaa"
            ],
            "layout": "IPY_MODEL_989c888508f54267a3745ea6e561fdd3"
          }
        },
        "51bea5a5b22b4a4ba6ed93eda4b71c92": {
          "model_module": "@jupyter-widgets/controls",
          "model_name": "LabelModel",
          "model_module_version": "1.5.0",
          "state": {
            "_dom_classes": [],
            "_model_module": "@jupyter-widgets/controls",
            "_model_module_version": "1.5.0",
            "_model_name": "LabelModel",
            "_view_count": null,
            "_view_module": "@jupyter-widgets/controls",
            "_view_module_version": "1.5.0",
            "_view_name": "LabelView",
            "description": "",
            "description_tooltip": null,
            "layout": "IPY_MODEL_a5fd12d4e7d24c83a89d6a00b8a08743",
            "placeholder": "​",
            "style": "IPY_MODEL_601ba97982954577b828035bf3c21924",
            "value": "Waiting for wandb.init()...\r"
          }
        },
        "47ffc93cdb324b87899c5a233d9bebaa": {
          "model_module": "@jupyter-widgets/controls",
          "model_name": "FloatProgressModel",
          "model_module_version": "1.5.0",
          "state": {
            "_dom_classes": [],
            "_model_module": "@jupyter-widgets/controls",
            "_model_module_version": "1.5.0",
            "_model_name": "FloatProgressModel",
            "_view_count": null,
            "_view_module": "@jupyter-widgets/controls",
            "_view_module_version": "1.5.0",
            "_view_name": "ProgressView",
            "bar_style": "",
            "description": "",
            "description_tooltip": null,
            "layout": "IPY_MODEL_c2da3165eab74fdaa7e790b44c54faac",
            "max": 1,
            "min": 0,
            "orientation": "horizontal",
            "style": "IPY_MODEL_45d0d2709e5b4875885b8a1831d18f67",
            "value": 1
          }
        },
        "989c888508f54267a3745ea6e561fdd3": {
          "model_module": "@jupyter-widgets/base",
          "model_name": "LayoutModel",
          "model_module_version": "1.2.0",
          "state": {
            "_model_module": "@jupyter-widgets/base",
            "_model_module_version": "1.2.0",
            "_model_name": "LayoutModel",
            "_view_count": null,
            "_view_module": "@jupyter-widgets/base",
            "_view_module_version": "1.2.0",
            "_view_name": "LayoutView",
            "align_content": null,
            "align_items": null,
            "align_self": null,
            "border": null,
            "bottom": null,
            "display": null,
            "flex": null,
            "flex_flow": null,
            "grid_area": null,
            "grid_auto_columns": null,
            "grid_auto_flow": null,
            "grid_auto_rows": null,
            "grid_column": null,
            "grid_gap": null,
            "grid_row": null,
            "grid_template_areas": null,
            "grid_template_columns": null,
            "grid_template_rows": null,
            "height": null,
            "justify_content": null,
            "justify_items": null,
            "left": null,
            "margin": null,
            "max_height": null,
            "max_width": null,
            "min_height": null,
            "min_width": null,
            "object_fit": null,
            "object_position": null,
            "order": null,
            "overflow": null,
            "overflow_x": null,
            "overflow_y": null,
            "padding": null,
            "right": null,
            "top": null,
            "visibility": null,
            "width": null
          }
        },
        "a5fd12d4e7d24c83a89d6a00b8a08743": {
          "model_module": "@jupyter-widgets/base",
          "model_name": "LayoutModel",
          "model_module_version": "1.2.0",
          "state": {
            "_model_module": "@jupyter-widgets/base",
            "_model_module_version": "1.2.0",
            "_model_name": "LayoutModel",
            "_view_count": null,
            "_view_module": "@jupyter-widgets/base",
            "_view_module_version": "1.2.0",
            "_view_name": "LayoutView",
            "align_content": null,
            "align_items": null,
            "align_self": null,
            "border": null,
            "bottom": null,
            "display": null,
            "flex": null,
            "flex_flow": null,
            "grid_area": null,
            "grid_auto_columns": null,
            "grid_auto_flow": null,
            "grid_auto_rows": null,
            "grid_column": null,
            "grid_gap": null,
            "grid_row": null,
            "grid_template_areas": null,
            "grid_template_columns": null,
            "grid_template_rows": null,
            "height": null,
            "justify_content": null,
            "justify_items": null,
            "left": null,
            "margin": null,
            "max_height": null,
            "max_width": null,
            "min_height": null,
            "min_width": null,
            "object_fit": null,
            "object_position": null,
            "order": null,
            "overflow": null,
            "overflow_x": null,
            "overflow_y": null,
            "padding": null,
            "right": null,
            "top": null,
            "visibility": null,
            "width": null
          }
        },
        "601ba97982954577b828035bf3c21924": {
          "model_module": "@jupyter-widgets/controls",
          "model_name": "DescriptionStyleModel",
          "model_module_version": "1.5.0",
          "state": {
            "_model_module": "@jupyter-widgets/controls",
            "_model_module_version": "1.5.0",
            "_model_name": "DescriptionStyleModel",
            "_view_count": null,
            "_view_module": "@jupyter-widgets/base",
            "_view_module_version": "1.2.0",
            "_view_name": "StyleView",
            "description_width": ""
          }
        },
        "c2da3165eab74fdaa7e790b44c54faac": {
          "model_module": "@jupyter-widgets/base",
          "model_name": "LayoutModel",
          "model_module_version": "1.2.0",
          "state": {
            "_model_module": "@jupyter-widgets/base",
            "_model_module_version": "1.2.0",
            "_model_name": "LayoutModel",
            "_view_count": null,
            "_view_module": "@jupyter-widgets/base",
            "_view_module_version": "1.2.0",
            "_view_name": "LayoutView",
            "align_content": null,
            "align_items": null,
            "align_self": null,
            "border": null,
            "bottom": null,
            "display": null,
            "flex": null,
            "flex_flow": null,
            "grid_area": null,
            "grid_auto_columns": null,
            "grid_auto_flow": null,
            "grid_auto_rows": null,
            "grid_column": null,
            "grid_gap": null,
            "grid_row": null,
            "grid_template_areas": null,
            "grid_template_columns": null,
            "grid_template_rows": null,
            "height": null,
            "justify_content": null,
            "justify_items": null,
            "left": null,
            "margin": null,
            "max_height": null,
            "max_width": null,
            "min_height": null,
            "min_width": null,
            "object_fit": null,
            "object_position": null,
            "order": null,
            "overflow": null,
            "overflow_x": null,
            "overflow_y": null,
            "padding": null,
            "right": null,
            "top": null,
            "visibility": null,
            "width": null
          }
        },
        "45d0d2709e5b4875885b8a1831d18f67": {
          "model_module": "@jupyter-widgets/controls",
          "model_name": "ProgressStyleModel",
          "model_module_version": "1.5.0",
          "state": {
            "_model_module": "@jupyter-widgets/controls",
            "_model_module_version": "1.5.0",
            "_model_name": "ProgressStyleModel",
            "_view_count": null,
            "_view_module": "@jupyter-widgets/base",
            "_view_module_version": "1.2.0",
            "_view_name": "StyleView",
            "bar_color": null,
            "description_width": ""
          }
        },
        "0f9c95e4512a4937bcbb325e095002e8": {
          "model_module": "@jupyter-widgets/controls",
          "model_name": "VBoxModel",
          "model_module_version": "1.5.0",
          "state": {
            "_dom_classes": [],
            "_model_module": "@jupyter-widgets/controls",
            "_model_module_version": "1.5.0",
            "_model_name": "VBoxModel",
            "_view_count": null,
            "_view_module": "@jupyter-widgets/controls",
            "_view_module_version": "1.5.0",
            "_view_name": "VBoxView",
            "box_style": "",
            "children": [
              "IPY_MODEL_638b5188fc814c4d91d06cd3f052bfba",
              "IPY_MODEL_e620d6546ee341bbb602f7c79ab74768"
            ],
            "layout": "IPY_MODEL_773d39a1a1004313ab6a5c962b536996"
          }
        },
        "638b5188fc814c4d91d06cd3f052bfba": {
          "model_module": "@jupyter-widgets/controls",
          "model_name": "LabelModel",
          "model_module_version": "1.5.0",
          "state": {
            "_dom_classes": [],
            "_model_module": "@jupyter-widgets/controls",
            "_model_module_version": "1.5.0",
            "_model_name": "LabelModel",
            "_view_count": null,
            "_view_module": "@jupyter-widgets/controls",
            "_view_module_version": "1.5.0",
            "_view_name": "LabelView",
            "description": "",
            "description_tooltip": null,
            "layout": "IPY_MODEL_b83f2d557a584e118293c0634bde6c84",
            "placeholder": "​",
            "style": "IPY_MODEL_7e8cd52a1b0b4c46bb13de79dc80a3c6",
            "value": "0.011 MB of 0.011 MB uploaded\r"
          }
        },
        "e620d6546ee341bbb602f7c79ab74768": {
          "model_module": "@jupyter-widgets/controls",
          "model_name": "FloatProgressModel",
          "model_module_version": "1.5.0",
          "state": {
            "_dom_classes": [],
            "_model_module": "@jupyter-widgets/controls",
            "_model_module_version": "1.5.0",
            "_model_name": "FloatProgressModel",
            "_view_count": null,
            "_view_module": "@jupyter-widgets/controls",
            "_view_module_version": "1.5.0",
            "_view_name": "ProgressView",
            "bar_style": "",
            "description": "",
            "description_tooltip": null,
            "layout": "IPY_MODEL_bd16cb7ff28c412aa7ab5ad003f53070",
            "max": 1,
            "min": 0,
            "orientation": "horizontal",
            "style": "IPY_MODEL_893e305779204b779b8ebbab03e94d7d",
            "value": 1
          }
        },
        "773d39a1a1004313ab6a5c962b536996": {
          "model_module": "@jupyter-widgets/base",
          "model_name": "LayoutModel",
          "model_module_version": "1.2.0",
          "state": {
            "_model_module": "@jupyter-widgets/base",
            "_model_module_version": "1.2.0",
            "_model_name": "LayoutModel",
            "_view_count": null,
            "_view_module": "@jupyter-widgets/base",
            "_view_module_version": "1.2.0",
            "_view_name": "LayoutView",
            "align_content": null,
            "align_items": null,
            "align_self": null,
            "border": null,
            "bottom": null,
            "display": null,
            "flex": null,
            "flex_flow": null,
            "grid_area": null,
            "grid_auto_columns": null,
            "grid_auto_flow": null,
            "grid_auto_rows": null,
            "grid_column": null,
            "grid_gap": null,
            "grid_row": null,
            "grid_template_areas": null,
            "grid_template_columns": null,
            "grid_template_rows": null,
            "height": null,
            "justify_content": null,
            "justify_items": null,
            "left": null,
            "margin": null,
            "max_height": null,
            "max_width": null,
            "min_height": null,
            "min_width": null,
            "object_fit": null,
            "object_position": null,
            "order": null,
            "overflow": null,
            "overflow_x": null,
            "overflow_y": null,
            "padding": null,
            "right": null,
            "top": null,
            "visibility": null,
            "width": null
          }
        },
        "b83f2d557a584e118293c0634bde6c84": {
          "model_module": "@jupyter-widgets/base",
          "model_name": "LayoutModel",
          "model_module_version": "1.2.0",
          "state": {
            "_model_module": "@jupyter-widgets/base",
            "_model_module_version": "1.2.0",
            "_model_name": "LayoutModel",
            "_view_count": null,
            "_view_module": "@jupyter-widgets/base",
            "_view_module_version": "1.2.0",
            "_view_name": "LayoutView",
            "align_content": null,
            "align_items": null,
            "align_self": null,
            "border": null,
            "bottom": null,
            "display": null,
            "flex": null,
            "flex_flow": null,
            "grid_area": null,
            "grid_auto_columns": null,
            "grid_auto_flow": null,
            "grid_auto_rows": null,
            "grid_column": null,
            "grid_gap": null,
            "grid_row": null,
            "grid_template_areas": null,
            "grid_template_columns": null,
            "grid_template_rows": null,
            "height": null,
            "justify_content": null,
            "justify_items": null,
            "left": null,
            "margin": null,
            "max_height": null,
            "max_width": null,
            "min_height": null,
            "min_width": null,
            "object_fit": null,
            "object_position": null,
            "order": null,
            "overflow": null,
            "overflow_x": null,
            "overflow_y": null,
            "padding": null,
            "right": null,
            "top": null,
            "visibility": null,
            "width": null
          }
        },
        "7e8cd52a1b0b4c46bb13de79dc80a3c6": {
          "model_module": "@jupyter-widgets/controls",
          "model_name": "DescriptionStyleModel",
          "model_module_version": "1.5.0",
          "state": {
            "_model_module": "@jupyter-widgets/controls",
            "_model_module_version": "1.5.0",
            "_model_name": "DescriptionStyleModel",
            "_view_count": null,
            "_view_module": "@jupyter-widgets/base",
            "_view_module_version": "1.2.0",
            "_view_name": "StyleView",
            "description_width": ""
          }
        },
        "bd16cb7ff28c412aa7ab5ad003f53070": {
          "model_module": "@jupyter-widgets/base",
          "model_name": "LayoutModel",
          "model_module_version": "1.2.0",
          "state": {
            "_model_module": "@jupyter-widgets/base",
            "_model_module_version": "1.2.0",
            "_model_name": "LayoutModel",
            "_view_count": null,
            "_view_module": "@jupyter-widgets/base",
            "_view_module_version": "1.2.0",
            "_view_name": "LayoutView",
            "align_content": null,
            "align_items": null,
            "align_self": null,
            "border": null,
            "bottom": null,
            "display": null,
            "flex": null,
            "flex_flow": null,
            "grid_area": null,
            "grid_auto_columns": null,
            "grid_auto_flow": null,
            "grid_auto_rows": null,
            "grid_column": null,
            "grid_gap": null,
            "grid_row": null,
            "grid_template_areas": null,
            "grid_template_columns": null,
            "grid_template_rows": null,
            "height": null,
            "justify_content": null,
            "justify_items": null,
            "left": null,
            "margin": null,
            "max_height": null,
            "max_width": null,
            "min_height": null,
            "min_width": null,
            "object_fit": null,
            "object_position": null,
            "order": null,
            "overflow": null,
            "overflow_x": null,
            "overflow_y": null,
            "padding": null,
            "right": null,
            "top": null,
            "visibility": null,
            "width": null
          }
        },
        "893e305779204b779b8ebbab03e94d7d": {
          "model_module": "@jupyter-widgets/controls",
          "model_name": "ProgressStyleModel",
          "model_module_version": "1.5.0",
          "state": {
            "_model_module": "@jupyter-widgets/controls",
            "_model_module_version": "1.5.0",
            "_model_name": "ProgressStyleModel",
            "_view_count": null,
            "_view_module": "@jupyter-widgets/base",
            "_view_module_version": "1.2.0",
            "_view_name": "StyleView",
            "bar_color": null,
            "description_width": ""
          }
        },
        "c9ed5fbea5b4446284fe0c23f5b09419": {
          "model_module": "@jupyter-widgets/controls",
          "model_name": "VBoxModel",
          "model_module_version": "1.5.0",
          "state": {
            "_dom_classes": [],
            "_model_module": "@jupyter-widgets/controls",
            "_model_module_version": "1.5.0",
            "_model_name": "VBoxModel",
            "_view_count": null,
            "_view_module": "@jupyter-widgets/controls",
            "_view_module_version": "1.5.0",
            "_view_name": "VBoxView",
            "box_style": "",
            "children": [
              "IPY_MODEL_81cfb6fa02314741b677a03f7bac6d90",
              "IPY_MODEL_42efef74dde840d58b6315910987fb8b"
            ],
            "layout": "IPY_MODEL_e5a98aa5052c4daea2629b26d199a844"
          }
        },
        "81cfb6fa02314741b677a03f7bac6d90": {
          "model_module": "@jupyter-widgets/controls",
          "model_name": "LabelModel",
          "model_module_version": "1.5.0",
          "state": {
            "_dom_classes": [],
            "_model_module": "@jupyter-widgets/controls",
            "_model_module_version": "1.5.0",
            "_model_name": "LabelModel",
            "_view_count": null,
            "_view_module": "@jupyter-widgets/controls",
            "_view_module_version": "1.5.0",
            "_view_name": "LabelView",
            "description": "",
            "description_tooltip": null,
            "layout": "IPY_MODEL_869cf167f2b04e158fa9fc953faf4aa9",
            "placeholder": "​",
            "style": "IPY_MODEL_2e55de6c2a6447d7b9c7db85fa50c788",
            "value": "0.011 MB of 0.011 MB uploaded\r"
          }
        },
        "42efef74dde840d58b6315910987fb8b": {
          "model_module": "@jupyter-widgets/controls",
          "model_name": "FloatProgressModel",
          "model_module_version": "1.5.0",
          "state": {
            "_dom_classes": [],
            "_model_module": "@jupyter-widgets/controls",
            "_model_module_version": "1.5.0",
            "_model_name": "FloatProgressModel",
            "_view_count": null,
            "_view_module": "@jupyter-widgets/controls",
            "_view_module_version": "1.5.0",
            "_view_name": "ProgressView",
            "bar_style": "",
            "description": "",
            "description_tooltip": null,
            "layout": "IPY_MODEL_9e37c00f7e9b43e8867dcf0f206e468c",
            "max": 1,
            "min": 0,
            "orientation": "horizontal",
            "style": "IPY_MODEL_68c2ce769c0b4923a4d7b67219efb804",
            "value": 1
          }
        },
        "e5a98aa5052c4daea2629b26d199a844": {
          "model_module": "@jupyter-widgets/base",
          "model_name": "LayoutModel",
          "model_module_version": "1.2.0",
          "state": {
            "_model_module": "@jupyter-widgets/base",
            "_model_module_version": "1.2.0",
            "_model_name": "LayoutModel",
            "_view_count": null,
            "_view_module": "@jupyter-widgets/base",
            "_view_module_version": "1.2.0",
            "_view_name": "LayoutView",
            "align_content": null,
            "align_items": null,
            "align_self": null,
            "border": null,
            "bottom": null,
            "display": null,
            "flex": null,
            "flex_flow": null,
            "grid_area": null,
            "grid_auto_columns": null,
            "grid_auto_flow": null,
            "grid_auto_rows": null,
            "grid_column": null,
            "grid_gap": null,
            "grid_row": null,
            "grid_template_areas": null,
            "grid_template_columns": null,
            "grid_template_rows": null,
            "height": null,
            "justify_content": null,
            "justify_items": null,
            "left": null,
            "margin": null,
            "max_height": null,
            "max_width": null,
            "min_height": null,
            "min_width": null,
            "object_fit": null,
            "object_position": null,
            "order": null,
            "overflow": null,
            "overflow_x": null,
            "overflow_y": null,
            "padding": null,
            "right": null,
            "top": null,
            "visibility": null,
            "width": null
          }
        },
        "869cf167f2b04e158fa9fc953faf4aa9": {
          "model_module": "@jupyter-widgets/base",
          "model_name": "LayoutModel",
          "model_module_version": "1.2.0",
          "state": {
            "_model_module": "@jupyter-widgets/base",
            "_model_module_version": "1.2.0",
            "_model_name": "LayoutModel",
            "_view_count": null,
            "_view_module": "@jupyter-widgets/base",
            "_view_module_version": "1.2.0",
            "_view_name": "LayoutView",
            "align_content": null,
            "align_items": null,
            "align_self": null,
            "border": null,
            "bottom": null,
            "display": null,
            "flex": null,
            "flex_flow": null,
            "grid_area": null,
            "grid_auto_columns": null,
            "grid_auto_flow": null,
            "grid_auto_rows": null,
            "grid_column": null,
            "grid_gap": null,
            "grid_row": null,
            "grid_template_areas": null,
            "grid_template_columns": null,
            "grid_template_rows": null,
            "height": null,
            "justify_content": null,
            "justify_items": null,
            "left": null,
            "margin": null,
            "max_height": null,
            "max_width": null,
            "min_height": null,
            "min_width": null,
            "object_fit": null,
            "object_position": null,
            "order": null,
            "overflow": null,
            "overflow_x": null,
            "overflow_y": null,
            "padding": null,
            "right": null,
            "top": null,
            "visibility": null,
            "width": null
          }
        },
        "2e55de6c2a6447d7b9c7db85fa50c788": {
          "model_module": "@jupyter-widgets/controls",
          "model_name": "DescriptionStyleModel",
          "model_module_version": "1.5.0",
          "state": {
            "_model_module": "@jupyter-widgets/controls",
            "_model_module_version": "1.5.0",
            "_model_name": "DescriptionStyleModel",
            "_view_count": null,
            "_view_module": "@jupyter-widgets/base",
            "_view_module_version": "1.2.0",
            "_view_name": "StyleView",
            "description_width": ""
          }
        },
        "9e37c00f7e9b43e8867dcf0f206e468c": {
          "model_module": "@jupyter-widgets/base",
          "model_name": "LayoutModel",
          "model_module_version": "1.2.0",
          "state": {
            "_model_module": "@jupyter-widgets/base",
            "_model_module_version": "1.2.0",
            "_model_name": "LayoutModel",
            "_view_count": null,
            "_view_module": "@jupyter-widgets/base",
            "_view_module_version": "1.2.0",
            "_view_name": "LayoutView",
            "align_content": null,
            "align_items": null,
            "align_self": null,
            "border": null,
            "bottom": null,
            "display": null,
            "flex": null,
            "flex_flow": null,
            "grid_area": null,
            "grid_auto_columns": null,
            "grid_auto_flow": null,
            "grid_auto_rows": null,
            "grid_column": null,
            "grid_gap": null,
            "grid_row": null,
            "grid_template_areas": null,
            "grid_template_columns": null,
            "grid_template_rows": null,
            "height": null,
            "justify_content": null,
            "justify_items": null,
            "left": null,
            "margin": null,
            "max_height": null,
            "max_width": null,
            "min_height": null,
            "min_width": null,
            "object_fit": null,
            "object_position": null,
            "order": null,
            "overflow": null,
            "overflow_x": null,
            "overflow_y": null,
            "padding": null,
            "right": null,
            "top": null,
            "visibility": null,
            "width": null
          }
        },
        "68c2ce769c0b4923a4d7b67219efb804": {
          "model_module": "@jupyter-widgets/controls",
          "model_name": "ProgressStyleModel",
          "model_module_version": "1.5.0",
          "state": {
            "_model_module": "@jupyter-widgets/controls",
            "_model_module_version": "1.5.0",
            "_model_name": "ProgressStyleModel",
            "_view_count": null,
            "_view_module": "@jupyter-widgets/base",
            "_view_module_version": "1.2.0",
            "_view_name": "StyleView",
            "bar_color": null,
            "description_width": ""
          }
        },
        "b7d271c87f8d4c8d924018a3252deb37": {
          "model_module": "@jupyter-widgets/controls",
          "model_name": "VBoxModel",
          "model_module_version": "1.5.0",
          "state": {
            "_dom_classes": [],
            "_model_module": "@jupyter-widgets/controls",
            "_model_module_version": "1.5.0",
            "_model_name": "VBoxModel",
            "_view_count": null,
            "_view_module": "@jupyter-widgets/controls",
            "_view_module_version": "1.5.0",
            "_view_name": "VBoxView",
            "box_style": "",
            "children": [
              "IPY_MODEL_763dc618d062480b85208427d13827ce",
              "IPY_MODEL_a25824cb353e4f68af7414d599a604d8"
            ],
            "layout": "IPY_MODEL_499f83b2fb4a4e73afe6b8f467b2b2cb"
          }
        },
        "763dc618d062480b85208427d13827ce": {
          "model_module": "@jupyter-widgets/controls",
          "model_name": "LabelModel",
          "model_module_version": "1.5.0",
          "state": {
            "_dom_classes": [],
            "_model_module": "@jupyter-widgets/controls",
            "_model_module_version": "1.5.0",
            "_model_name": "LabelModel",
            "_view_count": null,
            "_view_module": "@jupyter-widgets/controls",
            "_view_module_version": "1.5.0",
            "_view_name": "LabelView",
            "description": "",
            "description_tooltip": null,
            "layout": "IPY_MODEL_1e344c736ae54c6092a31242e92dc18a",
            "placeholder": "​",
            "style": "IPY_MODEL_00eb050445b34c2eafac00224dd46df7",
            "value": "0.011 MB of 0.011 MB uploaded\r"
          }
        },
        "a25824cb353e4f68af7414d599a604d8": {
          "model_module": "@jupyter-widgets/controls",
          "model_name": "FloatProgressModel",
          "model_module_version": "1.5.0",
          "state": {
            "_dom_classes": [],
            "_model_module": "@jupyter-widgets/controls",
            "_model_module_version": "1.5.0",
            "_model_name": "FloatProgressModel",
            "_view_count": null,
            "_view_module": "@jupyter-widgets/controls",
            "_view_module_version": "1.5.0",
            "_view_name": "ProgressView",
            "bar_style": "",
            "description": "",
            "description_tooltip": null,
            "layout": "IPY_MODEL_89bf5e69f46440c2895e1e53aa85b86b",
            "max": 1,
            "min": 0,
            "orientation": "horizontal",
            "style": "IPY_MODEL_500fe8dc0ae3413ab0af643aba44f8ac",
            "value": 1
          }
        },
        "499f83b2fb4a4e73afe6b8f467b2b2cb": {
          "model_module": "@jupyter-widgets/base",
          "model_name": "LayoutModel",
          "model_module_version": "1.2.0",
          "state": {
            "_model_module": "@jupyter-widgets/base",
            "_model_module_version": "1.2.0",
            "_model_name": "LayoutModel",
            "_view_count": null,
            "_view_module": "@jupyter-widgets/base",
            "_view_module_version": "1.2.0",
            "_view_name": "LayoutView",
            "align_content": null,
            "align_items": null,
            "align_self": null,
            "border": null,
            "bottom": null,
            "display": null,
            "flex": null,
            "flex_flow": null,
            "grid_area": null,
            "grid_auto_columns": null,
            "grid_auto_flow": null,
            "grid_auto_rows": null,
            "grid_column": null,
            "grid_gap": null,
            "grid_row": null,
            "grid_template_areas": null,
            "grid_template_columns": null,
            "grid_template_rows": null,
            "height": null,
            "justify_content": null,
            "justify_items": null,
            "left": null,
            "margin": null,
            "max_height": null,
            "max_width": null,
            "min_height": null,
            "min_width": null,
            "object_fit": null,
            "object_position": null,
            "order": null,
            "overflow": null,
            "overflow_x": null,
            "overflow_y": null,
            "padding": null,
            "right": null,
            "top": null,
            "visibility": null,
            "width": null
          }
        },
        "1e344c736ae54c6092a31242e92dc18a": {
          "model_module": "@jupyter-widgets/base",
          "model_name": "LayoutModel",
          "model_module_version": "1.2.0",
          "state": {
            "_model_module": "@jupyter-widgets/base",
            "_model_module_version": "1.2.0",
            "_model_name": "LayoutModel",
            "_view_count": null,
            "_view_module": "@jupyter-widgets/base",
            "_view_module_version": "1.2.0",
            "_view_name": "LayoutView",
            "align_content": null,
            "align_items": null,
            "align_self": null,
            "border": null,
            "bottom": null,
            "display": null,
            "flex": null,
            "flex_flow": null,
            "grid_area": null,
            "grid_auto_columns": null,
            "grid_auto_flow": null,
            "grid_auto_rows": null,
            "grid_column": null,
            "grid_gap": null,
            "grid_row": null,
            "grid_template_areas": null,
            "grid_template_columns": null,
            "grid_template_rows": null,
            "height": null,
            "justify_content": null,
            "justify_items": null,
            "left": null,
            "margin": null,
            "max_height": null,
            "max_width": null,
            "min_height": null,
            "min_width": null,
            "object_fit": null,
            "object_position": null,
            "order": null,
            "overflow": null,
            "overflow_x": null,
            "overflow_y": null,
            "padding": null,
            "right": null,
            "top": null,
            "visibility": null,
            "width": null
          }
        },
        "00eb050445b34c2eafac00224dd46df7": {
          "model_module": "@jupyter-widgets/controls",
          "model_name": "DescriptionStyleModel",
          "model_module_version": "1.5.0",
          "state": {
            "_model_module": "@jupyter-widgets/controls",
            "_model_module_version": "1.5.0",
            "_model_name": "DescriptionStyleModel",
            "_view_count": null,
            "_view_module": "@jupyter-widgets/base",
            "_view_module_version": "1.2.0",
            "_view_name": "StyleView",
            "description_width": ""
          }
        },
        "89bf5e69f46440c2895e1e53aa85b86b": {
          "model_module": "@jupyter-widgets/base",
          "model_name": "LayoutModel",
          "model_module_version": "1.2.0",
          "state": {
            "_model_module": "@jupyter-widgets/base",
            "_model_module_version": "1.2.0",
            "_model_name": "LayoutModel",
            "_view_count": null,
            "_view_module": "@jupyter-widgets/base",
            "_view_module_version": "1.2.0",
            "_view_name": "LayoutView",
            "align_content": null,
            "align_items": null,
            "align_self": null,
            "border": null,
            "bottom": null,
            "display": null,
            "flex": null,
            "flex_flow": null,
            "grid_area": null,
            "grid_auto_columns": null,
            "grid_auto_flow": null,
            "grid_auto_rows": null,
            "grid_column": null,
            "grid_gap": null,
            "grid_row": null,
            "grid_template_areas": null,
            "grid_template_columns": null,
            "grid_template_rows": null,
            "height": null,
            "justify_content": null,
            "justify_items": null,
            "left": null,
            "margin": null,
            "max_height": null,
            "max_width": null,
            "min_height": null,
            "min_width": null,
            "object_fit": null,
            "object_position": null,
            "order": null,
            "overflow": null,
            "overflow_x": null,
            "overflow_y": null,
            "padding": null,
            "right": null,
            "top": null,
            "visibility": null,
            "width": null
          }
        },
        "500fe8dc0ae3413ab0af643aba44f8ac": {
          "model_module": "@jupyter-widgets/controls",
          "model_name": "ProgressStyleModel",
          "model_module_version": "1.5.0",
          "state": {
            "_model_module": "@jupyter-widgets/controls",
            "_model_module_version": "1.5.0",
            "_model_name": "ProgressStyleModel",
            "_view_count": null,
            "_view_module": "@jupyter-widgets/base",
            "_view_module_version": "1.2.0",
            "_view_name": "StyleView",
            "bar_color": null,
            "description_width": ""
          }
        },
        "5ae48f920e4c491baa23229d1d7bd60d": {
          "model_module": "@jupyter-widgets/controls",
          "model_name": "VBoxModel",
          "model_module_version": "1.5.0",
          "state": {
            "_dom_classes": [],
            "_model_module": "@jupyter-widgets/controls",
            "_model_module_version": "1.5.0",
            "_model_name": "VBoxModel",
            "_view_count": null,
            "_view_module": "@jupyter-widgets/controls",
            "_view_module_version": "1.5.0",
            "_view_name": "VBoxView",
            "box_style": "",
            "children": [
              "IPY_MODEL_519f9b585f68475f923d58cc458b237a",
              "IPY_MODEL_5cd6e6656e4e461d8d8d56d134cd2835"
            ],
            "layout": "IPY_MODEL_07d6eeb833d94067994449b3e6f999a3"
          }
        },
        "519f9b585f68475f923d58cc458b237a": {
          "model_module": "@jupyter-widgets/controls",
          "model_name": "LabelModel",
          "model_module_version": "1.5.0",
          "state": {
            "_dom_classes": [],
            "_model_module": "@jupyter-widgets/controls",
            "_model_module_version": "1.5.0",
            "_model_name": "LabelModel",
            "_view_count": null,
            "_view_module": "@jupyter-widgets/controls",
            "_view_module_version": "1.5.0",
            "_view_name": "LabelView",
            "description": "",
            "description_tooltip": null,
            "layout": "IPY_MODEL_e42f6055c6bf41278a7f3c1923a925b2",
            "placeholder": "​",
            "style": "IPY_MODEL_a2c595b7905b4702a57653a734e75fd0",
            "value": "0.011 MB of 0.011 MB uploaded\r"
          }
        },
        "5cd6e6656e4e461d8d8d56d134cd2835": {
          "model_module": "@jupyter-widgets/controls",
          "model_name": "FloatProgressModel",
          "model_module_version": "1.5.0",
          "state": {
            "_dom_classes": [],
            "_model_module": "@jupyter-widgets/controls",
            "_model_module_version": "1.5.0",
            "_model_name": "FloatProgressModel",
            "_view_count": null,
            "_view_module": "@jupyter-widgets/controls",
            "_view_module_version": "1.5.0",
            "_view_name": "ProgressView",
            "bar_style": "",
            "description": "",
            "description_tooltip": null,
            "layout": "IPY_MODEL_5087d23c6bef49f39a3c4f422d9626cb",
            "max": 1,
            "min": 0,
            "orientation": "horizontal",
            "style": "IPY_MODEL_cdaeae9f4ce14ea584cd90706be68a09",
            "value": 1
          }
        },
        "07d6eeb833d94067994449b3e6f999a3": {
          "model_module": "@jupyter-widgets/base",
          "model_name": "LayoutModel",
          "model_module_version": "1.2.0",
          "state": {
            "_model_module": "@jupyter-widgets/base",
            "_model_module_version": "1.2.0",
            "_model_name": "LayoutModel",
            "_view_count": null,
            "_view_module": "@jupyter-widgets/base",
            "_view_module_version": "1.2.0",
            "_view_name": "LayoutView",
            "align_content": null,
            "align_items": null,
            "align_self": null,
            "border": null,
            "bottom": null,
            "display": null,
            "flex": null,
            "flex_flow": null,
            "grid_area": null,
            "grid_auto_columns": null,
            "grid_auto_flow": null,
            "grid_auto_rows": null,
            "grid_column": null,
            "grid_gap": null,
            "grid_row": null,
            "grid_template_areas": null,
            "grid_template_columns": null,
            "grid_template_rows": null,
            "height": null,
            "justify_content": null,
            "justify_items": null,
            "left": null,
            "margin": null,
            "max_height": null,
            "max_width": null,
            "min_height": null,
            "min_width": null,
            "object_fit": null,
            "object_position": null,
            "order": null,
            "overflow": null,
            "overflow_x": null,
            "overflow_y": null,
            "padding": null,
            "right": null,
            "top": null,
            "visibility": null,
            "width": null
          }
        },
        "e42f6055c6bf41278a7f3c1923a925b2": {
          "model_module": "@jupyter-widgets/base",
          "model_name": "LayoutModel",
          "model_module_version": "1.2.0",
          "state": {
            "_model_module": "@jupyter-widgets/base",
            "_model_module_version": "1.2.0",
            "_model_name": "LayoutModel",
            "_view_count": null,
            "_view_module": "@jupyter-widgets/base",
            "_view_module_version": "1.2.0",
            "_view_name": "LayoutView",
            "align_content": null,
            "align_items": null,
            "align_self": null,
            "border": null,
            "bottom": null,
            "display": null,
            "flex": null,
            "flex_flow": null,
            "grid_area": null,
            "grid_auto_columns": null,
            "grid_auto_flow": null,
            "grid_auto_rows": null,
            "grid_column": null,
            "grid_gap": null,
            "grid_row": null,
            "grid_template_areas": null,
            "grid_template_columns": null,
            "grid_template_rows": null,
            "height": null,
            "justify_content": null,
            "justify_items": null,
            "left": null,
            "margin": null,
            "max_height": null,
            "max_width": null,
            "min_height": null,
            "min_width": null,
            "object_fit": null,
            "object_position": null,
            "order": null,
            "overflow": null,
            "overflow_x": null,
            "overflow_y": null,
            "padding": null,
            "right": null,
            "top": null,
            "visibility": null,
            "width": null
          }
        },
        "a2c595b7905b4702a57653a734e75fd0": {
          "model_module": "@jupyter-widgets/controls",
          "model_name": "DescriptionStyleModel",
          "model_module_version": "1.5.0",
          "state": {
            "_model_module": "@jupyter-widgets/controls",
            "_model_module_version": "1.5.0",
            "_model_name": "DescriptionStyleModel",
            "_view_count": null,
            "_view_module": "@jupyter-widgets/base",
            "_view_module_version": "1.2.0",
            "_view_name": "StyleView",
            "description_width": ""
          }
        },
        "5087d23c6bef49f39a3c4f422d9626cb": {
          "model_module": "@jupyter-widgets/base",
          "model_name": "LayoutModel",
          "model_module_version": "1.2.0",
          "state": {
            "_model_module": "@jupyter-widgets/base",
            "_model_module_version": "1.2.0",
            "_model_name": "LayoutModel",
            "_view_count": null,
            "_view_module": "@jupyter-widgets/base",
            "_view_module_version": "1.2.0",
            "_view_name": "LayoutView",
            "align_content": null,
            "align_items": null,
            "align_self": null,
            "border": null,
            "bottom": null,
            "display": null,
            "flex": null,
            "flex_flow": null,
            "grid_area": null,
            "grid_auto_columns": null,
            "grid_auto_flow": null,
            "grid_auto_rows": null,
            "grid_column": null,
            "grid_gap": null,
            "grid_row": null,
            "grid_template_areas": null,
            "grid_template_columns": null,
            "grid_template_rows": null,
            "height": null,
            "justify_content": null,
            "justify_items": null,
            "left": null,
            "margin": null,
            "max_height": null,
            "max_width": null,
            "min_height": null,
            "min_width": null,
            "object_fit": null,
            "object_position": null,
            "order": null,
            "overflow": null,
            "overflow_x": null,
            "overflow_y": null,
            "padding": null,
            "right": null,
            "top": null,
            "visibility": null,
            "width": null
          }
        },
        "cdaeae9f4ce14ea584cd90706be68a09": {
          "model_module": "@jupyter-widgets/controls",
          "model_name": "ProgressStyleModel",
          "model_module_version": "1.5.0",
          "state": {
            "_model_module": "@jupyter-widgets/controls",
            "_model_module_version": "1.5.0",
            "_model_name": "ProgressStyleModel",
            "_view_count": null,
            "_view_module": "@jupyter-widgets/base",
            "_view_module_version": "1.2.0",
            "_view_name": "StyleView",
            "bar_color": null,
            "description_width": ""
          }
        },
        "954dfc1810e841f5a06555a29015e1cd": {
          "model_module": "@jupyter-widgets/controls",
          "model_name": "VBoxModel",
          "model_module_version": "1.5.0",
          "state": {
            "_dom_classes": [],
            "_model_module": "@jupyter-widgets/controls",
            "_model_module_version": "1.5.0",
            "_model_name": "VBoxModel",
            "_view_count": null,
            "_view_module": "@jupyter-widgets/controls",
            "_view_module_version": "1.5.0",
            "_view_name": "VBoxView",
            "box_style": "",
            "children": [
              "IPY_MODEL_051a8e06507e4b3e8a13a06cd4a3e288",
              "IPY_MODEL_8e7eb071ed404863af639c8fc8d48074"
            ],
            "layout": "IPY_MODEL_42da14dcd2b04ff8af7de284a30485ec"
          }
        },
        "051a8e06507e4b3e8a13a06cd4a3e288": {
          "model_module": "@jupyter-widgets/controls",
          "model_name": "LabelModel",
          "model_module_version": "1.5.0",
          "state": {
            "_dom_classes": [],
            "_model_module": "@jupyter-widgets/controls",
            "_model_module_version": "1.5.0",
            "_model_name": "LabelModel",
            "_view_count": null,
            "_view_module": "@jupyter-widgets/controls",
            "_view_module_version": "1.5.0",
            "_view_name": "LabelView",
            "description": "",
            "description_tooltip": null,
            "layout": "IPY_MODEL_a2659af05eeb4312b91d3d7b115c04e4",
            "placeholder": "​",
            "style": "IPY_MODEL_f1d96b4f51db4e78b32c7ebcac9c5790",
            "value": "0.011 MB of 0.011 MB uploaded\r"
          }
        },
        "8e7eb071ed404863af639c8fc8d48074": {
          "model_module": "@jupyter-widgets/controls",
          "model_name": "FloatProgressModel",
          "model_module_version": "1.5.0",
          "state": {
            "_dom_classes": [],
            "_model_module": "@jupyter-widgets/controls",
            "_model_module_version": "1.5.0",
            "_model_name": "FloatProgressModel",
            "_view_count": null,
            "_view_module": "@jupyter-widgets/controls",
            "_view_module_version": "1.5.0",
            "_view_name": "ProgressView",
            "bar_style": "",
            "description": "",
            "description_tooltip": null,
            "layout": "IPY_MODEL_5fc54925990a4d68850341d1bd2a8682",
            "max": 1,
            "min": 0,
            "orientation": "horizontal",
            "style": "IPY_MODEL_96942b61cbbd4c91894a90e80e5cc81c",
            "value": 1
          }
        },
        "42da14dcd2b04ff8af7de284a30485ec": {
          "model_module": "@jupyter-widgets/base",
          "model_name": "LayoutModel",
          "model_module_version": "1.2.0",
          "state": {
            "_model_module": "@jupyter-widgets/base",
            "_model_module_version": "1.2.0",
            "_model_name": "LayoutModel",
            "_view_count": null,
            "_view_module": "@jupyter-widgets/base",
            "_view_module_version": "1.2.0",
            "_view_name": "LayoutView",
            "align_content": null,
            "align_items": null,
            "align_self": null,
            "border": null,
            "bottom": null,
            "display": null,
            "flex": null,
            "flex_flow": null,
            "grid_area": null,
            "grid_auto_columns": null,
            "grid_auto_flow": null,
            "grid_auto_rows": null,
            "grid_column": null,
            "grid_gap": null,
            "grid_row": null,
            "grid_template_areas": null,
            "grid_template_columns": null,
            "grid_template_rows": null,
            "height": null,
            "justify_content": null,
            "justify_items": null,
            "left": null,
            "margin": null,
            "max_height": null,
            "max_width": null,
            "min_height": null,
            "min_width": null,
            "object_fit": null,
            "object_position": null,
            "order": null,
            "overflow": null,
            "overflow_x": null,
            "overflow_y": null,
            "padding": null,
            "right": null,
            "top": null,
            "visibility": null,
            "width": null
          }
        },
        "a2659af05eeb4312b91d3d7b115c04e4": {
          "model_module": "@jupyter-widgets/base",
          "model_name": "LayoutModel",
          "model_module_version": "1.2.0",
          "state": {
            "_model_module": "@jupyter-widgets/base",
            "_model_module_version": "1.2.0",
            "_model_name": "LayoutModel",
            "_view_count": null,
            "_view_module": "@jupyter-widgets/base",
            "_view_module_version": "1.2.0",
            "_view_name": "LayoutView",
            "align_content": null,
            "align_items": null,
            "align_self": null,
            "border": null,
            "bottom": null,
            "display": null,
            "flex": null,
            "flex_flow": null,
            "grid_area": null,
            "grid_auto_columns": null,
            "grid_auto_flow": null,
            "grid_auto_rows": null,
            "grid_column": null,
            "grid_gap": null,
            "grid_row": null,
            "grid_template_areas": null,
            "grid_template_columns": null,
            "grid_template_rows": null,
            "height": null,
            "justify_content": null,
            "justify_items": null,
            "left": null,
            "margin": null,
            "max_height": null,
            "max_width": null,
            "min_height": null,
            "min_width": null,
            "object_fit": null,
            "object_position": null,
            "order": null,
            "overflow": null,
            "overflow_x": null,
            "overflow_y": null,
            "padding": null,
            "right": null,
            "top": null,
            "visibility": null,
            "width": null
          }
        },
        "f1d96b4f51db4e78b32c7ebcac9c5790": {
          "model_module": "@jupyter-widgets/controls",
          "model_name": "DescriptionStyleModel",
          "model_module_version": "1.5.0",
          "state": {
            "_model_module": "@jupyter-widgets/controls",
            "_model_module_version": "1.5.0",
            "_model_name": "DescriptionStyleModel",
            "_view_count": null,
            "_view_module": "@jupyter-widgets/base",
            "_view_module_version": "1.2.0",
            "_view_name": "StyleView",
            "description_width": ""
          }
        },
        "5fc54925990a4d68850341d1bd2a8682": {
          "model_module": "@jupyter-widgets/base",
          "model_name": "LayoutModel",
          "model_module_version": "1.2.0",
          "state": {
            "_model_module": "@jupyter-widgets/base",
            "_model_module_version": "1.2.0",
            "_model_name": "LayoutModel",
            "_view_count": null,
            "_view_module": "@jupyter-widgets/base",
            "_view_module_version": "1.2.0",
            "_view_name": "LayoutView",
            "align_content": null,
            "align_items": null,
            "align_self": null,
            "border": null,
            "bottom": null,
            "display": null,
            "flex": null,
            "flex_flow": null,
            "grid_area": null,
            "grid_auto_columns": null,
            "grid_auto_flow": null,
            "grid_auto_rows": null,
            "grid_column": null,
            "grid_gap": null,
            "grid_row": null,
            "grid_template_areas": null,
            "grid_template_columns": null,
            "grid_template_rows": null,
            "height": null,
            "justify_content": null,
            "justify_items": null,
            "left": null,
            "margin": null,
            "max_height": null,
            "max_width": null,
            "min_height": null,
            "min_width": null,
            "object_fit": null,
            "object_position": null,
            "order": null,
            "overflow": null,
            "overflow_x": null,
            "overflow_y": null,
            "padding": null,
            "right": null,
            "top": null,
            "visibility": null,
            "width": null
          }
        },
        "96942b61cbbd4c91894a90e80e5cc81c": {
          "model_module": "@jupyter-widgets/controls",
          "model_name": "ProgressStyleModel",
          "model_module_version": "1.5.0",
          "state": {
            "_model_module": "@jupyter-widgets/controls",
            "_model_module_version": "1.5.0",
            "_model_name": "ProgressStyleModel",
            "_view_count": null,
            "_view_module": "@jupyter-widgets/base",
            "_view_module_version": "1.2.0",
            "_view_name": "StyleView",
            "bar_color": null,
            "description_width": ""
          }
        },
        "0f1e4f76cfaf4dada7d8c43fcf9a1715": {
          "model_module": "@jupyter-widgets/controls",
          "model_name": "VBoxModel",
          "model_module_version": "1.5.0",
          "state": {
            "_dom_classes": [],
            "_model_module": "@jupyter-widgets/controls",
            "_model_module_version": "1.5.0",
            "_model_name": "VBoxModel",
            "_view_count": null,
            "_view_module": "@jupyter-widgets/controls",
            "_view_module_version": "1.5.0",
            "_view_name": "VBoxView",
            "box_style": "",
            "children": [
              "IPY_MODEL_f7e4ad7abc584ba1814f8f08253fbac3",
              "IPY_MODEL_45e5c35affe3454d866098871b478ae5"
            ],
            "layout": "IPY_MODEL_181ec651756243598c6504644b8ef30b"
          }
        },
        "f7e4ad7abc584ba1814f8f08253fbac3": {
          "model_module": "@jupyter-widgets/controls",
          "model_name": "LabelModel",
          "model_module_version": "1.5.0",
          "state": {
            "_dom_classes": [],
            "_model_module": "@jupyter-widgets/controls",
            "_model_module_version": "1.5.0",
            "_model_name": "LabelModel",
            "_view_count": null,
            "_view_module": "@jupyter-widgets/controls",
            "_view_module_version": "1.5.0",
            "_view_name": "LabelView",
            "description": "",
            "description_tooltip": null,
            "layout": "IPY_MODEL_c80973b4997e4411bbf0975247261ab0",
            "placeholder": "​",
            "style": "IPY_MODEL_1634126b72694aed93d89d90df50e2d3",
            "value": "0.011 MB of 0.011 MB uploaded\r"
          }
        },
        "45e5c35affe3454d866098871b478ae5": {
          "model_module": "@jupyter-widgets/controls",
          "model_name": "FloatProgressModel",
          "model_module_version": "1.5.0",
          "state": {
            "_dom_classes": [],
            "_model_module": "@jupyter-widgets/controls",
            "_model_module_version": "1.5.0",
            "_model_name": "FloatProgressModel",
            "_view_count": null,
            "_view_module": "@jupyter-widgets/controls",
            "_view_module_version": "1.5.0",
            "_view_name": "ProgressView",
            "bar_style": "",
            "description": "",
            "description_tooltip": null,
            "layout": "IPY_MODEL_d3e9a002868848e9b0fac5b8f3c64841",
            "max": 1,
            "min": 0,
            "orientation": "horizontal",
            "style": "IPY_MODEL_50f0c67ca31d4a248f8e9f151bf38763",
            "value": 1
          }
        },
        "181ec651756243598c6504644b8ef30b": {
          "model_module": "@jupyter-widgets/base",
          "model_name": "LayoutModel",
          "model_module_version": "1.2.0",
          "state": {
            "_model_module": "@jupyter-widgets/base",
            "_model_module_version": "1.2.0",
            "_model_name": "LayoutModel",
            "_view_count": null,
            "_view_module": "@jupyter-widgets/base",
            "_view_module_version": "1.2.0",
            "_view_name": "LayoutView",
            "align_content": null,
            "align_items": null,
            "align_self": null,
            "border": null,
            "bottom": null,
            "display": null,
            "flex": null,
            "flex_flow": null,
            "grid_area": null,
            "grid_auto_columns": null,
            "grid_auto_flow": null,
            "grid_auto_rows": null,
            "grid_column": null,
            "grid_gap": null,
            "grid_row": null,
            "grid_template_areas": null,
            "grid_template_columns": null,
            "grid_template_rows": null,
            "height": null,
            "justify_content": null,
            "justify_items": null,
            "left": null,
            "margin": null,
            "max_height": null,
            "max_width": null,
            "min_height": null,
            "min_width": null,
            "object_fit": null,
            "object_position": null,
            "order": null,
            "overflow": null,
            "overflow_x": null,
            "overflow_y": null,
            "padding": null,
            "right": null,
            "top": null,
            "visibility": null,
            "width": null
          }
        },
        "c80973b4997e4411bbf0975247261ab0": {
          "model_module": "@jupyter-widgets/base",
          "model_name": "LayoutModel",
          "model_module_version": "1.2.0",
          "state": {
            "_model_module": "@jupyter-widgets/base",
            "_model_module_version": "1.2.0",
            "_model_name": "LayoutModel",
            "_view_count": null,
            "_view_module": "@jupyter-widgets/base",
            "_view_module_version": "1.2.0",
            "_view_name": "LayoutView",
            "align_content": null,
            "align_items": null,
            "align_self": null,
            "border": null,
            "bottom": null,
            "display": null,
            "flex": null,
            "flex_flow": null,
            "grid_area": null,
            "grid_auto_columns": null,
            "grid_auto_flow": null,
            "grid_auto_rows": null,
            "grid_column": null,
            "grid_gap": null,
            "grid_row": null,
            "grid_template_areas": null,
            "grid_template_columns": null,
            "grid_template_rows": null,
            "height": null,
            "justify_content": null,
            "justify_items": null,
            "left": null,
            "margin": null,
            "max_height": null,
            "max_width": null,
            "min_height": null,
            "min_width": null,
            "object_fit": null,
            "object_position": null,
            "order": null,
            "overflow": null,
            "overflow_x": null,
            "overflow_y": null,
            "padding": null,
            "right": null,
            "top": null,
            "visibility": null,
            "width": null
          }
        },
        "1634126b72694aed93d89d90df50e2d3": {
          "model_module": "@jupyter-widgets/controls",
          "model_name": "DescriptionStyleModel",
          "model_module_version": "1.5.0",
          "state": {
            "_model_module": "@jupyter-widgets/controls",
            "_model_module_version": "1.5.0",
            "_model_name": "DescriptionStyleModel",
            "_view_count": null,
            "_view_module": "@jupyter-widgets/base",
            "_view_module_version": "1.2.0",
            "_view_name": "StyleView",
            "description_width": ""
          }
        },
        "d3e9a002868848e9b0fac5b8f3c64841": {
          "model_module": "@jupyter-widgets/base",
          "model_name": "LayoutModel",
          "model_module_version": "1.2.0",
          "state": {
            "_model_module": "@jupyter-widgets/base",
            "_model_module_version": "1.2.0",
            "_model_name": "LayoutModel",
            "_view_count": null,
            "_view_module": "@jupyter-widgets/base",
            "_view_module_version": "1.2.0",
            "_view_name": "LayoutView",
            "align_content": null,
            "align_items": null,
            "align_self": null,
            "border": null,
            "bottom": null,
            "display": null,
            "flex": null,
            "flex_flow": null,
            "grid_area": null,
            "grid_auto_columns": null,
            "grid_auto_flow": null,
            "grid_auto_rows": null,
            "grid_column": null,
            "grid_gap": null,
            "grid_row": null,
            "grid_template_areas": null,
            "grid_template_columns": null,
            "grid_template_rows": null,
            "height": null,
            "justify_content": null,
            "justify_items": null,
            "left": null,
            "margin": null,
            "max_height": null,
            "max_width": null,
            "min_height": null,
            "min_width": null,
            "object_fit": null,
            "object_position": null,
            "order": null,
            "overflow": null,
            "overflow_x": null,
            "overflow_y": null,
            "padding": null,
            "right": null,
            "top": null,
            "visibility": null,
            "width": null
          }
        },
        "50f0c67ca31d4a248f8e9f151bf38763": {
          "model_module": "@jupyter-widgets/controls",
          "model_name": "ProgressStyleModel",
          "model_module_version": "1.5.0",
          "state": {
            "_model_module": "@jupyter-widgets/controls",
            "_model_module_version": "1.5.0",
            "_model_name": "ProgressStyleModel",
            "_view_count": null,
            "_view_module": "@jupyter-widgets/base",
            "_view_module_version": "1.2.0",
            "_view_name": "StyleView",
            "bar_color": null,
            "description_width": ""
          }
        },
        "7c4b79be946e424ca0e68ab17b9b87ea": {
          "model_module": "@jupyter-widgets/controls",
          "model_name": "VBoxModel",
          "model_module_version": "1.5.0",
          "state": {
            "_dom_classes": [],
            "_model_module": "@jupyter-widgets/controls",
            "_model_module_version": "1.5.0",
            "_model_name": "VBoxModel",
            "_view_count": null,
            "_view_module": "@jupyter-widgets/controls",
            "_view_module_version": "1.5.0",
            "_view_name": "VBoxView",
            "box_style": "",
            "children": [
              "IPY_MODEL_b71d9d6ae6ae4e81ac304c1851bce29e",
              "IPY_MODEL_211ca113eecb4ba19166bae932b4a595"
            ],
            "layout": "IPY_MODEL_f4ccd133c27840ecaf087bd1bdb6359e"
          }
        },
        "b71d9d6ae6ae4e81ac304c1851bce29e": {
          "model_module": "@jupyter-widgets/controls",
          "model_name": "LabelModel",
          "model_module_version": "1.5.0",
          "state": {
            "_dom_classes": [],
            "_model_module": "@jupyter-widgets/controls",
            "_model_module_version": "1.5.0",
            "_model_name": "LabelModel",
            "_view_count": null,
            "_view_module": "@jupyter-widgets/controls",
            "_view_module_version": "1.5.0",
            "_view_name": "LabelView",
            "description": "",
            "description_tooltip": null,
            "layout": "IPY_MODEL_51d4f874e663486587e246fabe26fd92",
            "placeholder": "​",
            "style": "IPY_MODEL_0b57fb4999e14afd8436a35faf833593",
            "value": "0.011 MB of 0.011 MB uploaded\r"
          }
        },
        "211ca113eecb4ba19166bae932b4a595": {
          "model_module": "@jupyter-widgets/controls",
          "model_name": "FloatProgressModel",
          "model_module_version": "1.5.0",
          "state": {
            "_dom_classes": [],
            "_model_module": "@jupyter-widgets/controls",
            "_model_module_version": "1.5.0",
            "_model_name": "FloatProgressModel",
            "_view_count": null,
            "_view_module": "@jupyter-widgets/controls",
            "_view_module_version": "1.5.0",
            "_view_name": "ProgressView",
            "bar_style": "",
            "description": "",
            "description_tooltip": null,
            "layout": "IPY_MODEL_66be152a1a8f4581895c42e2f2af6209",
            "max": 1,
            "min": 0,
            "orientation": "horizontal",
            "style": "IPY_MODEL_8ea898ef8db2402fb5ca2b6634402f01",
            "value": 1
          }
        },
        "f4ccd133c27840ecaf087bd1bdb6359e": {
          "model_module": "@jupyter-widgets/base",
          "model_name": "LayoutModel",
          "model_module_version": "1.2.0",
          "state": {
            "_model_module": "@jupyter-widgets/base",
            "_model_module_version": "1.2.0",
            "_model_name": "LayoutModel",
            "_view_count": null,
            "_view_module": "@jupyter-widgets/base",
            "_view_module_version": "1.2.0",
            "_view_name": "LayoutView",
            "align_content": null,
            "align_items": null,
            "align_self": null,
            "border": null,
            "bottom": null,
            "display": null,
            "flex": null,
            "flex_flow": null,
            "grid_area": null,
            "grid_auto_columns": null,
            "grid_auto_flow": null,
            "grid_auto_rows": null,
            "grid_column": null,
            "grid_gap": null,
            "grid_row": null,
            "grid_template_areas": null,
            "grid_template_columns": null,
            "grid_template_rows": null,
            "height": null,
            "justify_content": null,
            "justify_items": null,
            "left": null,
            "margin": null,
            "max_height": null,
            "max_width": null,
            "min_height": null,
            "min_width": null,
            "object_fit": null,
            "object_position": null,
            "order": null,
            "overflow": null,
            "overflow_x": null,
            "overflow_y": null,
            "padding": null,
            "right": null,
            "top": null,
            "visibility": null,
            "width": null
          }
        },
        "51d4f874e663486587e246fabe26fd92": {
          "model_module": "@jupyter-widgets/base",
          "model_name": "LayoutModel",
          "model_module_version": "1.2.0",
          "state": {
            "_model_module": "@jupyter-widgets/base",
            "_model_module_version": "1.2.0",
            "_model_name": "LayoutModel",
            "_view_count": null,
            "_view_module": "@jupyter-widgets/base",
            "_view_module_version": "1.2.0",
            "_view_name": "LayoutView",
            "align_content": null,
            "align_items": null,
            "align_self": null,
            "border": null,
            "bottom": null,
            "display": null,
            "flex": null,
            "flex_flow": null,
            "grid_area": null,
            "grid_auto_columns": null,
            "grid_auto_flow": null,
            "grid_auto_rows": null,
            "grid_column": null,
            "grid_gap": null,
            "grid_row": null,
            "grid_template_areas": null,
            "grid_template_columns": null,
            "grid_template_rows": null,
            "height": null,
            "justify_content": null,
            "justify_items": null,
            "left": null,
            "margin": null,
            "max_height": null,
            "max_width": null,
            "min_height": null,
            "min_width": null,
            "object_fit": null,
            "object_position": null,
            "order": null,
            "overflow": null,
            "overflow_x": null,
            "overflow_y": null,
            "padding": null,
            "right": null,
            "top": null,
            "visibility": null,
            "width": null
          }
        },
        "0b57fb4999e14afd8436a35faf833593": {
          "model_module": "@jupyter-widgets/controls",
          "model_name": "DescriptionStyleModel",
          "model_module_version": "1.5.0",
          "state": {
            "_model_module": "@jupyter-widgets/controls",
            "_model_module_version": "1.5.0",
            "_model_name": "DescriptionStyleModel",
            "_view_count": null,
            "_view_module": "@jupyter-widgets/base",
            "_view_module_version": "1.2.0",
            "_view_name": "StyleView",
            "description_width": ""
          }
        },
        "66be152a1a8f4581895c42e2f2af6209": {
          "model_module": "@jupyter-widgets/base",
          "model_name": "LayoutModel",
          "model_module_version": "1.2.0",
          "state": {
            "_model_module": "@jupyter-widgets/base",
            "_model_module_version": "1.2.0",
            "_model_name": "LayoutModel",
            "_view_count": null,
            "_view_module": "@jupyter-widgets/base",
            "_view_module_version": "1.2.0",
            "_view_name": "LayoutView",
            "align_content": null,
            "align_items": null,
            "align_self": null,
            "border": null,
            "bottom": null,
            "display": null,
            "flex": null,
            "flex_flow": null,
            "grid_area": null,
            "grid_auto_columns": null,
            "grid_auto_flow": null,
            "grid_auto_rows": null,
            "grid_column": null,
            "grid_gap": null,
            "grid_row": null,
            "grid_template_areas": null,
            "grid_template_columns": null,
            "grid_template_rows": null,
            "height": null,
            "justify_content": null,
            "justify_items": null,
            "left": null,
            "margin": null,
            "max_height": null,
            "max_width": null,
            "min_height": null,
            "min_width": null,
            "object_fit": null,
            "object_position": null,
            "order": null,
            "overflow": null,
            "overflow_x": null,
            "overflow_y": null,
            "padding": null,
            "right": null,
            "top": null,
            "visibility": null,
            "width": null
          }
        },
        "8ea898ef8db2402fb5ca2b6634402f01": {
          "model_module": "@jupyter-widgets/controls",
          "model_name": "ProgressStyleModel",
          "model_module_version": "1.5.0",
          "state": {
            "_model_module": "@jupyter-widgets/controls",
            "_model_module_version": "1.5.0",
            "_model_name": "ProgressStyleModel",
            "_view_count": null,
            "_view_module": "@jupyter-widgets/base",
            "_view_module_version": "1.2.0",
            "_view_name": "StyleView",
            "bar_color": null,
            "description_width": ""
          }
        },
        "dd13b8e4b64344a097590dcdedabd220": {
          "model_module": "@jupyter-widgets/controls",
          "model_name": "VBoxModel",
          "model_module_version": "1.5.0",
          "state": {
            "_dom_classes": [],
            "_model_module": "@jupyter-widgets/controls",
            "_model_module_version": "1.5.0",
            "_model_name": "VBoxModel",
            "_view_count": null,
            "_view_module": "@jupyter-widgets/controls",
            "_view_module_version": "1.5.0",
            "_view_name": "VBoxView",
            "box_style": "",
            "children": [
              "IPY_MODEL_b241957e623a4556bb8dd0034d81b6b5",
              "IPY_MODEL_e9dae9958eae4756ada8b85725b08b7a"
            ],
            "layout": "IPY_MODEL_398b3504c93b4040b897ca782e2cad10"
          }
        },
        "b241957e623a4556bb8dd0034d81b6b5": {
          "model_module": "@jupyter-widgets/controls",
          "model_name": "LabelModel",
          "model_module_version": "1.5.0",
          "state": {
            "_dom_classes": [],
            "_model_module": "@jupyter-widgets/controls",
            "_model_module_version": "1.5.0",
            "_model_name": "LabelModel",
            "_view_count": null,
            "_view_module": "@jupyter-widgets/controls",
            "_view_module_version": "1.5.0",
            "_view_name": "LabelView",
            "description": "",
            "description_tooltip": null,
            "layout": "IPY_MODEL_fac594d11eb040d6b80072656416bea2",
            "placeholder": "​",
            "style": "IPY_MODEL_3dd919f6b47641b8907b429210fa0059",
            "value": "0.011 MB of 0.011 MB uploaded\r"
          }
        },
        "e9dae9958eae4756ada8b85725b08b7a": {
          "model_module": "@jupyter-widgets/controls",
          "model_name": "FloatProgressModel",
          "model_module_version": "1.5.0",
          "state": {
            "_dom_classes": [],
            "_model_module": "@jupyter-widgets/controls",
            "_model_module_version": "1.5.0",
            "_model_name": "FloatProgressModel",
            "_view_count": null,
            "_view_module": "@jupyter-widgets/controls",
            "_view_module_version": "1.5.0",
            "_view_name": "ProgressView",
            "bar_style": "",
            "description": "",
            "description_tooltip": null,
            "layout": "IPY_MODEL_dfc839f92f114b33bf78c8fc5f6aa0e9",
            "max": 1,
            "min": 0,
            "orientation": "horizontal",
            "style": "IPY_MODEL_9062b8890fe0401f9006798775401454",
            "value": 1
          }
        },
        "398b3504c93b4040b897ca782e2cad10": {
          "model_module": "@jupyter-widgets/base",
          "model_name": "LayoutModel",
          "model_module_version": "1.2.0",
          "state": {
            "_model_module": "@jupyter-widgets/base",
            "_model_module_version": "1.2.0",
            "_model_name": "LayoutModel",
            "_view_count": null,
            "_view_module": "@jupyter-widgets/base",
            "_view_module_version": "1.2.0",
            "_view_name": "LayoutView",
            "align_content": null,
            "align_items": null,
            "align_self": null,
            "border": null,
            "bottom": null,
            "display": null,
            "flex": null,
            "flex_flow": null,
            "grid_area": null,
            "grid_auto_columns": null,
            "grid_auto_flow": null,
            "grid_auto_rows": null,
            "grid_column": null,
            "grid_gap": null,
            "grid_row": null,
            "grid_template_areas": null,
            "grid_template_columns": null,
            "grid_template_rows": null,
            "height": null,
            "justify_content": null,
            "justify_items": null,
            "left": null,
            "margin": null,
            "max_height": null,
            "max_width": null,
            "min_height": null,
            "min_width": null,
            "object_fit": null,
            "object_position": null,
            "order": null,
            "overflow": null,
            "overflow_x": null,
            "overflow_y": null,
            "padding": null,
            "right": null,
            "top": null,
            "visibility": null,
            "width": null
          }
        },
        "fac594d11eb040d6b80072656416bea2": {
          "model_module": "@jupyter-widgets/base",
          "model_name": "LayoutModel",
          "model_module_version": "1.2.0",
          "state": {
            "_model_module": "@jupyter-widgets/base",
            "_model_module_version": "1.2.0",
            "_model_name": "LayoutModel",
            "_view_count": null,
            "_view_module": "@jupyter-widgets/base",
            "_view_module_version": "1.2.0",
            "_view_name": "LayoutView",
            "align_content": null,
            "align_items": null,
            "align_self": null,
            "border": null,
            "bottom": null,
            "display": null,
            "flex": null,
            "flex_flow": null,
            "grid_area": null,
            "grid_auto_columns": null,
            "grid_auto_flow": null,
            "grid_auto_rows": null,
            "grid_column": null,
            "grid_gap": null,
            "grid_row": null,
            "grid_template_areas": null,
            "grid_template_columns": null,
            "grid_template_rows": null,
            "height": null,
            "justify_content": null,
            "justify_items": null,
            "left": null,
            "margin": null,
            "max_height": null,
            "max_width": null,
            "min_height": null,
            "min_width": null,
            "object_fit": null,
            "object_position": null,
            "order": null,
            "overflow": null,
            "overflow_x": null,
            "overflow_y": null,
            "padding": null,
            "right": null,
            "top": null,
            "visibility": null,
            "width": null
          }
        },
        "3dd919f6b47641b8907b429210fa0059": {
          "model_module": "@jupyter-widgets/controls",
          "model_name": "DescriptionStyleModel",
          "model_module_version": "1.5.0",
          "state": {
            "_model_module": "@jupyter-widgets/controls",
            "_model_module_version": "1.5.0",
            "_model_name": "DescriptionStyleModel",
            "_view_count": null,
            "_view_module": "@jupyter-widgets/base",
            "_view_module_version": "1.2.0",
            "_view_name": "StyleView",
            "description_width": ""
          }
        },
        "dfc839f92f114b33bf78c8fc5f6aa0e9": {
          "model_module": "@jupyter-widgets/base",
          "model_name": "LayoutModel",
          "model_module_version": "1.2.0",
          "state": {
            "_model_module": "@jupyter-widgets/base",
            "_model_module_version": "1.2.0",
            "_model_name": "LayoutModel",
            "_view_count": null,
            "_view_module": "@jupyter-widgets/base",
            "_view_module_version": "1.2.0",
            "_view_name": "LayoutView",
            "align_content": null,
            "align_items": null,
            "align_self": null,
            "border": null,
            "bottom": null,
            "display": null,
            "flex": null,
            "flex_flow": null,
            "grid_area": null,
            "grid_auto_columns": null,
            "grid_auto_flow": null,
            "grid_auto_rows": null,
            "grid_column": null,
            "grid_gap": null,
            "grid_row": null,
            "grid_template_areas": null,
            "grid_template_columns": null,
            "grid_template_rows": null,
            "height": null,
            "justify_content": null,
            "justify_items": null,
            "left": null,
            "margin": null,
            "max_height": null,
            "max_width": null,
            "min_height": null,
            "min_width": null,
            "object_fit": null,
            "object_position": null,
            "order": null,
            "overflow": null,
            "overflow_x": null,
            "overflow_y": null,
            "padding": null,
            "right": null,
            "top": null,
            "visibility": null,
            "width": null
          }
        },
        "9062b8890fe0401f9006798775401454": {
          "model_module": "@jupyter-widgets/controls",
          "model_name": "ProgressStyleModel",
          "model_module_version": "1.5.0",
          "state": {
            "_model_module": "@jupyter-widgets/controls",
            "_model_module_version": "1.5.0",
            "_model_name": "ProgressStyleModel",
            "_view_count": null,
            "_view_module": "@jupyter-widgets/base",
            "_view_module_version": "1.2.0",
            "_view_name": "StyleView",
            "bar_color": null,
            "description_width": ""
          }
        },
        "f6376be08f0e4be7bacd6decad26be26": {
          "model_module": "@jupyter-widgets/controls",
          "model_name": "VBoxModel",
          "model_module_version": "1.5.0",
          "state": {
            "_dom_classes": [],
            "_model_module": "@jupyter-widgets/controls",
            "_model_module_version": "1.5.0",
            "_model_name": "VBoxModel",
            "_view_count": null,
            "_view_module": "@jupyter-widgets/controls",
            "_view_module_version": "1.5.0",
            "_view_name": "VBoxView",
            "box_style": "",
            "children": [
              "IPY_MODEL_ecaa2f43df9e4eddbd1edc5f6485c2a9",
              "IPY_MODEL_358a77ad1a984da5b5a13b62f1ef5b41"
            ],
            "layout": "IPY_MODEL_836ddbb466e94a859c2ca34a3d98037f"
          }
        },
        "ecaa2f43df9e4eddbd1edc5f6485c2a9": {
          "model_module": "@jupyter-widgets/controls",
          "model_name": "LabelModel",
          "model_module_version": "1.5.0",
          "state": {
            "_dom_classes": [],
            "_model_module": "@jupyter-widgets/controls",
            "_model_module_version": "1.5.0",
            "_model_name": "LabelModel",
            "_view_count": null,
            "_view_module": "@jupyter-widgets/controls",
            "_view_module_version": "1.5.0",
            "_view_name": "LabelView",
            "description": "",
            "description_tooltip": null,
            "layout": "IPY_MODEL_1578398f4fc7444fa93ffa229b39e3bb",
            "placeholder": "​",
            "style": "IPY_MODEL_74d52822c9564a7e92306dce6f8188f9",
            "value": "0.011 MB of 0.011 MB uploaded\r"
          }
        },
        "358a77ad1a984da5b5a13b62f1ef5b41": {
          "model_module": "@jupyter-widgets/controls",
          "model_name": "FloatProgressModel",
          "model_module_version": "1.5.0",
          "state": {
            "_dom_classes": [],
            "_model_module": "@jupyter-widgets/controls",
            "_model_module_version": "1.5.0",
            "_model_name": "FloatProgressModel",
            "_view_count": null,
            "_view_module": "@jupyter-widgets/controls",
            "_view_module_version": "1.5.0",
            "_view_name": "ProgressView",
            "bar_style": "",
            "description": "",
            "description_tooltip": null,
            "layout": "IPY_MODEL_83ad374472a64dd092aa144d2f3c28a1",
            "max": 1,
            "min": 0,
            "orientation": "horizontal",
            "style": "IPY_MODEL_990b0451bffc4d9194315f53efa0c8e1",
            "value": 1
          }
        },
        "836ddbb466e94a859c2ca34a3d98037f": {
          "model_module": "@jupyter-widgets/base",
          "model_name": "LayoutModel",
          "model_module_version": "1.2.0",
          "state": {
            "_model_module": "@jupyter-widgets/base",
            "_model_module_version": "1.2.0",
            "_model_name": "LayoutModel",
            "_view_count": null,
            "_view_module": "@jupyter-widgets/base",
            "_view_module_version": "1.2.0",
            "_view_name": "LayoutView",
            "align_content": null,
            "align_items": null,
            "align_self": null,
            "border": null,
            "bottom": null,
            "display": null,
            "flex": null,
            "flex_flow": null,
            "grid_area": null,
            "grid_auto_columns": null,
            "grid_auto_flow": null,
            "grid_auto_rows": null,
            "grid_column": null,
            "grid_gap": null,
            "grid_row": null,
            "grid_template_areas": null,
            "grid_template_columns": null,
            "grid_template_rows": null,
            "height": null,
            "justify_content": null,
            "justify_items": null,
            "left": null,
            "margin": null,
            "max_height": null,
            "max_width": null,
            "min_height": null,
            "min_width": null,
            "object_fit": null,
            "object_position": null,
            "order": null,
            "overflow": null,
            "overflow_x": null,
            "overflow_y": null,
            "padding": null,
            "right": null,
            "top": null,
            "visibility": null,
            "width": null
          }
        },
        "1578398f4fc7444fa93ffa229b39e3bb": {
          "model_module": "@jupyter-widgets/base",
          "model_name": "LayoutModel",
          "model_module_version": "1.2.0",
          "state": {
            "_model_module": "@jupyter-widgets/base",
            "_model_module_version": "1.2.0",
            "_model_name": "LayoutModel",
            "_view_count": null,
            "_view_module": "@jupyter-widgets/base",
            "_view_module_version": "1.2.0",
            "_view_name": "LayoutView",
            "align_content": null,
            "align_items": null,
            "align_self": null,
            "border": null,
            "bottom": null,
            "display": null,
            "flex": null,
            "flex_flow": null,
            "grid_area": null,
            "grid_auto_columns": null,
            "grid_auto_flow": null,
            "grid_auto_rows": null,
            "grid_column": null,
            "grid_gap": null,
            "grid_row": null,
            "grid_template_areas": null,
            "grid_template_columns": null,
            "grid_template_rows": null,
            "height": null,
            "justify_content": null,
            "justify_items": null,
            "left": null,
            "margin": null,
            "max_height": null,
            "max_width": null,
            "min_height": null,
            "min_width": null,
            "object_fit": null,
            "object_position": null,
            "order": null,
            "overflow": null,
            "overflow_x": null,
            "overflow_y": null,
            "padding": null,
            "right": null,
            "top": null,
            "visibility": null,
            "width": null
          }
        },
        "74d52822c9564a7e92306dce6f8188f9": {
          "model_module": "@jupyter-widgets/controls",
          "model_name": "DescriptionStyleModel",
          "model_module_version": "1.5.0",
          "state": {
            "_model_module": "@jupyter-widgets/controls",
            "_model_module_version": "1.5.0",
            "_model_name": "DescriptionStyleModel",
            "_view_count": null,
            "_view_module": "@jupyter-widgets/base",
            "_view_module_version": "1.2.0",
            "_view_name": "StyleView",
            "description_width": ""
          }
        },
        "83ad374472a64dd092aa144d2f3c28a1": {
          "model_module": "@jupyter-widgets/base",
          "model_name": "LayoutModel",
          "model_module_version": "1.2.0",
          "state": {
            "_model_module": "@jupyter-widgets/base",
            "_model_module_version": "1.2.0",
            "_model_name": "LayoutModel",
            "_view_count": null,
            "_view_module": "@jupyter-widgets/base",
            "_view_module_version": "1.2.0",
            "_view_name": "LayoutView",
            "align_content": null,
            "align_items": null,
            "align_self": null,
            "border": null,
            "bottom": null,
            "display": null,
            "flex": null,
            "flex_flow": null,
            "grid_area": null,
            "grid_auto_columns": null,
            "grid_auto_flow": null,
            "grid_auto_rows": null,
            "grid_column": null,
            "grid_gap": null,
            "grid_row": null,
            "grid_template_areas": null,
            "grid_template_columns": null,
            "grid_template_rows": null,
            "height": null,
            "justify_content": null,
            "justify_items": null,
            "left": null,
            "margin": null,
            "max_height": null,
            "max_width": null,
            "min_height": null,
            "min_width": null,
            "object_fit": null,
            "object_position": null,
            "order": null,
            "overflow": null,
            "overflow_x": null,
            "overflow_y": null,
            "padding": null,
            "right": null,
            "top": null,
            "visibility": null,
            "width": null
          }
        },
        "990b0451bffc4d9194315f53efa0c8e1": {
          "model_module": "@jupyter-widgets/controls",
          "model_name": "ProgressStyleModel",
          "model_module_version": "1.5.0",
          "state": {
            "_model_module": "@jupyter-widgets/controls",
            "_model_module_version": "1.5.0",
            "_model_name": "ProgressStyleModel",
            "_view_count": null,
            "_view_module": "@jupyter-widgets/base",
            "_view_module_version": "1.2.0",
            "_view_name": "StyleView",
            "bar_color": null,
            "description_width": ""
          }
        },
        "30bdad8d5dd14fa18b834737214c99fe": {
          "model_module": "@jupyter-widgets/controls",
          "model_name": "VBoxModel",
          "model_module_version": "1.5.0",
          "state": {
            "_dom_classes": [],
            "_model_module": "@jupyter-widgets/controls",
            "_model_module_version": "1.5.0",
            "_model_name": "VBoxModel",
            "_view_count": null,
            "_view_module": "@jupyter-widgets/controls",
            "_view_module_version": "1.5.0",
            "_view_name": "VBoxView",
            "box_style": "",
            "children": [
              "IPY_MODEL_3502f20da5ab47b68b1b51e916850da0",
              "IPY_MODEL_088865e6e5c04636a09d00ede8d313ba"
            ],
            "layout": "IPY_MODEL_c6d11768b1d94a89b18dac20d7094cd6"
          }
        },
        "3502f20da5ab47b68b1b51e916850da0": {
          "model_module": "@jupyter-widgets/controls",
          "model_name": "LabelModel",
          "model_module_version": "1.5.0",
          "state": {
            "_dom_classes": [],
            "_model_module": "@jupyter-widgets/controls",
            "_model_module_version": "1.5.0",
            "_model_name": "LabelModel",
            "_view_count": null,
            "_view_module": "@jupyter-widgets/controls",
            "_view_module_version": "1.5.0",
            "_view_name": "LabelView",
            "description": "",
            "description_tooltip": null,
            "layout": "IPY_MODEL_0b55c8d0ebcf4f9b886aaa3b9dc9ad1b",
            "placeholder": "​",
            "style": "IPY_MODEL_c95e7edc263b4b8c987dde495cdd7e9a",
            "value": "0.011 MB of 0.011 MB uploaded\r"
          }
        },
        "088865e6e5c04636a09d00ede8d313ba": {
          "model_module": "@jupyter-widgets/controls",
          "model_name": "FloatProgressModel",
          "model_module_version": "1.5.0",
          "state": {
            "_dom_classes": [],
            "_model_module": "@jupyter-widgets/controls",
            "_model_module_version": "1.5.0",
            "_model_name": "FloatProgressModel",
            "_view_count": null,
            "_view_module": "@jupyter-widgets/controls",
            "_view_module_version": "1.5.0",
            "_view_name": "ProgressView",
            "bar_style": "",
            "description": "",
            "description_tooltip": null,
            "layout": "IPY_MODEL_eb0db1313f0241bb83fca18502623e0f",
            "max": 1,
            "min": 0,
            "orientation": "horizontal",
            "style": "IPY_MODEL_746b435232c547b184ac9b65f80712af",
            "value": 1
          }
        },
        "c6d11768b1d94a89b18dac20d7094cd6": {
          "model_module": "@jupyter-widgets/base",
          "model_name": "LayoutModel",
          "model_module_version": "1.2.0",
          "state": {
            "_model_module": "@jupyter-widgets/base",
            "_model_module_version": "1.2.0",
            "_model_name": "LayoutModel",
            "_view_count": null,
            "_view_module": "@jupyter-widgets/base",
            "_view_module_version": "1.2.0",
            "_view_name": "LayoutView",
            "align_content": null,
            "align_items": null,
            "align_self": null,
            "border": null,
            "bottom": null,
            "display": null,
            "flex": null,
            "flex_flow": null,
            "grid_area": null,
            "grid_auto_columns": null,
            "grid_auto_flow": null,
            "grid_auto_rows": null,
            "grid_column": null,
            "grid_gap": null,
            "grid_row": null,
            "grid_template_areas": null,
            "grid_template_columns": null,
            "grid_template_rows": null,
            "height": null,
            "justify_content": null,
            "justify_items": null,
            "left": null,
            "margin": null,
            "max_height": null,
            "max_width": null,
            "min_height": null,
            "min_width": null,
            "object_fit": null,
            "object_position": null,
            "order": null,
            "overflow": null,
            "overflow_x": null,
            "overflow_y": null,
            "padding": null,
            "right": null,
            "top": null,
            "visibility": null,
            "width": null
          }
        },
        "0b55c8d0ebcf4f9b886aaa3b9dc9ad1b": {
          "model_module": "@jupyter-widgets/base",
          "model_name": "LayoutModel",
          "model_module_version": "1.2.0",
          "state": {
            "_model_module": "@jupyter-widgets/base",
            "_model_module_version": "1.2.0",
            "_model_name": "LayoutModel",
            "_view_count": null,
            "_view_module": "@jupyter-widgets/base",
            "_view_module_version": "1.2.0",
            "_view_name": "LayoutView",
            "align_content": null,
            "align_items": null,
            "align_self": null,
            "border": null,
            "bottom": null,
            "display": null,
            "flex": null,
            "flex_flow": null,
            "grid_area": null,
            "grid_auto_columns": null,
            "grid_auto_flow": null,
            "grid_auto_rows": null,
            "grid_column": null,
            "grid_gap": null,
            "grid_row": null,
            "grid_template_areas": null,
            "grid_template_columns": null,
            "grid_template_rows": null,
            "height": null,
            "justify_content": null,
            "justify_items": null,
            "left": null,
            "margin": null,
            "max_height": null,
            "max_width": null,
            "min_height": null,
            "min_width": null,
            "object_fit": null,
            "object_position": null,
            "order": null,
            "overflow": null,
            "overflow_x": null,
            "overflow_y": null,
            "padding": null,
            "right": null,
            "top": null,
            "visibility": null,
            "width": null
          }
        },
        "c95e7edc263b4b8c987dde495cdd7e9a": {
          "model_module": "@jupyter-widgets/controls",
          "model_name": "DescriptionStyleModel",
          "model_module_version": "1.5.0",
          "state": {
            "_model_module": "@jupyter-widgets/controls",
            "_model_module_version": "1.5.0",
            "_model_name": "DescriptionStyleModel",
            "_view_count": null,
            "_view_module": "@jupyter-widgets/base",
            "_view_module_version": "1.2.0",
            "_view_name": "StyleView",
            "description_width": ""
          }
        },
        "eb0db1313f0241bb83fca18502623e0f": {
          "model_module": "@jupyter-widgets/base",
          "model_name": "LayoutModel",
          "model_module_version": "1.2.0",
          "state": {
            "_model_module": "@jupyter-widgets/base",
            "_model_module_version": "1.2.0",
            "_model_name": "LayoutModel",
            "_view_count": null,
            "_view_module": "@jupyter-widgets/base",
            "_view_module_version": "1.2.0",
            "_view_name": "LayoutView",
            "align_content": null,
            "align_items": null,
            "align_self": null,
            "border": null,
            "bottom": null,
            "display": null,
            "flex": null,
            "flex_flow": null,
            "grid_area": null,
            "grid_auto_columns": null,
            "grid_auto_flow": null,
            "grid_auto_rows": null,
            "grid_column": null,
            "grid_gap": null,
            "grid_row": null,
            "grid_template_areas": null,
            "grid_template_columns": null,
            "grid_template_rows": null,
            "height": null,
            "justify_content": null,
            "justify_items": null,
            "left": null,
            "margin": null,
            "max_height": null,
            "max_width": null,
            "min_height": null,
            "min_width": null,
            "object_fit": null,
            "object_position": null,
            "order": null,
            "overflow": null,
            "overflow_x": null,
            "overflow_y": null,
            "padding": null,
            "right": null,
            "top": null,
            "visibility": null,
            "width": null
          }
        },
        "746b435232c547b184ac9b65f80712af": {
          "model_module": "@jupyter-widgets/controls",
          "model_name": "ProgressStyleModel",
          "model_module_version": "1.5.0",
          "state": {
            "_model_module": "@jupyter-widgets/controls",
            "_model_module_version": "1.5.0",
            "_model_name": "ProgressStyleModel",
            "_view_count": null,
            "_view_module": "@jupyter-widgets/base",
            "_view_module_version": "1.2.0",
            "_view_name": "StyleView",
            "bar_color": null,
            "description_width": ""
          }
        },
        "ac03a056602f4c02b7471c0c8d790444": {
          "model_module": "@jupyter-widgets/controls",
          "model_name": "VBoxModel",
          "model_module_version": "1.5.0",
          "state": {
            "_dom_classes": [],
            "_model_module": "@jupyter-widgets/controls",
            "_model_module_version": "1.5.0",
            "_model_name": "VBoxModel",
            "_view_count": null,
            "_view_module": "@jupyter-widgets/controls",
            "_view_module_version": "1.5.0",
            "_view_name": "VBoxView",
            "box_style": "",
            "children": [
              "IPY_MODEL_f07cf0b99b0e4615bbee1fa6fdada374",
              "IPY_MODEL_61747dba301341d3bc71efe9925d6a03"
            ],
            "layout": "IPY_MODEL_5ca426786c7246c69505d95b0815b07e"
          }
        },
        "f07cf0b99b0e4615bbee1fa6fdada374": {
          "model_module": "@jupyter-widgets/controls",
          "model_name": "LabelModel",
          "model_module_version": "1.5.0",
          "state": {
            "_dom_classes": [],
            "_model_module": "@jupyter-widgets/controls",
            "_model_module_version": "1.5.0",
            "_model_name": "LabelModel",
            "_view_count": null,
            "_view_module": "@jupyter-widgets/controls",
            "_view_module_version": "1.5.0",
            "_view_name": "LabelView",
            "description": "",
            "description_tooltip": null,
            "layout": "IPY_MODEL_0655b0f9c24549bb96c3d23e4a08e017",
            "placeholder": "​",
            "style": "IPY_MODEL_60d57b9d49764808a11936af80fd018d",
            "value": "0.092 MB of 0.092 MB uploaded\r"
          }
        },
        "61747dba301341d3bc71efe9925d6a03": {
          "model_module": "@jupyter-widgets/controls",
          "model_name": "FloatProgressModel",
          "model_module_version": "1.5.0",
          "state": {
            "_dom_classes": [],
            "_model_module": "@jupyter-widgets/controls",
            "_model_module_version": "1.5.0",
            "_model_name": "FloatProgressModel",
            "_view_count": null,
            "_view_module": "@jupyter-widgets/controls",
            "_view_module_version": "1.5.0",
            "_view_name": "ProgressView",
            "bar_style": "",
            "description": "",
            "description_tooltip": null,
            "layout": "IPY_MODEL_b53714bf55984669b1c052b83db7f354",
            "max": 1,
            "min": 0,
            "orientation": "horizontal",
            "style": "IPY_MODEL_50fd49f9dcd440dbb554020414cdfcba",
            "value": 1
          }
        },
        "5ca426786c7246c69505d95b0815b07e": {
          "model_module": "@jupyter-widgets/base",
          "model_name": "LayoutModel",
          "model_module_version": "1.2.0",
          "state": {
            "_model_module": "@jupyter-widgets/base",
            "_model_module_version": "1.2.0",
            "_model_name": "LayoutModel",
            "_view_count": null,
            "_view_module": "@jupyter-widgets/base",
            "_view_module_version": "1.2.0",
            "_view_name": "LayoutView",
            "align_content": null,
            "align_items": null,
            "align_self": null,
            "border": null,
            "bottom": null,
            "display": null,
            "flex": null,
            "flex_flow": null,
            "grid_area": null,
            "grid_auto_columns": null,
            "grid_auto_flow": null,
            "grid_auto_rows": null,
            "grid_column": null,
            "grid_gap": null,
            "grid_row": null,
            "grid_template_areas": null,
            "grid_template_columns": null,
            "grid_template_rows": null,
            "height": null,
            "justify_content": null,
            "justify_items": null,
            "left": null,
            "margin": null,
            "max_height": null,
            "max_width": null,
            "min_height": null,
            "min_width": null,
            "object_fit": null,
            "object_position": null,
            "order": null,
            "overflow": null,
            "overflow_x": null,
            "overflow_y": null,
            "padding": null,
            "right": null,
            "top": null,
            "visibility": null,
            "width": null
          }
        },
        "0655b0f9c24549bb96c3d23e4a08e017": {
          "model_module": "@jupyter-widgets/base",
          "model_name": "LayoutModel",
          "model_module_version": "1.2.0",
          "state": {
            "_model_module": "@jupyter-widgets/base",
            "_model_module_version": "1.2.0",
            "_model_name": "LayoutModel",
            "_view_count": null,
            "_view_module": "@jupyter-widgets/base",
            "_view_module_version": "1.2.0",
            "_view_name": "LayoutView",
            "align_content": null,
            "align_items": null,
            "align_self": null,
            "border": null,
            "bottom": null,
            "display": null,
            "flex": null,
            "flex_flow": null,
            "grid_area": null,
            "grid_auto_columns": null,
            "grid_auto_flow": null,
            "grid_auto_rows": null,
            "grid_column": null,
            "grid_gap": null,
            "grid_row": null,
            "grid_template_areas": null,
            "grid_template_columns": null,
            "grid_template_rows": null,
            "height": null,
            "justify_content": null,
            "justify_items": null,
            "left": null,
            "margin": null,
            "max_height": null,
            "max_width": null,
            "min_height": null,
            "min_width": null,
            "object_fit": null,
            "object_position": null,
            "order": null,
            "overflow": null,
            "overflow_x": null,
            "overflow_y": null,
            "padding": null,
            "right": null,
            "top": null,
            "visibility": null,
            "width": null
          }
        },
        "60d57b9d49764808a11936af80fd018d": {
          "model_module": "@jupyter-widgets/controls",
          "model_name": "DescriptionStyleModel",
          "model_module_version": "1.5.0",
          "state": {
            "_model_module": "@jupyter-widgets/controls",
            "_model_module_version": "1.5.0",
            "_model_name": "DescriptionStyleModel",
            "_view_count": null,
            "_view_module": "@jupyter-widgets/base",
            "_view_module_version": "1.2.0",
            "_view_name": "StyleView",
            "description_width": ""
          }
        },
        "b53714bf55984669b1c052b83db7f354": {
          "model_module": "@jupyter-widgets/base",
          "model_name": "LayoutModel",
          "model_module_version": "1.2.0",
          "state": {
            "_model_module": "@jupyter-widgets/base",
            "_model_module_version": "1.2.0",
            "_model_name": "LayoutModel",
            "_view_count": null,
            "_view_module": "@jupyter-widgets/base",
            "_view_module_version": "1.2.0",
            "_view_name": "LayoutView",
            "align_content": null,
            "align_items": null,
            "align_self": null,
            "border": null,
            "bottom": null,
            "display": null,
            "flex": null,
            "flex_flow": null,
            "grid_area": null,
            "grid_auto_columns": null,
            "grid_auto_flow": null,
            "grid_auto_rows": null,
            "grid_column": null,
            "grid_gap": null,
            "grid_row": null,
            "grid_template_areas": null,
            "grid_template_columns": null,
            "grid_template_rows": null,
            "height": null,
            "justify_content": null,
            "justify_items": null,
            "left": null,
            "margin": null,
            "max_height": null,
            "max_width": null,
            "min_height": null,
            "min_width": null,
            "object_fit": null,
            "object_position": null,
            "order": null,
            "overflow": null,
            "overflow_x": null,
            "overflow_y": null,
            "padding": null,
            "right": null,
            "top": null,
            "visibility": null,
            "width": null
          }
        },
        "50fd49f9dcd440dbb554020414cdfcba": {
          "model_module": "@jupyter-widgets/controls",
          "model_name": "ProgressStyleModel",
          "model_module_version": "1.5.0",
          "state": {
            "_model_module": "@jupyter-widgets/controls",
            "_model_module_version": "1.5.0",
            "_model_name": "ProgressStyleModel",
            "_view_count": null,
            "_view_module": "@jupyter-widgets/base",
            "_view_module_version": "1.2.0",
            "_view_name": "StyleView",
            "bar_color": null,
            "description_width": ""
          }
        },
        "10891fb0e3374edc877cc82337b56078": {
          "model_module": "@jupyter-widgets/controls",
          "model_name": "VBoxModel",
          "model_module_version": "1.5.0",
          "state": {
            "_dom_classes": [],
            "_model_module": "@jupyter-widgets/controls",
            "_model_module_version": "1.5.0",
            "_model_name": "VBoxModel",
            "_view_count": null,
            "_view_module": "@jupyter-widgets/controls",
            "_view_module_version": "1.5.0",
            "_view_name": "VBoxView",
            "box_style": "",
            "children": [
              "IPY_MODEL_2cf7ad528cd74c1ebbe939f51d22a2ab",
              "IPY_MODEL_90900246c5524171a8543db4b778ca73"
            ],
            "layout": "IPY_MODEL_42ebc8e03915459b8e76f64d38b7c04a"
          }
        },
        "2cf7ad528cd74c1ebbe939f51d22a2ab": {
          "model_module": "@jupyter-widgets/controls",
          "model_name": "LabelModel",
          "model_module_version": "1.5.0",
          "state": {
            "_dom_classes": [],
            "_model_module": "@jupyter-widgets/controls",
            "_model_module_version": "1.5.0",
            "_model_name": "LabelModel",
            "_view_count": null,
            "_view_module": "@jupyter-widgets/controls",
            "_view_module_version": "1.5.0",
            "_view_name": "LabelView",
            "description": "",
            "description_tooltip": null,
            "layout": "IPY_MODEL_73faa8ed6eb94f0fa5ea35f6266af1e2",
            "placeholder": "​",
            "style": "IPY_MODEL_d494dc11cd614629ad0d757ffdde723d",
            "value": "Waiting for wandb.init()...\r"
          }
        },
        "90900246c5524171a8543db4b778ca73": {
          "model_module": "@jupyter-widgets/controls",
          "model_name": "FloatProgressModel",
          "model_module_version": "1.5.0",
          "state": {
            "_dom_classes": [],
            "_model_module": "@jupyter-widgets/controls",
            "_model_module_version": "1.5.0",
            "_model_name": "FloatProgressModel",
            "_view_count": null,
            "_view_module": "@jupyter-widgets/controls",
            "_view_module_version": "1.5.0",
            "_view_name": "ProgressView",
            "bar_style": "",
            "description": "",
            "description_tooltip": null,
            "layout": "IPY_MODEL_2ca33fc4277544f6b0606882423b6889",
            "max": 1,
            "min": 0,
            "orientation": "horizontal",
            "style": "IPY_MODEL_c254bba445bc4c6aa0644260eb1743f7",
            "value": 1
          }
        },
        "42ebc8e03915459b8e76f64d38b7c04a": {
          "model_module": "@jupyter-widgets/base",
          "model_name": "LayoutModel",
          "model_module_version": "1.2.0",
          "state": {
            "_model_module": "@jupyter-widgets/base",
            "_model_module_version": "1.2.0",
            "_model_name": "LayoutModel",
            "_view_count": null,
            "_view_module": "@jupyter-widgets/base",
            "_view_module_version": "1.2.0",
            "_view_name": "LayoutView",
            "align_content": null,
            "align_items": null,
            "align_self": null,
            "border": null,
            "bottom": null,
            "display": null,
            "flex": null,
            "flex_flow": null,
            "grid_area": null,
            "grid_auto_columns": null,
            "grid_auto_flow": null,
            "grid_auto_rows": null,
            "grid_column": null,
            "grid_gap": null,
            "grid_row": null,
            "grid_template_areas": null,
            "grid_template_columns": null,
            "grid_template_rows": null,
            "height": null,
            "justify_content": null,
            "justify_items": null,
            "left": null,
            "margin": null,
            "max_height": null,
            "max_width": null,
            "min_height": null,
            "min_width": null,
            "object_fit": null,
            "object_position": null,
            "order": null,
            "overflow": null,
            "overflow_x": null,
            "overflow_y": null,
            "padding": null,
            "right": null,
            "top": null,
            "visibility": null,
            "width": null
          }
        },
        "73faa8ed6eb94f0fa5ea35f6266af1e2": {
          "model_module": "@jupyter-widgets/base",
          "model_name": "LayoutModel",
          "model_module_version": "1.2.0",
          "state": {
            "_model_module": "@jupyter-widgets/base",
            "_model_module_version": "1.2.0",
            "_model_name": "LayoutModel",
            "_view_count": null,
            "_view_module": "@jupyter-widgets/base",
            "_view_module_version": "1.2.0",
            "_view_name": "LayoutView",
            "align_content": null,
            "align_items": null,
            "align_self": null,
            "border": null,
            "bottom": null,
            "display": null,
            "flex": null,
            "flex_flow": null,
            "grid_area": null,
            "grid_auto_columns": null,
            "grid_auto_flow": null,
            "grid_auto_rows": null,
            "grid_column": null,
            "grid_gap": null,
            "grid_row": null,
            "grid_template_areas": null,
            "grid_template_columns": null,
            "grid_template_rows": null,
            "height": null,
            "justify_content": null,
            "justify_items": null,
            "left": null,
            "margin": null,
            "max_height": null,
            "max_width": null,
            "min_height": null,
            "min_width": null,
            "object_fit": null,
            "object_position": null,
            "order": null,
            "overflow": null,
            "overflow_x": null,
            "overflow_y": null,
            "padding": null,
            "right": null,
            "top": null,
            "visibility": null,
            "width": null
          }
        },
        "d494dc11cd614629ad0d757ffdde723d": {
          "model_module": "@jupyter-widgets/controls",
          "model_name": "DescriptionStyleModel",
          "model_module_version": "1.5.0",
          "state": {
            "_model_module": "@jupyter-widgets/controls",
            "_model_module_version": "1.5.0",
            "_model_name": "DescriptionStyleModel",
            "_view_count": null,
            "_view_module": "@jupyter-widgets/base",
            "_view_module_version": "1.2.0",
            "_view_name": "StyleView",
            "description_width": ""
          }
        },
        "2ca33fc4277544f6b0606882423b6889": {
          "model_module": "@jupyter-widgets/base",
          "model_name": "LayoutModel",
          "model_module_version": "1.2.0",
          "state": {
            "_model_module": "@jupyter-widgets/base",
            "_model_module_version": "1.2.0",
            "_model_name": "LayoutModel",
            "_view_count": null,
            "_view_module": "@jupyter-widgets/base",
            "_view_module_version": "1.2.0",
            "_view_name": "LayoutView",
            "align_content": null,
            "align_items": null,
            "align_self": null,
            "border": null,
            "bottom": null,
            "display": null,
            "flex": null,
            "flex_flow": null,
            "grid_area": null,
            "grid_auto_columns": null,
            "grid_auto_flow": null,
            "grid_auto_rows": null,
            "grid_column": null,
            "grid_gap": null,
            "grid_row": null,
            "grid_template_areas": null,
            "grid_template_columns": null,
            "grid_template_rows": null,
            "height": null,
            "justify_content": null,
            "justify_items": null,
            "left": null,
            "margin": null,
            "max_height": null,
            "max_width": null,
            "min_height": null,
            "min_width": null,
            "object_fit": null,
            "object_position": null,
            "order": null,
            "overflow": null,
            "overflow_x": null,
            "overflow_y": null,
            "padding": null,
            "right": null,
            "top": null,
            "visibility": null,
            "width": null
          }
        },
        "c254bba445bc4c6aa0644260eb1743f7": {
          "model_module": "@jupyter-widgets/controls",
          "model_name": "ProgressStyleModel",
          "model_module_version": "1.5.0",
          "state": {
            "_model_module": "@jupyter-widgets/controls",
            "_model_module_version": "1.5.0",
            "_model_name": "ProgressStyleModel",
            "_view_count": null,
            "_view_module": "@jupyter-widgets/base",
            "_view_module_version": "1.2.0",
            "_view_name": "StyleView",
            "bar_color": null,
            "description_width": ""
          }
        },
        "1328fa9f8a7242499191e56b76688352": {
          "model_module": "@jupyter-widgets/controls",
          "model_name": "VBoxModel",
          "model_module_version": "1.5.0",
          "state": {
            "_dom_classes": [],
            "_model_module": "@jupyter-widgets/controls",
            "_model_module_version": "1.5.0",
            "_model_name": "VBoxModel",
            "_view_count": null,
            "_view_module": "@jupyter-widgets/controls",
            "_view_module_version": "1.5.0",
            "_view_name": "VBoxView",
            "box_style": "",
            "children": [
              "IPY_MODEL_b3f7a2017d92404482d7cc2c108656e4",
              "IPY_MODEL_cda1411ef438427fbc9615cf05368226"
            ],
            "layout": "IPY_MODEL_38f15dac8368459f84a3235bdbfa79d3"
          }
        },
        "b3f7a2017d92404482d7cc2c108656e4": {
          "model_module": "@jupyter-widgets/controls",
          "model_name": "LabelModel",
          "model_module_version": "1.5.0",
          "state": {
            "_dom_classes": [],
            "_model_module": "@jupyter-widgets/controls",
            "_model_module_version": "1.5.0",
            "_model_name": "LabelModel",
            "_view_count": null,
            "_view_module": "@jupyter-widgets/controls",
            "_view_module_version": "1.5.0",
            "_view_name": "LabelView",
            "description": "",
            "description_tooltip": null,
            "layout": "IPY_MODEL_3cf6f6dd9b95484498bde034dea2f68f",
            "placeholder": "​",
            "style": "IPY_MODEL_cff1b7e33eed4060bb410e22939a5e66",
            "value": "0.011 MB of 0.011 MB uploaded\r"
          }
        },
        "cda1411ef438427fbc9615cf05368226": {
          "model_module": "@jupyter-widgets/controls",
          "model_name": "FloatProgressModel",
          "model_module_version": "1.5.0",
          "state": {
            "_dom_classes": [],
            "_model_module": "@jupyter-widgets/controls",
            "_model_module_version": "1.5.0",
            "_model_name": "FloatProgressModel",
            "_view_count": null,
            "_view_module": "@jupyter-widgets/controls",
            "_view_module_version": "1.5.0",
            "_view_name": "ProgressView",
            "bar_style": "",
            "description": "",
            "description_tooltip": null,
            "layout": "IPY_MODEL_897abe23d1eb4f528907bf223ed5f4eb",
            "max": 1,
            "min": 0,
            "orientation": "horizontal",
            "style": "IPY_MODEL_f0ed782c136144ddb3b01a0f6a0556ca",
            "value": 1
          }
        },
        "38f15dac8368459f84a3235bdbfa79d3": {
          "model_module": "@jupyter-widgets/base",
          "model_name": "LayoutModel",
          "model_module_version": "1.2.0",
          "state": {
            "_model_module": "@jupyter-widgets/base",
            "_model_module_version": "1.2.0",
            "_model_name": "LayoutModel",
            "_view_count": null,
            "_view_module": "@jupyter-widgets/base",
            "_view_module_version": "1.2.0",
            "_view_name": "LayoutView",
            "align_content": null,
            "align_items": null,
            "align_self": null,
            "border": null,
            "bottom": null,
            "display": null,
            "flex": null,
            "flex_flow": null,
            "grid_area": null,
            "grid_auto_columns": null,
            "grid_auto_flow": null,
            "grid_auto_rows": null,
            "grid_column": null,
            "grid_gap": null,
            "grid_row": null,
            "grid_template_areas": null,
            "grid_template_columns": null,
            "grid_template_rows": null,
            "height": null,
            "justify_content": null,
            "justify_items": null,
            "left": null,
            "margin": null,
            "max_height": null,
            "max_width": null,
            "min_height": null,
            "min_width": null,
            "object_fit": null,
            "object_position": null,
            "order": null,
            "overflow": null,
            "overflow_x": null,
            "overflow_y": null,
            "padding": null,
            "right": null,
            "top": null,
            "visibility": null,
            "width": null
          }
        },
        "3cf6f6dd9b95484498bde034dea2f68f": {
          "model_module": "@jupyter-widgets/base",
          "model_name": "LayoutModel",
          "model_module_version": "1.2.0",
          "state": {
            "_model_module": "@jupyter-widgets/base",
            "_model_module_version": "1.2.0",
            "_model_name": "LayoutModel",
            "_view_count": null,
            "_view_module": "@jupyter-widgets/base",
            "_view_module_version": "1.2.0",
            "_view_name": "LayoutView",
            "align_content": null,
            "align_items": null,
            "align_self": null,
            "border": null,
            "bottom": null,
            "display": null,
            "flex": null,
            "flex_flow": null,
            "grid_area": null,
            "grid_auto_columns": null,
            "grid_auto_flow": null,
            "grid_auto_rows": null,
            "grid_column": null,
            "grid_gap": null,
            "grid_row": null,
            "grid_template_areas": null,
            "grid_template_columns": null,
            "grid_template_rows": null,
            "height": null,
            "justify_content": null,
            "justify_items": null,
            "left": null,
            "margin": null,
            "max_height": null,
            "max_width": null,
            "min_height": null,
            "min_width": null,
            "object_fit": null,
            "object_position": null,
            "order": null,
            "overflow": null,
            "overflow_x": null,
            "overflow_y": null,
            "padding": null,
            "right": null,
            "top": null,
            "visibility": null,
            "width": null
          }
        },
        "cff1b7e33eed4060bb410e22939a5e66": {
          "model_module": "@jupyter-widgets/controls",
          "model_name": "DescriptionStyleModel",
          "model_module_version": "1.5.0",
          "state": {
            "_model_module": "@jupyter-widgets/controls",
            "_model_module_version": "1.5.0",
            "_model_name": "DescriptionStyleModel",
            "_view_count": null,
            "_view_module": "@jupyter-widgets/base",
            "_view_module_version": "1.2.0",
            "_view_name": "StyleView",
            "description_width": ""
          }
        },
        "897abe23d1eb4f528907bf223ed5f4eb": {
          "model_module": "@jupyter-widgets/base",
          "model_name": "LayoutModel",
          "model_module_version": "1.2.0",
          "state": {
            "_model_module": "@jupyter-widgets/base",
            "_model_module_version": "1.2.0",
            "_model_name": "LayoutModel",
            "_view_count": null,
            "_view_module": "@jupyter-widgets/base",
            "_view_module_version": "1.2.0",
            "_view_name": "LayoutView",
            "align_content": null,
            "align_items": null,
            "align_self": null,
            "border": null,
            "bottom": null,
            "display": null,
            "flex": null,
            "flex_flow": null,
            "grid_area": null,
            "grid_auto_columns": null,
            "grid_auto_flow": null,
            "grid_auto_rows": null,
            "grid_column": null,
            "grid_gap": null,
            "grid_row": null,
            "grid_template_areas": null,
            "grid_template_columns": null,
            "grid_template_rows": null,
            "height": null,
            "justify_content": null,
            "justify_items": null,
            "left": null,
            "margin": null,
            "max_height": null,
            "max_width": null,
            "min_height": null,
            "min_width": null,
            "object_fit": null,
            "object_position": null,
            "order": null,
            "overflow": null,
            "overflow_x": null,
            "overflow_y": null,
            "padding": null,
            "right": null,
            "top": null,
            "visibility": null,
            "width": null
          }
        },
        "f0ed782c136144ddb3b01a0f6a0556ca": {
          "model_module": "@jupyter-widgets/controls",
          "model_name": "ProgressStyleModel",
          "model_module_version": "1.5.0",
          "state": {
            "_model_module": "@jupyter-widgets/controls",
            "_model_module_version": "1.5.0",
            "_model_name": "ProgressStyleModel",
            "_view_count": null,
            "_view_module": "@jupyter-widgets/base",
            "_view_module_version": "1.2.0",
            "_view_name": "StyleView",
            "bar_color": null,
            "description_width": ""
          }
        }
      }
    }
  },
  "nbformat": 4,
  "nbformat_minor": 0
}