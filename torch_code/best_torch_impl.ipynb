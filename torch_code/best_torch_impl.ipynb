{
  "cells": [
    {
      "cell_type": "code",
      "execution_count": null,
      "metadata": {
        "colab": {
          "base_uri": "https://localhost:8080/"
        },
        "id": "CYOGQe-Jo-ZW",
        "outputId": "e102bca8-01a6-4f9f-85f4-48e40571d00b"
      },
      "outputs": [
        {
          "output_type": "stream",
          "name": "stdout",
          "text": [
            "Mounted at /content/drive\n"
          ]
        }
      ],
      "source": [
        "GOOGLE = True\n",
        "if GOOGLE:\n",
        "    from google.colab import drive\n",
        "    drive.mount('/content/drive')"
      ]
    },
    {
      "cell_type": "code",
      "execution_count": null,
      "metadata": {
        "id": "StULBVwBiSzw",
        "cellView": "form"
      },
      "outputs": [],
      "source": [
        "# @title import\n",
        "import sys\n",
        "sys.path.append('/content/drive/MyDrive/torch_code/')\n",
        "from shared.data_loader import *\n",
        "from shared.utils import *"
      ]
    },
    {
      "cell_type": "code",
      "execution_count": null,
      "metadata": {
        "colab": {
          "base_uri": "https://localhost:8080/"
        },
        "cellView": "form",
        "id": "ZGm3QtHho-ZX",
        "outputId": "ebbc906b-a95e-4b0c-a22e-04fbbcad9c37"
      },
      "outputs": [
        {
          "output_type": "stream",
          "name": "stdout",
          "text": [
            "Good to go!\n"
          ]
        }
      ],
      "source": [
        "# @title GPU code\n",
        "import torch\n",
        "import torch.nn.functional as F\n",
        "\n",
        "# Define the device to use for training\n",
        "device = torch.device('cuda' if torch.cuda.is_available() else 'cpu')\n",
        "if torch.cuda.is_available():\n",
        "    print('Good to go!')\n",
        "else:\n",
        "    print('Please set GPU via Edit -> Notebook Settings.')"
      ]
    },
    {
      "cell_type": "code",
      "execution_count": null,
      "metadata": {
        "cellView": "form",
        "id": "3bEjRyBso-ZX"
      },
      "outputs": [],
      "source": [
        "# @title EEG DATA\n",
        "import os\n",
        "import numpy as np\n",
        "from torch.utils.data import DataLoader, Dataset\n",
        "import torch\n",
        "import pandas as pd\n",
        "\n",
        "class EEG_Data(Dataset):\n",
        "\n",
        "    def __init__(self, root_dir, split, preprocess=lambda x,y:train_data_prep(x,y,2,2,True), transform=None, label_dict=None):\n",
        "        \"\"\"\n",
        "        Initialize the eeg dataset with the root directory for the images,\n",
        "        the split (train/val/test), an optional data transformation,\n",
        "        and an optional label dictionary.\n",
        "\n",
        "        Args:\n",
        "            root_dir (str): Root directory for the eeg images.\n",
        "            split (str): Split to use ('train', 'val', or 'test').\n",
        "            transform (callable, optional): Optional data transformation to apply to the images.\n",
        "            label_dict (dict, optional): Optional dictionary mapping integer labels to class names.\n",
        "        \"\"\"\n",
        "        assert split in ['train', 'val', 'test']\n",
        "        self.root_dir = root_dir\n",
        "        self.split = split\n",
        "        self.transform = transform\n",
        "        self.datastorch = []\n",
        "        self.labels = []\n",
        "        self.label_dict = [\"Cue Onset left\", \"Cue Onset right\", \"Cue onset foot\", \"Cue onset tongue\"]\n",
        "\n",
        "        ################# Your Implementations #################################\n",
        "        if self.split == 'train':\n",
        "            # First generating the training and validation indices using random splitting\n",
        "            X_train_valid = np.load(self.root_dir+\"X_train_valid.npy\")\n",
        "            y_train_valid = np.load(self.root_dir+\"y_train_valid.npy\")\n",
        "\n",
        "            np.random.seed(0)\n",
        "            data_length = len(X_train_valid)\n",
        "\n",
        "            ind_valid = np.random.choice(data_length, int(data_length*0.1), replace=False)\n",
        "            ind_train = np.array(list(set(range(data_length)).difference(set(ind_valid))))\n",
        "\n",
        "            # Creating the training and validation sets using the generated indices\n",
        "            (x_train, x_valid) = X_train_valid[ind_train], X_train_valid[ind_valid]\n",
        "            (y_train, y_valid) = y_train_valid[ind_train], y_train_valid[ind_valid]\n",
        "\n",
        "            if preprocess is not None:\n",
        "                x_train,y_train = preprocess(x_train,y_train)\n",
        "\n",
        "            self.datas = torch.from_numpy(x_train)\n",
        "            self.labels = [int(i-769) for i in torch.from_numpy(y_train)]\n",
        "\n",
        "        if self.split == 'val':\n",
        "            # First generating the training and validation indices using random splitting\n",
        "            X_train_valid = np.load(self.root_dir+\"X_train_valid.npy\")\n",
        "            y_train_valid = np.load(self.root_dir+\"y_train_valid.npy\")\n",
        "\n",
        "            data_length = len(X_train_valid)\n",
        "\n",
        "            np.random.seed(0)\n",
        "            ind_valid = np.random.choice(data_length, int(data_length*0.1), replace=False)\n",
        "            ind_train = np.array(list(set(range(data_length)).difference(set(ind_valid))))\n",
        "\n",
        "            # Creating the training and validation sets using the generated indices\n",
        "            (x_train, x_valid) = X_train_valid[ind_train], X_train_valid[ind_valid]\n",
        "            (y_train, y_valid) = y_train_valid[ind_train], y_train_valid[ind_valid]\n",
        "\n",
        "            if preprocess is not None:\n",
        "                x_valid,y_valid = preprocess(x_valid,y_valid)\n",
        "\n",
        "            self.datas = torch.from_numpy(x_valid)\n",
        "            self.labels = [int(i-769) for i in torch.from_numpy(y_valid)]\n",
        "\n",
        "        if self.split == 'test':\n",
        "            x_test = np.load(self.root_dir+\"X_test.npy\")\n",
        "            # x_test = test_data_prep(x_test_og)  # (2115, 1)  vals from 0-8 for participant\n",
        "            if preprocess is not None:\n",
        "                x_test = preprocess(x_test)\n",
        "            y_test = np.load(self.root_dir+\"y_test.npy\")  # (443, 1)\n",
        "            self.datas = torch.from_numpy(x_test)\n",
        "            self.labels = [int(i-769) for i in torch.from_numpy(y_test)]\n",
        "\n",
        "        ################# End of your Implementations ##########################\n",
        "\n",
        "    def __len__(self):\n",
        "        \"\"\"\n",
        "        Return the number of images in the dataset.\n",
        "\n",
        "        Returns:\n",
        "            int: Number of images in the dataset.\n",
        "        \"\"\"\n",
        "        dataset_len = 0\n",
        "        ################# Your Implementations #################################\n",
        "        # Return the number of images in the dataset\n",
        "        dataset_len = len(self.datas)\n",
        "        ################# End of your Implementations ##########################\n",
        "        return dataset_len\n",
        "\n",
        "    def __getitem__(self, idx):\n",
        "        \"\"\"\n",
        "        R10140    idx (int): Index of the image to retrieve.\n",
        "\n",
        "        Returns:\n",
        "            tuple: Tuple containing the image and its label.\n",
        "        \"\"\"\n",
        "        ################# Your Implementations #################################\n",
        "        # Load and preprocess image using self.root_dir,\n",
        "        # self.filenames[idx], and self.transform (if specified)\n",
        "\n",
        "        data = self.datas[idx]\n",
        "        label = self.labels[idx]\n",
        "\n",
        "        if self.transform:\n",
        "            data = self.transform(data)\n",
        "        ################# End of your Implementations ##########################\n",
        "        return data, label"
      ]
    },
    {
      "cell_type": "code",
      "execution_count": null,
      "metadata": {
        "id": "A3vS2Wp-2pgf",
        "cellView": "form"
      },
      "outputs": [],
      "source": [
        "# @title Convolution\n",
        "\n",
        "import torch\n",
        "import torch.nn as nn\n",
        "import torch.nn.functional as F\n",
        "from tqdm import tqdm\n",
        "\n",
        "class ConvBlock(nn.Module):\n",
        "    def __init__(self, input_size, output_size, kernel_size, dropout=0.6):\n",
        "        super().__init__()\n",
        "        padding = (kernel_size-1)//2\n",
        "        self.conv_block = nn.Sequential(\n",
        "            nn.Conv1d(in_channels=input_size, out_channels=output_size, kernel_size=kernel_size, padding=padding),\n",
        "            nn.ReLU(),\n",
        "            nn.MaxPool1d(kernel_size=3, padding=1),\n",
        "            nn.BatchNorm1d(output_size),\n",
        "            nn.Dropout(dropout)\n",
        "        )\n",
        "    def forward(self, x, **kwargs):\n",
        "        # keey the residual connection here\n",
        "        return self.conv_block.forward(x)\n",
        "\n",
        "class ResBlock(nn.Module):\n",
        "    def __init__(self, in_channels, out_channels, kernel_size = 3, downsample=False, dropout=0.6):\n",
        "        '''\n",
        "        Initialize a basic residual block.\n",
        "        Depending on whether downsample is True, there are two types of basic blocks in Resnet 18,\n",
        "        one to downsample the input and the other maintains the same size.\n",
        "        You can use Pytorch's functions.\n",
        "\n",
        "        Input and output shapes of each layer:\n",
        "        1) conv1 (3*3 kernel, no bias): (batch_size, in_channels, H, W) -> (batch_size, out_channels, H, W) if downsample=False\n",
        "           conv1 (3*3 kernel, no bias): (batch_size, in_channels, H, W) -> (batch_size, out_channels, H//2, W//2) if downsample=True, with stride of 2\n",
        "        2) conv2 (3*3 kernel, no bias): (batch_size, out_channels, H, W) -> (batch_size, out_channels, H, W)\n",
        "        3) conv3 (optional) if downsample=True (1*1 kernel, no bias): (batch_size, in_channels, H, W) -> (batch_size, out_channels, H//2, W//2) with stride of 2\n",
        "        '''\n",
        "        super().__init__()\n",
        "        ################# Your Implementations #################################\n",
        "        self.downsample = downsample\n",
        "        if (in_channels != out_channels):\n",
        "           self.downsample = True\n",
        "        self.kernel_size = kernel_size\n",
        "        self.dropout = dropout\n",
        "        # self.conv2 = nn.Conv2d(out_channels, out_channels, kernel_size=3, stride=1, bias=False, padding=1) #(128 - 3 + 2*1)//2 + 1\n",
        "        self.conv2 = nn.Sequential(\n",
        "                        nn.Conv1d(out_channels, out_channels, kernel_size = 3, stride = 1, padding = 1, bias=False),\n",
        "                        nn.BatchNorm1d(out_channels))\n",
        "        self.bn1 = nn.BatchNorm1d(out_channels)\n",
        "        self.bn2 = nn.BatchNorm1d(out_channels)\n",
        "        self.bn3 = nn.BatchNorm1d(out_channels)\n",
        "        self.relu = nn.ReLU()\n",
        "        self.relu2 = nn.ReLU()\n",
        "        if self.downsample:\n",
        "          self.conv1 = nn.Conv1d(in_channels, out_channels, kernel_size=3, stride=1, padding=1, bias=False) #(128 - 3 + 2*1)//2 + 1\n",
        "          self.conv3 = nn.Conv1d(in_channels, out_channels, kernel_size=1, stride=1, bias=False) #(128 - 3 + 2*1)//2 + 1\n",
        "        else:\n",
        "          self.conv1 = nn.Conv1d(in_channels, out_channels, kernel_size=3, stride=1, padding=1, bias=False) #(128 - 3 + 2*1)//2 + 1\n",
        "\n",
        "        ################# End of your Implementations ##########################\n",
        "\n",
        "    def forward(self, x):\n",
        "        \"\"\"\n",
        "        Forward pass of the basic residual block.\n",
        "        The input tensor 'x' should pass through the following layers:\n",
        "        1) conv1: (batch_size, in_channels, H, W) -> (batch_size, out_channels, H, W)\n",
        "           conv1: (batch_size, in_channels, H, W) -> (batch_size, out_channels, H//2, W//2) if downsample=True\n",
        "        2) Apply batch normalization after conv1.\n",
        "        3) Apply relu activation.\n",
        "        4) conv2: (batch_size, out_channels, H, W) -> (batch_size, out_channels, H, W)\n",
        "        5) Apply batch normalization after conv2.\n",
        "        6) (Optional) if downsample=True, conv3: (batch_size, in_channels, H, W) -> (batch_size, out_channels, H//2, W//2) on the original input\n",
        "        7) (Optional) if downsample=True, apply batch normalization after conv3.\n",
        "        8) Add the residual value to the original input\n",
        "        9) Apply relu activation in the end.\n",
        "        \"\"\"\n",
        "        ################# Your Implementations #################################\n",
        "        # TODO: Implement the forward pass of the basic residual block.\n",
        "        og=x\n",
        "        x = self.conv1(x)\n",
        "        x = self.bn1(x)\n",
        "        x = self.relu(x)\n",
        "        x = self.conv2(x)\n",
        "        x = self.bn2(x)\n",
        "        if self.downsample:\n",
        "          og = self.conv3(og)\n",
        "          og = self.bn3(og)\n",
        "        x += og\n",
        "        x =self.relu2(x)\n",
        "        x = nn.Dropout(self.dropout)(x)\n",
        "        ################# End of your Implementations ##########################\n",
        "        return x\n",
        "\n",
        "fc_block = lambda i, o : nn.Linear(i,o)\n",
        "\n",
        "\n"
      ]
    },
    {
      "cell_type": "code",
      "source": [
        "# @title test_data_prep2\n",
        "def test_data_prep2(X, sub_sample):\n",
        "\n",
        "    total_X = None\n",
        "\n",
        "\n",
        "    # Trimming the data (sample,22,1000) -> (sample,22,800)\n",
        "    X = X[:,:,0:1000]\n",
        "    print('Shape of X after trimming:',X.shape)\n",
        "\n",
        "    # Maxpooling the data (sample,22,800) -> (sample,22,800/sub_sample)\n",
        "    X_max = np.max(X.reshape(X.shape[0], X.shape[1], -1, sub_sample), axis=3)\n",
        "\n",
        "\n",
        "    total_X = X_max\n",
        "    print('Shape of X after maxpooling:',total_X.shape)\n",
        "\n",
        "    return total_X\n",
        "\n",
        "\n",
        "def train_data_prep2(X,y,sub_sample,average,noise):\n",
        "\n",
        "    total_X = None\n",
        "    total_y = None\n",
        "\n",
        "    # Trimming the data (sample,22,1000) -> (sample,22,800)\n",
        "    X = X[:,:,0:1000]\n",
        "    print('Shape of X after trimming:',X.shape)\n",
        "\n",
        "    # Maxpooling the data (sample,22,800) -> (sample,22,800/sub_sample)\n",
        "    X_max = np.max(X.reshape(X.shape[0], X.shape[1], -1, sub_sample), axis=3)\n",
        "\n",
        "\n",
        "    total_X = X_max\n",
        "    total_y = y\n",
        "    print('Shape of X after maxpooling:',total_X.shape)\n",
        "\n",
        "    # Averaging + noise\n",
        "    X_average = np.mean(X.reshape(X.shape[0], X.shape[1], -1, average),axis=3)\n",
        "    X_average = X_average + np.random.normal(0.0, 0.5, X_average.shape)\n",
        "\n",
        "    total_X = np.vstack((total_X, X_average))\n",
        "    total_y = np.hstack((total_y, y))\n",
        "    print('Shape of X after averaging+noise and concatenating:',total_X.shape)\n",
        "\n",
        "    # Subsampling\n",
        "\n",
        "    for i in range(sub_sample):\n",
        "\n",
        "        X_subsample = X[:, :, i::sub_sample] + \\\n",
        "                            (np.random.normal(0.0, 0.5, X[:, :,i::sub_sample].shape) if noise else 0.0)\n",
        "\n",
        "        total_X = np.vstack((total_X, X_subsample))\n",
        "        total_y = np.hstack((total_y, y))\n",
        "\n",
        "\n",
        "    print('Shape of X after subsampling and concatenating:',total_X.shape)\n",
        "    print('Shape of Y:',total_y.shape)\n",
        "    return total_X,total_y"
      ],
      "metadata": {
        "id": "v8fvhBBfDaj7"
      },
      "execution_count": null,
      "outputs": []
    },
    {
      "cell_type": "code",
      "execution_count": null,
      "metadata": {
        "id": "jaF0x0ZHGhep",
        "colab": {
          "base_uri": "https://localhost:8080/"
        },
        "outputId": "67b20a3a-99c0-4a20-a7b0-76821443c091"
      },
      "outputs": [
        {
          "output_type": "stream",
          "name": "stdout",
          "text": [
            "Shape of X after trimming: (1904, 22, 1000)\n",
            "Shape of X after maxpooling: (1904, 22, 500)\n",
            "Shape of X after averaging+noise and concatenating: (3808, 22, 500)\n",
            "Shape of X after subsampling and concatenating: (7616, 22, 500)\n",
            "Shape of Y: (7616,)\n",
            "Shape of X after trimming: (211, 22, 1000)\n",
            "Shape of X after maxpooling: (211, 22, 500)\n",
            "Shape of X after averaging+noise and concatenating: (422, 22, 500)\n",
            "Shape of X after subsampling and concatenating: (844, 22, 500)\n",
            "Shape of Y: (844,)\n",
            "Shape of X after trimming: (443, 22, 1000)\n",
            "Shape of X after maxpooling: (443, 22, 500)\n",
            "val split:  844\n",
            "train split:  7616\n"
          ]
        }
      ],
      "source": [
        "# @title Data loading\n",
        "data_root = \"../project_data/project/\"\n",
        "if GOOGLE:\n",
        "    data_root = \"/content/drive/MyDrive/project/\"\n",
        "data_transform =  lambda x: x.reshape(1,x.shape[0],x.shape[1]) # fft transformation\n",
        "data_transform = lambda x: abs(np.fft.fft(x))\n",
        "data_transform = lambda x : scale_high_freq(x, 0.06, 0.4)\n",
        "data_transform =  lambda x: x.reshape(1, x.shape[0],x.shape[1]).permute(1,2,0) # tonmoyfication2\n",
        "data_transform =  lambda x: (x.reshape(1, x.shape[0],x.shape[1]))[:,0:18,:]\n",
        "preprocess = lambda x,y:train_data_prep2(x,y,2,2,True)\n",
        "# Create eeg dataset object\n",
        "eeg_train = EEG_Data(data_root,\n",
        "                              split='train',\n",
        "                              preprocess=preprocess,\n",
        "                              transform=data_transform)\n",
        "\n",
        "eeg_val = EEG_Data(data_root,\n",
        "                            split='val',\n",
        "                            preprocess=preprocess,\n",
        "                            transform=data_transform)\n",
        "eeg_test = EEG_Data(data_root,\n",
        "                            split='test',\n",
        "                            preprocess=lambda x:test_data_prep2(x, 2),\n",
        "                            transform=data_transform)\n",
        "print(\"val split: \", len(eeg_val))\n",
        "print(\"train split: \", len(eeg_train))\n",
        "# Create the dataloaders\n",
        "# Define the batch size and number of workers\n",
        "batch_size = 64\n",
        "num_workers=2\n",
        "# Create DataLoader for training and validation sets\n",
        "train_loader = DataLoader(eeg_train,\n",
        "                          batch_size=batch_size,\n",
        "                          num_workers=num_workers,\n",
        "                        shuffle=True)\n",
        "val_loader = DataLoader(eeg_val,\n",
        "                        batch_size=batch_size,\n",
        "                        num_workers=num_workers,\n",
        "                        shuffle=False)\n",
        "test_loader = DataLoader(eeg_test,\n",
        "                        batch_size=batch_size,\n",
        "                        num_workers=num_workers,\n",
        "                        shuffle=False)"
      ]
    },
    {
      "cell_type": "code",
      "source": [
        "print(eeg_train[0][0].shape)\n",
        "print(eeg_train[0][0][:,0:18,:].shape)"
      ],
      "metadata": {
        "colab": {
          "base_uri": "https://localhost:8080/"
        },
        "id": "1J-g3Rhb4dzC",
        "outputId": "6cca66e9-db5b-4e4d-82f2-238c32695dde"
      },
      "execution_count": null,
      "outputs": [
        {
          "output_type": "stream",
          "name": "stdout",
          "text": [
            "torch.Size([1, 22, 500])\n",
            "torch.Size([1, 18, 500])\n"
          ]
        }
      ]
    },
    {
      "cell_type": "code",
      "execution_count": null,
      "metadata": {
        "cellView": "form",
        "id": "XjuTS9vuo-Za"
      },
      "outputs": [],
      "source": [
        "# @title resnet\n",
        "resnet =  nn.Sequential(\n",
        "    ConvBlock(22,25,2,0),\n",
        "    ConvBlock(25,50,5,0),\n",
        "    ResBlock(50,128,5,0),\n",
        "    nn.Flatten(start_dim=1),\n",
        "    fc_block(5760, 500),\n",
        "    nn.ReLU(),\n",
        "    fc_block(500, 40),\n",
        "    nn.ReLU(),\n",
        "    fc_block(40,4)\n",
        ")"
      ]
    },
    {
      "cell_type": "code",
      "execution_count": null,
      "metadata": {
        "id": "AP2YeitLo-Za"
      },
      "outputs": [],
      "source": [
        "# @title resnetv2\n",
        "\n",
        "resnetv2 =  nn.Sequential(\n",
        "    nn.Conv1d(in_channels=22, out_channels=64, kernel_size=3, stride=1, padding=1),\n",
        "    nn.ReLU(),\n",
        "    nn.MaxPool1d(kernel_size=2),\n",
        "    nn.BatchNorm1d(64),\n",
        "    nn.Conv1d(in_channels=64, out_channels=128, kernel_size=3, stride=1, padding=1),\n",
        "    nn.ReLU(),\n",
        "    nn.MaxPool1d(kernel_size=2),\n",
        "    nn.BatchNorm1d(128),\n",
        "    ResBlock(128,256,3,0),\n",
        "    nn.MaxPool1d(kernel_size=2),\n",
        "    nn.ReLU(),\n",
        "    nn.BatchNorm1d(256),\n",
        "    nn.Flatten(start_dim=1),\n",
        "    fc_block(12800, 512),\n",
        "    nn.ReLU(),\n",
        "    fc_block(512,4)\n",
        ")\n"
      ]
    },
    {
      "cell_type": "code",
      "source": [
        "resnetv21 =  nn.Sequential(\n",
        "    nn.Conv1d(in_channels=22, out_channels=64, kernel_size=3, stride=1, padding=1),\n",
        "    nn.ReLU(),\n",
        "    nn.BatchNorm1d(64),\n",
        "    nn.Dropout(0.8),\n",
        "    nn.Conv1d(in_channels=64, out_channels=128, kernel_size=3, stride=1, padding=1),\n",
        "    nn.ReLU(),\n",
        "    nn.BatchNorm1d(128),\n",
        "    nn.Dropout(0.8),\n",
        "    ResBlock(128,256,3,0.8),\n",
        "    nn.AvgPool1d(3, stride=2),\n",
        "    nn.Flatten(start_dim=1),\n",
        "    nn.Linear(127744,40),\n",
        "    nn.ReLU(),\n",
        "    nn.BatchNorm1d(40),\n",
        "    nn.Linear(40,4)\n",
        ")"
      ],
      "metadata": {
        "id": "CctBNFEYQddO"
      },
      "execution_count": null,
      "outputs": []
    },
    {
      "cell_type": "code",
      "execution_count": null,
      "metadata": {
        "id": "F-zVw5UwEtrK",
        "cellView": "form"
      },
      "outputs": [],
      "source": [
        "# @title convnet3\n",
        "\n",
        "convnet3 =  nn.Sequential(\n",
        "    nn.Conv1d(in_channels=22, out_channels=20, kernel_size=2, padding=1, dilation=1),\n",
        "    nn.ReLU(),\n",
        "    nn.BatchNorm1d(20),\n",
        "    nn.Dropout(0.6),\n",
        "    nn.Conv1d(in_channels=20, out_channels=20, kernel_size=2, padding=1, dilation=2),\n",
        "    nn.ReLU(),\n",
        "    nn.BatchNorm1d(20),\n",
        "    nn.Dropout(0.6),\n",
        "    nn.Conv1d(in_channels=20, out_channels=20, kernel_size=2, padding=1, dilation=4),\n",
        "    nn.ReLU(),\n",
        "    nn.BatchNorm1d(20),\n",
        "    nn.Dropout(0.6),\n",
        "    nn.Conv1d(in_channels=20, out_channels=20, kernel_size=2, padding=1, dilation=8),\n",
        "    nn.ReLU(),\n",
        "    nn.BatchNorm1d(20),\n",
        "    nn.Dropout(0.6),\n",
        "    nn.Flatten(start_dim=1),\n",
        "    fc_block(19860, 40),\n",
        "    nn.BatchNorm1d(40),\n",
        "    nn.ReLU(),\n",
        "    fc_block(40,4)\n",
        ")\n"
      ]
    },
    {
      "cell_type": "code",
      "execution_count": null,
      "metadata": {
        "id": "mh4iWDvMK1pV",
        "cellView": "form"
      },
      "outputs": [],
      "source": [
        "# @title convnet4\n",
        "convnet4 =  nn.Sequential(\n",
        "    nn.Conv1d(in_channels=22, out_channels=20, kernel_size=2, padding=1, dilation=1),\n",
        "    nn.ReLU(),\n",
        "    nn.Conv1d(in_channels=20, out_channels=20, kernel_size=2, padding=1, dilation=2),\n",
        "    nn.ReLU(),\n",
        "    nn.Conv1d(in_channels=20, out_channels=20, kernel_size=2, padding=1, dilation=4),\n",
        "    nn.ReLU(),\n",
        "    nn.Conv1d(in_channels=20, out_channels=20, kernel_size=2, padding=1, dilation=8),\n",
        "    nn.ReLU(),\n",
        "    nn.Conv1d(in_channels=20, out_channels=20, kernel_size=2, padding=1, dilation=16),\n",
        "    nn.ReLU(),\n",
        "    nn.Conv1d(in_channels=20, out_channels=20, kernel_size=2, padding=1, dilation=32),\n",
        "    nn.ReLU(),\n",
        "    nn.Conv1d(in_channels=20, out_channels=20, kernel_size=2, padding=1, dilation=64),\n",
        "    nn.ReLU(),\n",
        "    nn.Conv1d(in_channels=20, out_channels=20, kernel_size=2, padding=1, dilation=128),\n",
        "    nn.ReLU(),\n",
        "    nn.Conv1d(in_channels=20, out_channels=20, kernel_size=2, padding=1, dilation=256),\n",
        "    nn.ReLU(),\n",
        "    nn.Flatten(start_dim=1),\n",
        "    fc_block(10140, 40),\n",
        "    nn.BatchNorm1d(40),\n",
        "    nn.ReLU(),\n",
        "    fc_block(40,4)\n",
        ")"
      ]
    },
    {
      "cell_type": "code",
      "execution_count": null,
      "metadata": {
        "id": "v3wRnrimL9g3",
        "cellView": "form"
      },
      "outputs": [],
      "source": [
        "# @title convnet5\n",
        "convnet5 =  nn.Sequential(\n",
        "    nn.Conv1d(in_channels=22, out_channels=22, kernel_size=2, padding=0), # 500\n",
        "    nn.ReLU(),\n",
        "    nn.Conv1d(in_channels=22, out_channels=22, kernel_size=4, padding=0), # 250\n",
        "    nn.ReLU(),\n",
        "    nn.Conv1d(in_channels=22, out_channels=22, kernel_size=8, padding=0), # 125\n",
        "    nn.ReLU(),\n",
        "    nn.Conv1d(in_channels=22, out_channels=22, kernel_size=1, padding=0), # ??\n",
        "    nn.ReLU(),\n",
        "    nn.Conv1d(in_channels=22, out_channels=22, kernel_size=1, padding=0), # ??\n",
        "    nn.ReLU(),\n",
        "    nn.Flatten(start_dim=1),\n",
        "    fc_block(8558, 40),\n",
        "    nn.BatchNorm1d(40),\n",
        "    nn.ReLU(),\n",
        "    fc_block(40,4)\n",
        ")\n"
      ]
    },
    {
      "cell_type": "code",
      "execution_count": null,
      "metadata": {
        "cellView": "form",
        "id": "xsg3lojWo-ZZ"
      },
      "outputs": [],
      "source": [
        "# @title LSTMClassifier\n",
        "\n",
        "class LSTMClassifier(nn.Module):\n",
        "    \"\"\"Very simple implementation of LSTM-based time-series classifier.\"\"\"\n",
        "\n",
        "    def __init__(self, input_dim, hidden_dim, layer_dim, output_dim):\n",
        "        super().__init__()\n",
        "        self.hidden_dim = hidden_dim\n",
        "        self.layer_dim = layer_dim\n",
        "        self.rnn = nn.LSTM(input_dim, hidden_dim, layer_dim, batch_first=True)\n",
        "        self.fc = nn.Linear(hidden_dim, output_dim)\n",
        "        self.batch_size = None\n",
        "        self.hidden = None\n",
        "\n",
        "    def forward(self, x):\n",
        "        x = x.permute(0,2,1)\n",
        "        h0, c0 = self.init_hidden(x)\n",
        "        out, (hn, cn) = self.rnn(x, (h0, c0))\n",
        "        out = self.fc(out[:, -1, :])\n",
        "        return out\n",
        "\n",
        "    def init_hidden(self, x):\n",
        "        h0 = torch.zeros(self.layer_dim, x.size(0), self.hidden_dim)\n",
        "        c0 = torch.zeros(self.layer_dim, x.size(0), self.hidden_dim)\n",
        "        return [t.cuda() for t in (h0, c0)]\n"
      ]
    },
    {
      "cell_type": "code",
      "execution_count": null,
      "metadata": {
        "id": "wvIASDtdo-Zb",
        "cellView": "form"
      },
      "outputs": [],
      "source": [
        "# @title lstmnet\n",
        "lstmnet =  nn.Sequential(\n",
        "    nn.Conv1d(in_channels=22, out_channels=64, kernel_size=3, stride=1, padding=1),\n",
        "    nn.ReLU(),\n",
        "    nn.BatchNorm1d(64),\n",
        "    nn.Conv1d(in_channels=64, out_channels=128, kernel_size=3, stride=1, padding=1),\n",
        "    nn.ReLU(),\n",
        "    nn.BatchNorm1d(128),\n",
        "    ResBlock(128,256,3,0),\n",
        "    nn.ReLU(),\n",
        "    nn.BatchNorm1d(256),\n",
        "    nn.AvgPool1d(3, stride=2),\n",
        "    nn.Flatten(start_dim=1),\n",
        "    nn.Linear(127744,40),\n",
        "    nn.ReLU(),\n",
        "    nn.Linear(40,4)\n",
        ")"
      ]
    },
    {
      "cell_type": "code",
      "execution_count": null,
      "metadata": {
        "id": "Tr51Vp42sAxa",
        "cellView": "form"
      },
      "outputs": [],
      "source": [
        "# @title LSTMBlock\n",
        "class LSTMBlock(nn.Module):\n",
        "    def __init__(self, input_size, hidden_layer_dim, hidden_layer):\n",
        "        super().__init__()\n",
        "        self.LSTM = nn.LSTM(input_size, hidden_layer_dim, hidden_layer)\n",
        "\n",
        "    def forward(self, x, **kwargs):\n",
        "        # keey the residual connection here\n",
        "        # x=x.reshape(x.shape[0],1, x.shape[1])\n",
        "        out, (hn, cn) = self.LSTM(x)\n",
        "        return out\n"
      ]
    },
    {
      "cell_type": "code",
      "execution_count": null,
      "metadata": {
        "id": "Kw5FFIDRa5Cp",
        "cellView": "form"
      },
      "outputs": [],
      "source": [
        "# @title convnet\n",
        "convnet =  nn.Sequential(\n",
        "    ConvBlock(22,25,5),\n",
        "    ConvBlock(25,50,5),\n",
        "    ConvBlock(50,100,5),\n",
        "    ConvBlock(100,200,5),\n",
        "    nn.Flatten(start_dim=1),\n",
        "    fc_block(2600, 40),\n",
        "    nn.BatchNorm1d(40),\n",
        "    nn.ReLU(),\n",
        "    LSTMBlock(40, 10, 2),\n",
        "    fc_block(10,4)\n",
        ")\n",
        "\n"
      ]
    },
    {
      "cell_type": "code",
      "source": [
        "# @title HybridCNNLSTMModel\n",
        "class HybridCNNLSTMModel(nn.Module):\n",
        "    def __init__(self):\n",
        "        super(HybridCNNLSTMModel, self).__init__()\n",
        "\n",
        "        # Conv. block 1\n",
        "        self.conv1 = nn.Conv2d(in_channels=22, out_channels=25, kernel_size=(5,5), padding='same')\n",
        "        self.pool1 = nn.AvgPool2d(kernel_size=(3,1), stride=(3,1), padding=(1,0))\n",
        "        self.norm1 = nn.BatchNorm2d(25)\n",
        "        self.dropout1 = nn.Dropout(0.6)\n",
        "\n",
        "        # Conv. block 2\n",
        "        self.conv2 = nn.Conv2d(in_channels=25, out_channels=50, kernel_size=(5,5), padding='same')\n",
        "        self.pool2 = nn.AvgPool2d(kernel_size=(3,1), stride=(3,1), padding=(1,0))\n",
        "        self.norm2 = nn.BatchNorm2d(50)\n",
        "        self.dropout2 = nn.Dropout(0.6)\n",
        "\n",
        "        # Conv. block 3\n",
        "        self.conv3 = nn.Conv2d(in_channels=50, out_channels=100, kernel_size=(5,5), padding='same')\n",
        "        self.pool3 = nn.AvgPool2d(kernel_size=(3,1), stride=(3,1), padding=(1,0))\n",
        "        self.norm3 = nn.BatchNorm2d(100)\n",
        "        self.dropout3 = nn.Dropout(0.6)\n",
        "\n",
        "        # Conv. block 4\n",
        "        self.conv4 = nn.Conv2d(in_channels=100, out_channels=200, kernel_size=(5,5), padding='same')\n",
        "        self.pool4 = nn.AvgPool2d(kernel_size=(3,1), stride=(3,1), padding=(1,0))\n",
        "        self.norm4 = nn.BatchNorm2d(200)\n",
        "        self.dropout4 = nn.Dropout(0.6)\n",
        "\n",
        "        # FC+LSTM layers\n",
        "        self.flatten = nn.Flatten()\n",
        "        self.dense = nn.Linear(200400, 40) # Adjust the input features according to your input size and architecture\n",
        "        self.lstm = nn.LSTM(input_size=1, hidden_size=10, batch_first=True, dropout=0.4)\n",
        "\n",
        "        # Output layer\n",
        "        self.output = nn.Linear(10, 4) # Assuming the LSTM does not return sequences\n",
        "\n",
        "    def forward(self, x):\n",
        "        x = F.elu(self.conv1(x))\n",
        "        x = self.pool1(x)\n",
        "        x = self.norm1(x)\n",
        "        x = self.dropout1(x)\n",
        "\n",
        "        x = F.elu(self.conv2(x))\n",
        "        x = self.pool2(x)\n",
        "        x = self.norm2(x)\n",
        "        x = self.dropout2(x)\n",
        "\n",
        "        x = F.elu(self.conv3(x))\n",
        "        x = self.pool3(x)\n",
        "        x = self.norm3(x)\n",
        "        x = self.dropout3(x)\n",
        "\n",
        "        x = F.elu(self.conv4(x))\n",
        "        x = self.pool4(x)\n",
        "        x = self.norm4(x)\n",
        "        x = self.dropout4(x)\n",
        "\n",
        "        x = self.flatten(x)\n",
        "        x = self.dense(x)\n",
        "        x = x.view(-1, 40, 1) # Reshape for LSTM\n",
        "\n",
        "        x, (hn, cn) = self.lstm(x)\n",
        "        x = self.output(x[:, -1, :]) # Get the last sequence output for classification\n",
        "        return x"
      ],
      "metadata": {
        "cellView": "form",
        "id": "7LX59hOzbCOg"
      },
      "execution_count": null,
      "outputs": []
    },
    {
      "cell_type": "code",
      "source": [
        "# This is EEGNet from https://arxiv.org/abs/1611.08024\n",
        "\n",
        "class EEGNet(nn.Module):\n",
        "    def __init__(self):\n",
        "        super(EEGNet, self).__init__()\n",
        "\n",
        "        self.F1 = 8\n",
        "        self.F2 = 16\n",
        "        self.D = 2\n",
        "\n",
        "        # Conv2d(in,out,kernel,stride,padding,bias)\n",
        "        self.conv1 = nn.Sequential(\n",
        "            nn.Conv2d(1, self.F1, (1, 64), padding=(0, 32), bias=False),\n",
        "            nn.BatchNorm2d(self.F1)\n",
        "        )\n",
        "\n",
        "        self.conv2 = nn.Sequential(\n",
        "            nn.Conv2d(self.F1, self.D*self.F1, (18, 1), groups=self.F1, bias=False),\n",
        "            nn.BatchNorm2d(self.D*self.F1),\n",
        "            nn.ELU(),\n",
        "            nn.AvgPool2d((1, 4)),\n",
        "            nn.Dropout(0.5)\n",
        "        )\n",
        "\n",
        "        self.Conv3 = nn.Sequential(\n",
        "            nn.Conv2d(self.D*self.F1, self.D*self.F1, (1, 16), padding=(0, 8), groups=self.D*self.F1, bias=False),\n",
        "            nn.Conv2d(self.D*self.F1, self.F2, (1, 1), bias=False),\n",
        "            nn.BatchNorm2d(self.F2),\n",
        "            nn.ELU(),\n",
        "            nn.AvgPool2d((1, 8)),\n",
        "            nn.Dropout(0.5)\n",
        "        )\n",
        "        self.flatten = nn.Flatten(start_dim=1)\n",
        "        self.classifier = nn.Linear(240, 4, bias=True)\n",
        "\n",
        "    def forward(self, x):\n",
        "\n",
        "        x = self.conv1(x)\n",
        "        x = self.conv2(x)\n",
        "        x = self.Conv3(x)\n",
        "\n",
        "        x = self.flatten(x)\n",
        "        x = self.classifier(x)\n",
        "        return x\n"
      ],
      "metadata": {
        "id": "-VvgzKSCh_zs"
      },
      "execution_count": null,
      "outputs": []
    },
    {
      "cell_type": "code",
      "source": [
        "# @title TonmoyNN\n",
        "\n",
        "# @title resnetv2\n",
        "\n",
        "tonmoy =  nn.Sequential(\n",
        "    nn.Conv2d(in_channels=22, out_channels=32, kernel_size=3, stride=1, padding=1),\n",
        "    # nn.MaxPool2d(kernel_size=(3,1),padding=(1,0)),\n",
        "    nn.ReLU(),\n",
        "    nn.Dropout(0.6),\n",
        "    nn.BatchNorm2d(32),\n",
        "    nn.MaxPool2d(kernel_size=(3,1),padding=(1,0)),\n",
        "    nn.Conv2d(in_channels=32, out_channels=64, kernel_size=3, stride=1, padding=1),\n",
        "    nn.Dropout(0.6),\n",
        "    nn.BatchNorm2d(64),\n",
        "    nn.MaxPool2d(kernel_size=(3,1),padding=(1,0)),\n",
        "    nn.Conv2d(in_channels=64, out_channels=128, kernel_size=3, stride=1, padding=1),\n",
        "    nn.BatchNorm2d(128),\n",
        "    # nn.MaxPool2d(kernel_size=(3,1),padding=(1,0)),\n",
        "    # nn.MaxPool2d(kernel_size=(3,1),padding=(1,0)),\n",
        "    # nn.MaxPool2d(kernel_size=(3,2),padding=(1,0)),\n",
        "    nn.MaxPool2d(kernel_size=(2,3),padding=(0,1)),\n",
        "    nn.Flatten(start_dim=1),\n",
        "    # LSTMBlock(80000, 22, 10),\n",
        "    fc_block(7168, 22),\n",
        "    nn.ReLU(),\n",
        "    fc_block(22, 4),\n",
        ")\n"
      ],
      "metadata": {
        "cellView": "form",
        "id": "sN9SxnjH4sie"
      },
      "execution_count": null,
      "outputs": []
    },
    {
      "cell_type": "code",
      "execution_count": null,
      "metadata": {
        "colab": {
          "base_uri": "https://localhost:8080/"
        },
        "id": "MafiXWN0EdYv",
        "outputId": "5eb43e6e-1b55-4655-92ca-146b294ff33e"
      },
      "outputs": [
        {
          "output_type": "stream",
          "name": "stderr",
          "text": [
            "Epoch 1/60: 100%|██████████| 119/119 [00:03<00:00, 38.17it/s, loss=1.21]\n"
          ]
        },
        {
          "output_type": "stream",
          "name": "stdout",
          "text": [
            "Validation set: Average loss = 1.2793, Accuracy = 0.4289\n"
          ]
        },
        {
          "output_type": "stream",
          "name": "stderr",
          "text": [
            "Epoch 2/60: 100%|██████████| 119/119 [00:01<00:00, 62.38it/s, loss=1.11]\n"
          ]
        },
        {
          "output_type": "stream",
          "name": "stdout",
          "text": [
            "Validation set: Average loss = 1.1877, Accuracy = 0.4515\n"
          ]
        },
        {
          "output_type": "stream",
          "name": "stderr",
          "text": [
            "Epoch 3/60: 100%|██████████| 119/119 [00:01<00:00, 65.21it/s, loss=1.23]\n"
          ]
        },
        {
          "output_type": "stream",
          "name": "stdout",
          "text": [
            "Validation set: Average loss = 1.1205, Accuracy = 0.5147\n"
          ]
        },
        {
          "output_type": "stream",
          "name": "stderr",
          "text": [
            "Epoch 4/60: 100%|██████████| 119/119 [00:01<00:00, 69.80it/s, loss=0.972]\n"
          ]
        },
        {
          "output_type": "stream",
          "name": "stdout",
          "text": [
            "Validation set: Average loss = 1.0835, Accuracy = 0.5214\n"
          ]
        },
        {
          "output_type": "stream",
          "name": "stderr",
          "text": [
            "Epoch 5/60: 100%|██████████| 119/119 [00:01<00:00, 68.23it/s, loss=0.997]\n"
          ]
        },
        {
          "output_type": "stream",
          "name": "stdout",
          "text": [
            "Validation set: Average loss = 1.0455, Accuracy = 0.5779\n"
          ]
        },
        {
          "output_type": "stream",
          "name": "stderr",
          "text": [
            "Epoch 6/60: 100%|██████████| 119/119 [00:01<00:00, 67.04it/s, loss=0.992]\n"
          ]
        },
        {
          "output_type": "stream",
          "name": "stdout",
          "text": [
            "Validation set: Average loss = 1.0219, Accuracy = 0.5711\n"
          ]
        },
        {
          "output_type": "stream",
          "name": "stderr",
          "text": [
            "Epoch 7/60: 100%|██████████| 119/119 [00:02<00:00, 47.66it/s, loss=0.952]\n"
          ]
        },
        {
          "output_type": "stream",
          "name": "stdout",
          "text": [
            "Validation set: Average loss = 1.0023, Accuracy = 0.5779\n"
          ]
        },
        {
          "output_type": "stream",
          "name": "stderr",
          "text": [
            "Epoch 8/60: 100%|██████████| 119/119 [00:02<00:00, 57.74it/s, loss=0.955]\n"
          ]
        },
        {
          "output_type": "stream",
          "name": "stdout",
          "text": [
            "Validation set: Average loss = 0.9743, Accuracy = 0.6095\n"
          ]
        },
        {
          "output_type": "stream",
          "name": "stderr",
          "text": [
            "Epoch 9/60: 100%|██████████| 119/119 [00:01<00:00, 69.50it/s, loss=1.03]\n"
          ]
        },
        {
          "output_type": "stream",
          "name": "stdout",
          "text": [
            "Validation set: Average loss = 0.9339, Accuracy = 0.6321\n"
          ]
        },
        {
          "output_type": "stream",
          "name": "stderr",
          "text": [
            "Epoch 10/60: 100%|██████████| 119/119 [00:01<00:00, 71.32it/s, loss=1.1]\n"
          ]
        },
        {
          "output_type": "stream",
          "name": "stdout",
          "text": [
            "Validation set: Average loss = 0.9288, Accuracy = 0.6163\n"
          ]
        },
        {
          "output_type": "stream",
          "name": "stderr",
          "text": [
            "Epoch 11/60: 100%|██████████| 119/119 [00:02<00:00, 55.33it/s, loss=0.922]\n"
          ]
        },
        {
          "output_type": "stream",
          "name": "stdout",
          "text": [
            "Validation set: Average loss = 0.8981, Accuracy = 0.6614\n"
          ]
        },
        {
          "output_type": "stream",
          "name": "stderr",
          "text": [
            "Epoch 12/60: 100%|██████████| 119/119 [00:01<00:00, 68.14it/s, loss=1.22]\n"
          ]
        },
        {
          "output_type": "stream",
          "name": "stdout",
          "text": [
            "Validation set: Average loss = 0.8926, Accuracy = 0.6569\n"
          ]
        },
        {
          "output_type": "stream",
          "name": "stderr",
          "text": [
            "Epoch 13/60: 100%|██████████| 119/119 [00:02<00:00, 47.38it/s, loss=0.856]\n"
          ]
        },
        {
          "output_type": "stream",
          "name": "stdout",
          "text": [
            "Validation set: Average loss = 0.9190, Accuracy = 0.6298\n"
          ]
        },
        {
          "output_type": "stream",
          "name": "stderr",
          "text": [
            "Epoch 14/60: 100%|██████████| 119/119 [00:02<00:00, 54.88it/s, loss=0.927]\n"
          ]
        },
        {
          "output_type": "stream",
          "name": "stdout",
          "text": [
            "Validation set: Average loss = 0.8917, Accuracy = 0.6569\n"
          ]
        },
        {
          "output_type": "stream",
          "name": "stderr",
          "text": [
            "Epoch 15/60: 100%|██████████| 119/119 [00:01<00:00, 69.47it/s, loss=0.915]\n"
          ]
        },
        {
          "output_type": "stream",
          "name": "stdout",
          "text": [
            "Validation set: Average loss = 0.8824, Accuracy = 0.6479\n"
          ]
        },
        {
          "output_type": "stream",
          "name": "stderr",
          "text": [
            "Epoch 16/60: 100%|██████████| 119/119 [00:01<00:00, 69.37it/s, loss=0.857]\n"
          ]
        },
        {
          "output_type": "stream",
          "name": "stdout",
          "text": [
            "Validation set: Average loss = 0.8860, Accuracy = 0.6659\n"
          ]
        },
        {
          "output_type": "stream",
          "name": "stderr",
          "text": [
            "Epoch 17/60: 100%|██████████| 119/119 [00:01<00:00, 70.29it/s, loss=0.969]\n"
          ]
        },
        {
          "output_type": "stream",
          "name": "stdout",
          "text": [
            "Validation set: Average loss = 0.8810, Accuracy = 0.6479\n"
          ]
        },
        {
          "output_type": "stream",
          "name": "stderr",
          "text": [
            "Epoch 18/60: 100%|██████████| 119/119 [00:02<00:00, 51.27it/s, loss=0.722]\n"
          ]
        },
        {
          "output_type": "stream",
          "name": "stdout",
          "text": [
            "Validation set: Average loss = 0.8664, Accuracy = 0.6591\n"
          ]
        },
        {
          "output_type": "stream",
          "name": "stderr",
          "text": [
            "Epoch 19/60: 100%|██████████| 119/119 [00:02<00:00, 49.02it/s, loss=0.665]\n"
          ]
        },
        {
          "output_type": "stream",
          "name": "stdout",
          "text": [
            "Validation set: Average loss = 0.8609, Accuracy = 0.6704\n"
          ]
        },
        {
          "output_type": "stream",
          "name": "stderr",
          "text": [
            "Epoch 20/60: 100%|██████████| 119/119 [00:02<00:00, 55.65it/s, loss=0.768]\n"
          ]
        },
        {
          "output_type": "stream",
          "name": "stdout",
          "text": [
            "Validation set: Average loss = 0.8670, Accuracy = 0.6772\n"
          ]
        },
        {
          "output_type": "stream",
          "name": "stderr",
          "text": [
            "Epoch 21/60: 100%|██████████| 119/119 [00:01<00:00, 68.57it/s, loss=0.921]\n"
          ]
        },
        {
          "output_type": "stream",
          "name": "stdout",
          "text": [
            "Validation set: Average loss = 0.8586, Accuracy = 0.6659\n"
          ]
        },
        {
          "output_type": "stream",
          "name": "stderr",
          "text": [
            "Epoch 22/60: 100%|██████████| 119/119 [00:01<00:00, 68.43it/s, loss=0.795]\n"
          ]
        },
        {
          "output_type": "stream",
          "name": "stdout",
          "text": [
            "Validation set: Average loss = 0.8715, Accuracy = 0.6795\n"
          ]
        },
        {
          "output_type": "stream",
          "name": "stderr",
          "text": [
            "Epoch 23/60: 100%|██████████| 119/119 [00:01<00:00, 70.54it/s, loss=0.892]\n"
          ]
        },
        {
          "output_type": "stream",
          "name": "stdout",
          "text": [
            "Validation set: Average loss = 0.8676, Accuracy = 0.6479\n"
          ]
        },
        {
          "output_type": "stream",
          "name": "stderr",
          "text": [
            "Epoch 24/60: 100%|██████████| 119/119 [00:01<00:00, 70.64it/s, loss=0.91]\n"
          ]
        },
        {
          "output_type": "stream",
          "name": "stdout",
          "text": [
            "Validation set: Average loss = 0.8460, Accuracy = 0.6772\n"
          ]
        },
        {
          "output_type": "stream",
          "name": "stderr",
          "text": [
            "Epoch 25/60: 100%|██████████| 119/119 [00:02<00:00, 56.16it/s, loss=0.899]\n"
          ]
        },
        {
          "output_type": "stream",
          "name": "stdout",
          "text": [
            "Validation set: Average loss = 0.8604, Accuracy = 0.6591\n"
          ]
        },
        {
          "output_type": "stream",
          "name": "stderr",
          "text": [
            "Epoch 26/60: 100%|██████████| 119/119 [00:02<00:00, 49.80it/s, loss=0.782]\n"
          ]
        },
        {
          "output_type": "stream",
          "name": "stdout",
          "text": [
            "Validation set: Average loss = 0.8477, Accuracy = 0.6704\n"
          ]
        },
        {
          "output_type": "stream",
          "name": "stderr",
          "text": [
            "Epoch 27/60: 100%|██████████| 119/119 [00:01<00:00, 65.41it/s, loss=0.884]\n"
          ]
        },
        {
          "output_type": "stream",
          "name": "stdout",
          "text": [
            "Validation set: Average loss = 0.8404, Accuracy = 0.6930\n"
          ]
        },
        {
          "output_type": "stream",
          "name": "stderr",
          "text": [
            "Epoch 28/60: 100%|██████████| 119/119 [00:01<00:00, 70.38it/s, loss=0.859]\n"
          ]
        },
        {
          "output_type": "stream",
          "name": "stdout",
          "text": [
            "Validation set: Average loss = 0.8524, Accuracy = 0.6772\n"
          ]
        },
        {
          "output_type": "stream",
          "name": "stderr",
          "text": [
            "Epoch 29/60: 100%|██████████| 119/119 [00:01<00:00, 69.70it/s, loss=0.706]\n"
          ]
        },
        {
          "output_type": "stream",
          "name": "stdout",
          "text": [
            "Validation set: Average loss = 0.8766, Accuracy = 0.6591\n"
          ]
        },
        {
          "output_type": "stream",
          "name": "stderr",
          "text": [
            "Epoch 30/60: 100%|██████████| 119/119 [00:01<00:00, 67.75it/s, loss=0.753]\n"
          ]
        },
        {
          "output_type": "stream",
          "name": "stdout",
          "text": [
            "Validation set: Average loss = 0.8352, Accuracy = 0.6907\n"
          ]
        },
        {
          "output_type": "stream",
          "name": "stderr",
          "text": [
            "Epoch 31/60: 100%|██████████| 119/119 [00:01<00:00, 66.57it/s, loss=0.754]\n"
          ]
        },
        {
          "output_type": "stream",
          "name": "stdout",
          "text": [
            "Validation set: Average loss = 0.8549, Accuracy = 0.6772\n"
          ]
        },
        {
          "output_type": "stream",
          "name": "stderr",
          "text": [
            "Epoch 32/60: 100%|██████████| 119/119 [00:02<00:00, 46.88it/s, loss=0.896]\n"
          ]
        },
        {
          "output_type": "stream",
          "name": "stdout",
          "text": [
            "Validation set: Average loss = 0.8401, Accuracy = 0.6795\n"
          ]
        },
        {
          "output_type": "stream",
          "name": "stderr",
          "text": [
            "Epoch 33/60: 100%|██████████| 119/119 [00:01<00:00, 67.32it/s, loss=0.814]\n"
          ]
        },
        {
          "output_type": "stream",
          "name": "stdout",
          "text": [
            "Validation set: Average loss = 0.8642, Accuracy = 0.6591\n"
          ]
        },
        {
          "output_type": "stream",
          "name": "stderr",
          "text": [
            "Epoch 34/60: 100%|██████████| 119/119 [00:01<00:00, 68.74it/s, loss=0.783]\n"
          ]
        },
        {
          "output_type": "stream",
          "name": "stdout",
          "text": [
            "Validation set: Average loss = 0.8587, Accuracy = 0.6795\n"
          ]
        },
        {
          "output_type": "stream",
          "name": "stderr",
          "text": [
            "Epoch 35/60: 100%|██████████| 119/119 [00:01<00:00, 68.22it/s, loss=0.975]\n"
          ]
        },
        {
          "output_type": "stream",
          "name": "stdout",
          "text": [
            "Validation set: Average loss = 0.8391, Accuracy = 0.6885\n"
          ]
        },
        {
          "output_type": "stream",
          "name": "stderr",
          "text": [
            "Epoch 36/60: 100%|██████████| 119/119 [00:01<00:00, 67.45it/s, loss=0.722]\n"
          ]
        },
        {
          "output_type": "stream",
          "name": "stdout",
          "text": [
            "Validation set: Average loss = 0.8506, Accuracy = 0.6795\n"
          ]
        },
        {
          "output_type": "stream",
          "name": "stderr",
          "text": [
            "Epoch 37/60: 100%|██████████| 119/119 [00:01<00:00, 69.66it/s, loss=0.793]\n"
          ]
        },
        {
          "output_type": "stream",
          "name": "stdout",
          "text": [
            "Validation set: Average loss = 0.8474, Accuracy = 0.6659\n"
          ]
        },
        {
          "output_type": "stream",
          "name": "stderr",
          "text": [
            "Epoch 38/60: 100%|██████████| 119/119 [00:02<00:00, 47.72it/s, loss=0.658]\n"
          ]
        },
        {
          "output_type": "stream",
          "name": "stdout",
          "text": [
            "Validation set: Average loss = 0.8448, Accuracy = 0.6749\n"
          ]
        },
        {
          "output_type": "stream",
          "name": "stderr",
          "text": [
            "Epoch 39/60: 100%|██████████| 119/119 [00:02<00:00, 58.30it/s, loss=0.614]\n"
          ]
        },
        {
          "output_type": "stream",
          "name": "stdout",
          "text": [
            "Validation set: Average loss = 0.8432, Accuracy = 0.6637\n"
          ]
        },
        {
          "output_type": "stream",
          "name": "stderr",
          "text": [
            "Epoch 40/60: 100%|██████████| 119/119 [00:01<00:00, 69.28it/s, loss=0.814]\n"
          ]
        },
        {
          "output_type": "stream",
          "name": "stdout",
          "text": [
            "Validation set: Average loss = 0.8377, Accuracy = 0.6885\n"
          ]
        },
        {
          "output_type": "stream",
          "name": "stderr",
          "text": [
            "Epoch 41/60: 100%|██████████| 119/119 [00:01<00:00, 70.07it/s, loss=0.787]\n"
          ]
        },
        {
          "output_type": "stream",
          "name": "stdout",
          "text": [
            "Validation set: Average loss = 0.8334, Accuracy = 0.6817\n"
          ]
        },
        {
          "output_type": "stream",
          "name": "stderr",
          "text": [
            "Epoch 42/60: 100%|██████████| 119/119 [00:01<00:00, 71.83it/s, loss=0.976]\n"
          ]
        },
        {
          "output_type": "stream",
          "name": "stdout",
          "text": [
            "Validation set: Average loss = 0.8448, Accuracy = 0.6704\n"
          ]
        },
        {
          "output_type": "stream",
          "name": "stderr",
          "text": [
            "Epoch 43/60: 100%|██████████| 119/119 [00:01<00:00, 71.94it/s, loss=0.717]\n"
          ]
        },
        {
          "output_type": "stream",
          "name": "stdout",
          "text": [
            "Validation set: Average loss = 0.8240, Accuracy = 0.6727\n"
          ]
        },
        {
          "output_type": "stream",
          "name": "stderr",
          "text": [
            "Epoch 44/60: 100%|██████████| 119/119 [00:02<00:00, 58.94it/s, loss=0.81]\n"
          ]
        },
        {
          "output_type": "stream",
          "name": "stdout",
          "text": [
            "Validation set: Average loss = 0.8315, Accuracy = 0.6930\n"
          ]
        },
        {
          "output_type": "stream",
          "name": "stderr",
          "text": [
            "Epoch 45/60: 100%|██████████| 119/119 [00:02<00:00, 47.80it/s, loss=0.702]\n"
          ]
        },
        {
          "output_type": "stream",
          "name": "stdout",
          "text": [
            "Validation set: Average loss = 0.8217, Accuracy = 0.6704\n"
          ]
        },
        {
          "output_type": "stream",
          "name": "stderr",
          "text": [
            "Epoch 46/60: 100%|██████████| 119/119 [00:01<00:00, 65.36it/s, loss=0.682]\n"
          ]
        },
        {
          "output_type": "stream",
          "name": "stdout",
          "text": [
            "Validation set: Average loss = 0.8272, Accuracy = 0.6840\n"
          ]
        },
        {
          "output_type": "stream",
          "name": "stderr",
          "text": [
            "Epoch 47/60: 100%|██████████| 119/119 [00:01<00:00, 68.42it/s, loss=0.887]\n"
          ]
        },
        {
          "output_type": "stream",
          "name": "stdout",
          "text": [
            "Validation set: Average loss = 0.8211, Accuracy = 0.6930\n"
          ]
        },
        {
          "output_type": "stream",
          "name": "stderr",
          "text": [
            "Epoch 48/60: 100%|██████████| 119/119 [00:01<00:00, 68.92it/s, loss=0.655]\n"
          ]
        },
        {
          "output_type": "stream",
          "name": "stdout",
          "text": [
            "Validation set: Average loss = 0.8302, Accuracy = 0.6862\n"
          ]
        },
        {
          "output_type": "stream",
          "name": "stderr",
          "text": [
            "Epoch 49/60: 100%|██████████| 119/119 [00:01<00:00, 67.94it/s, loss=0.681]\n"
          ]
        },
        {
          "output_type": "stream",
          "name": "stdout",
          "text": [
            "Validation set: Average loss = 0.8441, Accuracy = 0.6749\n"
          ]
        },
        {
          "output_type": "stream",
          "name": "stderr",
          "text": [
            "Epoch 50/60: 100%|██████████| 119/119 [00:01<00:00, 67.59it/s, loss=0.692]\n"
          ]
        },
        {
          "output_type": "stream",
          "name": "stdout",
          "text": [
            "Validation set: Average loss = 0.8360, Accuracy = 0.6727\n"
          ]
        },
        {
          "output_type": "stream",
          "name": "stderr",
          "text": [
            "Epoch 51/60: 100%|██████████| 119/119 [00:02<00:00, 46.70it/s, loss=0.845]\n"
          ]
        },
        {
          "output_type": "stream",
          "name": "stdout",
          "text": [
            "Validation set: Average loss = 0.8283, Accuracy = 0.6953\n"
          ]
        },
        {
          "output_type": "stream",
          "name": "stderr",
          "text": [
            "Epoch 52/60: 100%|██████████| 119/119 [00:01<00:00, 64.80it/s, loss=0.676]\n"
          ]
        },
        {
          "output_type": "stream",
          "name": "stdout",
          "text": [
            "Validation set: Average loss = 0.8317, Accuracy = 0.6840\n"
          ]
        },
        {
          "output_type": "stream",
          "name": "stderr",
          "text": [
            "Epoch 53/60: 100%|██████████| 119/119 [00:01<00:00, 67.40it/s, loss=0.78]\n"
          ]
        },
        {
          "output_type": "stream",
          "name": "stdout",
          "text": [
            "Validation set: Average loss = 0.8197, Accuracy = 0.6885\n"
          ]
        },
        {
          "output_type": "stream",
          "name": "stderr",
          "text": [
            "Epoch 54/60: 100%|██████████| 119/119 [00:01<00:00, 69.18it/s, loss=0.675]\n"
          ]
        },
        {
          "output_type": "stream",
          "name": "stdout",
          "text": [
            "Validation set: Average loss = 0.8374, Accuracy = 0.6727\n"
          ]
        },
        {
          "output_type": "stream",
          "name": "stderr",
          "text": [
            "Epoch 55/60: 100%|██████████| 119/119 [00:01<00:00, 68.27it/s, loss=0.628]\n"
          ]
        },
        {
          "output_type": "stream",
          "name": "stdout",
          "text": [
            "Validation set: Average loss = 0.8349, Accuracy = 0.6637\n"
          ]
        },
        {
          "output_type": "stream",
          "name": "stderr",
          "text": [
            "Epoch 56/60: 100%|██████████| 119/119 [00:01<00:00, 67.22it/s, loss=0.849]\n"
          ]
        },
        {
          "output_type": "stream",
          "name": "stdout",
          "text": [
            "Validation set: Average loss = 0.8171, Accuracy = 0.6953\n"
          ]
        },
        {
          "output_type": "stream",
          "name": "stderr",
          "text": [
            "Epoch 57/60: 100%|██████████| 119/119 [00:02<00:00, 48.32it/s, loss=0.801]\n"
          ]
        },
        {
          "output_type": "stream",
          "name": "stdout",
          "text": [
            "Validation set: Average loss = 0.8271, Accuracy = 0.6862\n"
          ]
        },
        {
          "output_type": "stream",
          "name": "stderr",
          "text": [
            "Epoch 58/60: 100%|██████████| 119/119 [00:02<00:00, 55.70it/s, loss=0.834]\n"
          ]
        },
        {
          "output_type": "stream",
          "name": "stdout",
          "text": [
            "Validation set: Average loss = 0.8098, Accuracy = 0.6840\n"
          ]
        },
        {
          "output_type": "stream",
          "name": "stderr",
          "text": [
            "Epoch 59/60: 100%|██████████| 119/119 [00:01<00:00, 69.49it/s, loss=0.774]\n"
          ]
        },
        {
          "output_type": "stream",
          "name": "stdout",
          "text": [
            "Validation set: Average loss = 0.8146, Accuracy = 0.6862\n"
          ]
        },
        {
          "output_type": "stream",
          "name": "stderr",
          "text": [
            "Epoch 60/60: 100%|██████████| 119/119 [00:01<00:00, 67.88it/s, loss=0.644]\n"
          ]
        },
        {
          "output_type": "stream",
          "name": "stdout",
          "text": [
            "Validation set: Average loss = 0.8217, Accuracy = 0.7111\n",
            "avg_loss 0.8216522761753627\n",
            "accuracy 0.7110609480812641\n"
          ]
        }
      ],
      "source": [
        "seed_everything(0)\n",
        "# train_laoder.160transform =  lambda x: x.reshape(1,x.shape[0],x.shape[1]) # fft transformation\n",
        "train_loader.transform = None # fft transformation\n",
        "\n",
        "\n",
        "model = EEGNet()\n",
        "\n",
        "model.to(device)\n",
        "\n",
        "# Let's use the built-in optimizer for a full version of SGD optimizer\n",
        "optimizer = torch.optim.Adam(model.parameters(), lr=1e-3)\n",
        "\n",
        "# For loss function, your implementation and the built-in loss function should\n",
        "# be almost identical.\n",
        "criterion = nn.CrossEntropyLoss()\n",
        "\n",
        "# Train the model\n",
        "train(model,\n",
        "      train_loader,\n",
        "      test_loader,\n",
        "      optimizer,\n",
        "      criterion,\n",
        "      device,\n",
        "      num_epochs=60)\n",
        "\n",
        "avg_loss, accuracy = evaluate(model, test_loader, criterion, device)\n",
        "\n",
        "print(\"avg_loss\", avg_loss)\n",
        "print(\"accuracy\", accuracy)\n",
        "\n"
      ]
    },
    {
      "cell_type": "code",
      "execution_count": null,
      "metadata": {
        "colab": {
          "base_uri": "https://localhost:8080/"
        },
        "id": "Qp31VVTp2pgf",
        "outputId": "da86b7db-82f0-4c37-bb9c-56c5717e81dd"
      },
      "outputs": [
        {
          "output_type": "stream",
          "name": "stdout",
          "text": [
            "avg_loss 0.8216522761753627\n",
            "accuracy 0.7110609480812641\n"
          ]
        }
      ],
      "source": [
        "\n",
        "avg_loss, accuracy = evaluate(model, test_loader, criterion, device)\n",
        "\n",
        "print(\"avg_loss\", avg_loss)\n",
        "print(\"accuracy\", accuracy)\n"
      ]
    }
  ],
  "metadata": {
    "colab": {
      "provenance": [],
      "gpuType": "T4",
      "toc_visible": true
    },
    "kernelspec": {
      "display_name": "Python 3",
      "name": "python3"
    },
    "language_info": {
      "codemirror_mode": {
        "name": "ipython",
        "version": 3
      },
      "file_extension": ".py",
      "mimetype": "text/x-python",
      "name": "python",
      "nbconvert_exporter": "python",
      "pygments_lexer": "ipython3",
      "version": "3.10.12"
    },
    "accelerator": "GPU"
  },
  "nbformat": 4,
  "nbformat_minor": 0
}