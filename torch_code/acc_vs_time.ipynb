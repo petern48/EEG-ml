{
  "cells": [
    {
      "cell_type": "code",
      "execution_count": 1,
      "metadata": {
        "colab": {
          "base_uri": "https://localhost:8080/"
        },
        "id": "CYOGQe-Jo-ZW",
        "outputId": "e102bca8-01a6-4f9f-85f4-48e40571d00b"
      },
      "outputs": [],
      "source": [
        "GOOGLE = False\n",
        "if GOOGLE:\n",
        "    from google.colab import drive\n",
        "    drive.mount('/content/drive')"
      ]
    },
    {
      "cell_type": "code",
      "execution_count": 2,
      "metadata": {
        "cellView": "form",
        "id": "StULBVwBiSzw"
      },
      "outputs": [],
      "source": [
        "# @title import\n",
        "import sys\n",
        "\n",
        "if GOOGLE:\n",
        "    sys.path.append('/content/drive/MyDrive/torch_code/')\n",
        "from shared.data_loader import *\n",
        "from shared.utils import *"
      ]
    },
    {
      "cell_type": "code",
      "execution_count": 3,
      "metadata": {
        "cellView": "form",
        "colab": {
          "base_uri": "https://localhost:8080/"
        },
        "id": "ZGm3QtHho-ZX",
        "outputId": "ebbc906b-a95e-4b0c-a22e-04fbbcad9c37"
      },
      "outputs": [
        {
          "name": "stdout",
          "output_type": "stream",
          "text": [
            "Please set GPU via Edit -> Notebook Settings.\n"
          ]
        }
      ],
      "source": [
        "# @title GPU code\n",
        "import torch\n",
        "import torch.nn.functional as F\n",
        "\n",
        "# Define the device to use for training\n",
        "device = torch.device('cuda' if torch.cuda.is_available() else 'cpu')\n",
        "if torch.cuda.is_available():\n",
        "    print('Good to go!')\n",
        "else:\n",
        "    print('Please set GPU via Edit -> Notebook Settings.')"
      ]
    },
    {
      "cell_type": "code",
      "execution_count": 4,
      "metadata": {
        "cellView": "form",
        "id": "3bEjRyBso-ZX"
      },
      "outputs": [],
      "source": [
        "# @title EEG DATA\n",
        "import os\n",
        "import numpy as np\n",
        "from torch.utils.data import DataLoader, Dataset\n",
        "import torch\n",
        "import pandas as pd\n",
        "\n",
        "class EEG_Data(Dataset):\n",
        "\n",
        "    def __init__(self, root_dir, split, preprocess=lambda x,y:train_data_prep(x,y,2,2,True), transform=None, label_dict=None):\n",
        "        \"\"\"\n",
        "        Initialize the eeg dataset with the root directory for the images,\n",
        "        the split (train/val/test), an optional data transformation,\n",
        "        and an optional label dictionary.\n",
        "\n",
        "        Args:\n",
        "            root_dir (str): Root directory for the eeg images.\n",
        "            split (str): Split to use ('train', 'val', or 'test').\n",
        "            transform (callable, optional): Optional data transformation to apply to the images.\n",
        "            label_dict (dict, optional): Optional dictionary mapping integer labels to class names.\n",
        "        \"\"\"\n",
        "        assert split in ['train', 'val', 'test']\n",
        "        self.root_dir = root_dir\n",
        "        self.split = split\n",
        "        self.transform = transform\n",
        "        self.datastorch = []\n",
        "        self.labels = []\n",
        "        self.label_dict = [\"Cue Onset left\", \"Cue Onset right\", \"Cue onset foot\", \"Cue onset tongue\"]\n",
        "\n",
        "        ################# Your Implementations #################################\n",
        "        if self.split == 'train':\n",
        "            # First generating the training and validation indices using random splitting\n",
        "            X_train_valid = np.load(self.root_dir+\"X_train_valid.npy\")\n",
        "            y_train_valid = np.load(self.root_dir+\"y_train_valid.npy\")\n",
        "\n",
        "            np.random.seed(0)\n",
        "            data_length = len(X_train_valid)\n",
        "\n",
        "            ind_valid = np.random.choice(data_length, int(data_length*0.1), replace=False)\n",
        "            ind_train = np.array(list(set(range(data_length)).difference(set(ind_valid))))\n",
        "\n",
        "            # Creating the training and validation sets using the generated indices\n",
        "            (x_train, x_valid) = X_train_valid[ind_train], X_train_valid[ind_valid]\n",
        "            (y_train, y_valid) = y_train_valid[ind_train], y_train_valid[ind_valid]\n",
        "\n",
        "            if preprocess is not None:\n",
        "                x_train,y_train = preprocess(x_train,y_train)\n",
        "\n",
        "            self.datas = torch.from_numpy(x_train)\n",
        "            self.labels = [int(i-769) for i in torch.from_numpy(y_train)]\n",
        "\n",
        "        if self.split == 'val':\n",
        "            # First generating the training and validation indices using random splitting\n",
        "            X_train_valid = np.load(self.root_dir+\"X_train_valid.npy\")\n",
        "            y_train_valid = np.load(self.root_dir+\"y_train_valid.npy\")\n",
        "\n",
        "            data_length = len(X_train_valid)\n",
        "\n",
        "            np.random.seed(0)\n",
        "            ind_valid = np.random.choice(data_length, int(data_length*0.1), replace=False)\n",
        "            ind_train = np.array(list(set(range(data_length)).difference(set(ind_valid))))\n",
        "\n",
        "            # Creating the training and validation sets using the generated indices\n",
        "            (x_train, x_valid) = X_train_valid[ind_train], X_train_valid[ind_valid]\n",
        "            (y_train, y_valid) = y_train_valid[ind_train], y_train_valid[ind_valid]\n",
        "\n",
        "            if preprocess is not None:\n",
        "                x_valid,y_valid = preprocess(x_valid,y_valid)\n",
        "\n",
        "            self.datas = torch.from_numpy(x_valid)\n",
        "            self.labels = [int(i-769) for i in torch.from_numpy(y_valid)]\n",
        "\n",
        "        if self.split == 'test':\n",
        "            x_test = np.load(self.root_dir+\"X_test.npy\")\n",
        "            # x_test = test_data_prep(x_test_og)  # (2115, 1)  vals from 0-8 for participant\n",
        "            if preprocess is not None:\n",
        "                x_test = preprocess(x_test)\n",
        "            y_test = np.load(self.root_dir+\"y_test.npy\")  # (443, 1)\n",
        "            self.datas = torch.from_numpy(x_test)\n",
        "            self.labels = [int(i-769) for i in torch.from_numpy(y_test)]\n",
        "\n",
        "        ################# End of your Implementations ##########################\n",
        "\n",
        "    def __len__(self):\n",
        "        \"\"\"\n",
        "        Return the number of images in the dataset.\n",
        "\n",
        "        Returns:\n",
        "            int: Number of images in the dataset.\n",
        "        \"\"\"\n",
        "        dataset_len = 0\n",
        "        ################# Your Implementations #################################\n",
        "        # Return the number of images in the dataset\n",
        "        dataset_len = len(self.datas)\n",
        "        ################# End of your Implementations ##########################\n",
        "        return dataset_len\n",
        "\n",
        "    def __getitem__(self, idx):\n",
        "        \"\"\"\n",
        "        R10140    idx (int): Index of the image to retrieve.\n",
        "\n",
        "        Returns:\n",
        "            tuple: Tuple containing the image and its label.\n",
        "        \"\"\"\n",
        "        ################# Your Implementations #################################\n",
        "        # Load and preprocess image using self.root_dir,\n",
        "        # self.filenames[idx], and self.transform (if specified)\n",
        "\n",
        "        data = self.datas[idx]\n",
        "        label = self.labels[idx]\n",
        "\n",
        "        if self.transform:\n",
        "            data = self.transform(data)\n",
        "        ################# End of your Implementations ##########################\n",
        "        return data, label"
      ]
    },
    {
      "cell_type": "code",
      "execution_count": 5,
      "metadata": {
        "cellView": "form",
        "id": "A3vS2Wp-2pgf"
      },
      "outputs": [],
      "source": [
        "# @title Convolution\n",
        "\n",
        "import torch\n",
        "import torch.nn as nn\n",
        "import torch.nn.functional as F\n",
        "from tqdm import tqdm\n",
        "\n",
        "class ConvBlock(nn.Module):\n",
        "    def __init__(self, input_size, output_size, kernel_size, dropout=0.6):\n",
        "        super().__init__()\n",
        "        padding = (kernel_size-1)//2\n",
        "        self.conv_block = nn.Sequential(\n",
        "            nn.Conv1d(in_channels=input_size, out_channels=output_size, kernel_size=kernel_size, padding=padding),\n",
        "            nn.ReLU(),\n",
        "            nn.MaxPool1d(kernel_size=3, padding=1),\n",
        "            nn.BatchNorm1d(output_size),\n",
        "            nn.Dropout(dropout)\n",
        "        )\n",
        "    def forward(self, x, **kwargs):\n",
        "        # keey the residual connection here\n",
        "        return self.conv_block.forward(x)\n",
        "\n",
        "class ResBlock(nn.Module):\n",
        "    def __init__(self, in_channels, out_channels, kernel_size = 3, downsample=False, dropout=0.6):\n",
        "        '''\n",
        "        Initialize a basic residual block.\n",
        "        Depending on whether downsample is True, there are two types of basic blocks in Resnet 18,\n",
        "        one to downsample the input and the other maintains the same size.\n",
        "        You can use Pytorch's functions.\n",
        "\n",
        "        Input and output shapes of each layer:\n",
        "        1) conv1 (3*3 kernel, no bias): (batch_size, in_channels, H, W) -> (batch_size, out_channels, H, W) if downsample=False\n",
        "           conv1 (3*3 kernel, no bias): (batch_size, in_channels, H, W) -> (batch_size, out_channels, H//2, W//2) if downsample=True, with stride of 2\n",
        "        2) conv2 (3*3 kernel, no bias): (batch_size, out_channels, H, W) -> (batch_size, out_channels, H, W)\n",
        "        3) conv3 (optional) if downsample=True (1*1 kernel, no bias): (batch_size, in_channels, H, W) -> (batch_size, out_channels, H//2, W//2) with stride of 2\n",
        "        '''\n",
        "        super().__init__()\n",
        "        ################# Your Implementations #################################\n",
        "        self.downsample = downsample\n",
        "        if (in_channels != out_channels):\n",
        "           self.downsample = True\n",
        "        self.kernel_size = kernel_size\n",
        "        self.dropout = dropout\n",
        "        # self.conv2 = nn.Conv2d(out_channels, out_channels, kernel_size=3, stride=1, bias=False, padding=1) #(128 - 3 + 2*1)//2 + 1\n",
        "        self.conv2 = nn.Sequential(\n",
        "                        nn.Conv1d(out_channels, out_channels, kernel_size = 3, stride = 1, padding = 1, bias=False),\n",
        "                        nn.BatchNorm1d(out_channels))\n",
        "        self.bn1 = nn.BatchNorm1d(out_channels)\n",
        "        self.bn2 = nn.BatchNorm1d(out_channels)\n",
        "        self.bn3 = nn.BatchNorm1d(out_channels)\n",
        "        self.relu = nn.ReLU()\n",
        "        self.relu2 = nn.ReLU()\n",
        "        if self.downsample:\n",
        "          self.conv1 = nn.Conv1d(in_channels, out_channels, kernel_size=3, stride=1, padding=1, bias=False) #(128 - 3 + 2*1)//2 + 1\n",
        "          self.conv3 = nn.Conv1d(in_channels, out_channels, kernel_size=1, stride=1, bias=False) #(128 - 3 + 2*1)//2 + 1\n",
        "        else:\n",
        "          self.conv1 = nn.Conv1d(in_channels, out_channels, kernel_size=3, stride=1, padding=1, bias=False) #(128 - 3 + 2*1)//2 + 1\n",
        "\n",
        "        ################# End of your Implementations ##########################\n",
        "\n",
        "    def forward(self, x):\n",
        "        \"\"\"\n",
        "        Forward pass of the basic residual block.\n",
        "        The input tensor 'x' should pass through the following layers:\n",
        "        1) conv1: (batch_size, in_channels, H, W) -> (batch_size, out_channels, H, W)\n",
        "           conv1: (batch_size, in_channels, H, W) -> (batch_size, out_channels, H//2, W//2) if downsample=True\n",
        "        2) Apply batch normalization after conv1.\n",
        "        3) Apply relu activation.\n",
        "        4) conv2: (batch_size, out_channels, H, W) -> (batch_size, out_channels, H, W)\n",
        "        5) Apply batch normalization after conv2.\n",
        "        6) (Optional) if downsample=True, conv3: (batch_size, in_channels, H, W) -> (batch_size, out_channels, H//2, W//2) on the original input\n",
        "        7) (Optional) if downsample=True, apply batch normalization after conv3.\n",
        "        8) Add the residual value to the original input\n",
        "        9) Apply relu activation in the end.\n",
        "        \"\"\"\n",
        "        ################# Your Implementations #################################\n",
        "        # TODO: Implement the forward pass of the basic residual block.\n",
        "        og=x\n",
        "        x = self.conv1(x)\n",
        "        x = self.bn1(x)\n",
        "        x = self.relu(x)\n",
        "        x = self.conv2(x)\n",
        "        x = self.bn2(x)\n",
        "        if self.downsample:\n",
        "          og = self.conv3(og)\n",
        "          og = self.bn3(og)\n",
        "        x += og\n",
        "        x =self.relu2(x)\n",
        "        x = nn.Dropout(self.dropout)(x)\n",
        "        ################# End of your Implementations ##########################\n",
        "        return x\n",
        "\n",
        "fc_block = lambda i, o : nn.Linear(i,o)\n",
        "\n",
        "\n"
      ]
    },
    {
      "cell_type": "code",
      "execution_count": 6,
      "metadata": {
        "id": "-VvgzKSCh_zs"
      },
      "outputs": [],
      "source": [
        "# This is EEGNet from https://arxiv.org/abs/1611.08024\n",
        "\n",
        "class EEGNet(nn.Module):\n",
        "    def __init__(self, cutoff):\n",
        "        super(EEGNet, self).__init__()\n",
        "\n",
        "        self.F1 = 8\n",
        "        self.F2 = 16\n",
        "        self.D = 2\n",
        "\n",
        "        # Conv2d(in,out,kernel,stride,padding,bias)\n",
        "        self.conv1 = nn.Sequential(\n",
        "            nn.Conv2d(1, self.F1, (1, 64), padding=(0, 32), bias=False),\n",
        "            nn.BatchNorm2d(self.F1)\n",
        "        )\n",
        "\n",
        "        self.conv2 = nn.Sequential(\n",
        "            nn.Conv2d(self.F1, self.D*self.F1, (18, 1), groups=self.F1, bias=False),\n",
        "            nn.BatchNorm2d(self.D*self.F1),\n",
        "            nn.ELU(),\n",
        "            nn.AvgPool2d((1, 4)),\n",
        "            nn.Dropout(0.5)\n",
        "        )\n",
        "\n",
        "        self.Conv3 = nn.Sequential(\n",
        "            nn.Conv2d(self.D*self.F1, self.D*self.F1, (1, 16), padding=(0, 8), groups=self.D*self.F1, bias=False),\n",
        "            nn.Conv2d(self.D*self.F1, self.F2, (1, 1), bias=False),\n",
        "            nn.BatchNorm2d(self.F2),\n",
        "            nn.ELU(),\n",
        "            nn.AvgPool2d((1, 8)),\n",
        "            nn.Dropout(0.5)\n",
        "        )\n",
        "\n",
        "\n",
        "        if cutoff is not None:\n",
        "            cutoff_map ={\n",
        "                100 :80,\n",
        "                150:160,\n",
        "                200:240,\n",
        "                250:320,\n",
        "                300:320,\n",
        "                350:400,\n",
        "                400:480,\n",
        "                450:560,\n",
        "                500:560,\n",
        "                550:640,\n",
        "                600:720,\n",
        "                650:800,\n",
        "                700:880,\n",
        "                750:880,\n",
        "                800:960,\n",
        "                850:1040,\n",
        "                900:1120,\n",
        "                950:1200,\n",
        "                1000:1200\n",
        "            }\n",
        "            assert(cutoff in cutoff_map.keys())\n",
        "            self.flatten = nn.Flatten(start_dim=1)\n",
        "            self.classifier = nn.Linear(cutoff_map[timestop], 4, bias=True)\n",
        "\n",
        "        else:\n",
        "            self.flatten = nn.Flatten(start_dim=1)\n",
        "            self.classifier = nn.Linear(240, 4, bias=True)\n",
        "\n",
        "    def forward(self, x):\n",
        "\n",
        "        x = self.conv1(x)\n",
        "        x = self.conv2(x)\n",
        "        x = self.Conv3(x)\n",
        "\n",
        "        x = self.flatten(x)\n",
        "        x = self.classifier(x)\n",
        "        return x\n"
      ]
    },
    {
      "cell_type": "code",
      "execution_count": 11,
      "metadata": {},
      "outputs": [],
      "source": [
        "all_result = {}"
      ]
    },
    {
      "cell_type": "code",
      "execution_count": 12,
      "metadata": {
        "colab": {
          "base_uri": "https://localhost:8080/"
        },
        "id": "MafiXWN0EdYv",
        "outputId": "5eb43e6e-1b55-4655-92ca-146b294ff33e"
      },
      "outputs": [
        {
          "name": "stdout",
          "output_type": "stream",
          "text": [
            "Shape of X after subsampling and concatenating: (7616, 22, 50)\n",
            "Shape of Y: (7616,)\n",
            "Shape of X after subsampling and concatenating: (844, 22, 50)\n",
            "Shape of Y: (844,)\n",
            "val split:  844\n",
            "train split:  7616\n",
            "torch.Size([1, 22, 50])\n",
            "torch.Size([1, 18, 50])\n"
          ]
        },
        {
          "name": "stderr",
          "output_type": "stream",
          "text": [
            "Epoch 1/30: 100%|██████████| 119/119 [00:01<00:00, 85.66it/s, loss=1.37]\n"
          ]
        },
        {
          "name": "stdout",
          "output_type": "stream",
          "text": [
            "Validation set: Average loss = 1.3971, Accuracy = 0.2227\n",
            "Training set: Average loss = 1.3863, Accuracy = 0.2646\n"
          ]
        },
        {
          "name": "stderr",
          "output_type": "stream",
          "text": [
            "Epoch 2/30: 100%|██████████| 119/119 [00:01<00:00, 77.96it/s, loss=1.41]\n"
          ]
        },
        {
          "name": "stdout",
          "output_type": "stream",
          "text": [
            "Validation set: Average loss = 1.3971, Accuracy = 0.2239\n",
            "Training set: Average loss = 1.3865, Accuracy = 0.2665\n"
          ]
        },
        {
          "name": "stderr",
          "output_type": "stream",
          "text": [
            "Epoch 3/30: 100%|██████████| 119/119 [00:01<00:00, 86.11it/s, loss=1.41]\n"
          ]
        },
        {
          "name": "stdout",
          "output_type": "stream",
          "text": [
            "Validation set: Average loss = 1.3976, Accuracy = 0.2216\n",
            "Training set: Average loss = 1.3866, Accuracy = 0.2656\n"
          ]
        },
        {
          "name": "stderr",
          "output_type": "stream",
          "text": [
            "Epoch 4/30: 100%|██████████| 119/119 [00:01<00:00, 82.96it/s, loss=1.44]\n"
          ]
        },
        {
          "name": "stdout",
          "output_type": "stream",
          "text": [
            "Validation set: Average loss = 1.3971, Accuracy = 0.2227\n",
            "Training set: Average loss = 1.3862, Accuracy = 0.2638\n"
          ]
        },
        {
          "name": "stderr",
          "output_type": "stream",
          "text": [
            "Epoch 5/30: 100%|██████████| 119/119 [00:01<00:00, 84.20it/s, loss=1.41]\n"
          ]
        },
        {
          "name": "stdout",
          "output_type": "stream",
          "text": [
            "Validation set: Average loss = 1.3976, Accuracy = 0.2192\n",
            "Training set: Average loss = 1.3866, Accuracy = 0.2647\n"
          ]
        },
        {
          "name": "stderr",
          "output_type": "stream",
          "text": [
            "Epoch 6/30: 100%|██████████| 119/119 [00:01<00:00, 82.03it/s, loss=1.47]\n"
          ]
        },
        {
          "name": "stdout",
          "output_type": "stream",
          "text": [
            "Validation set: Average loss = 1.3974, Accuracy = 0.2216\n",
            "Training set: Average loss = 1.3865, Accuracy = 0.2655\n"
          ]
        },
        {
          "name": "stderr",
          "output_type": "stream",
          "text": [
            "Epoch 7/30: 100%|██████████| 119/119 [00:01<00:00, 91.10it/s, loss=1.5] \n"
          ]
        },
        {
          "name": "stdout",
          "output_type": "stream",
          "text": [
            "Validation set: Average loss = 1.3974, Accuracy = 0.2216\n",
            "Training set: Average loss = 1.3865, Accuracy = 0.2652\n"
          ]
        },
        {
          "name": "stderr",
          "output_type": "stream",
          "text": [
            "Epoch 8/30: 100%|██████████| 119/119 [00:01<00:00, 90.16it/s, loss=1.46] \n"
          ]
        },
        {
          "name": "stdout",
          "output_type": "stream",
          "text": [
            "Validation set: Average loss = 1.3971, Accuracy = 0.2204\n",
            "Training set: Average loss = 1.3862, Accuracy = 0.2660\n"
          ]
        },
        {
          "name": "stderr",
          "output_type": "stream",
          "text": [
            "Epoch 9/30: 100%|██████████| 119/119 [00:01<00:00, 66.26it/s, loss=1.4] \n"
          ]
        },
        {
          "name": "stdout",
          "output_type": "stream",
          "text": [
            "Validation set: Average loss = 1.3972, Accuracy = 0.2227\n",
            "Training set: Average loss = 1.3863, Accuracy = 0.2662\n"
          ]
        },
        {
          "name": "stderr",
          "output_type": "stream",
          "text": [
            "Epoch 10/30: 100%|██████████| 119/119 [00:01<00:00, 67.00it/s, loss=1.45]\n"
          ]
        },
        {
          "name": "stdout",
          "output_type": "stream",
          "text": [
            "Validation set: Average loss = 1.3972, Accuracy = 0.2239\n",
            "Training set: Average loss = 1.3864, Accuracy = 0.2650\n"
          ]
        },
        {
          "name": "stderr",
          "output_type": "stream",
          "text": [
            "Epoch 11/30: 100%|██████████| 119/119 [00:01<00:00, 71.50it/s, loss=1.45]\n"
          ]
        },
        {
          "name": "stdout",
          "output_type": "stream",
          "text": [
            "Validation set: Average loss = 1.3970, Accuracy = 0.2204\n",
            "Training set: Average loss = 1.3865, Accuracy = 0.2665\n"
          ]
        },
        {
          "name": "stderr",
          "output_type": "stream",
          "text": [
            "Epoch 12/30: 100%|██████████| 119/119 [00:02<00:00, 58.88it/s, loss=1.4] \n"
          ]
        },
        {
          "name": "stdout",
          "output_type": "stream",
          "text": [
            "Validation set: Average loss = 1.3973, Accuracy = 0.2204\n",
            "Training set: Average loss = 1.3863, Accuracy = 0.2651\n"
          ]
        },
        {
          "name": "stderr",
          "output_type": "stream",
          "text": [
            "Epoch 13/30: 100%|██████████| 119/119 [00:01<00:00, 68.40it/s, loss=1.41]\n"
          ]
        },
        {
          "name": "stdout",
          "output_type": "stream",
          "text": [
            "Validation set: Average loss = 1.3971, Accuracy = 0.2216\n",
            "Training set: Average loss = 1.3862, Accuracy = 0.2676\n"
          ]
        },
        {
          "name": "stderr",
          "output_type": "stream",
          "text": [
            "Epoch 14/30: 100%|██████████| 119/119 [00:01<00:00, 69.84it/s, loss=1.42]\n"
          ]
        },
        {
          "name": "stdout",
          "output_type": "stream",
          "text": [
            "Validation set: Average loss = 1.3967, Accuracy = 0.2263\n",
            "Training set: Average loss = 1.3859, Accuracy = 0.2662\n"
          ]
        },
        {
          "name": "stderr",
          "output_type": "stream",
          "text": [
            "Epoch 15/30: 100%|██████████| 119/119 [00:01<00:00, 64.71it/s, loss=1.43]\n"
          ]
        },
        {
          "name": "stdout",
          "output_type": "stream",
          "text": [
            "Validation set: Average loss = 1.3969, Accuracy = 0.2216\n",
            "Training set: Average loss = 1.3864, Accuracy = 0.2665\n"
          ]
        },
        {
          "name": "stderr",
          "output_type": "stream",
          "text": [
            "Epoch 16/30: 100%|██████████| 119/119 [00:01<00:00, 73.09it/s, loss=1.44]\n"
          ]
        },
        {
          "name": "stdout",
          "output_type": "stream",
          "text": [
            "Validation set: Average loss = 1.3970, Accuracy = 0.2239\n",
            "Training set: Average loss = 1.3862, Accuracy = 0.2659\n"
          ]
        },
        {
          "name": "stderr",
          "output_type": "stream",
          "text": [
            "Epoch 17/30: 100%|██████████| 119/119 [00:01<00:00, 62.27it/s, loss=1.37]\n"
          ]
        },
        {
          "name": "stdout",
          "output_type": "stream",
          "text": [
            "Validation set: Average loss = 1.3975, Accuracy = 0.2204\n",
            "Training set: Average loss = 1.3866, Accuracy = 0.2654\n"
          ]
        },
        {
          "name": "stderr",
          "output_type": "stream",
          "text": [
            "Epoch 18/30: 100%|██████████| 119/119 [00:01<00:00, 70.15it/s, loss=1.4] \n"
          ]
        },
        {
          "name": "stdout",
          "output_type": "stream",
          "text": [
            "Validation set: Average loss = 1.3976, Accuracy = 0.2180\n",
            "Training set: Average loss = 1.3864, Accuracy = 0.2658\n"
          ]
        },
        {
          "name": "stderr",
          "output_type": "stream",
          "text": [
            "Epoch 19/30: 100%|██████████| 119/119 [00:01<00:00, 82.13it/s, loss=1.39]\n"
          ]
        },
        {
          "name": "stdout",
          "output_type": "stream",
          "text": [
            "Validation set: Average loss = 1.3969, Accuracy = 0.2227\n",
            "Training set: Average loss = 1.3862, Accuracy = 0.2654\n"
          ]
        },
        {
          "name": "stderr",
          "output_type": "stream",
          "text": [
            "Epoch 20/30: 100%|██████████| 119/119 [00:01<00:00, 74.87it/s, loss=1.43]\n"
          ]
        },
        {
          "name": "stdout",
          "output_type": "stream",
          "text": [
            "Validation set: Average loss = 1.3970, Accuracy = 0.2204\n",
            "Training set: Average loss = 1.3863, Accuracy = 0.2656\n"
          ]
        },
        {
          "name": "stderr",
          "output_type": "stream",
          "text": [
            "Epoch 21/30: 100%|██████████| 119/119 [00:01<00:00, 71.47it/s, loss=1.39]\n"
          ]
        },
        {
          "name": "stdout",
          "output_type": "stream",
          "text": [
            "Validation set: Average loss = 1.3972, Accuracy = 0.2192\n",
            "Training set: Average loss = 1.3864, Accuracy = 0.2652\n"
          ]
        },
        {
          "name": "stderr",
          "output_type": "stream",
          "text": [
            "Epoch 22/30: 100%|██████████| 119/119 [00:01<00:00, 67.18it/s, loss=1.38]\n"
          ]
        },
        {
          "name": "stdout",
          "output_type": "stream",
          "text": [
            "Validation set: Average loss = 1.3968, Accuracy = 0.2239\n",
            "Training set: Average loss = 1.3862, Accuracy = 0.2664\n"
          ]
        },
        {
          "name": "stderr",
          "output_type": "stream",
          "text": [
            "Epoch 23/30: 100%|██████████| 119/119 [00:01<00:00, 66.74it/s, loss=1.33]\n"
          ]
        },
        {
          "name": "stdout",
          "output_type": "stream",
          "text": [
            "Validation set: Average loss = 1.3972, Accuracy = 0.2227\n",
            "Training set: Average loss = 1.3863, Accuracy = 0.2681\n"
          ]
        },
        {
          "name": "stderr",
          "output_type": "stream",
          "text": [
            "Epoch 24/30: 100%|██████████| 119/119 [00:01<00:00, 64.66it/s, loss=1.43]\n"
          ]
        },
        {
          "name": "stdout",
          "output_type": "stream",
          "text": [
            "Validation set: Average loss = 1.3973, Accuracy = 0.2216\n",
            "Training set: Average loss = 1.3864, Accuracy = 0.2651\n"
          ]
        },
        {
          "name": "stderr",
          "output_type": "stream",
          "text": [
            "Epoch 25/30: 100%|██████████| 119/119 [00:01<00:00, 69.71it/s, loss=1.37]\n"
          ]
        },
        {
          "name": "stdout",
          "output_type": "stream",
          "text": [
            "Validation set: Average loss = 1.3971, Accuracy = 0.2239\n",
            "Training set: Average loss = 1.3863, Accuracy = 0.2659\n"
          ]
        },
        {
          "name": "stderr",
          "output_type": "stream",
          "text": [
            "Epoch 26/30: 100%|██████████| 119/119 [00:02<00:00, 56.28it/s, loss=1.44]\n"
          ]
        },
        {
          "name": "stdout",
          "output_type": "stream",
          "text": [
            "Validation set: Average loss = 1.3970, Accuracy = 0.2216\n",
            "Training set: Average loss = 1.3861, Accuracy = 0.2664\n"
          ]
        },
        {
          "name": "stderr",
          "output_type": "stream",
          "text": [
            "Epoch 27/30: 100%|██████████| 119/119 [00:01<00:00, 64.55it/s, loss=1.41]\n"
          ]
        },
        {
          "name": "stdout",
          "output_type": "stream",
          "text": [
            "Validation set: Average loss = 1.3973, Accuracy = 0.2204\n",
            "Training set: Average loss = 1.3865, Accuracy = 0.2655\n"
          ]
        },
        {
          "name": "stderr",
          "output_type": "stream",
          "text": [
            "Epoch 28/30: 100%|██████████| 119/119 [00:01<00:00, 69.29it/s, loss=1.41]\n"
          ]
        },
        {
          "name": "stdout",
          "output_type": "stream",
          "text": [
            "Validation set: Average loss = 1.3971, Accuracy = 0.2216\n",
            "Training set: Average loss = 1.3863, Accuracy = 0.2642\n"
          ]
        },
        {
          "name": "stderr",
          "output_type": "stream",
          "text": [
            "Epoch 29/30: 100%|██████████| 119/119 [00:01<00:00, 67.30it/s, loss=1.4] \n"
          ]
        },
        {
          "name": "stdout",
          "output_type": "stream",
          "text": [
            "Validation set: Average loss = 1.3974, Accuracy = 0.2192\n",
            "Training set: Average loss = 1.3864, Accuracy = 0.2651\n"
          ]
        },
        {
          "name": "stderr",
          "output_type": "stream",
          "text": [
            "Epoch 30/30: 100%|██████████| 119/119 [00:01<00:00, 68.13it/s, loss=1.42]\n"
          ]
        },
        {
          "name": "stdout",
          "output_type": "stream",
          "text": [
            "Validation set: Average loss = 1.3971, Accuracy = 0.2239\n",
            "Training set: Average loss = 1.3863, Accuracy = 0.2654\n"
          ]
        },
        {
          "data": {
            "image/png": "[encoded data removed]",
            "text/plain": [
              "<Figure size 640x480 with 1 Axes>"
            ]
          },
          "metadata": {},
          "output_type": "display_data"
        },
        {
          "name": "stdout",
          "output_type": "stream",
          "text": [
            "avg_loss 1.388399907520839\n",
            "accuracy 0.27313769751693\n",
            "Shape of X after subsampling and concatenating: (7616, 22, 75)\n",
            "Shape of Y: (7616,)\n",
            "Shape of X after subsampling and concatenating: (844, 22, 75)\n",
            "Shape of Y: (844,)\n",
            "val split:  844\n",
            "train split:  7616\n",
            "torch.Size([1, 22, 75])\n",
            "torch.Size([1, 18, 75])\n"
          ]
        },
        {
          "name": "stderr",
          "output_type": "stream",
          "text": [
            "Epoch 1/30: 100%|██████████| 119/119 [00:02<00:00, 55.38it/s, loss=1.42]\n"
          ]
        },
        {
          "name": "stdout",
          "output_type": "stream",
          "text": [
            "Validation set: Average loss = 1.3942, Accuracy = 0.2405\n",
            "Training set: Average loss = 1.3967, Accuracy = 0.2465\n"
          ]
        },
        {
          "name": "stderr",
          "output_type": "stream",
          "text": [
            "Epoch 2/30: 100%|██████████| 119/119 [00:02<00:00, 55.10it/s, loss=1.42]\n"
          ]
        },
        {
          "name": "stdout",
          "output_type": "stream",
          "text": [
            "Validation set: Average loss = 1.3946, Accuracy = 0.2464\n",
            "Training set: Average loss = 1.3967, Accuracy = 0.2465\n"
          ]
        },
        {
          "name": "stderr",
          "output_type": "stream",
          "text": [
            "Epoch 3/30: 100%|██████████| 119/119 [00:02<00:00, 51.06it/s, loss=1.43]\n"
          ]
        },
        {
          "name": "stdout",
          "output_type": "stream",
          "text": [
            "Validation set: Average loss = 1.3943, Accuracy = 0.2500\n",
            "Training set: Average loss = 1.3965, Accuracy = 0.2483\n"
          ]
        },
        {
          "name": "stderr",
          "output_type": "stream",
          "text": [
            "Epoch 4/30: 100%|██████████| 119/119 [00:02<00:00, 56.66it/s, loss=1.39]\n"
          ]
        },
        {
          "name": "stdout",
          "output_type": "stream",
          "text": [
            "Validation set: Average loss = 1.3943, Accuracy = 0.2417\n",
            "Training set: Average loss = 1.3965, Accuracy = 0.2462\n"
          ]
        },
        {
          "name": "stderr",
          "output_type": "stream",
          "text": [
            "Epoch 5/30: 100%|██████████| 119/119 [00:02<00:00, 57.58it/s, loss=1.4] \n"
          ]
        },
        {
          "name": "stdout",
          "output_type": "stream",
          "text": [
            "Validation set: Average loss = 1.3942, Accuracy = 0.2417\n",
            "Training set: Average loss = 1.3968, Accuracy = 0.2462\n"
          ]
        },
        {
          "name": "stderr",
          "output_type": "stream",
          "text": [
            "Epoch 6/30: 100%|██████████| 119/119 [00:01<00:00, 59.52it/s, loss=1.43]\n"
          ]
        },
        {
          "name": "stdout",
          "output_type": "stream",
          "text": [
            "Validation set: Average loss = 1.3942, Accuracy = 0.2500\n",
            "Training set: Average loss = 1.3964, Accuracy = 0.2470\n"
          ]
        },
        {
          "name": "stderr",
          "output_type": "stream",
          "text": [
            "Epoch 7/30: 100%|██████████| 119/119 [00:02<00:00, 58.36it/s, loss=1.45]\n"
          ]
        },
        {
          "name": "stdout",
          "output_type": "stream",
          "text": [
            "Validation set: Average loss = 1.3942, Accuracy = 0.2393\n",
            "Training set: Average loss = 1.3966, Accuracy = 0.2461\n"
          ]
        },
        {
          "name": "stderr",
          "output_type": "stream",
          "text": [
            "Epoch 8/30: 100%|██████████| 119/119 [00:02<00:00, 58.31it/s, loss=1.42]\n"
          ]
        },
        {
          "name": "stdout",
          "output_type": "stream",
          "text": [
            "Validation set: Average loss = 1.3944, Accuracy = 0.2547\n",
            "Training set: Average loss = 1.3965, Accuracy = 0.2478\n"
          ]
        },
        {
          "name": "stderr",
          "output_type": "stream",
          "text": [
            "Epoch 9/30: 100%|██████████| 119/119 [00:02<00:00, 53.25it/s, loss=1.45]\n"
          ]
        },
        {
          "name": "stdout",
          "output_type": "stream",
          "text": [
            "Validation set: Average loss = 1.3943, Accuracy = 0.2405\n",
            "Training set: Average loss = 1.3968, Accuracy = 0.2453\n"
          ]
        },
        {
          "name": "stderr",
          "output_type": "stream",
          "text": [
            "Epoch 10/30: 100%|██████████| 119/119 [00:02<00:00, 53.13it/s, loss=1.37]\n"
          ]
        },
        {
          "name": "stdout",
          "output_type": "stream",
          "text": [
            "Validation set: Average loss = 1.3943, Accuracy = 0.2524\n",
            "Training set: Average loss = 1.3964, Accuracy = 0.2483\n"
          ]
        },
        {
          "name": "stderr",
          "output_type": "stream",
          "text": [
            "Epoch 11/30: 100%|██████████| 119/119 [00:02<00:00, 44.49it/s, loss=1.46]\n"
          ]
        },
        {
          "name": "stdout",
          "output_type": "stream",
          "text": [
            "Validation set: Average loss = 1.3943, Accuracy = 0.2453\n",
            "Training set: Average loss = 1.3967, Accuracy = 0.2478\n"
          ]
        },
        {
          "name": "stderr",
          "output_type": "stream",
          "text": [
            "Epoch 12/30: 100%|██████████| 119/119 [00:03<00:00, 36.30it/s, loss=1.47]\n"
          ]
        },
        {
          "name": "stdout",
          "output_type": "stream",
          "text": [
            "Validation set: Average loss = 1.3945, Accuracy = 0.2453\n",
            "Training set: Average loss = 1.3967, Accuracy = 0.2466\n"
          ]
        },
        {
          "name": "stderr",
          "output_type": "stream",
          "text": [
            "Epoch 13/30: 100%|██████████| 119/119 [00:05<00:00, 22.58it/s, loss=1.38]\n"
          ]
        },
        {
          "name": "stdout",
          "output_type": "stream",
          "text": [
            "Validation set: Average loss = 1.3944, Accuracy = 0.2464\n",
            "Training set: Average loss = 1.3966, Accuracy = 0.2475\n"
          ]
        },
        {
          "name": "stderr",
          "output_type": "stream",
          "text": [
            "Epoch 14/30: 100%|██████████| 119/119 [00:02<00:00, 42.33it/s, loss=1.42]\n"
          ]
        },
        {
          "name": "stdout",
          "output_type": "stream",
          "text": [
            "Validation set: Average loss = 1.3943, Accuracy = 0.2464\n",
            "Training set: Average loss = 1.3965, Accuracy = 0.2472\n"
          ]
        },
        {
          "name": "stderr",
          "output_type": "stream",
          "text": [
            "Epoch 15/30: 100%|██████████| 119/119 [00:02<00:00, 40.43it/s, loss=1.4] \n"
          ]
        },
        {
          "name": "stdout",
          "output_type": "stream",
          "text": [
            "Validation set: Average loss = 1.3944, Accuracy = 0.2429\n",
            "Training set: Average loss = 1.3968, Accuracy = 0.2458\n"
          ]
        },
        {
          "name": "stderr",
          "output_type": "stream",
          "text": [
            "Epoch 16/30: 100%|██████████| 119/119 [00:02<00:00, 47.76it/s, loss=1.38]\n"
          ]
        },
        {
          "name": "stdout",
          "output_type": "stream",
          "text": [
            "Validation set: Average loss = 1.3945, Accuracy = 0.2441\n",
            "Training set: Average loss = 1.3969, Accuracy = 0.2474\n"
          ]
        },
        {
          "name": "stderr",
          "output_type": "stream",
          "text": [
            "Epoch 17/30: 100%|██████████| 119/119 [00:03<00:00, 33.73it/s, loss=1.44]\n"
          ]
        },
        {
          "name": "stdout",
          "output_type": "stream",
          "text": [
            "Validation set: Average loss = 1.3944, Accuracy = 0.2500\n",
            "Training set: Average loss = 1.3965, Accuracy = 0.2472\n"
          ]
        },
        {
          "name": "stderr",
          "output_type": "stream",
          "text": [
            "Epoch 18/30: 100%|██████████| 119/119 [00:04<00:00, 25.96it/s, loss=1.43]\n"
          ]
        },
        {
          "name": "stdout",
          "output_type": "stream",
          "text": [
            "Validation set: Average loss = 1.3946, Accuracy = 0.2488\n",
            "Training set: Average loss = 1.3966, Accuracy = 0.2468\n"
          ]
        },
        {
          "name": "stderr",
          "output_type": "stream",
          "text": [
            "Epoch 19/30: 100%|██████████| 119/119 [00:03<00:00, 33.68it/s, loss=1.41]\n"
          ]
        },
        {
          "name": "stdout",
          "output_type": "stream",
          "text": [
            "Validation set: Average loss = 1.3944, Accuracy = 0.2453\n",
            "Training set: Average loss = 1.3964, Accuracy = 0.2470\n"
          ]
        },
        {
          "name": "stderr",
          "output_type": "stream",
          "text": [
            "Epoch 20/30: 100%|██████████| 119/119 [00:04<00:00, 27.02it/s, loss=1.41]\n"
          ]
        },
        {
          "name": "stdout",
          "output_type": "stream",
          "text": [
            "Validation set: Average loss = 1.3942, Accuracy = 0.2429\n",
            "Training set: Average loss = 1.3967, Accuracy = 0.2462\n"
          ]
        },
        {
          "name": "stderr",
          "output_type": "stream",
          "text": [
            "Epoch 21/30: 100%|██████████| 119/119 [00:04<00:00, 27.00it/s, loss=1.42]\n"
          ]
        },
        {
          "name": "stdout",
          "output_type": "stream",
          "text": [
            "Validation set: Average loss = 1.3945, Accuracy = 0.2488\n",
            "Training set: Average loss = 1.3965, Accuracy = 0.2472\n"
          ]
        },
        {
          "name": "stderr",
          "output_type": "stream",
          "text": [
            "Epoch 22/30: 100%|██████████| 119/119 [00:03<00:00, 30.17it/s, loss=1.4] \n"
          ]
        },
        {
          "name": "stdout",
          "output_type": "stream",
          "text": [
            "Validation set: Average loss = 1.3943, Accuracy = 0.2464\n",
            "Training set: Average loss = 1.3965, Accuracy = 0.2474\n"
          ]
        },
        {
          "name": "stderr",
          "output_type": "stream",
          "text": [
            "Epoch 23/30: 100%|██████████| 119/119 [00:03<00:00, 32.39it/s, loss=1.4] \n"
          ]
        },
        {
          "name": "stdout",
          "output_type": "stream",
          "text": [
            "Validation set: Average loss = 1.3943, Accuracy = 0.2524\n",
            "Training set: Average loss = 1.3963, Accuracy = 0.2478\n"
          ]
        },
        {
          "name": "stderr",
          "output_type": "stream",
          "text": [
            "Epoch 24/30: 100%|██████████| 119/119 [00:04<00:00, 27.93it/s, loss=1.46]\n"
          ]
        },
        {
          "name": "stdout",
          "output_type": "stream",
          "text": [
            "Validation set: Average loss = 1.3943, Accuracy = 0.2488\n",
            "Training set: Average loss = 1.3965, Accuracy = 0.2476\n"
          ]
        },
        {
          "name": "stderr",
          "output_type": "stream",
          "text": [
            "Epoch 25/30: 100%|██████████| 119/119 [00:03<00:00, 32.00it/s, loss=1.43]\n"
          ]
        },
        {
          "name": "stdout",
          "output_type": "stream",
          "text": [
            "Validation set: Average loss = 1.3944, Accuracy = 0.2464\n",
            "Training set: Average loss = 1.3965, Accuracy = 0.2468\n"
          ]
        },
        {
          "name": "stderr",
          "output_type": "stream",
          "text": [
            "Epoch 26/30: 100%|██████████| 119/119 [00:03<00:00, 35.50it/s, loss=1.46]\n"
          ]
        },
        {
          "name": "stdout",
          "output_type": "stream",
          "text": [
            "Validation set: Average loss = 1.3943, Accuracy = 0.2429\n",
            "Training set: Average loss = 1.3967, Accuracy = 0.2458\n"
          ]
        },
        {
          "name": "stderr",
          "output_type": "stream",
          "text": [
            "Epoch 27/30: 100%|██████████| 119/119 [00:03<00:00, 35.06it/s, loss=1.47]\n"
          ]
        },
        {
          "name": "stdout",
          "output_type": "stream",
          "text": [
            "Validation set: Average loss = 1.3944, Accuracy = 0.2488\n",
            "Training set: Average loss = 1.3964, Accuracy = 0.2466\n"
          ]
        },
        {
          "name": "stderr",
          "output_type": "stream",
          "text": [
            "Epoch 28/30: 100%|██████████| 119/119 [00:03<00:00, 32.57it/s, loss=1.39]\n"
          ]
        },
        {
          "name": "stdout",
          "output_type": "stream",
          "text": [
            "Validation set: Average loss = 1.3944, Accuracy = 0.2464\n",
            "Training set: Average loss = 1.3965, Accuracy = 0.2474\n"
          ]
        },
        {
          "name": "stderr",
          "output_type": "stream",
          "text": [
            "Epoch 29/30: 100%|██████████| 119/119 [00:04<00:00, 28.74it/s, loss=1.51]\n"
          ]
        },
        {
          "name": "stdout",
          "output_type": "stream",
          "text": [
            "Validation set: Average loss = 1.3944, Accuracy = 0.2476\n",
            "Training set: Average loss = 1.3965, Accuracy = 0.2466\n"
          ]
        },
        {
          "name": "stderr",
          "output_type": "stream",
          "text": [
            "Epoch 30/30: 100%|██████████| 119/119 [00:03<00:00, 32.44it/s, loss=1.43]\n"
          ]
        },
        {
          "name": "stdout",
          "output_type": "stream",
          "text": [
            "Validation set: Average loss = 1.3940, Accuracy = 0.2429\n",
            "Training set: Average loss = 1.3967, Accuracy = 0.2478\n"
          ]
        },
        {
          "data": {
            "image/png": "[encoded data removed]",
            "text/plain": [
              "<Figure size 640x480 with 1 Axes>"
            ]
          },
          "metadata": {},
          "output_type": "display_data"
        },
        {
          "name": "stdout",
          "output_type": "stream",
          "text": [
            "avg_loss 1.4005979980741228\n",
            "accuracy 0.22799097065462753\n",
            "Shape of X after subsampling and concatenating: (7616, 22, 100)\n",
            "Shape of Y: (7616,)\n",
            "Shape of X after subsampling and concatenating: (844, 22, 100)\n",
            "Shape of Y: (844,)\n",
            "val split:  844\n",
            "train split:  7616\n",
            "torch.Size([1, 22, 100])\n",
            "torch.Size([1, 18, 100])\n"
          ]
        },
        {
          "name": "stderr",
          "output_type": "stream",
          "text": [
            "Epoch 1/30: 100%|██████████| 119/119 [00:04<00:00, 26.62it/s, loss=1.41]\n"
          ]
        },
        {
          "name": "stdout",
          "output_type": "stream",
          "text": [
            "Validation set: Average loss = 1.4079, Accuracy = 0.2227\n",
            "Training set: Average loss = 1.4124, Accuracy = 0.2218\n"
          ]
        },
        {
          "name": "stderr",
          "output_type": "stream",
          "text": [
            "Epoch 2/30: 100%|██████████| 119/119 [00:05<00:00, 22.42it/s, loss=1.47]\n"
          ]
        },
        {
          "name": "stdout",
          "output_type": "stream",
          "text": [
            "Validation set: Average loss = 1.4081, Accuracy = 0.2227\n",
            "Training set: Average loss = 1.4126, Accuracy = 0.2212\n"
          ]
        },
        {
          "name": "stderr",
          "output_type": "stream",
          "text": [
            "Epoch 3/30: 100%|██████████| 119/119 [00:04<00:00, 24.99it/s, loss=1.45]\n"
          ]
        },
        {
          "name": "stdout",
          "output_type": "stream",
          "text": [
            "Validation set: Average loss = 1.4084, Accuracy = 0.2227\n",
            "Training set: Average loss = 1.4129, Accuracy = 0.2223\n"
          ]
        },
        {
          "name": "stderr",
          "output_type": "stream",
          "text": [
            "Epoch 4/30: 100%|██████████| 119/119 [00:05<00:00, 22.50it/s, loss=1.48]\n"
          ]
        },
        {
          "name": "stdout",
          "output_type": "stream",
          "text": [
            "Validation set: Average loss = 1.4081, Accuracy = 0.2227\n",
            "Training set: Average loss = 1.4126, Accuracy = 0.2222\n"
          ]
        },
        {
          "name": "stderr",
          "output_type": "stream",
          "text": [
            "Epoch 5/30: 100%|██████████| 119/119 [00:03<00:00, 31.29it/s, loss=1.5] \n"
          ]
        },
        {
          "name": "stdout",
          "output_type": "stream",
          "text": [
            "Validation set: Average loss = 1.4084, Accuracy = 0.2227\n",
            "Training set: Average loss = 1.4129, Accuracy = 0.2212\n"
          ]
        },
        {
          "name": "stderr",
          "output_type": "stream",
          "text": [
            "Epoch 6/30: 100%|██████████| 119/119 [00:03<00:00, 32.84it/s, loss=1.41]\n"
          ]
        },
        {
          "name": "stdout",
          "output_type": "stream",
          "text": [
            "Validation set: Average loss = 1.4083, Accuracy = 0.2216\n",
            "Training set: Average loss = 1.4127, Accuracy = 0.2226\n"
          ]
        },
        {
          "name": "stderr",
          "output_type": "stream",
          "text": [
            "Epoch 7/30: 100%|██████████| 119/119 [00:03<00:00, 36.95it/s, loss=1.44]\n"
          ]
        },
        {
          "name": "stdout",
          "output_type": "stream",
          "text": [
            "Validation set: Average loss = 1.4082, Accuracy = 0.2216\n",
            "Training set: Average loss = 1.4127, Accuracy = 0.2209\n"
          ]
        },
        {
          "name": "stderr",
          "output_type": "stream",
          "text": [
            "Epoch 8/30: 100%|██████████| 119/119 [00:03<00:00, 36.05it/s, loss=1.45]\n"
          ]
        },
        {
          "name": "stdout",
          "output_type": "stream",
          "text": [
            "Validation set: Average loss = 1.4079, Accuracy = 0.2227\n",
            "Training set: Average loss = 1.4123, Accuracy = 0.2216\n"
          ]
        },
        {
          "name": "stderr",
          "output_type": "stream",
          "text": [
            "Epoch 9/30: 100%|██████████| 119/119 [00:03<00:00, 33.85it/s, loss=1.44]\n"
          ]
        },
        {
          "name": "stdout",
          "output_type": "stream",
          "text": [
            "Validation set: Average loss = 1.4083, Accuracy = 0.2227\n",
            "Training set: Average loss = 1.4128, Accuracy = 0.2211\n"
          ]
        },
        {
          "name": "stderr",
          "output_type": "stream",
          "text": [
            "Epoch 10/30: 100%|██████████| 119/119 [00:03<00:00, 39.19it/s, loss=1.45]\n"
          ]
        },
        {
          "name": "stdout",
          "output_type": "stream",
          "text": [
            "Validation set: Average loss = 1.4080, Accuracy = 0.2227\n",
            "Training set: Average loss = 1.4125, Accuracy = 0.2216\n"
          ]
        },
        {
          "name": "stderr",
          "output_type": "stream",
          "text": [
            "Epoch 11/30: 100%|██████████| 119/119 [00:02<00:00, 41.63it/s, loss=1.46]\n"
          ]
        },
        {
          "name": "stdout",
          "output_type": "stream",
          "text": [
            "Validation set: Average loss = 1.4083, Accuracy = 0.2227\n",
            "Training set: Average loss = 1.4128, Accuracy = 0.2205\n"
          ]
        },
        {
          "name": "stderr",
          "output_type": "stream",
          "text": [
            "Epoch 12/30: 100%|██████████| 119/119 [00:02<00:00, 41.00it/s, loss=1.41]\n"
          ]
        },
        {
          "name": "stdout",
          "output_type": "stream",
          "text": [
            "Validation set: Average loss = 1.4078, Accuracy = 0.2227\n",
            "Training set: Average loss = 1.4123, Accuracy = 0.2222\n"
          ]
        },
        {
          "name": "stderr",
          "output_type": "stream",
          "text": [
            "Epoch 13/30: 100%|██████████| 119/119 [00:03<00:00, 36.76it/s, loss=1.44]\n"
          ]
        },
        {
          "name": "stdout",
          "output_type": "stream",
          "text": [
            "Validation set: Average loss = 1.4082, Accuracy = 0.2227\n",
            "Training set: Average loss = 1.4126, Accuracy = 0.2210\n"
          ]
        },
        {
          "name": "stderr",
          "output_type": "stream",
          "text": [
            "Epoch 14/30: 100%|██████████| 119/119 [00:02<00:00, 41.95it/s, loss=1.4] \n"
          ]
        },
        {
          "name": "stdout",
          "output_type": "stream",
          "text": [
            "Validation set: Average loss = 1.4079, Accuracy = 0.2239\n",
            "Training set: Average loss = 1.4123, Accuracy = 0.2226\n"
          ]
        },
        {
          "name": "stderr",
          "output_type": "stream",
          "text": [
            "Epoch 15/30: 100%|██████████| 119/119 [00:03<00:00, 33.12it/s, loss=1.45]\n"
          ]
        },
        {
          "name": "stdout",
          "output_type": "stream",
          "text": [
            "Validation set: Average loss = 1.4081, Accuracy = 0.2227\n",
            "Training set: Average loss = 1.4125, Accuracy = 0.2215\n"
          ]
        },
        {
          "name": "stderr",
          "output_type": "stream",
          "text": [
            "Epoch 16/30: 100%|██████████| 119/119 [00:03<00:00, 32.85it/s, loss=1.45]\n"
          ]
        },
        {
          "name": "stdout",
          "output_type": "stream",
          "text": [
            "Validation set: Average loss = 1.4080, Accuracy = 0.2227\n",
            "Training set: Average loss = 1.4125, Accuracy = 0.2223\n"
          ]
        },
        {
          "name": "stderr",
          "output_type": "stream",
          "text": [
            "Epoch 17/30: 100%|██████████| 119/119 [00:03<00:00, 32.45it/s, loss=1.4] \n"
          ]
        },
        {
          "name": "stdout",
          "output_type": "stream",
          "text": [
            "Validation set: Average loss = 1.4080, Accuracy = 0.2227\n",
            "Training set: Average loss = 1.4125, Accuracy = 0.2215\n"
          ]
        },
        {
          "name": "stderr",
          "output_type": "stream",
          "text": [
            "Epoch 18/30: 100%|██████████| 119/119 [00:04<00:00, 26.67it/s, loss=1.41]\n"
          ]
        },
        {
          "name": "stdout",
          "output_type": "stream",
          "text": [
            "Validation set: Average loss = 1.4083, Accuracy = 0.2227\n",
            "Training set: Average loss = 1.4127, Accuracy = 0.2211\n"
          ]
        },
        {
          "name": "stderr",
          "output_type": "stream",
          "text": [
            "Epoch 19/30: 100%|██████████| 119/119 [00:04<00:00, 27.19it/s, loss=1.36]\n"
          ]
        },
        {
          "name": "stdout",
          "output_type": "stream",
          "text": [
            "Validation set: Average loss = 1.4082, Accuracy = 0.2227\n",
            "Training set: Average loss = 1.4126, Accuracy = 0.2209\n"
          ]
        },
        {
          "name": "stderr",
          "output_type": "stream",
          "text": [
            "Epoch 20/30: 100%|██████████| 119/119 [00:04<00:00, 28.76it/s, loss=1.4] \n"
          ]
        },
        {
          "name": "stdout",
          "output_type": "stream",
          "text": [
            "Validation set: Average loss = 1.4081, Accuracy = 0.2239\n",
            "Training set: Average loss = 1.4126, Accuracy = 0.2210\n"
          ]
        },
        {
          "name": "stderr",
          "output_type": "stream",
          "text": [
            "Epoch 21/30: 100%|██████████| 119/119 [00:05<00:00, 22.81it/s, loss=1.43]\n"
          ]
        },
        {
          "name": "stdout",
          "output_type": "stream",
          "text": [
            "Validation set: Average loss = 1.4082, Accuracy = 0.2216\n",
            "Training set: Average loss = 1.4127, Accuracy = 0.2209\n"
          ]
        },
        {
          "name": "stderr",
          "output_type": "stream",
          "text": [
            "Epoch 22/30: 100%|██████████| 119/119 [00:05<00:00, 23.23it/s, loss=1.47]\n"
          ]
        },
        {
          "name": "stdout",
          "output_type": "stream",
          "text": [
            "Validation set: Average loss = 1.4079, Accuracy = 0.2227\n",
            "Training set: Average loss = 1.4124, Accuracy = 0.2216\n"
          ]
        },
        {
          "name": "stderr",
          "output_type": "stream",
          "text": [
            "Epoch 23/30: 100%|██████████| 119/119 [00:04<00:00, 26.27it/s, loss=1.44]\n"
          ]
        },
        {
          "name": "stdout",
          "output_type": "stream",
          "text": [
            "Validation set: Average loss = 1.4077, Accuracy = 0.2239\n"
          ]
        }
      ],
      "source": [
        "for timestop in range(100, 1050, 50):\n",
        "\n",
        "      # @title Data loading\n",
        "      data_root = \"../project_data/project/\"\n",
        "      if GOOGLE:\n",
        "            data_root = \"/content/drive/MyDrive/project/\"\n",
        "      data_transform =  lambda x: (x.reshape(1, x.shape[0],x.shape[1]))\n",
        "      preprocess = lambda x,y:train_data_prep(x,y,2,2,True, timestop)\n",
        "      # Create eeg dataset object\n",
        "      eeg_train = EEG_Data(data_root,\n",
        "                                    split='train',\n",
        "                                    preprocess=preprocess,\n",
        "                                    transform=data_transform)\n",
        "\n",
        "      eeg_val = EEG_Data(data_root,\n",
        "                              split='val',\n",
        "                              preprocess=preprocess,\n",
        "                              transform=data_transform)\n",
        "      eeg_test = EEG_Data(data_root,\n",
        "                              split='test',\n",
        "                              preprocess=lambda x:test_data_prep(x, 2, timestop),\n",
        "                              transform=data_transform)\n",
        "      print(\"val split: \", len(eeg_val))\n",
        "      print(\"train split: \", len(eeg_train))\n",
        "      print(eeg_train[0][0].shape)\n",
        "      print(eeg_train[0][0][:,0:18,:].shape)\n",
        "      # Create the dataloaders\n",
        "      # Define the batch size and number of workers\n",
        "      batch_size = 64\n",
        "      num_workers=2\n",
        "      # Create DataLoader for training and validation sets\n",
        "      train_loader = DataLoader(eeg_train,\n",
        "                              batch_size=batch_size,\n",
        "                              num_workers=num_workers,\n",
        "                              shuffle=True)\n",
        "      val_loader = DataLoader(eeg_val,\n",
        "                              batch_size=batch_size,\n",
        "                              num_workers=num_workers,\n",
        "                              shuffle=False)\n",
        "      test_loader = DataLoader(eeg_test,\n",
        "                              batch_size=batch_size,\n",
        "                              num_workers=num_workers,\n",
        "                              shuffle=False)\n",
        "\n",
        "      seed_everything(0)\n",
        "\n",
        "      model = EEGNet(timestop=timestop)\n",
        "\n",
        "      model.to(device)\n",
        "\n",
        "      # Let's test_loaderss function, your implementation and the built-in loss function should\n",
        "      # be almost identical.\n",
        "      criterion = nn.CrossEntropyLoss()\n",
        "      # Train the model\n",
        "      loss_history_train, loss_history_val = train(model,\n",
        "            train_loader,\n",
        "            val_loader,\n",
        "            optimizer,\n",
        "            criterion,\n",
        "            device,\n",
        "            num_epochs=30)\n",
        "      all_result[timestop] = [loss_history_train, loss_history_val]\n",
        "      avg_loss, accuracy = evaluate(model, test_loader, criterion, device)\n",
        "\n",
        "      print(\"avg_loss\", avg_loss)\n",
        "      print(\"accuracy\", accuracy)\n",
        "\n"
      ]
    },
    {
      "cell_type": "code",
      "execution_count": null,
      "metadata": {
        "colab": {
          "base_uri": "https://localhost:8080/"
        },
        "id": "Qp31VVTp2pgf",
        "outputId": "da86b7db-82f0-4c37-bb9c-56c5717e81dd"
      },
      "outputs": [
        {
          "name": "stdout",
          "output_type": "stream",
          "text": [
            "avg_loss 0.8216522761753627\n",
            "accuracy 0.7110609480812641\n"
          ]
        }
      ],
      "source": [
        "\n",
        "avg_loss, accuracy = evaluate(model, test_loader, criterion, device)\n",
        "\n",
        "print(\"avg_loss\", avg_loss)\n",
        "print(\"accuracy\", accuracy)\n"
      ]
    }
  ],
  "metadata": {
    "accelerator": "GPU",
    "colab": {
      "gpuType": "T4",
      "provenance": [],
      "toc_visible": true
    },
    "kernelspec": {
      "display_name": "Python 3",
      "name": "python3"
    },
    "language_info": {
      "codemirror_mode": {
        "name": "ipython",
        "version": 3
      },
      "file_extension": ".py",
      "mimetype": "text/x-python",
      "name": "python",
      "nbconvert_exporter": "python",
      "pygments_lexer": "ipython3",
      "version": "3.10.12"
    }
  },
  "nbformat": 4,
  "nbformat_minor": 0
}
