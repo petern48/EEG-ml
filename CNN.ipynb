{
  "nbformat": 4,
  "nbformat_minor": 0,
  "metadata": {
    "colab": {
      "provenance": [],
      "authorship_tag": "ABX9TyPL4wP2+sqMX/vsyJrZktCG"
    },
    "kernelspec": {
      "name": "python3",
      "display_name": "Python 3"
    },
    "language_info": {
      "name": "python"
    },
    "widgets": {
      "application/vnd.jupyter.widget-state+json": {
        "830d256ad08649029fdb4ba23eeff054": {
          "model_module": "@jupyter-widgets/controls",
          "model_name": "VBoxModel",
          "model_module_version": "1.5.0",
          "state": {
            "_dom_classes": [],
            "_model_module": "@jupyter-widgets/controls",
            "_model_module_version": "1.5.0",
            "_model_name": "VBoxModel",
            "_view_count": null,
            "_view_module": "@jupyter-widgets/controls",
            "_view_module_version": "1.5.0",
            "_view_name": "VBoxView",
            "box_style": "",
            "children": [
              "IPY_MODEL_6dc878f7258f43feb693cea76e4b52f3",
              "IPY_MODEL_b358d0f4235c4ec89fec5476073bc99b"
            ],
            "layout": "IPY_MODEL_c00b5abfadf7426cade8593b3ffe2385"
          }
        },
        "6dc878f7258f43feb693cea76e4b52f3": {
          "model_module": "@jupyter-widgets/controls",
          "model_name": "LabelModel",
          "model_module_version": "1.5.0",
          "state": {
            "_dom_classes": [],
            "_model_module": "@jupyter-widgets/controls",
            "_model_module_version": "1.5.0",
            "_model_name": "LabelModel",
            "_view_count": null,
            "_view_module": "@jupyter-widgets/controls",
            "_view_module_version": "1.5.0",
            "_view_name": "LabelView",
            "description": "",
            "description_tooltip": null,
            "layout": "IPY_MODEL_63b7daa7002b44dabf90678ed0761a90",
            "placeholder": "​",
            "style": "IPY_MODEL_098e4146da1443caaf622eb86cac0db3",
            "value": "Waiting for wandb.init()...\r"
          }
        },
        "b358d0f4235c4ec89fec5476073bc99b": {
          "model_module": "@jupyter-widgets/controls",
          "model_name": "FloatProgressModel",
          "model_module_version": "1.5.0",
          "state": {
            "_dom_classes": [],
            "_model_module": "@jupyter-widgets/controls",
            "_model_module_version": "1.5.0",
            "_model_name": "FloatProgressModel",
            "_view_count": null,
            "_view_module": "@jupyter-widgets/controls",
            "_view_module_version": "1.5.0",
            "_view_name": "ProgressView",
            "bar_style": "",
            "description": "",
            "description_tooltip": null,
            "layout": "IPY_MODEL_c0dc6f166fd04fa393efb32244398602",
            "max": 1,
            "min": 0,
            "orientation": "horizontal",
            "style": "IPY_MODEL_afc7e454c8574cb1b24ca8743bd5269e",
            "value": 1
          }
        },
        "c00b5abfadf7426cade8593b3ffe2385": {
          "model_module": "@jupyter-widgets/base",
          "model_name": "LayoutModel",
          "model_module_version": "1.2.0",
          "state": {
            "_model_module": "@jupyter-widgets/base",
            "_model_module_version": "1.2.0",
            "_model_name": "LayoutModel",
            "_view_count": null,
            "_view_module": "@jupyter-widgets/base",
            "_view_module_version": "1.2.0",
            "_view_name": "LayoutView",
            "align_content": null,
            "align_items": null,
            "align_self": null,
            "border": null,
            "bottom": null,
            "display": null,
            "flex": null,
            "flex_flow": null,
            "grid_area": null,
            "grid_auto_columns": null,
            "grid_auto_flow": null,
            "grid_auto_rows": null,
            "grid_column": null,
            "grid_gap": null,
            "grid_row": null,
            "grid_template_areas": null,
            "grid_template_columns": null,
            "grid_template_rows": null,
            "height": null,
            "justify_content": null,
            "justify_items": null,
            "left": null,
            "margin": null,
            "max_height": null,
            "max_width": null,
            "min_height": null,
            "min_width": null,
            "object_fit": null,
            "object_position": null,
            "order": null,
            "overflow": null,
            "overflow_x": null,
            "overflow_y": null,
            "padding": null,
            "right": null,
            "top": null,
            "visibility": null,
            "width": null
          }
        },
        "63b7daa7002b44dabf90678ed0761a90": {
          "model_module": "@jupyter-widgets/base",
          "model_name": "LayoutModel",
          "model_module_version": "1.2.0",
          "state": {
            "_model_module": "@jupyter-widgets/base",
            "_model_module_version": "1.2.0",
            "_model_name": "LayoutModel",
            "_view_count": null,
            "_view_module": "@jupyter-widgets/base",
            "_view_module_version": "1.2.0",
            "_view_name": "LayoutView",
            "align_content": null,
            "align_items": null,
            "align_self": null,
            "border": null,
            "bottom": null,
            "display": null,
            "flex": null,
            "flex_flow": null,
            "grid_area": null,
            "grid_auto_columns": null,
            "grid_auto_flow": null,
            "grid_auto_rows": null,
            "grid_column": null,
            "grid_gap": null,
            "grid_row": null,
            "grid_template_areas": null,
            "grid_template_columns": null,
            "grid_template_rows": null,
            "height": null,
            "justify_content": null,
            "justify_items": null,
            "left": null,
            "margin": null,
            "max_height": null,
            "max_width": null,
            "min_height": null,
            "min_width": null,
            "object_fit": null,
            "object_position": null,
            "order": null,
            "overflow": null,
            "overflow_x": null,
            "overflow_y": null,
            "padding": null,
            "right": null,
            "top": null,
            "visibility": null,
            "width": null
          }
        },
        "098e4146da1443caaf622eb86cac0db3": {
          "model_module": "@jupyter-widgets/controls",
          "model_name": "DescriptionStyleModel",
          "model_module_version": "1.5.0",
          "state": {
            "_model_module": "@jupyter-widgets/controls",
            "_model_module_version": "1.5.0",
            "_model_name": "DescriptionStyleModel",
            "_view_count": null,
            "_view_module": "@jupyter-widgets/base",
            "_view_module_version": "1.2.0",
            "_view_name": "StyleView",
            "description_width": ""
          }
        },
        "c0dc6f166fd04fa393efb32244398602": {
          "model_module": "@jupyter-widgets/base",
          "model_name": "LayoutModel",
          "model_module_version": "1.2.0",
          "state": {
            "_model_module": "@jupyter-widgets/base",
            "_model_module_version": "1.2.0",
            "_model_name": "LayoutModel",
            "_view_count": null,
            "_view_module": "@jupyter-widgets/base",
            "_view_module_version": "1.2.0",
            "_view_name": "LayoutView",
            "align_content": null,
            "align_items": null,
            "align_self": null,
            "border": null,
            "bottom": null,
            "display": null,
            "flex": null,
            "flex_flow": null,
            "grid_area": null,
            "grid_auto_columns": null,
            "grid_auto_flow": null,
            "grid_auto_rows": null,
            "grid_column": null,
            "grid_gap": null,
            "grid_row": null,
            "grid_template_areas": null,
            "grid_template_columns": null,
            "grid_template_rows": null,
            "height": null,
            "justify_content": null,
            "justify_items": null,
            "left": null,
            "margin": null,
            "max_height": null,
            "max_width": null,
            "min_height": null,
            "min_width": null,
            "object_fit": null,
            "object_position": null,
            "order": null,
            "overflow": null,
            "overflow_x": null,
            "overflow_y": null,
            "padding": null,
            "right": null,
            "top": null,
            "visibility": null,
            "width": null
          }
        },
        "afc7e454c8574cb1b24ca8743bd5269e": {
          "model_module": "@jupyter-widgets/controls",
          "model_name": "ProgressStyleModel",
          "model_module_version": "1.5.0",
          "state": {
            "_model_module": "@jupyter-widgets/controls",
            "_model_module_version": "1.5.0",
            "_model_name": "ProgressStyleModel",
            "_view_count": null,
            "_view_module": "@jupyter-widgets/base",
            "_view_module_version": "1.2.0",
            "_view_name": "StyleView",
            "bar_color": null,
            "description_width": ""
          }
        },
        "2d087f106be84f75874af0d64edaa797": {
          "model_module": "@jupyter-widgets/controls",
          "model_name": "VBoxModel",
          "model_module_version": "1.5.0",
          "state": {
            "_dom_classes": [],
            "_model_module": "@jupyter-widgets/controls",
            "_model_module_version": "1.5.0",
            "_model_name": "VBoxModel",
            "_view_count": null,
            "_view_module": "@jupyter-widgets/controls",
            "_view_module_version": "1.5.0",
            "_view_name": "VBoxView",
            "box_style": "",
            "children": [
              "IPY_MODEL_a468d9f0ae064afd8e7a216c1aa931a0",
              "IPY_MODEL_aedaaf788e184712ac6ce6575592b4bf"
            ],
            "layout": "IPY_MODEL_653126f7b9174e3290c128f2f306789c"
          }
        },
        "a468d9f0ae064afd8e7a216c1aa931a0": {
          "model_module": "@jupyter-widgets/controls",
          "model_name": "LabelModel",
          "model_module_version": "1.5.0",
          "state": {
            "_dom_classes": [],
            "_model_module": "@jupyter-widgets/controls",
            "_model_module_version": "1.5.0",
            "_model_name": "LabelModel",
            "_view_count": null,
            "_view_module": "@jupyter-widgets/controls",
            "_view_module_version": "1.5.0",
            "_view_name": "LabelView",
            "description": "",
            "description_tooltip": null,
            "layout": "IPY_MODEL_dcbe0ff7849a4acfbb920073f052bfb1",
            "placeholder": "​",
            "style": "IPY_MODEL_4969637f650144df81b9881eaa53278d",
            "value": "0.012 MB of 0.012 MB uploaded\r"
          }
        },
        "aedaaf788e184712ac6ce6575592b4bf": {
          "model_module": "@jupyter-widgets/controls",
          "model_name": "FloatProgressModel",
          "model_module_version": "1.5.0",
          "state": {
            "_dom_classes": [],
            "_model_module": "@jupyter-widgets/controls",
            "_model_module_version": "1.5.0",
            "_model_name": "FloatProgressModel",
            "_view_count": null,
            "_view_module": "@jupyter-widgets/controls",
            "_view_module_version": "1.5.0",
            "_view_name": "ProgressView",
            "bar_style": "",
            "description": "",
            "description_tooltip": null,
            "layout": "IPY_MODEL_90898ab08bce44c88c893ac14b1f665a",
            "max": 1,
            "min": 0,
            "orientation": "horizontal",
            "style": "IPY_MODEL_d8b63ff31a4949e6b947bfaa07a6d216",
            "value": 1
          }
        },
        "653126f7b9174e3290c128f2f306789c": {
          "model_module": "@jupyter-widgets/base",
          "model_name": "LayoutModel",
          "model_module_version": "1.2.0",
          "state": {
            "_model_module": "@jupyter-widgets/base",
            "_model_module_version": "1.2.0",
            "_model_name": "LayoutModel",
            "_view_count": null,
            "_view_module": "@jupyter-widgets/base",
            "_view_module_version": "1.2.0",
            "_view_name": "LayoutView",
            "align_content": null,
            "align_items": null,
            "align_self": null,
            "border": null,
            "bottom": null,
            "display": null,
            "flex": null,
            "flex_flow": null,
            "grid_area": null,
            "grid_auto_columns": null,
            "grid_auto_flow": null,
            "grid_auto_rows": null,
            "grid_column": null,
            "grid_gap": null,
            "grid_row": null,
            "grid_template_areas": null,
            "grid_template_columns": null,
            "grid_template_rows": null,
            "height": null,
            "justify_content": null,
            "justify_items": null,
            "left": null,
            "margin": null,
            "max_height": null,
            "max_width": null,
            "min_height": null,
            "min_width": null,
            "object_fit": null,
            "object_position": null,
            "order": null,
            "overflow": null,
            "overflow_x": null,
            "overflow_y": null,
            "padding": null,
            "right": null,
            "top": null,
            "visibility": null,
            "width": null
          }
        },
        "dcbe0ff7849a4acfbb920073f052bfb1": {
          "model_module": "@jupyter-widgets/base",
          "model_name": "LayoutModel",
          "model_module_version": "1.2.0",
          "state": {
            "_model_module": "@jupyter-widgets/base",
            "_model_module_version": "1.2.0",
            "_model_name": "LayoutModel",
            "_view_count": null,
            "_view_module": "@jupyter-widgets/base",
            "_view_module_version": "1.2.0",
            "_view_name": "LayoutView",
            "align_content": null,
            "align_items": null,
            "align_self": null,
            "border": null,
            "bottom": null,
            "display": null,
            "flex": null,
            "flex_flow": null,
            "grid_area": null,
            "grid_auto_columns": null,
            "grid_auto_flow": null,
            "grid_auto_rows": null,
            "grid_column": null,
            "grid_gap": null,
            "grid_row": null,
            "grid_template_areas": null,
            "grid_template_columns": null,
            "grid_template_rows": null,
            "height": null,
            "justify_content": null,
            "justify_items": null,
            "left": null,
            "margin": null,
            "max_height": null,
            "max_width": null,
            "min_height": null,
            "min_width": null,
            "object_fit": null,
            "object_position": null,
            "order": null,
            "overflow": null,
            "overflow_x": null,
            "overflow_y": null,
            "padding": null,
            "right": null,
            "top": null,
            "visibility": null,
            "width": null
          }
        },
        "4969637f650144df81b9881eaa53278d": {
          "model_module": "@jupyter-widgets/controls",
          "model_name": "DescriptionStyleModel",
          "model_module_version": "1.5.0",
          "state": {
            "_model_module": "@jupyter-widgets/controls",
            "_model_module_version": "1.5.0",
            "_model_name": "DescriptionStyleModel",
            "_view_count": null,
            "_view_module": "@jupyter-widgets/base",
            "_view_module_version": "1.2.0",
            "_view_name": "StyleView",
            "description_width": ""
          }
        },
        "90898ab08bce44c88c893ac14b1f665a": {
          "model_module": "@jupyter-widgets/base",
          "model_name": "LayoutModel",
          "model_module_version": "1.2.0",
          "state": {
            "_model_module": "@jupyter-widgets/base",
            "_model_module_version": "1.2.0",
            "_model_name": "LayoutModel",
            "_view_count": null,
            "_view_module": "@jupyter-widgets/base",
            "_view_module_version": "1.2.0",
            "_view_name": "LayoutView",
            "align_content": null,
            "align_items": null,
            "align_self": null,
            "border": null,
            "bottom": null,
            "display": null,
            "flex": null,
            "flex_flow": null,
            "grid_area": null,
            "grid_auto_columns": null,
            "grid_auto_flow": null,
            "grid_auto_rows": null,
            "grid_column": null,
            "grid_gap": null,
            "grid_row": null,
            "grid_template_areas": null,
            "grid_template_columns": null,
            "grid_template_rows": null,
            "height": null,
            "justify_content": null,
            "justify_items": null,
            "left": null,
            "margin": null,
            "max_height": null,
            "max_width": null,
            "min_height": null,
            "min_width": null,
            "object_fit": null,
            "object_position": null,
            "order": null,
            "overflow": null,
            "overflow_x": null,
            "overflow_y": null,
            "padding": null,
            "right": null,
            "top": null,
            "visibility": null,
            "width": null
          }
        },
        "d8b63ff31a4949e6b947bfaa07a6d216": {
          "model_module": "@jupyter-widgets/controls",
          "model_name": "ProgressStyleModel",
          "model_module_version": "1.5.0",
          "state": {
            "_model_module": "@jupyter-widgets/controls",
            "_model_module_version": "1.5.0",
            "_model_name": "ProgressStyleModel",
            "_view_count": null,
            "_view_module": "@jupyter-widgets/base",
            "_view_module_version": "1.2.0",
            "_view_name": "StyleView",
            "bar_color": null,
            "description_width": ""
          }
        }
      }
    }
  },
  "cells": [
    {
      "cell_type": "code",
      "execution_count": 18,
      "metadata": {
        "id": "L2v75STBOfGr"
      },
      "outputs": [],
      "source": [
        "import numpy as np\n",
        "import pandas as pd\n",
        "import keras\n",
        "from keras.models import Sequential\n",
        "from keras.layers import Dense, Activation, Flatten,Dropout\n",
        "from keras.layers import Conv1D,Conv2D,BatchNormalization,MaxPooling2D,AveragePooling2D,Reshape,TimeDistributed,Permute,ELU\n",
        "from keras.utils import to_categorical\n",
        "import matplotlib.pyplot as plt\n",
        "import tensorflow as tf"
      ]
    },
    {
      "cell_type": "code",
      "source": [
        "# For logging metrics to Weights and Biases Platform.\n",
        "USING_WANDB = True  # Set to false if you don't have an account\n",
        "\n",
        "if USING_WANDB:\n",
        "    !pip install wandb &> /dev/null  # install wandb\n",
        "    import wandb\n",
        "    from wandb.keras import WandbMetricsLogger, WandbModelCheckpoint\n",
        "    wandb.login()  # prompts for api key"
      ],
      "metadata": {
        "id": "TzfrFNQ7Omoj"
      },
      "execution_count": null,
      "outputs": []
    },
    {
      "cell_type": "code",
      "source": [
        "print(\"Num GPUs Available: \", len(tf.config.list_physical_devices('GPU')))"
      ],
      "metadata": {
        "colab": {
          "base_uri": "https://localhost:8080/"
        },
        "id": "YUVMPFseOoB3",
        "outputId": "9725f008-4045-4162-f7df-a4bbfb18f8f7"
      },
      "execution_count": 3,
      "outputs": [
        {
          "output_type": "stream",
          "name": "stdout",
          "text": [
            "Num GPUs Available:  0\n"
          ]
        }
      ]
    },
    {
      "cell_type": "code",
      "source": [
        "# Unzip data zip file\n",
        "# !rm -r project_data\n",
        "!unzip project_data.zip &> /dev/null\n",
        "!rm -r __MACOSX\n",
        "!mv project/* .\n",
        "!rm -r project\n",
        "# &> /dev/null  to quiet output"
      ],
      "metadata": {
        "id": "_t4ibJg_OqLV"
      },
      "execution_count": 4,
      "outputs": []
    },
    {
      "cell_type": "code",
      "source": [
        "tf.keras.utils.set_random_seed(0)\n",
        "\n",
        "## Loading and visualizing the data\n",
        "\n",
        "## Loading the dataset\n",
        "\n",
        "X_test = np.load(\"X_test.npy\")  # (443, 22, 1000)\n",
        "y_test = np.load(\"y_test.npy\")  # (443, 4)  # (num_trials, output types) # one hot encoded\n",
        "person_train_valid = np.load(\"person_train_valid.npy\")  # (2115, 1)  vals from 0-8 for participant\n",
        "X_train_valid = np.load(\"X_train_valid.npy\")  # (2115, 22, 1000)\n",
        "# print(X_train_valid.shape)  # (2115, 22, 1000)  # (num_trials, channels, time bins)\n",
        "y_train_valid = np.load(\"y_train_valid.npy\")  # (2115,)\n",
        "person_test = np.load(\"person_test.npy\")  # (443, 1)\n",
        "\n",
        "## Adjusting the labels so that\n",
        "\n",
        "# Cue onset left - 0\n",
        "# Cue onset right - 1\n",
        "# Cue onset foot - 2\n",
        "# Cue onset tongue - 3\n",
        "\n",
        "y_train_valid -= 769\n",
        "y_test -= 769\n",
        "\n",
        "## Visualizing the data\n",
        "\n",
        "ch_data = X_train_valid[:,8,:]\n",
        "\n",
        "\n",
        "class_0_ind = np.where(y_train_valid == 0)\n",
        "ch_data_class_0 = ch_data[class_0_ind]\n",
        "avg_ch_data_class_0 = np.mean(ch_data_class_0,axis=0)\n",
        "\n",
        "\n",
        "class_1_ind = np.where(y_train_valid == 1)\n",
        "ch_data_class_1 = ch_data[class_1_ind]\n",
        "avg_ch_data_class_1 = np.mean(ch_data_class_1,axis=0)\n",
        "\n",
        "class_2_ind = np.where(y_train_valid == 2)\n",
        "ch_data_class_2 = ch_data[class_2_ind]\n",
        "avg_ch_data_class_2 = np.mean(ch_data_class_2,axis=0)\n",
        "\n",
        "class_3_ind = np.where(y_train_valid == 3)\n",
        "ch_data_class_3 = ch_data[class_3_ind]\n",
        "avg_ch_data_class_3 = np.mean(ch_data_class_3,axis=0)\n",
        "\n",
        "\n",
        "plt.plot(np.arange(1000),avg_ch_data_class_0)\n",
        "plt.plot(np.arange(1000),avg_ch_data_class_1)\n",
        "plt.plot(np.arange(1000),avg_ch_data_class_2)\n",
        "plt.plot(np.arange(1000),avg_ch_data_class_3)\n",
        "plt.axvline(x=500, label='line at t=500',c='cyan')\n",
        "\n",
        "plt.legend([\"Cue Onset left\", \"Cue Onset right\", \"Cue onset foot\", \"Cue onset tongue\"])"
      ],
      "metadata": {
        "colab": {
          "base_uri": "https://localhost:8080/",
          "height": 447
        },
        "id": "LR2SuOjZOqkw",
        "outputId": "620cfaf7-32fe-4691-df44-a652f905ebd2"
      },
      "execution_count": 5,
      "outputs": [
        {
          "output_type": "execute_result",
          "data": {
            "text/plain": [
              "<matplotlib.legend.Legend at 0x79d787319390>"
            ]
          },
          "metadata": {},
          "execution_count": 5
        },
        {
          "output_type": "display_data",
          "data": {
            "text/plain": [
              "<Figure size 640x480 with 1 Axes>"
            ],
            "image/png": "[encoded data removed]"
          },
          "metadata": {}
        }
      ]
    },
    {
      "cell_type": "code",
      "source": [
        "def train_data_prep(X,y,sub_sample,average,noise):\n",
        "\n",
        "    total_X = None\n",
        "    total_y = None\n",
        "\n",
        "    # Trimming the data (sample,22,1000) -> (sample,22,800)\n",
        "    X = X[:,:,0:800]\n",
        "    print('Shape of X after trimming:',X.shape)\n",
        "\n",
        "    # Maxpooling the data (sample,22,800) -> (sample,22,800/sub_sample)\n",
        "    X_max = np.max(X.reshape(X.shape[0], X.shape[1], -1, sub_sample), axis=3)\n",
        "\n",
        "\n",
        "    total_X = X_max\n",
        "    total_y = y\n",
        "    print('Shape of X after maxpooling:',total_X.shape)\n",
        "\n",
        "    # Averaging + noise\n",
        "    X_average = np.mean(X.reshape(X.shape[0], X.shape[1], -1, average),axis=3)\n",
        "    X_average = X_average + np.random.normal(0.0, 0.5, X_average.shape)\n",
        "\n",
        "    # Data augmentation: increases number of samples (max pool and mean pool +noise)\n",
        "    total_X = np.vstack((total_X, X_average))\n",
        "    total_y = np.hstack((total_y, y))\n",
        "    print('Shape of X after averaging+noise and concatenating:',total_X.shape)\n",
        "\n",
        "    # Subsampling\n",
        "\n",
        "    for i in range(sub_sample):\n",
        "\n",
        "        X_subsample = X[:, :, i::sub_sample] + \\\n",
        "                            (np.random.normal(0.0, 0.5, X[:, :,i::sub_sample].shape) if noise else 0.0)\n",
        "\n",
        "        total_X = np.vstack((total_X, X_subsample))\n",
        "        total_y = np.hstack((total_y, y))\n",
        "\n",
        "\n",
        "    print('Shape of X after subsampling and concatenating:',total_X.shape)\n",
        "    print('Shape of Y:',total_y.shape)\n",
        "    return total_X,total_y\n",
        "\n",
        "\n",
        "# Don't increase the number of test samples\n",
        "def test_data_prep(X):\n",
        "\n",
        "    total_X = None\n",
        "\n",
        "    # Trimming the data (sample,22,1000) -> (sample,22,800)\n",
        "    X = X[:,:,0:800]\n",
        "    print('Shape of X after trimming:',X.shape)\n",
        "\n",
        "    # Maxpooling the data (sample,22,800) -> (sample,22,800/sub_sample)\n",
        "    X_max = np.max(X.reshape(X.shape[0], X.shape[1], -1, 2), axis=3)\n",
        "\n",
        "\n",
        "    total_X = X_max\n",
        "    print('Shape of X after maxpooling:',total_X.shape)\n",
        "\n",
        "    return total_X"
      ],
      "metadata": {
        "id": "z23HCXE-Orvb"
      },
      "execution_count": 6,
      "outputs": []
    },
    {
      "cell_type": "code",
      "source": [
        "num_train_valid = X_train_valid.shape[0]\n",
        "print(num_train_valid, \" total train_val samples\")\n",
        "\n",
        "valid_split = 0.2\n",
        "valid_count = int(num_train_valid * valid_split)"
      ],
      "metadata": {
        "colab": {
          "base_uri": "https://localhost:8080/"
        },
        "id": "5xvq7U1GOuyq",
        "outputId": "5f1c3c92-dd5a-4712-fb32-1fa8d6b9121b"
      },
      "execution_count": 7,
      "outputs": [
        {
          "output_type": "stream",
          "name": "stdout",
          "text": [
            "2115  total train_val samples\n"
          ]
        }
      ]
    },
    {
      "cell_type": "code",
      "source": [
        "# Train val split, then data augment the training set\n",
        "ind_valid = np.random.choice(X_train_valid.shape[0], valid_count, replace=False)\n",
        "\n",
        "ind_train = np.array(list(set(range(X_train_valid.shape[0])).difference(set(ind_valid))))\n",
        "# Creating the training and validation sets using the generated indices\n",
        "(x_train_unprocessed, x_valid) = X_train_valid[ind_train], X_train_valid[ind_valid]\n",
        "(y_train_unprocessed, y_valid) = y_train_valid[ind_train], y_train_valid[ind_valid]\n",
        "\n",
        "print(\"Augmenting train data\")\n",
        "x_train, y_train = train_data_prep(x_train_unprocessed, y_train_unprocessed,2,2,True)\n",
        "print(\"Augmenting val data\")\n",
        "# x_valid, y_valid = train_data_prep(x_valid, y_valid, 2, 2, True)\n",
        "x_valid = test_data_prep(x_valid)\n",
        "print(\"Augmenting test data\")\n",
        "X_test_prep = test_data_prep(X_test)\n",
        "\n",
        "\n",
        "# Old code with data leakage\n",
        "## Preprocessing the dataset\n",
        "# X_train_valid_prep,y_train_valid_prep = train_data_prep(X_train_valid,y_train_valid,2,2,True)\n",
        "# X_test_prep = test_data_prep(X_test)\n",
        "# ## Random splitting and reshaping the data\n",
        "# # First generating the training and validation indices using random splitting\n",
        "# # 8460 is shape of num_samples after data augmentation\n",
        "# ind_valid = np.random.choice(8460, 1000, replace=False)\n",
        "# ind_train = np.array(list(set(range(8460)).difference(set(ind_valid))))\n",
        "# # Creating the training and validation sets using the generated indices\n",
        "# (x_train, x_valid) = X_train_valid_prep[ind_train], X_train_valid_prep[ind_valid]\n",
        "# (y_train, y_valid) = y_train_valid_prep[ind_train], y_train_valid_prep[ind_valid]\n",
        "print('Shape of training set:',x_train.shape)\n",
        "print('Shape of validation set:',x_valid.shape)\n",
        "print('Shape of training labels:',y_train.shape)\n",
        "print('Shape of validation labels:',y_valid.shape)\n",
        "\n",
        "\n",
        "# Converting the labels to categorical variables for multiclass classification\n",
        "y_train = to_categorical(y_train, 4)\n",
        "y_valid = to_categorical(y_valid, 4)\n",
        "y_test = to_categorical(y_test, 4)\n",
        "print('Shape of training labels after categorical conversion:',y_train.shape)\n",
        "print('Shape of validation labels after categorical conversion:',y_valid.shape)\n",
        "print('Shape of test labels after categorical conversion:',y_test.shape)\n",
        "\n",
        "# Adding width of the segment to be 1\n",
        "x_train = x_train.reshape(x_train.shape[0], x_train.shape[1], x_train.shape[2], 1)\n",
        "x_valid = x_valid.reshape(x_valid.shape[0], x_valid.shape[1], x_valid.shape[2], 1)\n",
        "x_test = X_test_prep.reshape(X_test_prep.shape[0], X_test_prep.shape[1], X_test_prep.shape[2], 1)\n",
        "print('Shape of training set after adding width info:',x_train.shape)\n",
        "print('Shape of validation set after adding width info:',x_valid.shape)\n",
        "print('Shape of test set after adding width info:',x_test.shape)\n",
        "\n",
        "\n",
        "# Reshaping the training and validation dataset\n",
        "x_train = np.swapaxes(x_train, 1,3)\n",
        "x_train = np.swapaxes(x_train, 1,2)\n",
        "x_valid = np.swapaxes(x_valid, 1,3)\n",
        "x_valid = np.swapaxes(x_valid, 1,2)\n",
        "x_test = np.swapaxes(x_test, 1,3)\n",
        "x_test = np.swapaxes(x_test, 1,2)\n",
        "print('Shape of training set after dimension reshaping:',x_train.shape)\n",
        "print('Shape of validation set after dimension reshaping:',x_valid.shape)\n",
        "print('Shape of test set after dimension reshaping:',x_test.shape)\n",
        "# Note the dims of validation are diff than originally bc no longer data augment it"
      ],
      "metadata": {
        "colab": {
          "base_uri": "https://localhost:8080/"
        },
        "id": "ZQTYaHB0OwaD",
        "outputId": "edc39e95-b821-4250-d7b2-054498c200ba"
      },
      "execution_count": 8,
      "outputs": [
        {
          "output_type": "stream",
          "name": "stdout",
          "text": [
            "Augmenting train data\n",
            "Shape of X after trimming: (1692, 22, 800)\n",
            "Shape of X after maxpooling: (1692, 22, 400)\n",
            "Shape of X after averaging+noise and concatenating: (3384, 22, 400)\n",
            "Shape of X after subsampling and concatenating: (6768, 22, 400)\n",
            "Shape of Y: (6768,)\n",
            "Augmenting val data\n",
            "Shape of X after trimming: (423, 22, 800)\n",
            "Shape of X after maxpooling: (423, 22, 400)\n",
            "Augmenting test data\n",
            "Shape of X after trimming: (443, 22, 800)\n",
            "Shape of X after maxpooling: (443, 22, 400)\n",
            "Shape of training set: (6768, 22, 400)\n",
            "Shape of validation set: (423, 22, 400)\n",
            "Shape of training labels: (6768,)\n",
            "Shape of validation labels: (423,)\n",
            "Shape of training labels after categorical conversion: (6768, 4)\n",
            "Shape of validation labels after categorical conversion: (423, 4)\n",
            "Shape of test labels after categorical conversion: (443, 4)\n",
            "Shape of training set after adding width info: (6768, 22, 400, 1)\n",
            "Shape of validation set after adding width info: (423, 22, 400, 1)\n",
            "Shape of test set after adding width info: (443, 22, 400, 1)\n",
            "Shape of training set after dimension reshaping: (6768, 400, 1, 22)\n",
            "Shape of validation set after dimension reshaping: (423, 400, 1, 22)\n",
            "Shape of test set after dimension reshaping: (443, 400, 1, 22)\n"
          ]
        }
      ]
    },
    {
      "cell_type": "code",
      "source": [
        "print(f\"{x_train.shape[0]} train samples\")\n",
        "print(f\"{x_valid.shape[0]} valid samples\")\n",
        "print(f\"{X_test.shape[0]} test samples\")"
      ],
      "metadata": {
        "colab": {
          "base_uri": "https://localhost:8080/"
        },
        "id": "_4VwrdSgOyTR",
        "outputId": "b96454a2-85b4-404c-d532-5e8578bcad9b"
      },
      "execution_count": 9,
      "outputs": [
        {
          "output_type": "stream",
          "name": "stdout",
          "text": [
            "6768 train samples\n",
            "423 valid samples\n",
            "443 test samples\n"
          ]
        }
      ]
    },
    {
      "cell_type": "code",
      "source": [
        "num_channels = 22\n",
        "num_classes = 4\n",
        "input_shape = (400,1,num_channels)"
      ],
      "metadata": {
        "id": "4HChfpWZO0LL"
      },
      "execution_count": 10,
      "outputs": []
    },
    {
      "cell_type": "code",
      "source": [
        "# Reshape the data for to be inputted into LSTM (num_samples, timesteps, channels)\n",
        "# OLD code for collapsing the data. decided instead to do it in the model\n",
        "# x_train, x_valid, x_test = x_train.squeeze(), x_valid.squeeze(), x_test.squeeze()\n",
        "print(\"x_train\", x_train.shape)\n",
        "print(\"y_train\", y_train.shape)\n",
        "input_shape = x_train.shape[1:]\n",
        "print(\"input_shape\", input_shape)"
      ],
      "metadata": {
        "colab": {
          "base_uri": "https://localhost:8080/"
        },
        "id": "CNswu6_ZTaI_",
        "outputId": "5ff5325c-2b66-44f8-c5f8-e92bbb6f8d2b"
      },
      "execution_count": 11,
      "outputs": [
        {
          "output_type": "stream",
          "name": "stdout",
          "text": [
            "x_train (6768, 400, 1, 22)\n",
            "y_train (6768, 4)\n",
            "input_shape (400, 1, 22)\n"
          ]
        }
      ]
    },
    {
      "cell_type": "code",
      "source": [
        "# SEED\n",
        "from keras.constraints import max_norm\n",
        "tf.keras.utils.set_random_seed(0)\n",
        "\n",
        "# TODO: try .25 dropout\n",
        "num_channels = 22\n",
        "num_units = 32 # 32\n",
        "num_hidden = 512 #16\n",
        "F1 = 8\n",
        "D = 2\n",
        "F2 = F1 * D\n",
        "dropout_rate = 0.5  # TODO  # .5 for within subject. .25 for across subject classification (larger dataset)\n",
        "conv_filters = [64]\n",
        "model = Sequential([\n",
        "    Permute((3, 1, 2), input_shape=input_shape),  # now in shape (channels, time, 1)\n",
        "    # 2D conv across both\n",
        "    # Temporal Conv2D\n",
        "    Conv2D(F1, (1,64), padding=\"same\"),  # , activation=\"relu\"\n",
        "    BatchNormalization(),\n",
        "    # Depthwise Conv2D (spatial), across channels\n",
        "    Conv2D(D * F1, (num_channels, 1), padding=\"valid\", kernel_constraint=max_norm(1)),\n",
        "    BatchNormalization(),\n",
        "    ELU(),\n",
        "    AveragePooling2D((1, 4)),  # pool down the time dim. average pool in the paper\n",
        "    Dropout(dropout_rate),  # 0.25 or 0.5\n",
        "    # Separable Conv2D  (across time)\n",
        "    Conv2D(F2, (1,16), padding=\"same\"),\n",
        "    BatchNormalization(),\n",
        "    ELU(),\n",
        "    AveragePooling2D((1,8)),\n",
        "    Dropout(dropout_rate),\n",
        "    # collapse the dim of 1\n",
        "    # Permute((1,3,2), input_shape=input_shape),  # heavier computation\n",
        "    # TimeDistributed(Conv1D(conv_filters[0], 3, padding=\"same\", activation=\"relu\"), input_shape=input_shape),\n",
        "\n",
        "    # Conv1D(conv_filters[0], 3, padding=\"same\", activation=\"relu\"),\n",
        "    # Conv1D(conv_filters[0], 3, padding=\"same\", activation=\"relu\", input_shape=input_shape),\n",
        "    # LSTM(32, return_sequences=True, input_shape=input_shape), # stateful=True\n",
        "    # BatchNormalization(),\n",
        "    # LSTM(32, return_sequences=True),\n",
        "    # LSTM(16, return_sequences=True),\n",
        "    # LSTM(num_units),  # batch_input_shape=(batch_size, look_back, 1)  # turn above to True is using\n",
        "    # TimeDistributed(Dense(num_hidden, activation=\"relu\")),  # return_sequences should be true above\n",
        "    Flatten(),\n",
        "    Dense(num_classes, activation=\"softmax\", kernel_constraint=max_norm(0.25))\n",
        "])\n",
        "model.summary()"
      ],
      "metadata": {
        "colab": {
          "base_uri": "https://localhost:8080/"
        },
        "id": "UqEu5vQCO3xz",
        "outputId": "05a55423-03f2-498f-c1fe-4330199da71d"
      },
      "execution_count": 21,
      "outputs": [
        {
          "output_type": "stream",
          "name": "stdout",
          "text": [
            "Model: \"sequential_3\"\n",
            "_________________________________________________________________\n",
            " Layer (type)                Output Shape              Param #   \n",
            "=================================================================\n",
            " permute_2 (Permute)         (None, 22, 400, 1)        0         \n",
            "                                                                 \n",
            " conv2d_5 (Conv2D)           (None, 22, 400, 8)        520       \n",
            "                                                                 \n",
            " batch_normalization_5 (Bat  (None, 22, 400, 8)        32        \n",
            " chNormalization)                                                \n",
            "                                                                 \n",
            " conv2d_6 (Conv2D)           (None, 1, 400, 16)        2832      \n",
            "                                                                 \n",
            " batch_normalization_6 (Bat  (None, 1, 400, 16)        64        \n",
            " chNormalization)                                                \n",
            "                                                                 \n",
            " elu_3 (ELU)                 (None, 1, 400, 16)        0         \n",
            "                                                                 \n",
            " average_pooling2d_2 (Avera  (None, 1, 100, 16)        0         \n",
            " gePooling2D)                                                    \n",
            "                                                                 \n",
            " dropout_3 (Dropout)         (None, 1, 100, 16)        0         \n",
            "                                                                 \n",
            " conv2d_7 (Conv2D)           (None, 1, 100, 16)        4112      \n",
            "                                                                 \n",
            " batch_normalization_7 (Bat  (None, 1, 100, 16)        64        \n",
            " chNormalization)                                                \n",
            "                                                                 \n",
            " elu_4 (ELU)                 (None, 1, 100, 16)        0         \n",
            "                                                                 \n",
            " average_pooling2d_3 (Avera  (None, 1, 12, 16)         0         \n",
            " gePooling2D)                                                    \n",
            "                                                                 \n",
            " dropout_4 (Dropout)         (None, 1, 12, 16)         0         \n",
            "                                                                 \n",
            " flatten_3 (Flatten)         (None, 192)               0         \n",
            "                                                                 \n",
            " dense_3 (Dense)             (None, 4)                 772       \n",
            "                                                                 \n",
            "=================================================================\n",
            "Total params: 8396 (32.80 KB)\n",
            "Trainable params: 8316 (32.48 KB)\n",
            "Non-trainable params: 80 (320.00 Byte)\n",
            "_________________________________________________________________\n"
          ]
        }
      ]
    },
    {
      "cell_type": "code",
      "source": [
        "USING_WANDB = True\n",
        "# Model parameters\n",
        "l1_term = 0  # 0.01  pass into model\n",
        "lr = 1e-3\n",
        "NUM_EPOCHS = 100\n",
        "batch_size = 64\n",
        "patience = 5  # 3\n",
        "criterion=\"categorical_crossentropy\"\n",
        "\n",
        "# lr_schedule = keras.optimizers.schedules.ExponentialDecay(\n",
        "#     initial_learning_rate=1e-2,\n",
        "#     decay_steps=10000,\n",
        "#     decay_rate=0.9)\n",
        "\n",
        "optimizer = keras.optimizers.Adam(learning_rate=lr)\n",
        "callbacks = []\n",
        "\n",
        "# Compiling the model\n",
        "callbacks.append(tf.keras.callbacks.EarlyStopping(monitor='val_loss', patience=patience))\n",
        "\n",
        "if USING_WANDB:\n",
        "    wandb.init(\n",
        "        project=\"EEG-ml\",\n",
        "        name=f\"42epochs-EEGnet implementation\",\n",
        "        # name=f\"{conv_filters[0]}\",  # i like to put a note about the current run here (e.g lr-.001 or something)\n",
        "        settings=wandb.Settings(start_method=\"fork\"),\n",
        "        config = {\n",
        "            \"architecture\": model.__class__.__name__,\n",
        "            \"epochs\": NUM_EPOCHS,\n",
        "            \"learning_rate\": lr,\n",
        "            \"batch_size\": batch_size,\n",
        "            \"optimizer\": optimizer.__class__.__name__,\n",
        "            \"loss fn\": criterion.__class__.__name__,\n",
        "            \"patience\": patience\n",
        "            # \"weight decay\": weight_decay,\n",
        "    })\n",
        "\n",
        "    callbacks.append(WandbMetricsLogger())\n",
        "\n",
        "model.compile(loss=criterion, optimizer=optimizer, metrics=['accuracy'])\n",
        "\n",
        "# Training and validating the model\n",
        "model_results = model.fit(x_train, y_train,\n",
        "            batch_size=batch_size,\n",
        "            epochs=NUM_EPOCHS, callbacks=callbacks,\n",
        "            validation_data=(x_valid, y_valid), verbose=1)  #, verbose=True)\n",
        "\n",
        "model_score = model.evaluate(x_test, y_test, verbose=0)\n",
        "test_acc = model_score[1]\n",
        "print(f'Test accuracy: {test_acc : .4f}')\n",
        "if USING_WANDB:\n",
        "    wandb.summary[\"Test_Acc\"] = test_acc\n",
        "    wandb.finish()\n",
        "    # using patience 3 at .5 dropout"
      ],
      "metadata": {
        "colab": {
          "base_uri": "https://localhost:8080/",
          "height": 747,
          "referenced_widgets": [
            "830d256ad08649029fdb4ba23eeff054",
            "6dc878f7258f43feb693cea76e4b52f3",
            "b358d0f4235c4ec89fec5476073bc99b",
            "c00b5abfadf7426cade8593b3ffe2385",
            "63b7daa7002b44dabf90678ed0761a90",
            "098e4146da1443caaf622eb86cac0db3",
            "c0dc6f166fd04fa393efb32244398602",
            "afc7e454c8574cb1b24ca8743bd5269e",
            "2d087f106be84f75874af0d64edaa797",
            "a468d9f0ae064afd8e7a216c1aa931a0",
            "aedaaf788e184712ac6ce6575592b4bf",
            "653126f7b9174e3290c128f2f306789c",
            "dcbe0ff7849a4acfbb920073f052bfb1",
            "4969637f650144df81b9881eaa53278d",
            "90898ab08bce44c88c893ac14b1f665a",
            "d8b63ff31a4949e6b947bfaa07a6d216"
          ]
        },
        "id": "aO36pc9tPjnj",
        "outputId": "c0336b97-5f48-4719-fb96-8c4ebcf9be76"
      },
      "execution_count": 25,
      "outputs": [
        {
          "output_type": "display_data",
          "data": {
            "text/plain": [
              "VBox(children=(Label(value='Waiting for wandb.init()...\\r'), FloatProgress(value=0.01111406693333063, max=1.0)…"
            ],
            "application/vnd.jupyter.widget-view+json": {
              "version_major": 2,
              "version_minor": 0,
              "model_id": "830d256ad08649029fdb4ba23eeff054"
            }
          },
          "metadata": {}
        },
        {
          "output_type": "display_data",
          "data": {
            "text/plain": [
              "<IPython.core.display.HTML object>"
            ],
            "text/html": [
              "Tracking run with wandb version 0.16.4"
            ]
          },
          "metadata": {}
        },
        {
          "output_type": "display_data",
          "data": {
            "text/plain": [
              "<IPython.core.display.HTML object>"
            ],
            "text/html": [
              "Run data is saved locally in <code>/content/wandb/run-20240314_222305-qtrrd46q</code>"
            ]
          },
          "metadata": {}
        },
        {
          "output_type": "display_data",
          "data": {
            "text/plain": [
              "<IPython.core.display.HTML object>"
            ],
            "text/html": [
              "Syncing run <strong><a href='https://wandb.ai/petern0408/EEG-ml/runs/qtrrd46q' target=\"_blank\">42epochs-EEGnet implementation</a></strong> to <a href='https://wandb.ai/petern0408/EEG-ml' target=\"_blank\">Weights & Biases</a> (<a href='https://wandb.me/run' target=\"_blank\">docs</a>)<br/>"
            ]
          },
          "metadata": {}
        },
        {
          "output_type": "display_data",
          "data": {
            "text/plain": [
              "<IPython.core.display.HTML object>"
            ],
            "text/html": [
              " View project at <a href='https://wandb.ai/petern0408/EEG-ml' target=\"_blank\">https://wandb.ai/petern0408/EEG-ml</a>"
            ]
          },
          "metadata": {}
        },
        {
          "output_type": "display_data",
          "data": {
            "text/plain": [
              "<IPython.core.display.HTML object>"
            ],
            "text/html": [
              " View run at <a href='https://wandb.ai/petern0408/EEG-ml/runs/qtrrd46q' target=\"_blank\">https://wandb.ai/petern0408/EEG-ml/runs/qtrrd46q</a>"
            ]
          },
          "metadata": {}
        },
        {
          "output_type": "stream",
          "name": "stdout",
          "text": [
            "Epoch 1/100\n",
            "106/106 [==============================] - 52s 479ms/step - loss: 0.7505 - accuracy: 0.7066 - val_loss: 0.8509 - val_accuracy: 0.6501\n",
            "Epoch 2/100\n",
            "106/106 [==============================] - 50s 469ms/step - loss: 0.7529 - accuracy: 0.7074 - val_loss: 0.8129 - val_accuracy: 0.6927\n",
            "Epoch 3/100\n",
            "106/106 [==============================] - 49s 463ms/step - loss: 0.7357 - accuracy: 0.7165 - val_loss: 0.8251 - val_accuracy: 0.6903\n",
            "Epoch 4/100\n",
            "106/106 [==============================] - 49s 461ms/step - loss: 0.7420 - accuracy: 0.7094 - val_loss: 0.8204 - val_accuracy: 0.6832\n",
            "Epoch 5/100\n",
            "106/106 [==============================] - 50s 470ms/step - loss: 0.7336 - accuracy: 0.7153 - val_loss: 0.8216 - val_accuracy: 0.6667\n",
            "Epoch 6/100\n",
            "106/106 [==============================] - 47s 444ms/step - loss: 0.7275 - accuracy: 0.7249 - val_loss: 0.8445 - val_accuracy: 0.6643\n",
            "Epoch 7/100\n",
            "106/106 [==============================] - 48s 455ms/step - loss: 0.7272 - accuracy: 0.7144 - val_loss: 0.8727 - val_accuracy: 0.6525\n",
            "Test accuracy:  0.6321\n"
          ]
        },
        {
          "output_type": "display_data",
          "data": {
            "text/plain": [
              "VBox(children=(Label(value='0.001 MB of 0.001 MB uploaded\\r'), FloatProgress(value=1.0, max=1.0)))"
            ],
            "application/vnd.jupyter.widget-view+json": {
              "version_major": 2,
              "version_minor": 0,
              "model_id": "2d087f106be84f75874af0d64edaa797"
            }
          },
          "metadata": {}
        },
        {
          "output_type": "display_data",
          "data": {
            "text/plain": [
              "<IPython.core.display.HTML object>"
            ],
            "text/html": [
              "<style>\n",
              "    table.wandb td:nth-child(1) { padding: 0 10px; text-align: left ; width: auto;} td:nth-child(2) {text-align: left ; width: 100%}\n",
              "    .wandb-row { display: flex; flex-direction: row; flex-wrap: wrap; justify-content: flex-start; width: 100% }\n",
              "    .wandb-col { display: flex; flex-direction: column; flex-basis: 100%; flex: 1; padding: 10px; }\n",
              "    </style>\n",
              "<div class=\"wandb-row\"><div class=\"wandb-col\"><h3>Run history:</h3><br/><table class=\"wandb\"><tr><td>epoch/accuracy</td><td>▁▁▅▂▄█▄</td></tr><tr><td>epoch/epoch</td><td>▁▂▃▅▆▇█</td></tr><tr><td>epoch/learning_rate</td><td>▁▁▁▁▁▁▁</td></tr><tr><td>epoch/loss</td><td>▇█▃▅▃▁▁</td></tr><tr><td>epoch/val_accuracy</td><td>▁██▆▄▃▁</td></tr><tr><td>epoch/val_loss</td><td>▅▁▂▂▂▅█</td></tr></table><br/></div><div class=\"wandb-col\"><h3>Run summary:</h3><br/><table class=\"wandb\"><tr><td>Test_Acc</td><td>0.63205</td></tr><tr><td>epoch/accuracy</td><td>0.71439</td></tr><tr><td>epoch/epoch</td><td>6</td></tr><tr><td>epoch/learning_rate</td><td>0.001</td></tr><tr><td>epoch/loss</td><td>0.72717</td></tr><tr><td>epoch/val_accuracy</td><td>0.65248</td></tr><tr><td>epoch/val_loss</td><td>0.87268</td></tr></table><br/></div></div>"
            ]
          },
          "metadata": {}
        },
        {
          "output_type": "display_data",
          "data": {
            "text/plain": [
              "<IPython.core.display.HTML object>"
            ],
            "text/html": [
              " View run <strong style=\"color:#cdcd00\">42epochs-EEGnet implementation</strong> at: <a href='https://wandb.ai/petern0408/EEG-ml/runs/qtrrd46q' target=\"_blank\">https://wandb.ai/petern0408/EEG-ml/runs/qtrrd46q</a><br/>Synced 5 W&B file(s), 0 media file(s), 0 artifact file(s) and 0 other file(s)"
            ]
          },
          "metadata": {}
        },
        {
          "output_type": "display_data",
          "data": {
            "text/plain": [
              "<IPython.core.display.HTML object>"
            ],
            "text/html": [
              "Find logs at: <code>./wandb/run-20240314_222305-qtrrd46q/logs</code>"
            ]
          },
          "metadata": {}
        }
      ]
    },
    {
      "cell_type": "code",
      "source": [
        "MODEL_FILEPATH = f'cnn-keras-{test_acc :.4f}'\n",
        "model.save(MODEL_FILEPATH)"
      ],
      "metadata": {
        "id": "YSuX8Liy1CRD"
      },
      "execution_count": null,
      "outputs": []
    },
    {
      "cell_type": "code",
      "source": [
        "# zip model dir and download it\n",
        "zip_name = f'{MODEL_FILEPATH}.zip'\n",
        "!zip -r $zip_name $MODEL_FILEPATH\n",
        "from google.colab import files\n",
        "files.download(zip_name)"
      ],
      "metadata": {
        "colab": {
          "base_uri": "https://localhost:8080/",
          "height": 156
        },
        "id": "2b7rLEEEFsWr",
        "outputId": "cfcb6e9e-ee97-4fff-93b8-beb76651a344"
      },
      "execution_count": null,
      "outputs": [
        {
          "output_type": "stream",
          "name": "stdout",
          "text": [
            "  adding: lstm-keras-0.5395/ (stored 0%)\n",
            "  adding: lstm-keras-0.5395/saved_model.pb (deflated 90%)\n",
            "  adding: lstm-keras-0.5395/keras_metadata.pb (deflated 90%)\n",
            "  adding: lstm-keras-0.5395/fingerprint.pb (stored 0%)\n",
            "  adding: lstm-keras-0.5395/variables/ (stored 0%)\n",
            "  adding: lstm-keras-0.5395/variables/variables.data-00000-of-00001 (deflated 9%)\n",
            "  adding: lstm-keras-0.5395/variables/variables.index (deflated 62%)\n",
            "  adding: lstm-keras-0.5395/assets/ (stored 0%)\n"
          ]
        },
        {
          "output_type": "display_data",
          "data": {
            "text/plain": [
              "<IPython.core.display.Javascript object>"
            ],
            "application/javascript": [
              "\n",
              "    async function download(id, filename, size) {\n",
              "      if (!google.colab.kernel.accessAllowed) {\n",
              "        return;\n",
              "      }\n",
              "      const div = document.createElement('div');\n",
              "      const label = document.createElement('label');\n",
              "      label.textContent = `Downloading \"${filename}\": `;\n",
              "      div.appendChild(label);\n",
              "      const progress = document.createElement('progress');\n",
              "      progress.max = size;\n",
              "      div.appendChild(progress);\n",
              "      document.body.appendChild(div);\n",
              "\n",
              "      const buffers = [];\n",
              "      let downloaded = 0;\n",
              "\n",
              "      const channel = await google.colab.kernel.comms.open(id);\n",
              "      // Send a message to notify the kernel that we're ready.\n",
              "      channel.send({})\n",
              "\n",
              "      for await (const message of channel.messages) {\n",
              "        // Send a message to notify the kernel that we're ready.\n",
              "        channel.send({})\n",
              "        if (message.buffers) {\n",
              "          for (const buffer of message.buffers) {\n",
              "            buffers.push(buffer);\n",
              "            downloaded += buffer.byteLength;\n",
              "            progress.value = downloaded;\n",
              "          }\n",
              "        }\n",
              "      }\n",
              "      const blob = new Blob(buffers, {type: 'application/binary'});\n",
              "      const a = document.createElement('a');\n",
              "      a.href = window.URL.createObjectURL(blob);\n",
              "      a.download = filename;\n",
              "      div.appendChild(a);\n",
              "      a.click();\n",
              "      div.remove();\n",
              "    }\n",
              "  "
            ]
          },
          "metadata": {}
        },
        {
          "output_type": "display_data",
          "data": {
            "text/plain": [
              "<IPython.core.display.Javascript object>"
            ],
            "application/javascript": [
              "download(\"download_87b4326c-b768-4768-8bd3-5ea7d7c9626b\", \"lstm-keras-0.5395.zip\", 1487118)"
            ]
          },
          "metadata": {}
        }
      ]
    },
    {
      "cell_type": "code",
      "source": [
        "# Unzip folder and load model\n",
        "!unzip $zip_name\n",
        "loaded_model = keras.models.load_model(MODEL_FILEPATH)"
      ],
      "metadata": {
        "id": "8euyf3q7Hywp"
      },
      "execution_count": null,
      "outputs": []
    },
    {
      "cell_type": "code",
      "source": [
        "model_score = loaded_model.evaluate(x_test, y_test, verbose=0)\n",
        "test_acc = model_score[1]\n",
        "print(f'Test accuracy: {test_acc : .4f}')\n",
        "\n",
        "# model = loaded_model"
      ],
      "metadata": {
        "colab": {
          "base_uri": "https://localhost:8080/"
        },
        "id": "fM7ttYKtF0SH",
        "outputId": "62f49b68-47f6-48e1-a925-f4488fbd59b4"
      },
      "execution_count": null,
      "outputs": [
        {
          "output_type": "stream",
          "name": "stdout",
          "text": [
            "Test accuracy:  0.5395\n"
          ]
        }
      ]
    },
    {
      "cell_type": "code",
      "source": [
        "# Plotting accuracy trajectory\n",
        "plt.plot(model_results.history['accuracy'])\n",
        "plt.plot(model_results.history['val_accuracy'])\n",
        "plt.title('Hybrid CNN-LSTM model accuracy trajectory')\n",
        "plt.ylabel('accuracy')\n",
        "plt.xlabel('epoch')\n",
        "plt.legend(['train', 'val'], loc='upper left')\n",
        "plt.show()\n",
        "\n",
        "# Plotting loss trajectory\n",
        "plt.plot(model_results.history['loss'],'o')\n",
        "plt.plot(model_results.history['val_loss'],'o')\n",
        "plt.title('Hybrid CNN-LSTM model loss trajectory')\n",
        "plt.ylabel('loss')\n",
        "plt.xlabel('epoch')\n",
        "plt.legend(['train', 'val'], loc='upper left')\n",
        "plt.show()"
      ],
      "metadata": {
        "id": "yrSsqOosLmvx",
        "colab": {
          "base_uri": "https://localhost:8080/",
          "height": 927
        },
        "outputId": "b3c0f333-5568-4d7c-a8e9-fcae9b42ff44"
      },
      "execution_count": 24,
      "outputs": [
        {
          "output_type": "display_data",
          "data": {
            "text/plain": [
              "<Figure size 640x480 with 1 Axes>"
            ],
            "image/png": "[encoded data removed]"
          },
          "metadata": {}
        },
        {
          "output_type": "display_data",
          "data": {
            "text/plain": [
              "<Figure size 640x480 with 1 Axes>"
            ],
            "image/png": "[encoded data removed]"
          },
          "metadata": {}
        }
      ]
    },
    {
      "cell_type": "code",
      "source": [],
      "metadata": {
        "id": "FJpaRbs_AVrJ"
      },
      "execution_count": null,
      "outputs": []
    }
  ]
}